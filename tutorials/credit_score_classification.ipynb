{
 "cells": [
  {
   "cell_type": "markdown",
   "metadata": {},
   "source": [
    "<h1 align=\"center\">Credit Score Classification : Multiclass Target Scenario </h1>\n",
    "\n",
    "## Overview\n",
    "In this tutorial, we explore the application of the `scorescanner` library for analyzing credit scores using a dataset from [**Kaggle**](https://www.kaggle.com/datasets/parisrohan/credit-score-classification/data). Our goal is to *identify and quantify key factors influencing credit scores in a multiclass target scenario*. Starting with simple univariate indicators, we then progress to an **interpretable multivariate model**. This foundational approach prepares us to understand the basics before moving to more complex models like **gradient boosting**.\n",
    "\n",
    "### Variable Documentation\n",
    "\n",
    "1. **ID**: Unique identifier for each entry in the dataset.\n",
    "2. **Customer_ID**: Unique identifier for each customer.\n",
    "3. **Month**: Month of the year for the data entry.\n",
    "4. **Name**: Name of the person.\n",
    "5. **Age**: Age of the person.\n",
    "6. **SSN**: Social Security Number of a person.\n",
    "7. **Occupation**: Occupation of the person.\n",
    "8. **Annual_Income**: Annual income of the person.\n",
    "9. **Monthly_Inhand_Salary**: Monthly base salary of a person.\n",
    "10. **Num_Bank_Accounts**: Number of bank accounts a person holds.\n",
    "11. **Num_Credit_Card**: Number of other credit cards held by a person.\n",
    "12. **Interest_Rate**: Interest rate on credit card.\n",
    "13. **Num_of_Loan**: Number of loans taken from the bank.\n",
    "14. **Type_of_Loan**: Types of loan taken by a person.\n",
    "15. **Delay_from_due_date**: Average number of days delayed from the payment date.\n",
    "16. **Num_of_Delayed_Payment**: Average number of payments delayed by a person.\n",
    "17. **Changed_Credit_Limit**: Percentage change in credit card limit.\n",
    "18. **Num_Credit_Inquiries**: Number of credit card inquiries.\n",
    "19. **Credit_Mix**: Classification of the mix of credits.\n",
    "20. **Outstanding_Debt**: Remaining debt to be paid (in USD).\n",
    "21. **Credit_Utilization_Ratio**: Utilization ratio of credit card.\n",
    "22. **Credit_History_Age**: Age of credit history of the person.\n",
    "23. **Payment_of_Min_Amount**: Whether only the minimum amount was paid by the person.\n",
    "24. **Total_EMI_per_month**: Monthly EMI payments (in USD).\n",
    "25. **Amount_invested_monthly**: Monthly amount invested by the customer (in USD).\n",
    "26. **Payment_Behaviour**: Payment behavior of the customer.\n",
    "27. **Monthly_Balance**: Monthly balance amount of the customer (in USD).\n",
    "28. **Credit_Score**: Bracket of credit score (Poor, Standard, Good). \n",
    "\n",
    "### Key Steps in this Tutorial:\n",
    "1. **Data Preprocessing**: Applying a set of transformations to prepare our dataset.\n",
    "2. **Detecting and Replacing Outliers**: Identifying and replacing outliers.\n",
    "3. **Discretization of Continuous Variables**: Converting continuous variables into discrete categories for analysis (optimal binning algorithm for each continuous variable).\n",
    "4. **Univariate analysis**: Univariate variable importance and visualization.\n",
    "5. **Bivariate analysis**: Clustering correlation matrix (Feature clustering) and visualisation.\n",
    "6. **Logistic Regression**: Handling Multicollinearity with Variable Selection Prior to Logistic Regression Modeling.\n",
    "\n",
    "\n",
    "\n",
    "## Table of Contents\n",
    "1. [Importing Libraries](#1)\n",
    "2. [Reading Data](#2)\n",
    "3. [Data Preprocessing](#3)\n",
    "4. [Univariate analysis](#4)\n",
    "5. [Bivariate analysis](#5)\n",
    "6. [Modeling](#6)"
   ]
  },
  {
   "cell_type": "markdown",
   "metadata": {},
   "source": [
    "### 1.Importing Libraries"
   ]
  },
  {
   "cell_type": "code",
   "execution_count": 2,
   "metadata": {},
   "outputs": [],
   "source": [
    "# Standard libraries\n",
    "import json\n",
    "import os\n",
    "import sys\n",
    "from pathlib import Path\n",
    "\n",
    "# Adding path for module importing\n",
    "sys.path.append(str(Path.cwd().parent))\n",
    "\n",
    "# Visualisation\n",
    "import matplotlib.pyplot as plt\n",
    "\n",
    "\n",
    "# Data manipulation\n",
    "import pandas as pd\n",
    "import numpy as np\n",
    "\n",
    "# Clustering\n",
    "from scipy.cluster.hierarchy import dendrogram, linkage\n",
    "\n",
    "# Modelisation\n",
    "from sklearn.linear_model import LogisticRegression\n",
    "from sklearn.model_selection import train_test_split\n",
    "\n",
    "# ScoreScanner specific imports for data preprocessing, feature selection, univariate and bivariate analysis\n",
    "import scorescanner.data\n",
    "from scorescanner.feature_selection import variableselector\n",
    "from scorescanner.preprocessing import (\n",
    "    logisticregressionpreparer,\n",
    "    multioptbinning,\n",
    "    outlierdetector,\n",
    ")\n",
    "from scorescanner.utils.plotting import (\n",
    "    bins_stats,\n",
    "    generate_bar_plot,\n",
    "    plot_corr_matrix,\n",
    "    plot_js,\n",
    "    plot_woe,\n",
    ")\n",
    "from scorescanner.utils.statistical_metrics import (\n",
    "    calculate_cramers_v_matrix,\n",
    "    calculate_js_distances,\n",
    "    cluster_corr_matrix,\n",
    "    logistic_regression_summary,\n",
    "    one_vs_rest_woe,\n",
    "    univariate_category_importance,\n",
    "    univariate_feature_importance,\n",
    ")\n",
    "\n",
    "# Preprocessing credit score data\n",
    "from tutorials.utils import preprocess_credit_score_data\n",
    "\n",
    "import warnings\n",
    "warnings.filterwarnings(\"ignore\")"
   ]
  },
  {
   "cell_type": "markdown",
   "metadata": {},
   "source": [
    "### 2.Reading Data"
   ]
  },
  {
   "cell_type": "code",
   "execution_count": 3,
   "metadata": {},
   "outputs": [],
   "source": [
    "data = pd.read_csv(os.path.join(os.path.dirname(scorescanner.data.__file__), 'credit_score_train.csv'),low_memory=False) "
   ]
  },
  {
   "cell_type": "code",
   "execution_count": 4,
   "metadata": {},
   "outputs": [
    {
     "data": {
      "text/html": [
       "<div>\n",
       "<style scoped>\n",
       "    .dataframe tbody tr th:only-of-type {\n",
       "        vertical-align: middle;\n",
       "    }\n",
       "\n",
       "    .dataframe tbody tr th {\n",
       "        vertical-align: top;\n",
       "    }\n",
       "\n",
       "    .dataframe thead th {\n",
       "        text-align: right;\n",
       "    }\n",
       "</style>\n",
       "<table border=\"1\" class=\"dataframe\">\n",
       "  <thead>\n",
       "    <tr style=\"text-align: right;\">\n",
       "      <th></th>\n",
       "      <th>ID</th>\n",
       "      <th>Customer_ID</th>\n",
       "      <th>Month</th>\n",
       "      <th>Name</th>\n",
       "      <th>Age</th>\n",
       "      <th>SSN</th>\n",
       "      <th>Occupation</th>\n",
       "      <th>Annual_Income</th>\n",
       "      <th>Monthly_Inhand_Salary</th>\n",
       "      <th>Num_Bank_Accounts</th>\n",
       "      <th>...</th>\n",
       "      <th>Credit_Mix</th>\n",
       "      <th>Outstanding_Debt</th>\n",
       "      <th>Credit_Utilization_Ratio</th>\n",
       "      <th>Credit_History_Age</th>\n",
       "      <th>Payment_of_Min_Amount</th>\n",
       "      <th>Total_EMI_per_month</th>\n",
       "      <th>Amount_invested_monthly</th>\n",
       "      <th>Payment_Behaviour</th>\n",
       "      <th>Monthly_Balance</th>\n",
       "      <th>Credit_Score</th>\n",
       "    </tr>\n",
       "  </thead>\n",
       "  <tbody>\n",
       "    <tr>\n",
       "      <th>0</th>\n",
       "      <td>0x1602</td>\n",
       "      <td>CUS_0xd40</td>\n",
       "      <td>January</td>\n",
       "      <td>Aaron Maashoh</td>\n",
       "      <td>23</td>\n",
       "      <td>821-00-0265</td>\n",
       "      <td>Scientist</td>\n",
       "      <td>19114.12</td>\n",
       "      <td>1824.843333</td>\n",
       "      <td>3</td>\n",
       "      <td>...</td>\n",
       "      <td>_</td>\n",
       "      <td>809.98</td>\n",
       "      <td>26.822620</td>\n",
       "      <td>22 Years and 1 Months</td>\n",
       "      <td>No</td>\n",
       "      <td>49.574949</td>\n",
       "      <td>80.41529543900253</td>\n",
       "      <td>High_spent_Small_value_payments</td>\n",
       "      <td>312.49408867943663</td>\n",
       "      <td>Good</td>\n",
       "    </tr>\n",
       "    <tr>\n",
       "      <th>1</th>\n",
       "      <td>0x1603</td>\n",
       "      <td>CUS_0xd40</td>\n",
       "      <td>February</td>\n",
       "      <td>Aaron Maashoh</td>\n",
       "      <td>23</td>\n",
       "      <td>821-00-0265</td>\n",
       "      <td>Scientist</td>\n",
       "      <td>19114.12</td>\n",
       "      <td>NaN</td>\n",
       "      <td>3</td>\n",
       "      <td>...</td>\n",
       "      <td>Good</td>\n",
       "      <td>809.98</td>\n",
       "      <td>31.944960</td>\n",
       "      <td>NaN</td>\n",
       "      <td>No</td>\n",
       "      <td>49.574949</td>\n",
       "      <td>118.28022162236736</td>\n",
       "      <td>Low_spent_Large_value_payments</td>\n",
       "      <td>284.62916249607184</td>\n",
       "      <td>Good</td>\n",
       "    </tr>\n",
       "    <tr>\n",
       "      <th>2</th>\n",
       "      <td>0x1604</td>\n",
       "      <td>CUS_0xd40</td>\n",
       "      <td>March</td>\n",
       "      <td>Aaron Maashoh</td>\n",
       "      <td>-500</td>\n",
       "      <td>821-00-0265</td>\n",
       "      <td>Scientist</td>\n",
       "      <td>19114.12</td>\n",
       "      <td>NaN</td>\n",
       "      <td>3</td>\n",
       "      <td>...</td>\n",
       "      <td>Good</td>\n",
       "      <td>809.98</td>\n",
       "      <td>28.609352</td>\n",
       "      <td>22 Years and 3 Months</td>\n",
       "      <td>No</td>\n",
       "      <td>49.574949</td>\n",
       "      <td>81.699521264648</td>\n",
       "      <td>Low_spent_Medium_value_payments</td>\n",
       "      <td>331.2098628537912</td>\n",
       "      <td>Good</td>\n",
       "    </tr>\n",
       "    <tr>\n",
       "      <th>3</th>\n",
       "      <td>0x1605</td>\n",
       "      <td>CUS_0xd40</td>\n",
       "      <td>April</td>\n",
       "      <td>Aaron Maashoh</td>\n",
       "      <td>23</td>\n",
       "      <td>821-00-0265</td>\n",
       "      <td>Scientist</td>\n",
       "      <td>19114.12</td>\n",
       "      <td>NaN</td>\n",
       "      <td>3</td>\n",
       "      <td>...</td>\n",
       "      <td>Good</td>\n",
       "      <td>809.98</td>\n",
       "      <td>31.377862</td>\n",
       "      <td>22 Years and 4 Months</td>\n",
       "      <td>No</td>\n",
       "      <td>49.574949</td>\n",
       "      <td>199.4580743910713</td>\n",
       "      <td>Low_spent_Small_value_payments</td>\n",
       "      <td>223.45130972736786</td>\n",
       "      <td>Good</td>\n",
       "    </tr>\n",
       "    <tr>\n",
       "      <th>4</th>\n",
       "      <td>0x1606</td>\n",
       "      <td>CUS_0xd40</td>\n",
       "      <td>May</td>\n",
       "      <td>Aaron Maashoh</td>\n",
       "      <td>23</td>\n",
       "      <td>821-00-0265</td>\n",
       "      <td>Scientist</td>\n",
       "      <td>19114.12</td>\n",
       "      <td>1824.843333</td>\n",
       "      <td>3</td>\n",
       "      <td>...</td>\n",
       "      <td>Good</td>\n",
       "      <td>809.98</td>\n",
       "      <td>24.797347</td>\n",
       "      <td>22 Years and 5 Months</td>\n",
       "      <td>No</td>\n",
       "      <td>49.574949</td>\n",
       "      <td>41.420153086217326</td>\n",
       "      <td>High_spent_Medium_value_payments</td>\n",
       "      <td>341.48923103222177</td>\n",
       "      <td>Good</td>\n",
       "    </tr>\n",
       "  </tbody>\n",
       "</table>\n",
       "<p>5 rows × 28 columns</p>\n",
       "</div>"
      ],
      "text/plain": [
       "       ID Customer_ID     Month           Name   Age          SSN Occupation  \\\n",
       "0  0x1602   CUS_0xd40   January  Aaron Maashoh    23  821-00-0265  Scientist   \n",
       "1  0x1603   CUS_0xd40  February  Aaron Maashoh    23  821-00-0265  Scientist   \n",
       "2  0x1604   CUS_0xd40     March  Aaron Maashoh  -500  821-00-0265  Scientist   \n",
       "3  0x1605   CUS_0xd40     April  Aaron Maashoh    23  821-00-0265  Scientist   \n",
       "4  0x1606   CUS_0xd40       May  Aaron Maashoh    23  821-00-0265  Scientist   \n",
       "\n",
       "  Annual_Income  Monthly_Inhand_Salary  Num_Bank_Accounts  ...  Credit_Mix  \\\n",
       "0      19114.12            1824.843333                  3  ...           _   \n",
       "1      19114.12                    NaN                  3  ...        Good   \n",
       "2      19114.12                    NaN                  3  ...        Good   \n",
       "3      19114.12                    NaN                  3  ...        Good   \n",
       "4      19114.12            1824.843333                  3  ...        Good   \n",
       "\n",
       "   Outstanding_Debt Credit_Utilization_Ratio     Credit_History_Age  \\\n",
       "0            809.98                26.822620  22 Years and 1 Months   \n",
       "1            809.98                31.944960                    NaN   \n",
       "2            809.98                28.609352  22 Years and 3 Months   \n",
       "3            809.98                31.377862  22 Years and 4 Months   \n",
       "4            809.98                24.797347  22 Years and 5 Months   \n",
       "\n",
       "   Payment_of_Min_Amount Total_EMI_per_month Amount_invested_monthly  \\\n",
       "0                     No           49.574949       80.41529543900253   \n",
       "1                     No           49.574949      118.28022162236736   \n",
       "2                     No           49.574949         81.699521264648   \n",
       "3                     No           49.574949       199.4580743910713   \n",
       "4                     No           49.574949      41.420153086217326   \n",
       "\n",
       "                  Payment_Behaviour     Monthly_Balance Credit_Score  \n",
       "0   High_spent_Small_value_payments  312.49408867943663         Good  \n",
       "1    Low_spent_Large_value_payments  284.62916249607184         Good  \n",
       "2   Low_spent_Medium_value_payments   331.2098628537912         Good  \n",
       "3    Low_spent_Small_value_payments  223.45130972736786         Good  \n",
       "4  High_spent_Medium_value_payments  341.48923103222177         Good  \n",
       "\n",
       "[5 rows x 28 columns]"
      ]
     },
     "execution_count": 4,
     "metadata": {},
     "output_type": "execute_result"
    }
   ],
   "source": [
    "data.head()"
   ]
  },
  {
   "cell_type": "markdown",
   "metadata": {},
   "source": [
    "### 3.Data Preprocessing"
   ]
  },
  {
   "cell_type": "markdown",
   "metadata": {},
   "source": [
    "#### 3.1 Data Cleaning\n",
    "\n",
    "Now, we'll use the `preprocess_credit_score_data` function for the following data preprocessing steps:\n",
    "\n",
    "1. Removing columns that are unlikely to have predictive power ('ID', 'Customer_ID', 'Name', 'SSN').\n",
    "2. Cleaning specific columns by removing non-numeric characters and converting them to float type.\n",
    "3. Processing the 'Type_of_Loan' column by creating binary features for each loan type.\n",
    "4. Extracting the number of years from 'Credit_History_Age' and converting it to a float."
   ]
  },
  {
   "cell_type": "code",
   "execution_count": 5,
   "metadata": {},
   "outputs": [],
   "source": [
    "preprocessed_data = preprocess_credit_score_data(data) "
   ]
  },
  {
   "cell_type": "code",
   "execution_count": 6,
   "metadata": {},
   "outputs": [
    {
     "data": {
      "text/html": [
       "<div>\n",
       "<style scoped>\n",
       "    .dataframe tbody tr th:only-of-type {\n",
       "        vertical-align: middle;\n",
       "    }\n",
       "\n",
       "    .dataframe tbody tr th {\n",
       "        vertical-align: top;\n",
       "    }\n",
       "\n",
       "    .dataframe thead th {\n",
       "        text-align: right;\n",
       "    }\n",
       "</style>\n",
       "<table border=\"1\" class=\"dataframe\">\n",
       "  <thead>\n",
       "    <tr style=\"text-align: right;\">\n",
       "      <th></th>\n",
       "      <th>Month</th>\n",
       "      <th>Age</th>\n",
       "      <th>Occupation</th>\n",
       "      <th>Annual_Income</th>\n",
       "      <th>Monthly_Inhand_Salary</th>\n",
       "      <th>Num_Bank_Accounts</th>\n",
       "      <th>Num_Credit_Card</th>\n",
       "      <th>Interest_Rate</th>\n",
       "      <th>Num_of_Loan</th>\n",
       "      <th>Delay_from_due_date</th>\n",
       "      <th>...</th>\n",
       "      <th>Credit_Score</th>\n",
       "      <th>Credit-Builder Loan</th>\n",
       "      <th>Personal Loan</th>\n",
       "      <th>Debt Consolidation Loan</th>\n",
       "      <th>Student Loan</th>\n",
       "      <th>Payday Loan</th>\n",
       "      <th>Mortgage Loan</th>\n",
       "      <th>Auto Loan</th>\n",
       "      <th>Home Equity Loan</th>\n",
       "      <th>Credit_History_in_Year</th>\n",
       "    </tr>\n",
       "  </thead>\n",
       "  <tbody>\n",
       "    <tr>\n",
       "      <th>0</th>\n",
       "      <td>January</td>\n",
       "      <td>23.0</td>\n",
       "      <td>Scientist</td>\n",
       "      <td>19114.12</td>\n",
       "      <td>1824.843333</td>\n",
       "      <td>3</td>\n",
       "      <td>4</td>\n",
       "      <td>3</td>\n",
       "      <td>4.0</td>\n",
       "      <td>3</td>\n",
       "      <td>...</td>\n",
       "      <td>Good</td>\n",
       "      <td>1</td>\n",
       "      <td>1</td>\n",
       "      <td>0</td>\n",
       "      <td>0</td>\n",
       "      <td>0</td>\n",
       "      <td>0</td>\n",
       "      <td>1</td>\n",
       "      <td>1</td>\n",
       "      <td>22.0</td>\n",
       "    </tr>\n",
       "    <tr>\n",
       "      <th>1</th>\n",
       "      <td>February</td>\n",
       "      <td>23.0</td>\n",
       "      <td>Scientist</td>\n",
       "      <td>19114.12</td>\n",
       "      <td>NaN</td>\n",
       "      <td>3</td>\n",
       "      <td>4</td>\n",
       "      <td>3</td>\n",
       "      <td>4.0</td>\n",
       "      <td>-1</td>\n",
       "      <td>...</td>\n",
       "      <td>Good</td>\n",
       "      <td>1</td>\n",
       "      <td>1</td>\n",
       "      <td>0</td>\n",
       "      <td>0</td>\n",
       "      <td>0</td>\n",
       "      <td>0</td>\n",
       "      <td>1</td>\n",
       "      <td>1</td>\n",
       "      <td>NaN</td>\n",
       "    </tr>\n",
       "    <tr>\n",
       "      <th>2</th>\n",
       "      <td>March</td>\n",
       "      <td>500.0</td>\n",
       "      <td>Scientist</td>\n",
       "      <td>19114.12</td>\n",
       "      <td>NaN</td>\n",
       "      <td>3</td>\n",
       "      <td>4</td>\n",
       "      <td>3</td>\n",
       "      <td>4.0</td>\n",
       "      <td>3</td>\n",
       "      <td>...</td>\n",
       "      <td>Good</td>\n",
       "      <td>1</td>\n",
       "      <td>1</td>\n",
       "      <td>0</td>\n",
       "      <td>0</td>\n",
       "      <td>0</td>\n",
       "      <td>0</td>\n",
       "      <td>1</td>\n",
       "      <td>1</td>\n",
       "      <td>22.0</td>\n",
       "    </tr>\n",
       "    <tr>\n",
       "      <th>3</th>\n",
       "      <td>April</td>\n",
       "      <td>23.0</td>\n",
       "      <td>Scientist</td>\n",
       "      <td>19114.12</td>\n",
       "      <td>NaN</td>\n",
       "      <td>3</td>\n",
       "      <td>4</td>\n",
       "      <td>3</td>\n",
       "      <td>4.0</td>\n",
       "      <td>5</td>\n",
       "      <td>...</td>\n",
       "      <td>Good</td>\n",
       "      <td>1</td>\n",
       "      <td>1</td>\n",
       "      <td>0</td>\n",
       "      <td>0</td>\n",
       "      <td>0</td>\n",
       "      <td>0</td>\n",
       "      <td>1</td>\n",
       "      <td>1</td>\n",
       "      <td>22.0</td>\n",
       "    </tr>\n",
       "    <tr>\n",
       "      <th>4</th>\n",
       "      <td>May</td>\n",
       "      <td>23.0</td>\n",
       "      <td>Scientist</td>\n",
       "      <td>19114.12</td>\n",
       "      <td>1824.843333</td>\n",
       "      <td>3</td>\n",
       "      <td>4</td>\n",
       "      <td>3</td>\n",
       "      <td>4.0</td>\n",
       "      <td>6</td>\n",
       "      <td>...</td>\n",
       "      <td>Good</td>\n",
       "      <td>1</td>\n",
       "      <td>1</td>\n",
       "      <td>0</td>\n",
       "      <td>0</td>\n",
       "      <td>0</td>\n",
       "      <td>0</td>\n",
       "      <td>1</td>\n",
       "      <td>1</td>\n",
       "      <td>22.0</td>\n",
       "    </tr>\n",
       "  </tbody>\n",
       "</table>\n",
       "<p>5 rows × 31 columns</p>\n",
       "</div>"
      ],
      "text/plain": [
       "      Month    Age Occupation  Annual_Income  Monthly_Inhand_Salary  \\\n",
       "0   January   23.0  Scientist       19114.12            1824.843333   \n",
       "1  February   23.0  Scientist       19114.12                    NaN   \n",
       "2     March  500.0  Scientist       19114.12                    NaN   \n",
       "3     April   23.0  Scientist       19114.12                    NaN   \n",
       "4       May   23.0  Scientist       19114.12            1824.843333   \n",
       "\n",
       "   Num_Bank_Accounts  Num_Credit_Card  Interest_Rate  Num_of_Loan  \\\n",
       "0                  3                4              3          4.0   \n",
       "1                  3                4              3          4.0   \n",
       "2                  3                4              3          4.0   \n",
       "3                  3                4              3          4.0   \n",
       "4                  3                4              3          4.0   \n",
       "\n",
       "   Delay_from_due_date  ...  Credit_Score  Credit-Builder Loan  Personal Loan  \\\n",
       "0                    3  ...          Good                    1              1   \n",
       "1                   -1  ...          Good                    1              1   \n",
       "2                    3  ...          Good                    1              1   \n",
       "3                    5  ...          Good                    1              1   \n",
       "4                    6  ...          Good                    1              1   \n",
       "\n",
       "  Debt Consolidation Loan  Student Loan  Payday Loan Mortgage Loan  Auto Loan  \\\n",
       "0                       0             0            0             0          1   \n",
       "1                       0             0            0             0          1   \n",
       "2                       0             0            0             0          1   \n",
       "3                       0             0            0             0          1   \n",
       "4                       0             0            0             0          1   \n",
       "\n",
       "   Home Equity Loan Credit_History_in_Year  \n",
       "0                 1                   22.0  \n",
       "1                 1                    NaN  \n",
       "2                 1                   22.0  \n",
       "3                 1                   22.0  \n",
       "4                 1                   22.0  \n",
       "\n",
       "[5 rows x 31 columns]"
      ]
     },
     "execution_count": 6,
     "metadata": {},
     "output_type": "execute_result"
    }
   ],
   "source": [
    "preprocessed_data.head()"
   ]
  },
  {
   "cell_type": "markdown",
   "metadata": {},
   "source": [
    "##### Parameters"
   ]
  },
  {
   "cell_type": "code",
   "execution_count": 7,
   "metadata": {},
   "outputs": [],
   "source": [
    "# List of columns to process for outliers and optimal binning\n",
    "columns = [col for col in preprocessed_data.columns if preprocessed_data[col].dtypes in ['float64','int64'] and col not in 'Credit_Score']\n",
    "# A value used for replacing outliers and considered as an outlier in the optimal binning process\n",
    "outlier_value=-999.001\n",
    "# Target column\n",
    "target = 'Credit_Score'"
   ]
  },
  {
   "cell_type": "markdown",
   "metadata": {},
   "source": [
    "#### 3.2 Handling Outliers and Missing Values \n",
    "\n",
    "Now, we'll use the `OutlierDetector` class to identify outliers and replace them with extreme values (-999). Our choice is justified by our modeling strategies for linear models and tree-based models, as explained below.\n",
    "\n",
    "#### Linear Models (Linear Regression, Logistic Regression,...)\n",
    "\n",
    "For linear models, our approach involves the optimal binning to discretize continuous variables into bins that effectively discriminate the target variable. At each iteration, the optimal binning algorithm assesses the discriminatory power of each potential bin using statistical metrics such as Information Value (IV), Gini Impurity, or Jensen-Shannon divergence (under constraints like monotonicity or minimum bin size). For example, automatically identifying high-risk segments in credit scoring based on distinct income levels or credit utilization ratios can be a very interesting approach. Additionally, by using isolated values identified with `OutlierDetector`, we can create distinct categories for missing values and outliers. This approach ensures that such exceptional data points are handled appropriately, improving the model interpretability.\n",
    "\n",
    "#### For Tree-Based Models (e.g., Decision Trees, Random Forests, Gradient Boosting)\n",
    "\n",
    "Tree-based models are usually good for handling outliers, but we can still mark outliers with extreme values to help the model identify them easily among the other data points."
   ]
  },
  {
   "cell_type": "markdown",
   "metadata": {},
   "source": [
    "So, let's identify and replace outliers in our dataset:\n"
   ]
  },
  {
   "cell_type": "code",
   "execution_count": 8,
   "metadata": {},
   "outputs": [
    {
     "name": "stderr",
     "output_type": "stream",
     "text": [
      "Replacing outliers: 100%|██████████| 25/25 [00:03<00:00,  7.14it/s]\n"
     ]
    }
   ],
   "source": [
    "# Initialization\n",
    "outlier_detector = outlierdetector(\n",
    "    columns=columns,\n",
    "    method=\"IQR\",\n",
    "    replacement_method=\"constant\",\n",
    "    replacement_value=outlier_value,\n",
    ")\n",
    "# Fiting the outlierdetector to the data\n",
    "outlier_detector.fit(preprocessed_data)\n",
    "# Transforming data\n",
    "preprocessed_data = outlier_detector.transform(df=preprocessed_data)"
   ]
  },
  {
   "cell_type": "code",
   "execution_count": 9,
   "metadata": {},
   "outputs": [
    {
     "data": {
      "text/html": [
       "<div>\n",
       "<style scoped>\n",
       "    .dataframe tbody tr th:only-of-type {\n",
       "        vertical-align: middle;\n",
       "    }\n",
       "\n",
       "    .dataframe tbody tr th {\n",
       "        vertical-align: top;\n",
       "    }\n",
       "\n",
       "    .dataframe thead th {\n",
       "        text-align: right;\n",
       "    }\n",
       "</style>\n",
       "<table border=\"1\" class=\"dataframe\">\n",
       "  <thead>\n",
       "    <tr style=\"text-align: right;\">\n",
       "      <th></th>\n",
       "      <th>Month</th>\n",
       "      <th>Age</th>\n",
       "      <th>Occupation</th>\n",
       "      <th>Annual_Income</th>\n",
       "      <th>Monthly_Inhand_Salary</th>\n",
       "      <th>Num_Bank_Accounts</th>\n",
       "      <th>Num_Credit_Card</th>\n",
       "      <th>Interest_Rate</th>\n",
       "      <th>Num_of_Loan</th>\n",
       "      <th>Delay_from_due_date</th>\n",
       "      <th>...</th>\n",
       "      <th>Credit_Score</th>\n",
       "      <th>Credit-Builder Loan</th>\n",
       "      <th>Personal Loan</th>\n",
       "      <th>Debt Consolidation Loan</th>\n",
       "      <th>Student Loan</th>\n",
       "      <th>Payday Loan</th>\n",
       "      <th>Mortgage Loan</th>\n",
       "      <th>Auto Loan</th>\n",
       "      <th>Home Equity Loan</th>\n",
       "      <th>Credit_History_in_Year</th>\n",
       "    </tr>\n",
       "  </thead>\n",
       "  <tbody>\n",
       "    <tr>\n",
       "      <th>0</th>\n",
       "      <td>January</td>\n",
       "      <td>23.000</td>\n",
       "      <td>Scientist</td>\n",
       "      <td>19114.12</td>\n",
       "      <td>1824.843333</td>\n",
       "      <td>3.0</td>\n",
       "      <td>4.0</td>\n",
       "      <td>3.0</td>\n",
       "      <td>4.0</td>\n",
       "      <td>3.0</td>\n",
       "      <td>...</td>\n",
       "      <td>Good</td>\n",
       "      <td>1</td>\n",
       "      <td>1</td>\n",
       "      <td>0</td>\n",
       "      <td>0</td>\n",
       "      <td>0</td>\n",
       "      <td>0</td>\n",
       "      <td>1</td>\n",
       "      <td>1</td>\n",
       "      <td>22.0</td>\n",
       "    </tr>\n",
       "    <tr>\n",
       "      <th>1</th>\n",
       "      <td>February</td>\n",
       "      <td>23.000</td>\n",
       "      <td>Scientist</td>\n",
       "      <td>19114.12</td>\n",
       "      <td>NaN</td>\n",
       "      <td>3.0</td>\n",
       "      <td>4.0</td>\n",
       "      <td>3.0</td>\n",
       "      <td>4.0</td>\n",
       "      <td>-1.0</td>\n",
       "      <td>...</td>\n",
       "      <td>Good</td>\n",
       "      <td>1</td>\n",
       "      <td>1</td>\n",
       "      <td>0</td>\n",
       "      <td>0</td>\n",
       "      <td>0</td>\n",
       "      <td>0</td>\n",
       "      <td>1</td>\n",
       "      <td>1</td>\n",
       "      <td>NaN</td>\n",
       "    </tr>\n",
       "    <tr>\n",
       "      <th>2</th>\n",
       "      <td>March</td>\n",
       "      <td>-999.001</td>\n",
       "      <td>Scientist</td>\n",
       "      <td>19114.12</td>\n",
       "      <td>NaN</td>\n",
       "      <td>3.0</td>\n",
       "      <td>4.0</td>\n",
       "      <td>3.0</td>\n",
       "      <td>4.0</td>\n",
       "      <td>3.0</td>\n",
       "      <td>...</td>\n",
       "      <td>Good</td>\n",
       "      <td>1</td>\n",
       "      <td>1</td>\n",
       "      <td>0</td>\n",
       "      <td>0</td>\n",
       "      <td>0</td>\n",
       "      <td>0</td>\n",
       "      <td>1</td>\n",
       "      <td>1</td>\n",
       "      <td>22.0</td>\n",
       "    </tr>\n",
       "    <tr>\n",
       "      <th>3</th>\n",
       "      <td>April</td>\n",
       "      <td>23.000</td>\n",
       "      <td>Scientist</td>\n",
       "      <td>19114.12</td>\n",
       "      <td>NaN</td>\n",
       "      <td>3.0</td>\n",
       "      <td>4.0</td>\n",
       "      <td>3.0</td>\n",
       "      <td>4.0</td>\n",
       "      <td>5.0</td>\n",
       "      <td>...</td>\n",
       "      <td>Good</td>\n",
       "      <td>1</td>\n",
       "      <td>1</td>\n",
       "      <td>0</td>\n",
       "      <td>0</td>\n",
       "      <td>0</td>\n",
       "      <td>0</td>\n",
       "      <td>1</td>\n",
       "      <td>1</td>\n",
       "      <td>22.0</td>\n",
       "    </tr>\n",
       "    <tr>\n",
       "      <th>4</th>\n",
       "      <td>May</td>\n",
       "      <td>23.000</td>\n",
       "      <td>Scientist</td>\n",
       "      <td>19114.12</td>\n",
       "      <td>1824.843333</td>\n",
       "      <td>3.0</td>\n",
       "      <td>4.0</td>\n",
       "      <td>3.0</td>\n",
       "      <td>4.0</td>\n",
       "      <td>6.0</td>\n",
       "      <td>...</td>\n",
       "      <td>Good</td>\n",
       "      <td>1</td>\n",
       "      <td>1</td>\n",
       "      <td>0</td>\n",
       "      <td>0</td>\n",
       "      <td>0</td>\n",
       "      <td>0</td>\n",
       "      <td>1</td>\n",
       "      <td>1</td>\n",
       "      <td>22.0</td>\n",
       "    </tr>\n",
       "  </tbody>\n",
       "</table>\n",
       "<p>5 rows × 31 columns</p>\n",
       "</div>"
      ],
      "text/plain": [
       "      Month      Age Occupation  Annual_Income  Monthly_Inhand_Salary  \\\n",
       "0   January   23.000  Scientist       19114.12            1824.843333   \n",
       "1  February   23.000  Scientist       19114.12                    NaN   \n",
       "2     March -999.001  Scientist       19114.12                    NaN   \n",
       "3     April   23.000  Scientist       19114.12                    NaN   \n",
       "4       May   23.000  Scientist       19114.12            1824.843333   \n",
       "\n",
       "   Num_Bank_Accounts  Num_Credit_Card  Interest_Rate  Num_of_Loan  \\\n",
       "0                3.0              4.0            3.0          4.0   \n",
       "1                3.0              4.0            3.0          4.0   \n",
       "2                3.0              4.0            3.0          4.0   \n",
       "3                3.0              4.0            3.0          4.0   \n",
       "4                3.0              4.0            3.0          4.0   \n",
       "\n",
       "   Delay_from_due_date  ...  Credit_Score  Credit-Builder Loan  Personal Loan  \\\n",
       "0                  3.0  ...          Good                    1              1   \n",
       "1                 -1.0  ...          Good                    1              1   \n",
       "2                  3.0  ...          Good                    1              1   \n",
       "3                  5.0  ...          Good                    1              1   \n",
       "4                  6.0  ...          Good                    1              1   \n",
       "\n",
       "  Debt Consolidation Loan  Student Loan  Payday Loan Mortgage Loan  Auto Loan  \\\n",
       "0                       0             0            0             0          1   \n",
       "1                       0             0            0             0          1   \n",
       "2                       0             0            0             0          1   \n",
       "3                       0             0            0             0          1   \n",
       "4                       0             0            0             0          1   \n",
       "\n",
       "   Home Equity Loan Credit_History_in_Year  \n",
       "0                 1                   22.0  \n",
       "1                 1                    NaN  \n",
       "2                 1                   22.0  \n",
       "3                 1                   22.0  \n",
       "4                 1                   22.0  \n",
       "\n",
       "[5 rows x 31 columns]"
      ]
     },
     "execution_count": 9,
     "metadata": {},
     "output_type": "execute_result"
    }
   ],
   "source": [
    "preprocessed_data.head() "
   ]
  },
  {
   "cell_type": "code",
   "execution_count": 10,
   "metadata": {},
   "outputs": [
    {
     "name": "stdout",
     "output_type": "stream",
     "text": [
      "{\n",
      "   \"Age\": {\n",
      "      \"lower\": -0.5,\n",
      "      \"upper\": 67.5\n",
      "   },\n",
      "   \"Annual_Income\": {\n",
      "      \"lower\": -60542.630000000005,\n",
      "      \"upper\": 152791.05\n",
      "   },\n",
      "   \"Monthly_Inhand_Salary\": {\n",
      "      \"lower\": -4872.251927083333,\n",
      "      \"upper\": 12455.268489583334\n",
      "   },\n",
      "   \"Num_Bank_Accounts\": {\n",
      "      \"lower\": -3.0,\n",
      "      \"upper\": 13.0\n",
      "   },\n",
      "   \"Num_Credit_Card\": {\n",
      "      \"lower\": -0.5,\n",
      "      \"upper\": 11.5\n",
      "   },\n",
      "   \"Interest_Rate\": {\n",
      "      \"lower\": -10.0,\n",
      "      \"upper\": 38.0\n",
      "   },\n",
      "   \"Num_of_Loan\": {\n",
      "      \"lower\": -4.0,\n",
      "      \"upper\": 12.0\n",
      "   },\n",
      "   \"Delay_from_due_date\": {\n",
      "      \"lower\": -17.0,\n",
      "      \"upper\": 55.0\n",
      "   },\n",
      "   \"Num_of_Delayed_Payment\": {\n",
      "      \"lower\": -4.5,\n",
      "      \"upper\": 31.5\n",
      "   },\n",
      "   \"Changed_Credit_Limit\": {\n",
      "      \"lower\": -9.004999999999999,\n",
      "      \"upper\": 29.195\n",
      "   },\n",
      "   \"Num_Credit_Inquiries\": {\n",
      "      \"lower\": -6.0,\n",
      "      \"upper\": 18.0\n",
      "   },\n",
      "   \"Outstanding_Debt\": {\n",
      "      \"lower\": -1503.7625,\n",
      "      \"upper\": 4015.7975\n",
      "   },\n",
      "   \"Credit_Utilization_Ratio\": {\n",
      "      \"lower\": 15.38642181919627,\n",
      "      \"upper\": 49.1628077980216\n",
      "   },\n",
      "   \"Total_EMI_per_month\": {\n",
      "      \"lower\": -166.06972242783047,\n",
      "      \"upper\": 357.60063203221614\n",
      "   },\n",
      "   \"Amount_invested_monthly\": {\n",
      "      \"lower\": -212.2625956491557,\n",
      "      \"upper\": 552.5283301990064\n",
      "   },\n",
      "   \"Monthly_Balance\": {\n",
      "      \"lower\": -30.212016717671816,\n",
      "      \"upper\": 770.6586228681385\n",
      "   },\n",
      "   \"Credit-Builder Loan\": {\n",
      "      \"lower\": -1.5,\n",
      "      \"upper\": 2.5\n",
      "   },\n",
      "   \"Personal Loan\": {\n",
      "      \"lower\": -1.5,\n",
      "      \"upper\": 2.5\n",
      "   },\n",
      "   \"Debt Consolidation Loan\": {\n",
      "      \"lower\": -1.5,\n",
      "      \"upper\": 2.5\n",
      "   },\n",
      "   \"Student Loan\": {\n",
      "      \"lower\": -1.5,\n",
      "      \"upper\": 2.5\n",
      "   },\n",
      "   \"Payday Loan\": {\n",
      "      \"lower\": -1.5,\n",
      "      \"upper\": 2.5\n",
      "   },\n",
      "   \"Mortgage Loan\": {\n",
      "      \"lower\": -1.5,\n",
      "      \"upper\": 2.5\n",
      "   },\n",
      "   \"Auto Loan\": {\n",
      "      \"lower\": -1.5,\n",
      "      \"upper\": 2.5\n",
      "   },\n",
      "   \"Home Equity Loan\": {\n",
      "      \"lower\": -1.5,\n",
      "      \"upper\": 2.5\n",
      "   },\n",
      "   \"Credit_History_in_Year\": {\n",
      "      \"lower\": -7.5,\n",
      "      \"upper\": 44.5\n",
      "   }\n",
      "}\n"
     ]
    }
   ],
   "source": [
    "# upper and lower bounds for each variable\n",
    "print(json.dumps(outlier_detector.bounds, indent=3))"
   ]
  },
  {
   "cell_type": "markdown",
   "metadata": {},
   "source": [
    "Alternatively, the identified outliers can be replaced using estimations ('median', 'mode', 'std_dev' or 'capping_flooring'), as proposed in the methods available within the `OutlierDetector` class."
   ]
  },
  {
   "cell_type": "markdown",
   "metadata": {},
   "source": [
    "#### 3.3 Optimal binning"
   ]
  },
  {
   "cell_type": "markdown",
   "metadata": {},
   "source": [
    "Now, we are going to discretize each continuous variable in our dataset using an optimal binning algorithm. This will be achieved through the `multioptbinning` class that uses the [OptBinning](https://gnpalencia.org/optbinning/) library.\n",
    "\n",
    "### Key Parameters of multioptbinning:\n",
    "\n",
    "- **`prebinning_method`**: This parameter define the selection method for the initial bins in the algorithm's first iteration.\n",
    "\n",
    "- **`divergence`**: This parameter defines the metric for measuring the discriminative power of each potential bin in each iteration, an essential aspect of the binning process.\n",
    "\n",
    "- **`monotonic_trend`**: Defines the monotonicity constraint ('event rate monotonic trend') during the optimization phase, ensuring the trend consistency across the bins.\n",
    "\n",
    "You can also use all the parameters available in [OptBinning](https://gnpalencia.org/optbinning/) by either specifying them directly or through a dictionary using the `additional_optb_params` parameter of the class.\n"
   ]
  },
  {
   "cell_type": "code",
   "execution_count": 11,
   "metadata": {},
   "outputs": [
    {
     "name": "stderr",
     "output_type": "stream",
     "text": [
      "Fitting OptimalBinning Models: 100%|██████████| 25/25 [00:07<00:00,  3.41it/s]\n"
     ]
    }
   ],
   "source": [
    "# Initialization\n",
    "binner = multioptbinning(\n",
    "    variables=columns,\n",
    "    target=target,\n",
    "    target_dtype=\"multiclass\",\n",
    "    outlier_value=outlier_value,\n",
    ")\n",
    "# Fiting the multioptbinning to the data\n",
    "binner.fit(preprocessed_data)\n",
    "# Transforming data\n",
    "transformed_df_binned = binner.transform(preprocessed_data)"
   ]
  },
  {
   "cell_type": "code",
   "execution_count": 12,
   "metadata": {},
   "outputs": [
    {
     "data": {
      "text/html": [
       "<div>\n",
       "<style scoped>\n",
       "    .dataframe tbody tr th:only-of-type {\n",
       "        vertical-align: middle;\n",
       "    }\n",
       "\n",
       "    .dataframe tbody tr th {\n",
       "        vertical-align: top;\n",
       "    }\n",
       "\n",
       "    .dataframe thead th {\n",
       "        text-align: right;\n",
       "    }\n",
       "</style>\n",
       "<table border=\"1\" class=\"dataframe\">\n",
       "  <thead>\n",
       "    <tr style=\"text-align: right;\">\n",
       "      <th></th>\n",
       "      <th>Month</th>\n",
       "      <th>Age</th>\n",
       "      <th>Occupation</th>\n",
       "      <th>Annual_Income</th>\n",
       "      <th>Monthly_Inhand_Salary</th>\n",
       "      <th>Num_Bank_Accounts</th>\n",
       "      <th>Num_Credit_Card</th>\n",
       "      <th>Interest_Rate</th>\n",
       "      <th>Num_of_Loan</th>\n",
       "      <th>Delay_from_due_date</th>\n",
       "      <th>...</th>\n",
       "      <th>Credit_Score</th>\n",
       "      <th>Credit-Builder Loan</th>\n",
       "      <th>Personal Loan</th>\n",
       "      <th>Debt Consolidation Loan</th>\n",
       "      <th>Student Loan</th>\n",
       "      <th>Payday Loan</th>\n",
       "      <th>Mortgage Loan</th>\n",
       "      <th>Auto Loan</th>\n",
       "      <th>Home Equity Loan</th>\n",
       "      <th>Credit_History_in_Year</th>\n",
       "    </tr>\n",
       "  </thead>\n",
       "  <tbody>\n",
       "    <tr>\n",
       "      <th>0</th>\n",
       "      <td>January</td>\n",
       "      <td>(-inf, 49.50)</td>\n",
       "      <td>Scientist</td>\n",
       "      <td>[10270.89, 20994.00)</td>\n",
       "      <td>[1684.87, 6822.59)</td>\n",
       "      <td>(-inf, 5.50)</td>\n",
       "      <td>[3.50, 4.50)</td>\n",
       "      <td>(-inf, 15.50)</td>\n",
       "      <td>[1.50, 4.50)</td>\n",
       "      <td>(-inf, 4.50)</td>\n",
       "      <td>...</td>\n",
       "      <td>Good</td>\n",
       "      <td>1</td>\n",
       "      <td>1</td>\n",
       "      <td>0</td>\n",
       "      <td>0</td>\n",
       "      <td>0</td>\n",
       "      <td>0</td>\n",
       "      <td>1</td>\n",
       "      <td>1</td>\n",
       "      <td>[19.50, inf)</td>\n",
       "    </tr>\n",
       "    <tr>\n",
       "      <th>1</th>\n",
       "      <td>February</td>\n",
       "      <td>(-inf, 49.50)</td>\n",
       "      <td>Scientist</td>\n",
       "      <td>[10270.89, 20994.00)</td>\n",
       "      <td>Missing</td>\n",
       "      <td>(-inf, 5.50)</td>\n",
       "      <td>[3.50, 4.50)</td>\n",
       "      <td>(-inf, 15.50)</td>\n",
       "      <td>[1.50, 4.50)</td>\n",
       "      <td>(-inf, 4.50)</td>\n",
       "      <td>...</td>\n",
       "      <td>Good</td>\n",
       "      <td>1</td>\n",
       "      <td>1</td>\n",
       "      <td>0</td>\n",
       "      <td>0</td>\n",
       "      <td>0</td>\n",
       "      <td>0</td>\n",
       "      <td>1</td>\n",
       "      <td>1</td>\n",
       "      <td>Missing</td>\n",
       "    </tr>\n",
       "    <tr>\n",
       "      <th>2</th>\n",
       "      <td>March</td>\n",
       "      <td>Special</td>\n",
       "      <td>Scientist</td>\n",
       "      <td>[10270.89, 20994.00)</td>\n",
       "      <td>Missing</td>\n",
       "      <td>(-inf, 5.50)</td>\n",
       "      <td>[3.50, 4.50)</td>\n",
       "      <td>(-inf, 15.50)</td>\n",
       "      <td>[1.50, 4.50)</td>\n",
       "      <td>(-inf, 4.50)</td>\n",
       "      <td>...</td>\n",
       "      <td>Good</td>\n",
       "      <td>1</td>\n",
       "      <td>1</td>\n",
       "      <td>0</td>\n",
       "      <td>0</td>\n",
       "      <td>0</td>\n",
       "      <td>0</td>\n",
       "      <td>1</td>\n",
       "      <td>1</td>\n",
       "      <td>[19.50, inf)</td>\n",
       "    </tr>\n",
       "    <tr>\n",
       "      <th>3</th>\n",
       "      <td>April</td>\n",
       "      <td>(-inf, 49.50)</td>\n",
       "      <td>Scientist</td>\n",
       "      <td>[10270.89, 20994.00)</td>\n",
       "      <td>Missing</td>\n",
       "      <td>(-inf, 5.50)</td>\n",
       "      <td>[3.50, 4.50)</td>\n",
       "      <td>(-inf, 15.50)</td>\n",
       "      <td>[1.50, 4.50)</td>\n",
       "      <td>[4.50, 15.50)</td>\n",
       "      <td>...</td>\n",
       "      <td>Good</td>\n",
       "      <td>1</td>\n",
       "      <td>1</td>\n",
       "      <td>0</td>\n",
       "      <td>0</td>\n",
       "      <td>0</td>\n",
       "      <td>0</td>\n",
       "      <td>1</td>\n",
       "      <td>1</td>\n",
       "      <td>[19.50, inf)</td>\n",
       "    </tr>\n",
       "    <tr>\n",
       "      <th>4</th>\n",
       "      <td>May</td>\n",
       "      <td>(-inf, 49.50)</td>\n",
       "      <td>Scientist</td>\n",
       "      <td>[10270.89, 20994.00)</td>\n",
       "      <td>[1684.87, 6822.59)</td>\n",
       "      <td>(-inf, 5.50)</td>\n",
       "      <td>[3.50, 4.50)</td>\n",
       "      <td>(-inf, 15.50)</td>\n",
       "      <td>[1.50, 4.50)</td>\n",
       "      <td>[4.50, 15.50)</td>\n",
       "      <td>...</td>\n",
       "      <td>Good</td>\n",
       "      <td>1</td>\n",
       "      <td>1</td>\n",
       "      <td>0</td>\n",
       "      <td>0</td>\n",
       "      <td>0</td>\n",
       "      <td>0</td>\n",
       "      <td>1</td>\n",
       "      <td>1</td>\n",
       "      <td>[19.50, inf)</td>\n",
       "    </tr>\n",
       "  </tbody>\n",
       "</table>\n",
       "<p>5 rows × 31 columns</p>\n",
       "</div>"
      ],
      "text/plain": [
       "      Month            Age Occupation         Annual_Income  \\\n",
       "0   January  (-inf, 49.50)  Scientist  [10270.89, 20994.00)   \n",
       "1  February  (-inf, 49.50)  Scientist  [10270.89, 20994.00)   \n",
       "2     March        Special  Scientist  [10270.89, 20994.00)   \n",
       "3     April  (-inf, 49.50)  Scientist  [10270.89, 20994.00)   \n",
       "4       May  (-inf, 49.50)  Scientist  [10270.89, 20994.00)   \n",
       "\n",
       "  Monthly_Inhand_Salary Num_Bank_Accounts Num_Credit_Card  Interest_Rate  \\\n",
       "0    [1684.87, 6822.59)      (-inf, 5.50)    [3.50, 4.50)  (-inf, 15.50)   \n",
       "1               Missing      (-inf, 5.50)    [3.50, 4.50)  (-inf, 15.50)   \n",
       "2               Missing      (-inf, 5.50)    [3.50, 4.50)  (-inf, 15.50)   \n",
       "3               Missing      (-inf, 5.50)    [3.50, 4.50)  (-inf, 15.50)   \n",
       "4    [1684.87, 6822.59)      (-inf, 5.50)    [3.50, 4.50)  (-inf, 15.50)   \n",
       "\n",
       "    Num_of_Loan Delay_from_due_date  ... Credit_Score Credit-Builder Loan  \\\n",
       "0  [1.50, 4.50)        (-inf, 4.50)  ...         Good                   1   \n",
       "1  [1.50, 4.50)        (-inf, 4.50)  ...         Good                   1   \n",
       "2  [1.50, 4.50)        (-inf, 4.50)  ...         Good                   1   \n",
       "3  [1.50, 4.50)       [4.50, 15.50)  ...         Good                   1   \n",
       "4  [1.50, 4.50)       [4.50, 15.50)  ...         Good                   1   \n",
       "\n",
       "  Personal Loan Debt Consolidation Loan Student Loan Payday Loan  \\\n",
       "0             1                       0            0           0   \n",
       "1             1                       0            0           0   \n",
       "2             1                       0            0           0   \n",
       "3             1                       0            0           0   \n",
       "4             1                       0            0           0   \n",
       "\n",
       "  Mortgage Loan Auto Loan Home Equity Loan Credit_History_in_Year  \n",
       "0             0         1                1           [19.50, inf)  \n",
       "1             0         1                1                Missing  \n",
       "2             0         1                1           [19.50, inf)  \n",
       "3             0         1                1           [19.50, inf)  \n",
       "4             0         1                1           [19.50, inf)  \n",
       "\n",
       "[5 rows x 31 columns]"
      ]
     },
     "execution_count": 12,
     "metadata": {},
     "output_type": "execute_result"
    }
   ],
   "source": [
    "transformed_df_binned.head() "
   ]
  },
  {
   "cell_type": "markdown",
   "metadata": {},
   "source": [
    "# 4. Univariate Analysis\n",
    "\n",
    "Now we are going to perform univariate analysis on our binned dataset to discern the predictive power of each feature. The first step in this process is to use the `univariate_feature_importance` function, which assesses the strength of the relationship between each variable and the target, offering a choice between Cramér's V and the Predictive Power Score (PPS) metric. Following this initial assessment, we will further explore the data by applying the `univariate_category_importance` function. This function measures the discriminative power of each category within the dataset, using the Jensen-Shannon distance as the metric for this deeper analysis.\n"
   ]
  },
  {
   "cell_type": "markdown",
   "metadata": {},
   "source": [
    "##### Parameters"
   ]
  },
  {
   "cell_type": "code",
   "execution_count": 13,
   "metadata": {},
   "outputs": [],
   "source": [
    "features = [col for col in transformed_df_binned.columns if  col not in target]"
   ]
  },
  {
   "cell_type": "markdown",
   "metadata": {},
   "source": [
    "#### 4.1 Univariate feature importance "
   ]
  },
  {
   "cell_type": "code",
   "execution_count": 14,
   "metadata": {},
   "outputs": [
    {
     "data": {
      "text/html": [
       "<style type=\"text/css\">\n",
       "#T_5fb41_row0_col1 {\n",
       "  width: 10em;\n",
       "  background: linear-gradient(90deg, #5f8fd6 100.0%, transparent 100.0%);\n",
       "}\n",
       "#T_5fb41_row1_col1 {\n",
       "  width: 10em;\n",
       "  background: linear-gradient(90deg, #5f8fd6 92.6%, transparent 92.6%);\n",
       "}\n",
       "#T_5fb41_row2_col1 {\n",
       "  width: 10em;\n",
       "  background: linear-gradient(90deg, #5f8fd6 86.2%, transparent 86.2%);\n",
       "}\n",
       "#T_5fb41_row3_col1 {\n",
       "  width: 10em;\n",
       "  background: linear-gradient(90deg, #5f8fd6 84.1%, transparent 84.1%);\n",
       "}\n",
       "#T_5fb41_row4_col1 {\n",
       "  width: 10em;\n",
       "  background: linear-gradient(90deg, #5f8fd6 80.6%, transparent 80.6%);\n",
       "}\n",
       "#T_5fb41_row5_col1 {\n",
       "  width: 10em;\n",
       "  background: linear-gradient(90deg, #5f8fd6 77.9%, transparent 77.9%);\n",
       "}\n",
       "#T_5fb41_row6_col1 {\n",
       "  width: 10em;\n",
       "  background: linear-gradient(90deg, #5f8fd6 72.3%, transparent 72.3%);\n",
       "}\n",
       "#T_5fb41_row7_col1 {\n",
       "  width: 10em;\n",
       "  background: linear-gradient(90deg, #5f8fd6 72.2%, transparent 72.2%);\n",
       "}\n",
       "#T_5fb41_row8_col1 {\n",
       "  width: 10em;\n",
       "  background: linear-gradient(90deg, #5f8fd6 71.2%, transparent 71.2%);\n",
       "}\n",
       "#T_5fb41_row9_col1 {\n",
       "  width: 10em;\n",
       "  background: linear-gradient(90deg, #5f8fd6 68.9%, transparent 68.9%);\n",
       "}\n",
       "#T_5fb41_row10_col1 {\n",
       "  width: 10em;\n",
       "  background: linear-gradient(90deg, #5f8fd6 67.9%, transparent 67.9%);\n",
       "}\n",
       "#T_5fb41_row11_col1 {\n",
       "  width: 10em;\n",
       "  background: linear-gradient(90deg, #5f8fd6 48.3%, transparent 48.3%);\n",
       "}\n",
       "#T_5fb41_row12_col1 {\n",
       "  width: 10em;\n",
       "  background: linear-gradient(90deg, #5f8fd6 41.0%, transparent 41.0%);\n",
       "}\n",
       "#T_5fb41_row13_col1 {\n",
       "  width: 10em;\n",
       "  background: linear-gradient(90deg, #5f8fd6 40.9%, transparent 40.9%);\n",
       "}\n",
       "#T_5fb41_row14_col1 {\n",
       "  width: 10em;\n",
       "  background: linear-gradient(90deg, #5f8fd6 40.6%, transparent 40.6%);\n",
       "}\n",
       "#T_5fb41_row15_col1 {\n",
       "  width: 10em;\n",
       "  background: linear-gradient(90deg, #5f8fd6 37.8%, transparent 37.8%);\n",
       "}\n",
       "#T_5fb41_row16_col1, #T_5fb41_row17_col1 {\n",
       "  width: 10em;\n",
       "  background: linear-gradient(90deg, #5f8fd6 35.5%, transparent 35.5%);\n",
       "}\n",
       "#T_5fb41_row18_col1, #T_5fb41_row19_col1 {\n",
       "  width: 10em;\n",
       "  background: linear-gradient(90deg, #5f8fd6 35.4%, transparent 35.4%);\n",
       "}\n",
       "#T_5fb41_row20_col1 {\n",
       "  width: 10em;\n",
       "  background: linear-gradient(90deg, #5f8fd6 35.1%, transparent 35.1%);\n",
       "}\n",
       "#T_5fb41_row21_col1 {\n",
       "  width: 10em;\n",
       "  background: linear-gradient(90deg, #5f8fd6 34.9%, transparent 34.9%);\n",
       "}\n",
       "#T_5fb41_row22_col1 {\n",
       "  width: 10em;\n",
       "  background: linear-gradient(90deg, #5f8fd6 34.0%, transparent 34.0%);\n",
       "}\n",
       "#T_5fb41_row23_col1 {\n",
       "  width: 10em;\n",
       "  background: linear-gradient(90deg, #5f8fd6 27.6%, transparent 27.6%);\n",
       "}\n",
       "#T_5fb41_row24_col1 {\n",
       "  width: 10em;\n",
       "  background: linear-gradient(90deg, #5f8fd6 26.0%, transparent 26.0%);\n",
       "}\n",
       "#T_5fb41_row25_col1 {\n",
       "  width: 10em;\n",
       "  background: linear-gradient(90deg, #5f8fd6 21.0%, transparent 21.0%);\n",
       "}\n",
       "#T_5fb41_row26_col1 {\n",
       "  width: 10em;\n",
       "  background: linear-gradient(90deg, #5f8fd6 17.9%, transparent 17.9%);\n",
       "}\n",
       "#T_5fb41_row27_col1 {\n",
       "  width: 10em;\n",
       "  background: linear-gradient(90deg, #5f8fd6 7.9%, transparent 7.9%);\n",
       "}\n",
       "#T_5fb41_row28_col1 {\n",
       "  width: 10em;\n",
       "  background: linear-gradient(90deg, #5f8fd6 7.3%, transparent 7.3%);\n",
       "}\n",
       "#T_5fb41_row29_col1 {\n",
       "  width: 10em;\n",
       "  background: linear-gradient(90deg, #5f8fd6 5.1%, transparent 5.1%);\n",
       "}\n",
       "</style>\n",
       "<table id=\"T_5fb41\">\n",
       "  <thead>\n",
       "    <tr>\n",
       "      <th class=\"blank level0\" >&nbsp;</th>\n",
       "      <th id=\"T_5fb41_level0_col0\" class=\"col_heading level0 col0\" >Feature</th>\n",
       "      <th id=\"T_5fb41_level0_col1\" class=\"col_heading level0 col1\" >Univariate_Importance</th>\n",
       "    </tr>\n",
       "  </thead>\n",
       "  <tbody>\n",
       "    <tr>\n",
       "      <th id=\"T_5fb41_level0_row0\" class=\"row_heading level0 row0\" >13</th>\n",
       "      <td id=\"T_5fb41_row0_col0\" class=\"data row0 col0\" >Credit_Mix</td>\n",
       "      <td id=\"T_5fb41_row0_col1\" class=\"data row0 col1\" >0.402177</td>\n",
       "    </tr>\n",
       "    <tr>\n",
       "      <th id=\"T_5fb41_level0_row1\" class=\"row_heading level0 row1\" >14</th>\n",
       "      <td id=\"T_5fb41_row1_col0\" class=\"data row1 col0\" >Outstanding_Debt</td>\n",
       "      <td id=\"T_5fb41_row1_col1\" class=\"data row1 col1\" >0.372371</td>\n",
       "    </tr>\n",
       "    <tr>\n",
       "      <th id=\"T_5fb41_level0_row2\" class=\"row_heading level0 row2\" >9</th>\n",
       "      <td id=\"T_5fb41_row2_col0\" class=\"data row2 col0\" >Delay_from_due_date</td>\n",
       "      <td id=\"T_5fb41_row2_col1\" class=\"data row2 col1\" >0.346604</td>\n",
       "    </tr>\n",
       "    <tr>\n",
       "      <th id=\"T_5fb41_level0_row3\" class=\"row_heading level0 row3\" >7</th>\n",
       "      <td id=\"T_5fb41_row3_col0\" class=\"data row3 col0\" >Interest_Rate</td>\n",
       "      <td id=\"T_5fb41_row3_col1\" class=\"data row3 col1\" >0.338245</td>\n",
       "    </tr>\n",
       "    <tr>\n",
       "      <th id=\"T_5fb41_level0_row4\" class=\"row_heading level0 row4\" >12</th>\n",
       "      <td id=\"T_5fb41_row4_col0\" class=\"data row4 col0\" >Num_Credit_Inquiries</td>\n",
       "      <td id=\"T_5fb41_row4_col1\" class=\"data row4 col1\" >0.324281</td>\n",
       "    </tr>\n",
       "    <tr>\n",
       "      <th id=\"T_5fb41_level0_row5\" class=\"row_heading level0 row5\" >16</th>\n",
       "      <td id=\"T_5fb41_row5_col0\" class=\"data row5 col0\" >Payment_of_Min_Amount</td>\n",
       "      <td id=\"T_5fb41_row5_col1\" class=\"data row5 col1\" >0.313212</td>\n",
       "    </tr>\n",
       "    <tr>\n",
       "      <th id=\"T_5fb41_level0_row6\" class=\"row_heading level0 row6\" >5</th>\n",
       "      <td id=\"T_5fb41_row6_col0\" class=\"data row6 col0\" >Num_Bank_Accounts</td>\n",
       "      <td id=\"T_5fb41_row6_col1\" class=\"data row6 col1\" >0.290879</td>\n",
       "    </tr>\n",
       "    <tr>\n",
       "      <th id=\"T_5fb41_level0_row7\" class=\"row_heading level0 row7\" >10</th>\n",
       "      <td id=\"T_5fb41_row7_col0\" class=\"data row7 col0\" >Num_of_Delayed_Payment</td>\n",
       "      <td id=\"T_5fb41_row7_col1\" class=\"data row7 col1\" >0.290450</td>\n",
       "    </tr>\n",
       "    <tr>\n",
       "      <th id=\"T_5fb41_level0_row8\" class=\"row_heading level0 row8\" >6</th>\n",
       "      <td id=\"T_5fb41_row8_col0\" class=\"data row8 col0\" >Num_Credit_Card</td>\n",
       "      <td id=\"T_5fb41_row8_col1\" class=\"data row8 col1\" >0.286544</td>\n",
       "    </tr>\n",
       "    <tr>\n",
       "      <th id=\"T_5fb41_level0_row9\" class=\"row_heading level0 row9\" >29</th>\n",
       "      <td id=\"T_5fb41_row9_col0\" class=\"data row9 col0\" >Credit_History_in_Year</td>\n",
       "      <td id=\"T_5fb41_row9_col1\" class=\"data row9 col1\" >0.277279</td>\n",
       "    </tr>\n",
       "    <tr>\n",
       "      <th id=\"T_5fb41_level0_row10\" class=\"row_heading level0 row10\" >8</th>\n",
       "      <td id=\"T_5fb41_row10_col0\" class=\"data row10 col0\" >Num_of_Loan</td>\n",
       "      <td id=\"T_5fb41_row10_col1\" class=\"data row10 col1\" >0.273180</td>\n",
       "    </tr>\n",
       "    <tr>\n",
       "      <th id=\"T_5fb41_level0_row11\" class=\"row_heading level0 row11\" >3</th>\n",
       "      <td id=\"T_5fb41_row11_col0\" class=\"data row11 col0\" >Annual_Income</td>\n",
       "      <td id=\"T_5fb41_row11_col1\" class=\"data row11 col1\" >0.194116</td>\n",
       "    </tr>\n",
       "    <tr>\n",
       "      <th id=\"T_5fb41_level0_row12\" class=\"row_heading level0 row12\" >11</th>\n",
       "      <td id=\"T_5fb41_row12_col0\" class=\"data row12 col0\" >Changed_Credit_Limit</td>\n",
       "      <td id=\"T_5fb41_row12_col1\" class=\"data row12 col1\" >0.164920</td>\n",
       "    </tr>\n",
       "    <tr>\n",
       "      <th id=\"T_5fb41_level0_row13\" class=\"row_heading level0 row13\" >4</th>\n",
       "      <td id=\"T_5fb41_row13_col0\" class=\"data row13 col0\" >Monthly_Inhand_Salary</td>\n",
       "      <td id=\"T_5fb41_row13_col1\" class=\"data row13 col1\" >0.164637</td>\n",
       "    </tr>\n",
       "    <tr>\n",
       "      <th id=\"T_5fb41_level0_row14\" class=\"row_heading level0 row14\" >20</th>\n",
       "      <td id=\"T_5fb41_row14_col0\" class=\"data row14 col0\" >Monthly_Balance</td>\n",
       "      <td id=\"T_5fb41_row14_col1\" class=\"data row14 col1\" >0.163256</td>\n",
       "    </tr>\n",
       "    <tr>\n",
       "      <th id=\"T_5fb41_level0_row15\" class=\"row_heading level0 row15\" >27</th>\n",
       "      <td id=\"T_5fb41_row15_col0\" class=\"data row15 col0\" >Auto Loan</td>\n",
       "      <td id=\"T_5fb41_row15_col1\" class=\"data row15 col1\" >0.151875</td>\n",
       "    </tr>\n",
       "    <tr>\n",
       "      <th id=\"T_5fb41_level0_row16\" class=\"row_heading level0 row16\" >22</th>\n",
       "      <td id=\"T_5fb41_row16_col0\" class=\"data row16 col0\" >Personal Loan</td>\n",
       "      <td id=\"T_5fb41_row16_col1\" class=\"data row16 col1\" >0.142837</td>\n",
       "    </tr>\n",
       "    <tr>\n",
       "      <th id=\"T_5fb41_level0_row17\" class=\"row_heading level0 row17\" >25</th>\n",
       "      <td id=\"T_5fb41_row17_col0\" class=\"data row17 col0\" >Payday Loan</td>\n",
       "      <td id=\"T_5fb41_row17_col1\" class=\"data row17 col1\" >0.142627</td>\n",
       "    </tr>\n",
       "    <tr>\n",
       "      <th id=\"T_5fb41_level0_row18\" class=\"row_heading level0 row18\" >26</th>\n",
       "      <td id=\"T_5fb41_row18_col0\" class=\"data row18 col0\" >Mortgage Loan</td>\n",
       "      <td id=\"T_5fb41_row18_col1\" class=\"data row18 col1\" >0.142271</td>\n",
       "    </tr>\n",
       "    <tr>\n",
       "      <th id=\"T_5fb41_level0_row19\" class=\"row_heading level0 row19\" >21</th>\n",
       "      <td id=\"T_5fb41_row19_col0\" class=\"data row19 col0\" >Credit-Builder Loan</td>\n",
       "      <td id=\"T_5fb41_row19_col1\" class=\"data row19 col1\" >0.142186</td>\n",
       "    </tr>\n",
       "    <tr>\n",
       "      <th id=\"T_5fb41_level0_row20\" class=\"row_heading level0 row20\" >24</th>\n",
       "      <td id=\"T_5fb41_row20_col0\" class=\"data row20 col0\" >Student Loan</td>\n",
       "      <td id=\"T_5fb41_row20_col1\" class=\"data row20 col1\" >0.141054</td>\n",
       "    </tr>\n",
       "    <tr>\n",
       "      <th id=\"T_5fb41_level0_row21\" class=\"row_heading level0 row21\" >23</th>\n",
       "      <td id=\"T_5fb41_row21_col0\" class=\"data row21 col0\" >Debt Consolidation Loan</td>\n",
       "      <td id=\"T_5fb41_row21_col1\" class=\"data row21 col1\" >0.140503</td>\n",
       "    </tr>\n",
       "    <tr>\n",
       "      <th id=\"T_5fb41_level0_row22\" class=\"row_heading level0 row22\" >28</th>\n",
       "      <td id=\"T_5fb41_row22_col0\" class=\"data row22 col0\" >Home Equity Loan</td>\n",
       "      <td id=\"T_5fb41_row22_col1\" class=\"data row22 col1\" >0.136745</td>\n",
       "    </tr>\n",
       "    <tr>\n",
       "      <th id=\"T_5fb41_level0_row23\" class=\"row_heading level0 row23\" >17</th>\n",
       "      <td id=\"T_5fb41_row23_col0\" class=\"data row23 col0\" >Total_EMI_per_month</td>\n",
       "      <td id=\"T_5fb41_row23_col1\" class=\"data row23 col1\" >0.111021</td>\n",
       "    </tr>\n",
       "    <tr>\n",
       "      <th id=\"T_5fb41_level0_row24\" class=\"row_heading level0 row24\" >1</th>\n",
       "      <td id=\"T_5fb41_row24_col0\" class=\"data row24 col0\" >Age</td>\n",
       "      <td id=\"T_5fb41_row24_col1\" class=\"data row24 col1\" >0.104439</td>\n",
       "    </tr>\n",
       "    <tr>\n",
       "      <th id=\"T_5fb41_level0_row25\" class=\"row_heading level0 row25\" >19</th>\n",
       "      <td id=\"T_5fb41_row25_col0\" class=\"data row25 col0\" >Payment_Behaviour</td>\n",
       "      <td id=\"T_5fb41_row25_col1\" class=\"data row25 col1\" >0.084572</td>\n",
       "    </tr>\n",
       "    <tr>\n",
       "      <th id=\"T_5fb41_level0_row26\" class=\"row_heading level0 row26\" >18</th>\n",
       "      <td id=\"T_5fb41_row26_col0\" class=\"data row26 col0\" >Amount_invested_monthly</td>\n",
       "      <td id=\"T_5fb41_row26_col1\" class=\"data row26 col1\" >0.071958</td>\n",
       "    </tr>\n",
       "    <tr>\n",
       "      <th id=\"T_5fb41_level0_row27\" class=\"row_heading level0 row27\" >0</th>\n",
       "      <td id=\"T_5fb41_row27_col0\" class=\"data row27 col0\" >Month</td>\n",
       "      <td id=\"T_5fb41_row27_col1\" class=\"data row27 col1\" >0.031765</td>\n",
       "    </tr>\n",
       "    <tr>\n",
       "      <th id=\"T_5fb41_level0_row28\" class=\"row_heading level0 row28\" >2</th>\n",
       "      <td id=\"T_5fb41_row28_col0\" class=\"data row28 col0\" >Occupation</td>\n",
       "      <td id=\"T_5fb41_row28_col1\" class=\"data row28 col1\" >0.029219</td>\n",
       "    </tr>\n",
       "    <tr>\n",
       "      <th id=\"T_5fb41_level0_row29\" class=\"row_heading level0 row29\" >15</th>\n",
       "      <td id=\"T_5fb41_row29_col0\" class=\"data row29 col0\" >Credit_Utilization_Ratio</td>\n",
       "      <td id=\"T_5fb41_row29_col1\" class=\"data row29 col1\" >0.020453</td>\n",
       "    </tr>\n",
       "  </tbody>\n",
       "</table>\n"
      ],
      "text/plain": [
       "<pandas.io.formats.style.Styler at 0x19e5f2d5190>"
      ]
     },
     "execution_count": 14,
     "metadata": {},
     "output_type": "execute_result"
    }
   ],
   "source": [
    "univariate_importance = univariate_feature_importance(\n",
    "    df=transformed_df_binned, features=features, target_var=target, method=\"cramerv\"\n",
    ")\n",
    "univariate_importance"
   ]
  },
  {
   "cell_type": "markdown",
   "metadata": {},
   "source": [
    "#### 4.2 Univariate category importance "
   ]
  },
  {
   "cell_type": "markdown",
   "metadata": {},
   "source": [
    "<b> Jensen Shannon Distance"
   ]
  },
  {
   "cell_type": "markdown",
   "metadata": {},
   "source": [
    "We can start by identifying the most discriminative categories of a specific variable."
   ]
  },
  {
   "cell_type": "code",
   "execution_count": 15,
   "metadata": {},
   "outputs": [
    {
     "data": {
      "text/html": [
       "<div>\n",
       "<style scoped>\n",
       "    .dataframe tbody tr th:only-of-type {\n",
       "        vertical-align: middle;\n",
       "    }\n",
       "\n",
       "    .dataframe tbody tr th {\n",
       "        vertical-align: top;\n",
       "    }\n",
       "\n",
       "    .dataframe thead th {\n",
       "        text-align: right;\n",
       "    }\n",
       "</style>\n",
       "<table border=\"1\" class=\"dataframe\">\n",
       "  <thead>\n",
       "    <tr style=\"text-align: right;\">\n",
       "      <th></th>\n",
       "      <th>Category</th>\n",
       "      <th>Jensen-Shannon Distance</th>\n",
       "    </tr>\n",
       "  </thead>\n",
       "  <tbody>\n",
       "    <tr>\n",
       "      <th>0</th>\n",
       "      <td>Bad</td>\n",
       "      <td>0.272284</td>\n",
       "    </tr>\n",
       "    <tr>\n",
       "      <th>1</th>\n",
       "      <td>Good</td>\n",
       "      <td>0.237071</td>\n",
       "    </tr>\n",
       "    <tr>\n",
       "      <th>2</th>\n",
       "      <td>NAN</td>\n",
       "      <td>0.001290</td>\n",
       "    </tr>\n",
       "    <tr>\n",
       "      <th>3</th>\n",
       "      <td>Standard</td>\n",
       "      <td>0.165061</td>\n",
       "    </tr>\n",
       "  </tbody>\n",
       "</table>\n",
       "</div>"
      ],
      "text/plain": [
       "   Category  Jensen-Shannon Distance\n",
       "0       Bad                 0.272284\n",
       "1      Good                 0.237071\n",
       "2       NAN                 0.001290\n",
       "3  Standard                 0.165061"
      ]
     },
     "execution_count": 15,
     "metadata": {},
     "output_type": "execute_result"
    }
   ],
   "source": [
    "calculate_js_distances(\n",
    "    df=transformed_df_binned, feature=\"Credit_Mix\", target_var=target\n",
    ")"
   ]
  },
  {
   "cell_type": "markdown",
   "metadata": {},
   "source": [
    "The larger the Jensen-Shannon distance between the probability distribution of the target and the probability distribution of the target's modalities within each bin, the more significant it is."
   ]
  },
  {
   "cell_type": "markdown",
   "metadata": {},
   "source": [
    "<b> One vs Rest Weight of Evidence"
   ]
  },
  {
   "cell_type": "markdown",
   "metadata": {},
   "source": [
    "We can also use the one-vs-rest WoE, which provides additional information. A positive WoE indicates that the reference category dominates in the respective bin, meaning that the presence of this reference category in an observation increases the likelihood of the reference category. Thus, the absolute value of the WoE measures the same thing as the Jensen-Shannon."
   ]
  },
  {
   "cell_type": "code",
   "execution_count": 16,
   "metadata": {},
   "outputs": [
    {
     "name": "stdout",
     "output_type": "stream",
     "text": [
      "The reference category: Good\n"
     ]
    },
    {
     "data": {
      "text/html": [
       "<div>\n",
       "<style scoped>\n",
       "    .dataframe tbody tr th:only-of-type {\n",
       "        vertical-align: middle;\n",
       "    }\n",
       "\n",
       "    .dataframe tbody tr th {\n",
       "        vertical-align: top;\n",
       "    }\n",
       "\n",
       "    .dataframe thead th {\n",
       "        text-align: right;\n",
       "    }\n",
       "</style>\n",
       "<table border=\"1\" class=\"dataframe\">\n",
       "  <thead>\n",
       "    <tr style=\"text-align: right;\">\n",
       "      <th></th>\n",
       "      <th>Category</th>\n",
       "      <th>WoE</th>\n",
       "      <th>IV</th>\n",
       "    </tr>\n",
       "  </thead>\n",
       "  <tbody>\n",
       "    <tr>\n",
       "      <th>0</th>\n",
       "      <td>NAN</td>\n",
       "      <td>0.007296</td>\n",
       "      <td>0.000011</td>\n",
       "    </tr>\n",
       "    <tr>\n",
       "      <th>1</th>\n",
       "      <td>Good</td>\n",
       "      <td>1.479796</td>\n",
       "      <td>0.761251</td>\n",
       "    </tr>\n",
       "    <tr>\n",
       "      <th>2</th>\n",
       "      <td>Standard</td>\n",
       "      <td>-1.296639</td>\n",
       "      <td>0.394797</td>\n",
       "    </tr>\n",
       "    <tr>\n",
       "      <th>3</th>\n",
       "      <td>Bad</td>\n",
       "      <td>-2.645327</td>\n",
       "      <td>0.559300</td>\n",
       "    </tr>\n",
       "  </tbody>\n",
       "</table>\n",
       "</div>"
      ],
      "text/plain": [
       "   Category       WoE        IV\n",
       "0       NAN  0.007296  0.000011\n",
       "1      Good  1.479796  0.761251\n",
       "2  Standard -1.296639  0.394797\n",
       "3       Bad -2.645327  0.559300"
      ]
     },
     "execution_count": 16,
     "metadata": {},
     "output_type": "execute_result"
    }
   ],
   "source": [
    "one_vs_rest_woe(\n",
    "    df=transformed_df_binned, feature=\"Credit_Mix\", target_var=target, cat_ref=\"Good\"\n",
    ")[0]"
   ]
  },
  {
   "cell_type": "markdown",
   "metadata": {},
   "source": [
    "<b> Information value "
   ]
  },
  {
   "cell_type": "markdown",
   "metadata": {},
   "source": [
    "The Information Value is another metric that we can use to measure the overall importance of a variable."
   ]
  },
  {
   "cell_type": "code",
   "execution_count": 17,
   "metadata": {},
   "outputs": [
    {
     "name": "stdout",
     "output_type": "stream",
     "text": [
      "The reference category: Good\n",
      "The information value of Credit_Mix is:  1.7153579189531283\n"
     ]
    }
   ],
   "source": [
    "print(\n",
    "    f'The information value of {\"Credit_Mix\"} is: ',\n",
    "    one_vs_rest_woe(\n",
    "        df=transformed_df_binned,\n",
    "        feature=\"Credit_Mix\",\n",
    "        target_var=target,\n",
    "        cat_ref=\"Good\",\n",
    "    )[1],\n",
    ")"
   ]
  },
  {
   "cell_type": "markdown",
   "metadata": {},
   "source": [
    "Now, we can compare the relevance of the categories across our entire dataset."
   ]
  },
  {
   "cell_type": "code",
   "execution_count": 18,
   "metadata": {},
   "outputs": [
    {
     "data": {
      "text/html": [
       "<div>\n",
       "<style scoped>\n",
       "    .dataframe tbody tr th:only-of-type {\n",
       "        vertical-align: middle;\n",
       "    }\n",
       "\n",
       "    .dataframe tbody tr th {\n",
       "        vertical-align: top;\n",
       "    }\n",
       "\n",
       "    .dataframe thead th {\n",
       "        text-align: right;\n",
       "    }\n",
       "</style>\n",
       "<table border=\"1\" class=\"dataframe\">\n",
       "  <thead>\n",
       "    <tr style=\"text-align: right;\">\n",
       "      <th></th>\n",
       "      <th>Category</th>\n",
       "      <th>Jensen-Shannon Distance</th>\n",
       "      <th>Variable</th>\n",
       "    </tr>\n",
       "  </thead>\n",
       "  <tbody>\n",
       "    <tr>\n",
       "      <th>1</th>\n",
       "      <td>Special</td>\n",
       "      <td>0.335936</td>\n",
       "      <td>Credit_Utilization_Ratio</td>\n",
       "    </tr>\n",
       "    <tr>\n",
       "      <th>1</th>\n",
       "      <td>Special</td>\n",
       "      <td>0.302687</td>\n",
       "      <td>Delay_from_due_date</td>\n",
       "    </tr>\n",
       "    <tr>\n",
       "      <th>3</th>\n",
       "      <td>[24.50, inf)</td>\n",
       "      <td>0.298013</td>\n",
       "      <td>Interest_Rate</td>\n",
       "    </tr>\n",
       "    <tr>\n",
       "      <th>3</th>\n",
       "      <td>[1500.01, inf)</td>\n",
       "      <td>0.291417</td>\n",
       "      <td>Outstanding_Debt</td>\n",
       "    </tr>\n",
       "    <tr>\n",
       "      <th>4</th>\n",
       "      <td>[7.50, inf)</td>\n",
       "      <td>0.287324</td>\n",
       "      <td>Num_Credit_Card</td>\n",
       "    </tr>\n",
       "    <tr>\n",
       "      <th>3</th>\n",
       "      <td>[8.50, inf)</td>\n",
       "      <td>0.284666</td>\n",
       "      <td>Num_Bank_Accounts</td>\n",
       "    </tr>\n",
       "    <tr>\n",
       "      <th>0</th>\n",
       "      <td>(-inf, 4.50)</td>\n",
       "      <td>0.276277</td>\n",
       "      <td>Delay_from_due_date</td>\n",
       "    </tr>\n",
       "    <tr>\n",
       "      <th>0</th>\n",
       "      <td>Bad</td>\n",
       "      <td>0.272284</td>\n",
       "      <td>Credit_Mix</td>\n",
       "    </tr>\n",
       "    <tr>\n",
       "      <th>3</th>\n",
       "      <td>[30.50, inf)</td>\n",
       "      <td>0.269213</td>\n",
       "      <td>Delay_from_due_date</td>\n",
       "    </tr>\n",
       "    <tr>\n",
       "      <th>5</th>\n",
       "      <td>[20.50, inf)</td>\n",
       "      <td>0.246815</td>\n",
       "      <td>Num_of_Delayed_Payment</td>\n",
       "    </tr>\n",
       "    <tr>\n",
       "      <th>5</th>\n",
       "      <td>[8.50, inf)</td>\n",
       "      <td>0.243328</td>\n",
       "      <td>Num_Credit_Inquiries</td>\n",
       "    </tr>\n",
       "    <tr>\n",
       "      <th>1</th>\n",
       "      <td>Good</td>\n",
       "      <td>0.237071</td>\n",
       "      <td>Credit_Mix</td>\n",
       "    </tr>\n",
       "    <tr>\n",
       "      <th>0</th>\n",
       "      <td>(-inf, 10270.89)</td>\n",
       "      <td>0.232314</td>\n",
       "      <td>Annual_Income</td>\n",
       "    </tr>\n",
       "    <tr>\n",
       "      <th>3</th>\n",
       "      <td>[4.50, inf)</td>\n",
       "      <td>0.229058</td>\n",
       "      <td>Num_of_Loan</td>\n",
       "    </tr>\n",
       "    <tr>\n",
       "      <th>0</th>\n",
       "      <td>(-inf, 13.50)</td>\n",
       "      <td>0.218242</td>\n",
       "      <td>Credit_History_in_Year</td>\n",
       "    </tr>\n",
       "    <tr>\n",
       "      <th>1</th>\n",
       "      <td>Special</td>\n",
       "      <td>0.212440</td>\n",
       "      <td>Outstanding_Debt</td>\n",
       "    </tr>\n",
       "    <tr>\n",
       "      <th>0</th>\n",
       "      <td>(-inf, 7.50)</td>\n",
       "      <td>0.211431</td>\n",
       "      <td>Num_of_Delayed_Payment</td>\n",
       "    </tr>\n",
       "    <tr>\n",
       "      <th>2</th>\n",
       "      <td>Special</td>\n",
       "      <td>0.209106</td>\n",
       "      <td>Monthly_Inhand_Salary</td>\n",
       "    </tr>\n",
       "    <tr>\n",
       "      <th>0</th>\n",
       "      <td>(-inf, 3.50)</td>\n",
       "      <td>0.197696</td>\n",
       "      <td>Num_Credit_Card</td>\n",
       "    </tr>\n",
       "    <tr>\n",
       "      <th>0</th>\n",
       "      <td>(-inf, 889.56)</td>\n",
       "      <td>0.187650</td>\n",
       "      <td>Monthly_Inhand_Salary</td>\n",
       "    </tr>\n",
       "    <tr>\n",
       "      <th>1</th>\n",
       "      <td>No</td>\n",
       "      <td>0.185673</td>\n",
       "      <td>Payment_of_Min_Amount</td>\n",
       "    </tr>\n",
       "    <tr>\n",
       "      <th>2</th>\n",
       "      <td>Special</td>\n",
       "      <td>0.178293</td>\n",
       "      <td>Changed_Credit_Limit</td>\n",
       "    </tr>\n",
       "    <tr>\n",
       "      <th>2</th>\n",
       "      <td>[49.50, inf)</td>\n",
       "      <td>0.176356</td>\n",
       "      <td>Age</td>\n",
       "    </tr>\n",
       "    <tr>\n",
       "      <th>2</th>\n",
       "      <td>[15.50, 24.50)</td>\n",
       "      <td>0.173137</td>\n",
       "      <td>Interest_Rate</td>\n",
       "    </tr>\n",
       "    <tr>\n",
       "      <th>2</th>\n",
       "      <td>Yes</td>\n",
       "      <td>0.172792</td>\n",
       "      <td>Payment_of_Min_Amount</td>\n",
       "    </tr>\n",
       "    <tr>\n",
       "      <th>0</th>\n",
       "      <td>(-inf, 1248.06)</td>\n",
       "      <td>0.170508</td>\n",
       "      <td>Outstanding_Debt</td>\n",
       "    </tr>\n",
       "    <tr>\n",
       "      <th>0</th>\n",
       "      <td>(-inf, 4.50)</td>\n",
       "      <td>0.166795</td>\n",
       "      <td>Num_Credit_Inquiries</td>\n",
       "    </tr>\n",
       "    <tr>\n",
       "      <th>5</th>\n",
       "      <td>[83709.80, 113015.18)</td>\n",
       "      <td>0.165477</td>\n",
       "      <td>Annual_Income</td>\n",
       "    </tr>\n",
       "    <tr>\n",
       "      <th>3</th>\n",
       "      <td>Standard</td>\n",
       "      <td>0.165061</td>\n",
       "      <td>Credit_Mix</td>\n",
       "    </tr>\n",
       "    <tr>\n",
       "      <th>0</th>\n",
       "      <td>(-inf, 1.50)</td>\n",
       "      <td>0.164962</td>\n",
       "      <td>Num_of_Loan</td>\n",
       "    </tr>\n",
       "  </tbody>\n",
       "</table>\n",
       "</div>"
      ],
      "text/plain": [
       "                Category  Jensen-Shannon Distance                  Variable\n",
       "1                Special                 0.335936  Credit_Utilization_Ratio\n",
       "1                Special                 0.302687       Delay_from_due_date\n",
       "3           [24.50, inf)                 0.298013             Interest_Rate\n",
       "3         [1500.01, inf)                 0.291417          Outstanding_Debt\n",
       "4            [7.50, inf)                 0.287324           Num_Credit_Card\n",
       "3            [8.50, inf)                 0.284666         Num_Bank_Accounts\n",
       "0           (-inf, 4.50)                 0.276277       Delay_from_due_date\n",
       "0                    Bad                 0.272284                Credit_Mix\n",
       "3           [30.50, inf)                 0.269213       Delay_from_due_date\n",
       "5           [20.50, inf)                 0.246815    Num_of_Delayed_Payment\n",
       "5            [8.50, inf)                 0.243328      Num_Credit_Inquiries\n",
       "1                   Good                 0.237071                Credit_Mix\n",
       "0       (-inf, 10270.89)                 0.232314             Annual_Income\n",
       "3            [4.50, inf)                 0.229058               Num_of_Loan\n",
       "0          (-inf, 13.50)                 0.218242    Credit_History_in_Year\n",
       "1                Special                 0.212440          Outstanding_Debt\n",
       "0           (-inf, 7.50)                 0.211431    Num_of_Delayed_Payment\n",
       "2                Special                 0.209106     Monthly_Inhand_Salary\n",
       "0           (-inf, 3.50)                 0.197696           Num_Credit_Card\n",
       "0         (-inf, 889.56)                 0.187650     Monthly_Inhand_Salary\n",
       "1                     No                 0.185673     Payment_of_Min_Amount\n",
       "2                Special                 0.178293      Changed_Credit_Limit\n",
       "2           [49.50, inf)                 0.176356                       Age\n",
       "2         [15.50, 24.50)                 0.173137             Interest_Rate\n",
       "2                    Yes                 0.172792     Payment_of_Min_Amount\n",
       "0        (-inf, 1248.06)                 0.170508          Outstanding_Debt\n",
       "0           (-inf, 4.50)                 0.166795      Num_Credit_Inquiries\n",
       "5  [83709.80, 113015.18)                 0.165477             Annual_Income\n",
       "3               Standard                 0.165061                Credit_Mix\n",
       "0           (-inf, 1.50)                 0.164962               Num_of_Loan"
      ]
     },
     "execution_count": 18,
     "metadata": {},
     "output_type": "execute_result"
    }
   ],
   "source": [
    "univariate_category_importance(\n",
    "    df=transformed_df_binned, categorical_vars=features, target_var=target\n",
    ")[0:30]"
   ]
  },
  {
   "cell_type": "markdown",
   "metadata": {},
   "source": [
    "#### 4.3 Visualisation "
   ]
  },
  {
   "cell_type": "markdown",
   "metadata": {},
   "source": [
    "We can summarize the most important measures and statistical metrics of a variable in a table as shown below."
   ]
  },
  {
   "cell_type": "code",
   "execution_count": 19,
   "metadata": {},
   "outputs": [
    {
     "name": "stdout",
     "output_type": "stream",
     "text": [
      "The reference category: Good\n"
     ]
    },
    {
     "data": {
      "text/html": [
       "<div>\n",
       "<style scoped>\n",
       "    .dataframe tbody tr th:only-of-type {\n",
       "        vertical-align: middle;\n",
       "    }\n",
       "\n",
       "    .dataframe tbody tr th {\n",
       "        vertical-align: top;\n",
       "    }\n",
       "\n",
       "    .dataframe thead th {\n",
       "        text-align: right;\n",
       "    }\n",
       "</style>\n",
       "<table border=\"1\" class=\"dataframe\">\n",
       "  <thead>\n",
       "    <tr style=\"text-align: right;\">\n",
       "      <th></th>\n",
       "      <th>Outstanding_Debt</th>\n",
       "      <th>count</th>\n",
       "      <th>count_Good</th>\n",
       "      <th>count_Poor</th>\n",
       "      <th>count_Standard</th>\n",
       "      <th>total_percent</th>\n",
       "      <th>percent_Good</th>\n",
       "      <th>percent_Poor</th>\n",
       "      <th>percent_Standard</th>\n",
       "      <th>Jensen-Shannon Distance</th>\n",
       "      <th>WoE</th>\n",
       "      <th>IV</th>\n",
       "    </tr>\n",
       "  </thead>\n",
       "  <tbody>\n",
       "    <tr>\n",
       "      <th>0</th>\n",
       "      <td>(-inf, 1248.06)</td>\n",
       "      <td>53688</td>\n",
       "      <td>14543</td>\n",
       "      <td>5654</td>\n",
       "      <td>33491</td>\n",
       "      <td>53.688</td>\n",
       "      <td>27.087990</td>\n",
       "      <td>10.531217</td>\n",
       "      <td>62.380793</td>\n",
       "      <td>0.170508</td>\n",
       "      <td>0.537881</td>\n",
       "      <td>0.182536</td>\n",
       "    </tr>\n",
       "    <tr>\n",
       "      <th>2</th>\n",
       "      <td>[1248.06, 1500.01)</td>\n",
       "      <td>14600</td>\n",
       "      <td>2813</td>\n",
       "      <td>4016</td>\n",
       "      <td>7771</td>\n",
       "      <td>14.600</td>\n",
       "      <td>19.267123</td>\n",
       "      <td>27.506849</td>\n",
       "      <td>53.226027</td>\n",
       "      <td>0.015429</td>\n",
       "      <td>0.095299</td>\n",
       "      <td>0.001367</td>\n",
       "    </tr>\n",
       "    <tr>\n",
       "      <th>1</th>\n",
       "      <td>[1500.01, inf)</td>\n",
       "      <td>26440</td>\n",
       "      <td>348</td>\n",
       "      <td>16824</td>\n",
       "      <td>9268</td>\n",
       "      <td>26.440</td>\n",
       "      <td>1.316188</td>\n",
       "      <td>63.630862</td>\n",
       "      <td>35.052950</td>\n",
       "      <td>0.291417</td>\n",
       "      <td>-2.789137</td>\n",
       "      <td>0.831189</td>\n",
       "    </tr>\n",
       "    <tr>\n",
       "      <th>3</th>\n",
       "      <td>Special</td>\n",
       "      <td>5272</td>\n",
       "      <td>124</td>\n",
       "      <td>2504</td>\n",
       "      <td>2644</td>\n",
       "      <td>5.272</td>\n",
       "      <td>2.352049</td>\n",
       "      <td>47.496206</td>\n",
       "      <td>50.151745</td>\n",
       "      <td>0.212440</td>\n",
       "      <td>-2.198038</td>\n",
       "      <td>0.122417</td>\n",
       "    </tr>\n",
       "  </tbody>\n",
       "</table>\n",
       "</div>"
      ],
      "text/plain": [
       "     Outstanding_Debt  count  count_Good  count_Poor  count_Standard  \\\n",
       "0     (-inf, 1248.06)  53688       14543        5654           33491   \n",
       "2  [1248.06, 1500.01)  14600        2813        4016            7771   \n",
       "1      [1500.01, inf)  26440         348       16824            9268   \n",
       "3             Special   5272         124        2504            2644   \n",
       "\n",
       "   total_percent  percent_Good  percent_Poor  percent_Standard  \\\n",
       "0         53.688     27.087990     10.531217         62.380793   \n",
       "2         14.600     19.267123     27.506849         53.226027   \n",
       "1         26.440      1.316188     63.630862         35.052950   \n",
       "3          5.272      2.352049     47.496206         50.151745   \n",
       "\n",
       "   Jensen-Shannon Distance       WoE        IV  \n",
       "0                 0.170508  0.537881  0.182536  \n",
       "2                 0.015429  0.095299  0.001367  \n",
       "1                 0.291417 -2.789137  0.831189  \n",
       "3                 0.212440 -2.198038  0.122417  "
      ]
     },
     "execution_count": 19,
     "metadata": {},
     "output_type": "execute_result"
    }
   ],
   "source": [
    "df_bins_stats = bins_stats(\n",
    "    df=transformed_df_binned,\n",
    "    feature=\"Outstanding_Debt\",\n",
    "    target_var=target,\n",
    "    cat_ref=\"Good\",\n",
    ")\n",
    "df_bins_stats"
   ]
  },
  {
   "cell_type": "markdown",
   "metadata": {},
   "source": [
    "We can also visualize them using a bar plot."
   ]
  },
  {
   "cell_type": "code",
   "execution_count": 20,
   "metadata": {},
   "outputs": [
    {
     "name": "stdout",
     "output_type": "stream",
     "text": [
      "The reference category: Good\n",
      "The reference category: Good\n"
     ]
    },
    {
     "data": {
      "application/vnd.plotly.v1+json": {
       "config": {
        "plotlyServerURL": "https://plot.ly"
       },
       "data": [
        {
         "customdata": [
          50.61053167133045,
          28.874592697802658,
          8.528405570670474,
          1.7741294849728584,
          1.1744127936031985
         ],
         "hoverinfo": "all",
         "hovertemplate": [
          "<b>count_Good: 3979<br>Percentage: 50.61%<br>WoE: 1.55<br>JS Distance: 0.28",
          "<b>count_Good: 10368<br>Percentage: 28.87%<br>WoE: 0.63<br>JS Distance: 0.13",
          "<b>count_Good: 3166<br>Percentage: 8.53%<br>WoE: -0.84<br>JS Distance: 0.10",
          "<b>count_Good: 268<br>Percentage: 1.77%<br>WoE: -2.49<br>JS Distance: 0.27",
          "<b>count_Good: 47<br>Percentage: 1.17%<br>WoE: -2.90<br>JS Distance: 0.30"
         ],
         "marker": {
          "color": "#82E0AA"
         },
         "name": "Good",
         "text": [
          "<b>count_Good: 3979<br>Percentage: 50.61%<br>",
          "<b>count_Good: 10368<br>Percentage: 28.87%<br>",
          "<b>count_Good: 3166<br>Percentage: 8.53%<br>",
          "<b>count_Good: 268<br>Percentage: 1.77%<br>",
          "<b>count_Good: 47<br>Percentage: 1.17%<br>"
         ],
         "type": "bar",
         "x": [
          "(-inf, 4.50)",
          "[4.50, 15.50)",
          "[15.50, 30.50)",
          "[30.50, inf)",
          "Special"
         ],
         "xaxis": "x",
         "y": [
          3979,
          10368,
          3166,
          268,
          47
         ],
         "yaxis": "y"
        },
        {
         "line": {
          "color": "#82E0AA",
          "width": 3
         },
         "marker": {
          "color": "#82E0AA",
          "size": 8
         },
         "mode": "lines+markers",
         "name": "Percent Good",
         "type": "scatter",
         "x": [
          "(-inf, 4.50)",
          "[4.50, 15.50)",
          "[15.50, 30.50)",
          "[30.50, inf)",
          "Special"
         ],
         "xaxis": "x",
         "y": [
          50.61053167133045,
          28.874592697802658,
          8.528405570670474,
          1.7741294849728584,
          1.1744127936031985
         ],
         "yaxis": "y2"
        },
        {
         "customdata": [
          7.975069956754006,
          15.04720528030746,
          30.28850039059343,
          60.24758374155964,
          65.54222888555722
         ],
         "hoverinfo": "all",
         "hovertemplate": [
          "<b>count_Poor: 627<br>Percentage: 7.98%<br>WoE: 1.55<br>JS Distance: 0.28",
          "<b>count_Poor: 5403<br>Percentage: 15.05%<br>WoE: 0.63<br>JS Distance: 0.13",
          "<b>count_Poor: 11244<br>Percentage: 30.29%<br>WoE: -0.84<br>JS Distance: 0.10",
          "<b>count_Poor: 9101<br>Percentage: 60.25%<br>WoE: -2.49<br>JS Distance: 0.27",
          "<b>count_Poor: 2623<br>Percentage: 65.54%<br>WoE: -2.90<br>JS Distance: 0.30"
         ],
         "marker": {
          "color": "#EC7063"
         },
         "name": "Poor",
         "text": [
          "<b>count_Poor: 627<br>Percentage: 7.98%<br>",
          "<b>count_Poor: 5403<br>Percentage: 15.05%<br>",
          "<b>count_Poor: 11244<br>Percentage: 30.29%<br>",
          "<b>count_Poor: 9101<br>Percentage: 60.25%<br>",
          "<b>count_Poor: 2623<br>Percentage: 65.54%<br>"
         ],
         "type": "bar",
         "x": [
          "(-inf, 4.50)",
          "[4.50, 15.50)",
          "[15.50, 30.50)",
          "[30.50, inf)",
          "Special"
         ],
         "xaxis": "x",
         "y": [
          627,
          5403,
          11244,
          9101,
          2623
         ],
         "yaxis": "y"
        },
        {
         "line": {
          "color": "#EC7063",
          "width": 3
         },
         "marker": {
          "color": "#EC7063",
          "size": 8
         },
         "mode": "lines+markers",
         "name": "Percent Poor",
         "type": "scatter",
         "x": [
          "(-inf, 4.50)",
          "[4.50, 15.50)",
          "[15.50, 30.50)",
          "[30.50, inf)",
          "Special"
         ],
         "xaxis": "x",
         "y": [
          7.975069956754006,
          15.04720528030746,
          30.28850039059343,
          60.24758374155964,
          65.54222888555722
         ],
         "yaxis": "y2"
        },
        {
         "customdata": [
          41.414398371915546,
          56.07820202188988,
          61.183094038736094,
          37.978286773467495,
          33.28335832083958
         ],
         "hoverinfo": "all",
         "hovertemplate": [
          "<b>count_Standard: 3256<br>Percentage: 41.41%<br>WoE: 1.55<br>JS Distance: 0.28",
          "<b>count_Standard: 20136<br>Percentage: 56.08%<br>WoE: 0.63<br>JS Distance: 0.13",
          "<b>count_Standard: 22713<br>Percentage: 61.18%<br>WoE: -0.84<br>JS Distance: 0.10",
          "<b>count_Standard: 5737<br>Percentage: 37.98%<br>WoE: -2.49<br>JS Distance: 0.27",
          "<b>count_Standard: 1332<br>Percentage: 33.28%<br>WoE: -2.90<br>JS Distance: 0.30"
         ],
         "marker": {
          "color": "#5DADE2"
         },
         "name": "Standard",
         "text": [
          "<b>count_Standard: 3256<br>Percentage: 41.41%<br>",
          "<b>count_Standard: 20136<br>Percentage: 56.08%<br>",
          "<b>count_Standard: 22713<br>Percentage: 61.18%<br>",
          "<b>count_Standard: 5737<br>Percentage: 37.98%<br>",
          "<b>count_Standard: 1332<br>Percentage: 33.28%<br>"
         ],
         "type": "bar",
         "x": [
          "(-inf, 4.50)",
          "[4.50, 15.50)",
          "[15.50, 30.50)",
          "[30.50, inf)",
          "Special"
         ],
         "xaxis": "x",
         "y": [
          3256,
          20136,
          22713,
          5737,
          1332
         ],
         "yaxis": "y"
        },
        {
         "line": {
          "color": "#5DADE2",
          "width": 3
         },
         "marker": {
          "color": "#5DADE2",
          "size": 8
         },
         "mode": "lines+markers",
         "name": "Percent Standard",
         "type": "scatter",
         "x": [
          "(-inf, 4.50)",
          "[4.50, 15.50)",
          "[15.50, 30.50)",
          "[30.50, inf)",
          "Special"
         ],
         "xaxis": "x",
         "y": [
          41.414398371915546,
          56.07820202188988,
          61.183094038736094,
          37.978286773467495,
          33.28335832083958
         ],
         "yaxis": "y2"
        }
       ],
       "layout": {
        "annotations": [
         {
          "align": "right",
          "bordercolor": "black",
          "borderwidth": 1,
          "font": {
           "color": "black",
           "size": 12
          },
          "showarrow": false,
          "text": "<b>Cramer's V: 0.347, Information Value: 1.185",
          "x": 1,
          "xref": "paper",
          "y": 1.05,
          "yref": "paper"
         }
        ],
        "barmode": "stack",
        "hovermode": "x",
        "legend": {
         "title": {
          "text": "Target Modalities"
         }
        },
        "template": {
         "data": {
          "bar": [
           {
            "error_x": {
             "color": "#2a3f5f"
            },
            "error_y": {
             "color": "#2a3f5f"
            },
            "marker": {
             "line": {
              "color": "white",
              "width": 0.5
             },
             "pattern": {
              "fillmode": "overlay",
              "size": 10,
              "solidity": 0.2
             }
            },
            "type": "bar"
           }
          ],
          "barpolar": [
           {
            "marker": {
             "line": {
              "color": "white",
              "width": 0.5
             },
             "pattern": {
              "fillmode": "overlay",
              "size": 10,
              "solidity": 0.2
             }
            },
            "type": "barpolar"
           }
          ],
          "carpet": [
           {
            "aaxis": {
             "endlinecolor": "#2a3f5f",
             "gridcolor": "#C8D4E3",
             "linecolor": "#C8D4E3",
             "minorgridcolor": "#C8D4E3",
             "startlinecolor": "#2a3f5f"
            },
            "baxis": {
             "endlinecolor": "#2a3f5f",
             "gridcolor": "#C8D4E3",
             "linecolor": "#C8D4E3",
             "minorgridcolor": "#C8D4E3",
             "startlinecolor": "#2a3f5f"
            },
            "type": "carpet"
           }
          ],
          "choropleth": [
           {
            "colorbar": {
             "outlinewidth": 0,
             "ticks": ""
            },
            "type": "choropleth"
           }
          ],
          "contour": [
           {
            "colorbar": {
             "outlinewidth": 0,
             "ticks": ""
            },
            "colorscale": [
             [
              0,
              "#0d0887"
             ],
             [
              0.1111111111111111,
              "#46039f"
             ],
             [
              0.2222222222222222,
              "#7201a8"
             ],
             [
              0.3333333333333333,
              "#9c179e"
             ],
             [
              0.4444444444444444,
              "#bd3786"
             ],
             [
              0.5555555555555556,
              "#d8576b"
             ],
             [
              0.6666666666666666,
              "#ed7953"
             ],
             [
              0.7777777777777778,
              "#fb9f3a"
             ],
             [
              0.8888888888888888,
              "#fdca26"
             ],
             [
              1,
              "#f0f921"
             ]
            ],
            "type": "contour"
           }
          ],
          "contourcarpet": [
           {
            "colorbar": {
             "outlinewidth": 0,
             "ticks": ""
            },
            "type": "contourcarpet"
           }
          ],
          "heatmap": [
           {
            "colorbar": {
             "outlinewidth": 0,
             "ticks": ""
            },
            "colorscale": [
             [
              0,
              "#0d0887"
             ],
             [
              0.1111111111111111,
              "#46039f"
             ],
             [
              0.2222222222222222,
              "#7201a8"
             ],
             [
              0.3333333333333333,
              "#9c179e"
             ],
             [
              0.4444444444444444,
              "#bd3786"
             ],
             [
              0.5555555555555556,
              "#d8576b"
             ],
             [
              0.6666666666666666,
              "#ed7953"
             ],
             [
              0.7777777777777778,
              "#fb9f3a"
             ],
             [
              0.8888888888888888,
              "#fdca26"
             ],
             [
              1,
              "#f0f921"
             ]
            ],
            "type": "heatmap"
           }
          ],
          "heatmapgl": [
           {
            "colorbar": {
             "outlinewidth": 0,
             "ticks": ""
            },
            "colorscale": [
             [
              0,
              "#0d0887"
             ],
             [
              0.1111111111111111,
              "#46039f"
             ],
             [
              0.2222222222222222,
              "#7201a8"
             ],
             [
              0.3333333333333333,
              "#9c179e"
             ],
             [
              0.4444444444444444,
              "#bd3786"
             ],
             [
              0.5555555555555556,
              "#d8576b"
             ],
             [
              0.6666666666666666,
              "#ed7953"
             ],
             [
              0.7777777777777778,
              "#fb9f3a"
             ],
             [
              0.8888888888888888,
              "#fdca26"
             ],
             [
              1,
              "#f0f921"
             ]
            ],
            "type": "heatmapgl"
           }
          ],
          "histogram": [
           {
            "marker": {
             "pattern": {
              "fillmode": "overlay",
              "size": 10,
              "solidity": 0.2
             }
            },
            "type": "histogram"
           }
          ],
          "histogram2d": [
           {
            "colorbar": {
             "outlinewidth": 0,
             "ticks": ""
            },
            "colorscale": [
             [
              0,
              "#0d0887"
             ],
             [
              0.1111111111111111,
              "#46039f"
             ],
             [
              0.2222222222222222,
              "#7201a8"
             ],
             [
              0.3333333333333333,
              "#9c179e"
             ],
             [
              0.4444444444444444,
              "#bd3786"
             ],
             [
              0.5555555555555556,
              "#d8576b"
             ],
             [
              0.6666666666666666,
              "#ed7953"
             ],
             [
              0.7777777777777778,
              "#fb9f3a"
             ],
             [
              0.8888888888888888,
              "#fdca26"
             ],
             [
              1,
              "#f0f921"
             ]
            ],
            "type": "histogram2d"
           }
          ],
          "histogram2dcontour": [
           {
            "colorbar": {
             "outlinewidth": 0,
             "ticks": ""
            },
            "colorscale": [
             [
              0,
              "#0d0887"
             ],
             [
              0.1111111111111111,
              "#46039f"
             ],
             [
              0.2222222222222222,
              "#7201a8"
             ],
             [
              0.3333333333333333,
              "#9c179e"
             ],
             [
              0.4444444444444444,
              "#bd3786"
             ],
             [
              0.5555555555555556,
              "#d8576b"
             ],
             [
              0.6666666666666666,
              "#ed7953"
             ],
             [
              0.7777777777777778,
              "#fb9f3a"
             ],
             [
              0.8888888888888888,
              "#fdca26"
             ],
             [
              1,
              "#f0f921"
             ]
            ],
            "type": "histogram2dcontour"
           }
          ],
          "mesh3d": [
           {
            "colorbar": {
             "outlinewidth": 0,
             "ticks": ""
            },
            "type": "mesh3d"
           }
          ],
          "parcoords": [
           {
            "line": {
             "colorbar": {
              "outlinewidth": 0,
              "ticks": ""
             }
            },
            "type": "parcoords"
           }
          ],
          "pie": [
           {
            "automargin": true,
            "type": "pie"
           }
          ],
          "scatter": [
           {
            "fillpattern": {
             "fillmode": "overlay",
             "size": 10,
             "solidity": 0.2
            },
            "type": "scatter"
           }
          ],
          "scatter3d": [
           {
            "line": {
             "colorbar": {
              "outlinewidth": 0,
              "ticks": ""
             }
            },
            "marker": {
             "colorbar": {
              "outlinewidth": 0,
              "ticks": ""
             }
            },
            "type": "scatter3d"
           }
          ],
          "scattercarpet": [
           {
            "marker": {
             "colorbar": {
              "outlinewidth": 0,
              "ticks": ""
             }
            },
            "type": "scattercarpet"
           }
          ],
          "scattergeo": [
           {
            "marker": {
             "colorbar": {
              "outlinewidth": 0,
              "ticks": ""
             }
            },
            "type": "scattergeo"
           }
          ],
          "scattergl": [
           {
            "marker": {
             "colorbar": {
              "outlinewidth": 0,
              "ticks": ""
             }
            },
            "type": "scattergl"
           }
          ],
          "scattermapbox": [
           {
            "marker": {
             "colorbar": {
              "outlinewidth": 0,
              "ticks": ""
             }
            },
            "type": "scattermapbox"
           }
          ],
          "scatterpolar": [
           {
            "marker": {
             "colorbar": {
              "outlinewidth": 0,
              "ticks": ""
             }
            },
            "type": "scatterpolar"
           }
          ],
          "scatterpolargl": [
           {
            "marker": {
             "colorbar": {
              "outlinewidth": 0,
              "ticks": ""
             }
            },
            "type": "scatterpolargl"
           }
          ],
          "scatterternary": [
           {
            "marker": {
             "colorbar": {
              "outlinewidth": 0,
              "ticks": ""
             }
            },
            "type": "scatterternary"
           }
          ],
          "surface": [
           {
            "colorbar": {
             "outlinewidth": 0,
             "ticks": ""
            },
            "colorscale": [
             [
              0,
              "#0d0887"
             ],
             [
              0.1111111111111111,
              "#46039f"
             ],
             [
              0.2222222222222222,
              "#7201a8"
             ],
             [
              0.3333333333333333,
              "#9c179e"
             ],
             [
              0.4444444444444444,
              "#bd3786"
             ],
             [
              0.5555555555555556,
              "#d8576b"
             ],
             [
              0.6666666666666666,
              "#ed7953"
             ],
             [
              0.7777777777777778,
              "#fb9f3a"
             ],
             [
              0.8888888888888888,
              "#fdca26"
             ],
             [
              1,
              "#f0f921"
             ]
            ],
            "type": "surface"
           }
          ],
          "table": [
           {
            "cells": {
             "fill": {
              "color": "#EBF0F8"
             },
             "line": {
              "color": "white"
             }
            },
            "header": {
             "fill": {
              "color": "#C8D4E3"
             },
             "line": {
              "color": "white"
             }
            },
            "type": "table"
           }
          ]
         },
         "layout": {
          "annotationdefaults": {
           "arrowcolor": "#2a3f5f",
           "arrowhead": 0,
           "arrowwidth": 1
          },
          "autotypenumbers": "strict",
          "coloraxis": {
           "colorbar": {
            "outlinewidth": 0,
            "ticks": ""
           }
          },
          "colorscale": {
           "diverging": [
            [
             0,
             "#8e0152"
            ],
            [
             0.1,
             "#c51b7d"
            ],
            [
             0.2,
             "#de77ae"
            ],
            [
             0.3,
             "#f1b6da"
            ],
            [
             0.4,
             "#fde0ef"
            ],
            [
             0.5,
             "#f7f7f7"
            ],
            [
             0.6,
             "#e6f5d0"
            ],
            [
             0.7,
             "#b8e186"
            ],
            [
             0.8,
             "#7fbc41"
            ],
            [
             0.9,
             "#4d9221"
            ],
            [
             1,
             "#276419"
            ]
           ],
           "sequential": [
            [
             0,
             "#0d0887"
            ],
            [
             0.1111111111111111,
             "#46039f"
            ],
            [
             0.2222222222222222,
             "#7201a8"
            ],
            [
             0.3333333333333333,
             "#9c179e"
            ],
            [
             0.4444444444444444,
             "#bd3786"
            ],
            [
             0.5555555555555556,
             "#d8576b"
            ],
            [
             0.6666666666666666,
             "#ed7953"
            ],
            [
             0.7777777777777778,
             "#fb9f3a"
            ],
            [
             0.8888888888888888,
             "#fdca26"
            ],
            [
             1,
             "#f0f921"
            ]
           ],
           "sequentialminus": [
            [
             0,
             "#0d0887"
            ],
            [
             0.1111111111111111,
             "#46039f"
            ],
            [
             0.2222222222222222,
             "#7201a8"
            ],
            [
             0.3333333333333333,
             "#9c179e"
            ],
            [
             0.4444444444444444,
             "#bd3786"
            ],
            [
             0.5555555555555556,
             "#d8576b"
            ],
            [
             0.6666666666666666,
             "#ed7953"
            ],
            [
             0.7777777777777778,
             "#fb9f3a"
            ],
            [
             0.8888888888888888,
             "#fdca26"
            ],
            [
             1,
             "#f0f921"
            ]
           ]
          },
          "colorway": [
           "#636efa",
           "#EF553B",
           "#00cc96",
           "#ab63fa",
           "#FFA15A",
           "#19d3f3",
           "#FF6692",
           "#B6E880",
           "#FF97FF",
           "#FECB52"
          ],
          "font": {
           "color": "#2a3f5f"
          },
          "geo": {
           "bgcolor": "white",
           "lakecolor": "white",
           "landcolor": "white",
           "showlakes": true,
           "showland": true,
           "subunitcolor": "#C8D4E3"
          },
          "hoverlabel": {
           "align": "left"
          },
          "hovermode": "closest",
          "mapbox": {
           "style": "light"
          },
          "paper_bgcolor": "white",
          "plot_bgcolor": "white",
          "polar": {
           "angularaxis": {
            "gridcolor": "#EBF0F8",
            "linecolor": "#EBF0F8",
            "ticks": ""
           },
           "bgcolor": "white",
           "radialaxis": {
            "gridcolor": "#EBF0F8",
            "linecolor": "#EBF0F8",
            "ticks": ""
           }
          },
          "scene": {
           "xaxis": {
            "backgroundcolor": "white",
            "gridcolor": "#DFE8F3",
            "gridwidth": 2,
            "linecolor": "#EBF0F8",
            "showbackground": true,
            "ticks": "",
            "zerolinecolor": "#EBF0F8"
           },
           "yaxis": {
            "backgroundcolor": "white",
            "gridcolor": "#DFE8F3",
            "gridwidth": 2,
            "linecolor": "#EBF0F8",
            "showbackground": true,
            "ticks": "",
            "zerolinecolor": "#EBF0F8"
           },
           "zaxis": {
            "backgroundcolor": "white",
            "gridcolor": "#DFE8F3",
            "gridwidth": 2,
            "linecolor": "#EBF0F8",
            "showbackground": true,
            "ticks": "",
            "zerolinecolor": "#EBF0F8"
           }
          },
          "shapedefaults": {
           "line": {
            "color": "#2a3f5f"
           }
          },
          "ternary": {
           "aaxis": {
            "gridcolor": "#DFE8F3",
            "linecolor": "#A2B1C6",
            "ticks": ""
           },
           "baxis": {
            "gridcolor": "#DFE8F3",
            "linecolor": "#A2B1C6",
            "ticks": ""
           },
           "bgcolor": "white",
           "caxis": {
            "gridcolor": "#DFE8F3",
            "linecolor": "#A2B1C6",
            "ticks": ""
           }
          },
          "title": {
           "x": 0.05
          },
          "xaxis": {
           "automargin": true,
           "gridcolor": "#EBF0F8",
           "linecolor": "#EBF0F8",
           "ticks": "",
           "title": {
            "standoff": 15
           },
           "zerolinecolor": "#EBF0F8",
           "zerolinewidth": 2
          },
          "yaxis": {
           "automargin": true,
           "gridcolor": "#EBF0F8",
           "linecolor": "#EBF0F8",
           "ticks": "",
           "title": {
            "standoff": 15
           },
           "zerolinecolor": "#EBF0F8",
           "zerolinewidth": 2
          }
         }
        },
        "title": {
         "font": {
          "color": "black",
          "family": "Arial, sans-serif",
          "size": 20
         },
         "text": "<b>Distribution of 'Delay_from_due_date'</b>",
         "x": 0.5,
         "xanchor": "center",
         "y": 0.9,
         "yanchor": "top"
        },
        "xaxis": {
         "anchor": "y",
         "domain": [
          0,
          0.94
         ],
         "title": {
          "text": "Delay_from_due_date"
         }
        },
        "yaxis": {
         "anchor": "x",
         "domain": [
          0,
          1
         ],
         "title": {
          "text": "Count"
         }
        },
        "yaxis2": {
         "anchor": "x",
         "overlaying": "y",
         "side": "right",
         "title": {
          "text": "Percentage"
         }
        }
       }
      }
     },
     "metadata": {},
     "output_type": "display_data"
    }
   ],
   "source": [
    "fig = generate_bar_plot(\n",
    "    df=transformed_df_binned,\n",
    "    feature=\"Delay_from_due_date\",\n",
    "    target_var=target,\n",
    "    cat_ref=\"Good\",\n",
    ")\n",
    "fig.show()"
   ]
  },
  {
   "cell_type": "code",
   "execution_count": 21,
   "metadata": {},
   "outputs": [
    {
     "name": "stdout",
     "output_type": "stream",
     "text": [
      "The reference category: Good\n",
      "The reference category: Good\n"
     ]
    },
    {
     "data": {
      "application/vnd.plotly.v1+json": {
       "config": {
        "plotlyServerURL": "https://plot.ly"
       },
       "data": [
        {
         "customdata": [
          30.167823956920458,
          6.636606286765659,
          1.2804935040658005,
          17.338403041825096
         ],
         "hoverinfo": "all",
         "hovertemplate": [
          "<b>count_Good: 14902<br>Percentage: 30.17%<br>WoE: 0.69<br>JS Distance: 0.13",
          "<b>count_Good: 2561<br>Percentage: 6.64%<br>WoE: -1.12<br>JS Distance: 0.13",
          "<b>count_Good: 137<br>Percentage: 1.28%<br>WoE: -2.82<br>JS Distance: 0.28",
          "<b>count_Good: 228<br>Percentage: 17.34%<br>WoE: -0.03<br>JS Distance: 0.01"
         ],
         "marker": {
          "color": "#82E0AA"
         },
         "name": "Good",
         "text": [
          "<b>count_Good: 14902<br>Percentage: 30.17%<br>",
          "<b>count_Good: 2561<br>Percentage: 6.64%<br>",
          "<b>count_Good: 137<br>Percentage: 1.28%<br>",
          "<b>count_Good: 228<br>Percentage: 17.34%<br>"
         ],
         "type": "bar",
         "x": [
          "(-inf, 5.50)",
          "[5.50, 8.50)",
          "[8.50, inf)",
          "Special"
         ],
         "xaxis": "x",
         "y": [
          14902,
          2561,
          137,
          228
         ],
         "yaxis": "y"
        },
        {
         "line": {
          "color": "#82E0AA",
          "width": 3
         },
         "marker": {
          "color": "#82E0AA",
          "size": 8
         },
         "mode": "lines+markers",
         "name": "Percent Good",
         "type": "scatter",
         "x": [
          "(-inf, 5.50)",
          "[5.50, 8.50)",
          "[8.50, inf)",
          "Special"
         ],
         "xaxis": "x",
         "y": [
          30.167823956920458,
          6.636606286765659,
          1.2804935040658005,
          17.338403041825096
         ],
         "yaxis": "y2"
        },
        {
         "customdata": [
          15.917970726967226,
          36.52077016766436,
          62.043181605757546,
          30.722433460076044
         ],
         "hoverinfo": "all",
         "hovertemplate": [
          "<b>count_Poor: 7863<br>Percentage: 15.92%<br>WoE: 0.69<br>JS Distance: 0.13",
          "<b>count_Poor: 14093<br>Percentage: 36.52%<br>WoE: -1.12<br>JS Distance: 0.13",
          "<b>count_Poor: 6638<br>Percentage: 62.04%<br>WoE: -2.82<br>JS Distance: 0.28",
          "<b>count_Poor: 404<br>Percentage: 30.72%<br>WoE: -0.03<br>JS Distance: 0.01"
         ],
         "marker": {
          "color": "#EC7063"
         },
         "name": "Poor",
         "text": [
          "<b>count_Poor: 7863<br>Percentage: 15.92%<br>",
          "<b>count_Poor: 14093<br>Percentage: 36.52%<br>",
          "<b>count_Poor: 6638<br>Percentage: 62.04%<br>",
          "<b>count_Poor: 404<br>Percentage: 30.72%<br>"
         ],
         "type": "bar",
         "x": [
          "(-inf, 5.50)",
          "[5.50, 8.50)",
          "[8.50, inf)",
          "Special"
         ],
         "xaxis": "x",
         "y": [
          7863,
          14093,
          6638,
          404
         ],
         "yaxis": "y"
        },
        {
         "line": {
          "color": "#EC7063",
          "width": 3
         },
         "marker": {
          "color": "#EC7063",
          "size": 8
         },
         "mode": "lines+markers",
         "name": "Percent Poor",
         "type": "scatter",
         "x": [
          "(-inf, 5.50)",
          "[5.50, 8.50)",
          "[8.50, inf)",
          "Special"
         ],
         "xaxis": "x",
         "y": [
          15.917970726967226,
          36.52077016766436,
          62.043181605757546,
          30.722433460076044
         ],
         "yaxis": "y2"
        },
        {
         "customdata": [
          53.914205316112316,
          56.84262354556998,
          36.67632489017665,
          51.939163498098864
         ],
         "hoverinfo": "all",
         "hovertemplate": [
          "<b>count_Standard: 26632<br>Percentage: 53.91%<br>WoE: 0.69<br>JS Distance: 0.13",
          "<b>count_Standard: 21935<br>Percentage: 56.84%<br>WoE: -1.12<br>JS Distance: 0.13",
          "<b>count_Standard: 3924<br>Percentage: 36.68%<br>WoE: -2.82<br>JS Distance: 0.28",
          "<b>count_Standard: 683<br>Percentage: 51.94%<br>WoE: -0.03<br>JS Distance: 0.01"
         ],
         "marker": {
          "color": "#5DADE2"
         },
         "name": "Standard",
         "text": [
          "<b>count_Standard: 26632<br>Percentage: 53.91%<br>",
          "<b>count_Standard: 21935<br>Percentage: 56.84%<br>",
          "<b>count_Standard: 3924<br>Percentage: 36.68%<br>",
          "<b>count_Standard: 683<br>Percentage: 51.94%<br>"
         ],
         "type": "bar",
         "x": [
          "(-inf, 5.50)",
          "[5.50, 8.50)",
          "[8.50, inf)",
          "Special"
         ],
         "xaxis": "x",
         "y": [
          26632,
          21935,
          3924,
          683
         ],
         "yaxis": "y"
        },
        {
         "line": {
          "color": "#5DADE2",
          "width": 3
         },
         "marker": {
          "color": "#5DADE2",
          "size": 8
         },
         "mode": "lines+markers",
         "name": "Percent Standard",
         "type": "scatter",
         "x": [
          "(-inf, 5.50)",
          "[5.50, 8.50)",
          "[8.50, inf)",
          "Special"
         ],
         "xaxis": "x",
         "y": [
          53.914205316112316,
          56.84262354556998,
          36.67632489017665,
          51.939163498098864
         ],
         "yaxis": "y2"
        }
       ],
       "layout": {
        "annotations": [
         {
          "align": "right",
          "bordercolor": "black",
          "borderwidth": 1,
          "font": {
           "color": "black",
           "size": 12
          },
          "showarrow": false,
          "text": "<b>Cramer's V: 0.291, Information Value: 0.956",
          "x": 1,
          "xref": "paper",
          "y": 1.05,
          "yref": "paper"
         }
        ],
        "barmode": "stack",
        "hovermode": "x",
        "legend": {
         "title": {
          "text": "Target Modalities"
         }
        },
        "template": {
         "data": {
          "bar": [
           {
            "error_x": {
             "color": "#2a3f5f"
            },
            "error_y": {
             "color": "#2a3f5f"
            },
            "marker": {
             "line": {
              "color": "white",
              "width": 0.5
             },
             "pattern": {
              "fillmode": "overlay",
              "size": 10,
              "solidity": 0.2
             }
            },
            "type": "bar"
           }
          ],
          "barpolar": [
           {
            "marker": {
             "line": {
              "color": "white",
              "width": 0.5
             },
             "pattern": {
              "fillmode": "overlay",
              "size": 10,
              "solidity": 0.2
             }
            },
            "type": "barpolar"
           }
          ],
          "carpet": [
           {
            "aaxis": {
             "endlinecolor": "#2a3f5f",
             "gridcolor": "#C8D4E3",
             "linecolor": "#C8D4E3",
             "minorgridcolor": "#C8D4E3",
             "startlinecolor": "#2a3f5f"
            },
            "baxis": {
             "endlinecolor": "#2a3f5f",
             "gridcolor": "#C8D4E3",
             "linecolor": "#C8D4E3",
             "minorgridcolor": "#C8D4E3",
             "startlinecolor": "#2a3f5f"
            },
            "type": "carpet"
           }
          ],
          "choropleth": [
           {
            "colorbar": {
             "outlinewidth": 0,
             "ticks": ""
            },
            "type": "choropleth"
           }
          ],
          "contour": [
           {
            "colorbar": {
             "outlinewidth": 0,
             "ticks": ""
            },
            "colorscale": [
             [
              0,
              "#0d0887"
             ],
             [
              0.1111111111111111,
              "#46039f"
             ],
             [
              0.2222222222222222,
              "#7201a8"
             ],
             [
              0.3333333333333333,
              "#9c179e"
             ],
             [
              0.4444444444444444,
              "#bd3786"
             ],
             [
              0.5555555555555556,
              "#d8576b"
             ],
             [
              0.6666666666666666,
              "#ed7953"
             ],
             [
              0.7777777777777778,
              "#fb9f3a"
             ],
             [
              0.8888888888888888,
              "#fdca26"
             ],
             [
              1,
              "#f0f921"
             ]
            ],
            "type": "contour"
           }
          ],
          "contourcarpet": [
           {
            "colorbar": {
             "outlinewidth": 0,
             "ticks": ""
            },
            "type": "contourcarpet"
           }
          ],
          "heatmap": [
           {
            "colorbar": {
             "outlinewidth": 0,
             "ticks": ""
            },
            "colorscale": [
             [
              0,
              "#0d0887"
             ],
             [
              0.1111111111111111,
              "#46039f"
             ],
             [
              0.2222222222222222,
              "#7201a8"
             ],
             [
              0.3333333333333333,
              "#9c179e"
             ],
             [
              0.4444444444444444,
              "#bd3786"
             ],
             [
              0.5555555555555556,
              "#d8576b"
             ],
             [
              0.6666666666666666,
              "#ed7953"
             ],
             [
              0.7777777777777778,
              "#fb9f3a"
             ],
             [
              0.8888888888888888,
              "#fdca26"
             ],
             [
              1,
              "#f0f921"
             ]
            ],
            "type": "heatmap"
           }
          ],
          "heatmapgl": [
           {
            "colorbar": {
             "outlinewidth": 0,
             "ticks": ""
            },
            "colorscale": [
             [
              0,
              "#0d0887"
             ],
             [
              0.1111111111111111,
              "#46039f"
             ],
             [
              0.2222222222222222,
              "#7201a8"
             ],
             [
              0.3333333333333333,
              "#9c179e"
             ],
             [
              0.4444444444444444,
              "#bd3786"
             ],
             [
              0.5555555555555556,
              "#d8576b"
             ],
             [
              0.6666666666666666,
              "#ed7953"
             ],
             [
              0.7777777777777778,
              "#fb9f3a"
             ],
             [
              0.8888888888888888,
              "#fdca26"
             ],
             [
              1,
              "#f0f921"
             ]
            ],
            "type": "heatmapgl"
           }
          ],
          "histogram": [
           {
            "marker": {
             "pattern": {
              "fillmode": "overlay",
              "size": 10,
              "solidity": 0.2
             }
            },
            "type": "histogram"
           }
          ],
          "histogram2d": [
           {
            "colorbar": {
             "outlinewidth": 0,
             "ticks": ""
            },
            "colorscale": [
             [
              0,
              "#0d0887"
             ],
             [
              0.1111111111111111,
              "#46039f"
             ],
             [
              0.2222222222222222,
              "#7201a8"
             ],
             [
              0.3333333333333333,
              "#9c179e"
             ],
             [
              0.4444444444444444,
              "#bd3786"
             ],
             [
              0.5555555555555556,
              "#d8576b"
             ],
             [
              0.6666666666666666,
              "#ed7953"
             ],
             [
              0.7777777777777778,
              "#fb9f3a"
             ],
             [
              0.8888888888888888,
              "#fdca26"
             ],
             [
              1,
              "#f0f921"
             ]
            ],
            "type": "histogram2d"
           }
          ],
          "histogram2dcontour": [
           {
            "colorbar": {
             "outlinewidth": 0,
             "ticks": ""
            },
            "colorscale": [
             [
              0,
              "#0d0887"
             ],
             [
              0.1111111111111111,
              "#46039f"
             ],
             [
              0.2222222222222222,
              "#7201a8"
             ],
             [
              0.3333333333333333,
              "#9c179e"
             ],
             [
              0.4444444444444444,
              "#bd3786"
             ],
             [
              0.5555555555555556,
              "#d8576b"
             ],
             [
              0.6666666666666666,
              "#ed7953"
             ],
             [
              0.7777777777777778,
              "#fb9f3a"
             ],
             [
              0.8888888888888888,
              "#fdca26"
             ],
             [
              1,
              "#f0f921"
             ]
            ],
            "type": "histogram2dcontour"
           }
          ],
          "mesh3d": [
           {
            "colorbar": {
             "outlinewidth": 0,
             "ticks": ""
            },
            "type": "mesh3d"
           }
          ],
          "parcoords": [
           {
            "line": {
             "colorbar": {
              "outlinewidth": 0,
              "ticks": ""
             }
            },
            "type": "parcoords"
           }
          ],
          "pie": [
           {
            "automargin": true,
            "type": "pie"
           }
          ],
          "scatter": [
           {
            "fillpattern": {
             "fillmode": "overlay",
             "size": 10,
             "solidity": 0.2
            },
            "type": "scatter"
           }
          ],
          "scatter3d": [
           {
            "line": {
             "colorbar": {
              "outlinewidth": 0,
              "ticks": ""
             }
            },
            "marker": {
             "colorbar": {
              "outlinewidth": 0,
              "ticks": ""
             }
            },
            "type": "scatter3d"
           }
          ],
          "scattercarpet": [
           {
            "marker": {
             "colorbar": {
              "outlinewidth": 0,
              "ticks": ""
             }
            },
            "type": "scattercarpet"
           }
          ],
          "scattergeo": [
           {
            "marker": {
             "colorbar": {
              "outlinewidth": 0,
              "ticks": ""
             }
            },
            "type": "scattergeo"
           }
          ],
          "scattergl": [
           {
            "marker": {
             "colorbar": {
              "outlinewidth": 0,
              "ticks": ""
             }
            },
            "type": "scattergl"
           }
          ],
          "scattermapbox": [
           {
            "marker": {
             "colorbar": {
              "outlinewidth": 0,
              "ticks": ""
             }
            },
            "type": "scattermapbox"
           }
          ],
          "scatterpolar": [
           {
            "marker": {
             "colorbar": {
              "outlinewidth": 0,
              "ticks": ""
             }
            },
            "type": "scatterpolar"
           }
          ],
          "scatterpolargl": [
           {
            "marker": {
             "colorbar": {
              "outlinewidth": 0,
              "ticks": ""
             }
            },
            "type": "scatterpolargl"
           }
          ],
          "scatterternary": [
           {
            "marker": {
             "colorbar": {
              "outlinewidth": 0,
              "ticks": ""
             }
            },
            "type": "scatterternary"
           }
          ],
          "surface": [
           {
            "colorbar": {
             "outlinewidth": 0,
             "ticks": ""
            },
            "colorscale": [
             [
              0,
              "#0d0887"
             ],
             [
              0.1111111111111111,
              "#46039f"
             ],
             [
              0.2222222222222222,
              "#7201a8"
             ],
             [
              0.3333333333333333,
              "#9c179e"
             ],
             [
              0.4444444444444444,
              "#bd3786"
             ],
             [
              0.5555555555555556,
              "#d8576b"
             ],
             [
              0.6666666666666666,
              "#ed7953"
             ],
             [
              0.7777777777777778,
              "#fb9f3a"
             ],
             [
              0.8888888888888888,
              "#fdca26"
             ],
             [
              1,
              "#f0f921"
             ]
            ],
            "type": "surface"
           }
          ],
          "table": [
           {
            "cells": {
             "fill": {
              "color": "#EBF0F8"
             },
             "line": {
              "color": "white"
             }
            },
            "header": {
             "fill": {
              "color": "#C8D4E3"
             },
             "line": {
              "color": "white"
             }
            },
            "type": "table"
           }
          ]
         },
         "layout": {
          "annotationdefaults": {
           "arrowcolor": "#2a3f5f",
           "arrowhead": 0,
           "arrowwidth": 1
          },
          "autotypenumbers": "strict",
          "coloraxis": {
           "colorbar": {
            "outlinewidth": 0,
            "ticks": ""
           }
          },
          "colorscale": {
           "diverging": [
            [
             0,
             "#8e0152"
            ],
            [
             0.1,
             "#c51b7d"
            ],
            [
             0.2,
             "#de77ae"
            ],
            [
             0.3,
             "#f1b6da"
            ],
            [
             0.4,
             "#fde0ef"
            ],
            [
             0.5,
             "#f7f7f7"
            ],
            [
             0.6,
             "#e6f5d0"
            ],
            [
             0.7,
             "#b8e186"
            ],
            [
             0.8,
             "#7fbc41"
            ],
            [
             0.9,
             "#4d9221"
            ],
            [
             1,
             "#276419"
            ]
           ],
           "sequential": [
            [
             0,
             "#0d0887"
            ],
            [
             0.1111111111111111,
             "#46039f"
            ],
            [
             0.2222222222222222,
             "#7201a8"
            ],
            [
             0.3333333333333333,
             "#9c179e"
            ],
            [
             0.4444444444444444,
             "#bd3786"
            ],
            [
             0.5555555555555556,
             "#d8576b"
            ],
            [
             0.6666666666666666,
             "#ed7953"
            ],
            [
             0.7777777777777778,
             "#fb9f3a"
            ],
            [
             0.8888888888888888,
             "#fdca26"
            ],
            [
             1,
             "#f0f921"
            ]
           ],
           "sequentialminus": [
            [
             0,
             "#0d0887"
            ],
            [
             0.1111111111111111,
             "#46039f"
            ],
            [
             0.2222222222222222,
             "#7201a8"
            ],
            [
             0.3333333333333333,
             "#9c179e"
            ],
            [
             0.4444444444444444,
             "#bd3786"
            ],
            [
             0.5555555555555556,
             "#d8576b"
            ],
            [
             0.6666666666666666,
             "#ed7953"
            ],
            [
             0.7777777777777778,
             "#fb9f3a"
            ],
            [
             0.8888888888888888,
             "#fdca26"
            ],
            [
             1,
             "#f0f921"
            ]
           ]
          },
          "colorway": [
           "#636efa",
           "#EF553B",
           "#00cc96",
           "#ab63fa",
           "#FFA15A",
           "#19d3f3",
           "#FF6692",
           "#B6E880",
           "#FF97FF",
           "#FECB52"
          ],
          "font": {
           "color": "#2a3f5f"
          },
          "geo": {
           "bgcolor": "white",
           "lakecolor": "white",
           "landcolor": "white",
           "showlakes": true,
           "showland": true,
           "subunitcolor": "#C8D4E3"
          },
          "hoverlabel": {
           "align": "left"
          },
          "hovermode": "closest",
          "mapbox": {
           "style": "light"
          },
          "paper_bgcolor": "white",
          "plot_bgcolor": "white",
          "polar": {
           "angularaxis": {
            "gridcolor": "#EBF0F8",
            "linecolor": "#EBF0F8",
            "ticks": ""
           },
           "bgcolor": "white",
           "radialaxis": {
            "gridcolor": "#EBF0F8",
            "linecolor": "#EBF0F8",
            "ticks": ""
           }
          },
          "scene": {
           "xaxis": {
            "backgroundcolor": "white",
            "gridcolor": "#DFE8F3",
            "gridwidth": 2,
            "linecolor": "#EBF0F8",
            "showbackground": true,
            "ticks": "",
            "zerolinecolor": "#EBF0F8"
           },
           "yaxis": {
            "backgroundcolor": "white",
            "gridcolor": "#DFE8F3",
            "gridwidth": 2,
            "linecolor": "#EBF0F8",
            "showbackground": true,
            "ticks": "",
            "zerolinecolor": "#EBF0F8"
           },
           "zaxis": {
            "backgroundcolor": "white",
            "gridcolor": "#DFE8F3",
            "gridwidth": 2,
            "linecolor": "#EBF0F8",
            "showbackground": true,
            "ticks": "",
            "zerolinecolor": "#EBF0F8"
           }
          },
          "shapedefaults": {
           "line": {
            "color": "#2a3f5f"
           }
          },
          "ternary": {
           "aaxis": {
            "gridcolor": "#DFE8F3",
            "linecolor": "#A2B1C6",
            "ticks": ""
           },
           "baxis": {
            "gridcolor": "#DFE8F3",
            "linecolor": "#A2B1C6",
            "ticks": ""
           },
           "bgcolor": "white",
           "caxis": {
            "gridcolor": "#DFE8F3",
            "linecolor": "#A2B1C6",
            "ticks": ""
           }
          },
          "title": {
           "x": 0.05
          },
          "xaxis": {
           "automargin": true,
           "gridcolor": "#EBF0F8",
           "linecolor": "#EBF0F8",
           "ticks": "",
           "title": {
            "standoff": 15
           },
           "zerolinecolor": "#EBF0F8",
           "zerolinewidth": 2
          },
          "yaxis": {
           "automargin": true,
           "gridcolor": "#EBF0F8",
           "linecolor": "#EBF0F8",
           "ticks": "",
           "title": {
            "standoff": 15
           },
           "zerolinecolor": "#EBF0F8",
           "zerolinewidth": 2
          }
         }
        },
        "title": {
         "font": {
          "color": "black",
          "family": "Arial, sans-serif",
          "size": 20
         },
         "text": "<b>Distribution of 'Num_Bank_Accounts'</b>",
         "x": 0.5,
         "xanchor": "center",
         "y": 0.9,
         "yanchor": "top"
        },
        "xaxis": {
         "anchor": "y",
         "domain": [
          0,
          0.94
         ],
         "title": {
          "text": "Num_Bank_Accounts"
         }
        },
        "yaxis": {
         "anchor": "x",
         "domain": [
          0,
          1
         ],
         "title": {
          "text": "Count"
         }
        },
        "yaxis2": {
         "anchor": "x",
         "overlaying": "y",
         "side": "right",
         "title": {
          "text": "Percentage"
         }
        }
       }
      }
     },
     "metadata": {},
     "output_type": "display_data"
    }
   ],
   "source": [
    "fig = generate_bar_plot(\n",
    "    df=transformed_df_binned,\n",
    "    feature=\"Num_Bank_Accounts\",\n",
    "    target_var=target,\n",
    "    cat_ref=\"Good\",\n",
    ")\n",
    "fig.show()"
   ]
  },
  {
   "cell_type": "markdown",
   "metadata": {},
   "source": [
    "The right axis represents the percentage, allowing us to visualize the evolution of each target modality across all bins."
   ]
  },
  {
   "cell_type": "markdown",
   "metadata": {},
   "source": [
    "We can also focus on the Weight of Evidence or the Jensen-Shannon metrics."
   ]
  },
  {
   "cell_type": "code",
   "execution_count": 22,
   "metadata": {},
   "outputs": [
    {
     "name": "stdout",
     "output_type": "stream",
     "text": [
      "The reference category: Good\n",
      "The reference category: Good\n"
     ]
    },
    {
     "data": {
      "application/vnd.plotly.v1+json": {
       "config": {
        "plotlyServerURL": "https://plot.ly"
       },
       "data": [
        {
         "hoverinfo": "text",
         "hovertext": [
          "Category: Bad<br>WoE: -2.65",
          "Category: Good<br>WoE: 1.48",
          "Category: NAN<br>WoE: 0.01",
          "Category: Standard<br>WoE: -1.30"
         ],
         "marker": {
          "color": "#9B59B6"
         },
         "text": [
          "<br>WoE: -2.65",
          "<br>WoE: 1.48",
          "<br>WoE: 0.01",
          "<br>WoE: -1.30"
         ],
         "type": "bar",
         "x": [
          "Bad",
          "Good",
          "NAN",
          "Standard"
         ],
         "y": [
          -2.6453274408668186,
          1.47979569214463,
          0.007295850665770003,
          -1.296638856614268
         ]
        }
       ],
       "layout": {
        "annotations": [
         {
          "align": "right",
          "bordercolor": "black",
          "borderwidth": 1,
          "font": {
           "color": "black",
           "size": 12
          },
          "showarrow": false,
          "text": "<b>Information Value: 1.715",
          "x": 1,
          "xref": "paper",
          "y": 1.05,
          "yref": "paper"
         }
        ],
        "hovermode": "closest",
        "template": {
         "data": {
          "bar": [
           {
            "error_x": {
             "color": "#2a3f5f"
            },
            "error_y": {
             "color": "#2a3f5f"
            },
            "marker": {
             "line": {
              "color": "white",
              "width": 0.5
             },
             "pattern": {
              "fillmode": "overlay",
              "size": 10,
              "solidity": 0.2
             }
            },
            "type": "bar"
           }
          ],
          "barpolar": [
           {
            "marker": {
             "line": {
              "color": "white",
              "width": 0.5
             },
             "pattern": {
              "fillmode": "overlay",
              "size": 10,
              "solidity": 0.2
             }
            },
            "type": "barpolar"
           }
          ],
          "carpet": [
           {
            "aaxis": {
             "endlinecolor": "#2a3f5f",
             "gridcolor": "#C8D4E3",
             "linecolor": "#C8D4E3",
             "minorgridcolor": "#C8D4E3",
             "startlinecolor": "#2a3f5f"
            },
            "baxis": {
             "endlinecolor": "#2a3f5f",
             "gridcolor": "#C8D4E3",
             "linecolor": "#C8D4E3",
             "minorgridcolor": "#C8D4E3",
             "startlinecolor": "#2a3f5f"
            },
            "type": "carpet"
           }
          ],
          "choropleth": [
           {
            "colorbar": {
             "outlinewidth": 0,
             "ticks": ""
            },
            "type": "choropleth"
           }
          ],
          "contour": [
           {
            "colorbar": {
             "outlinewidth": 0,
             "ticks": ""
            },
            "colorscale": [
             [
              0,
              "#0d0887"
             ],
             [
              0.1111111111111111,
              "#46039f"
             ],
             [
              0.2222222222222222,
              "#7201a8"
             ],
             [
              0.3333333333333333,
              "#9c179e"
             ],
             [
              0.4444444444444444,
              "#bd3786"
             ],
             [
              0.5555555555555556,
              "#d8576b"
             ],
             [
              0.6666666666666666,
              "#ed7953"
             ],
             [
              0.7777777777777778,
              "#fb9f3a"
             ],
             [
              0.8888888888888888,
              "#fdca26"
             ],
             [
              1,
              "#f0f921"
             ]
            ],
            "type": "contour"
           }
          ],
          "contourcarpet": [
           {
            "colorbar": {
             "outlinewidth": 0,
             "ticks": ""
            },
            "type": "contourcarpet"
           }
          ],
          "heatmap": [
           {
            "colorbar": {
             "outlinewidth": 0,
             "ticks": ""
            },
            "colorscale": [
             [
              0,
              "#0d0887"
             ],
             [
              0.1111111111111111,
              "#46039f"
             ],
             [
              0.2222222222222222,
              "#7201a8"
             ],
             [
              0.3333333333333333,
              "#9c179e"
             ],
             [
              0.4444444444444444,
              "#bd3786"
             ],
             [
              0.5555555555555556,
              "#d8576b"
             ],
             [
              0.6666666666666666,
              "#ed7953"
             ],
             [
              0.7777777777777778,
              "#fb9f3a"
             ],
             [
              0.8888888888888888,
              "#fdca26"
             ],
             [
              1,
              "#f0f921"
             ]
            ],
            "type": "heatmap"
           }
          ],
          "heatmapgl": [
           {
            "colorbar": {
             "outlinewidth": 0,
             "ticks": ""
            },
            "colorscale": [
             [
              0,
              "#0d0887"
             ],
             [
              0.1111111111111111,
              "#46039f"
             ],
             [
              0.2222222222222222,
              "#7201a8"
             ],
             [
              0.3333333333333333,
              "#9c179e"
             ],
             [
              0.4444444444444444,
              "#bd3786"
             ],
             [
              0.5555555555555556,
              "#d8576b"
             ],
             [
              0.6666666666666666,
              "#ed7953"
             ],
             [
              0.7777777777777778,
              "#fb9f3a"
             ],
             [
              0.8888888888888888,
              "#fdca26"
             ],
             [
              1,
              "#f0f921"
             ]
            ],
            "type": "heatmapgl"
           }
          ],
          "histogram": [
           {
            "marker": {
             "pattern": {
              "fillmode": "overlay",
              "size": 10,
              "solidity": 0.2
             }
            },
            "type": "histogram"
           }
          ],
          "histogram2d": [
           {
            "colorbar": {
             "outlinewidth": 0,
             "ticks": ""
            },
            "colorscale": [
             [
              0,
              "#0d0887"
             ],
             [
              0.1111111111111111,
              "#46039f"
             ],
             [
              0.2222222222222222,
              "#7201a8"
             ],
             [
              0.3333333333333333,
              "#9c179e"
             ],
             [
              0.4444444444444444,
              "#bd3786"
             ],
             [
              0.5555555555555556,
              "#d8576b"
             ],
             [
              0.6666666666666666,
              "#ed7953"
             ],
             [
              0.7777777777777778,
              "#fb9f3a"
             ],
             [
              0.8888888888888888,
              "#fdca26"
             ],
             [
              1,
              "#f0f921"
             ]
            ],
            "type": "histogram2d"
           }
          ],
          "histogram2dcontour": [
           {
            "colorbar": {
             "outlinewidth": 0,
             "ticks": ""
            },
            "colorscale": [
             [
              0,
              "#0d0887"
             ],
             [
              0.1111111111111111,
              "#46039f"
             ],
             [
              0.2222222222222222,
              "#7201a8"
             ],
             [
              0.3333333333333333,
              "#9c179e"
             ],
             [
              0.4444444444444444,
              "#bd3786"
             ],
             [
              0.5555555555555556,
              "#d8576b"
             ],
             [
              0.6666666666666666,
              "#ed7953"
             ],
             [
              0.7777777777777778,
              "#fb9f3a"
             ],
             [
              0.8888888888888888,
              "#fdca26"
             ],
             [
              1,
              "#f0f921"
             ]
            ],
            "type": "histogram2dcontour"
           }
          ],
          "mesh3d": [
           {
            "colorbar": {
             "outlinewidth": 0,
             "ticks": ""
            },
            "type": "mesh3d"
           }
          ],
          "parcoords": [
           {
            "line": {
             "colorbar": {
              "outlinewidth": 0,
              "ticks": ""
             }
            },
            "type": "parcoords"
           }
          ],
          "pie": [
           {
            "automargin": true,
            "type": "pie"
           }
          ],
          "scatter": [
           {
            "fillpattern": {
             "fillmode": "overlay",
             "size": 10,
             "solidity": 0.2
            },
            "type": "scatter"
           }
          ],
          "scatter3d": [
           {
            "line": {
             "colorbar": {
              "outlinewidth": 0,
              "ticks": ""
             }
            },
            "marker": {
             "colorbar": {
              "outlinewidth": 0,
              "ticks": ""
             }
            },
            "type": "scatter3d"
           }
          ],
          "scattercarpet": [
           {
            "marker": {
             "colorbar": {
              "outlinewidth": 0,
              "ticks": ""
             }
            },
            "type": "scattercarpet"
           }
          ],
          "scattergeo": [
           {
            "marker": {
             "colorbar": {
              "outlinewidth": 0,
              "ticks": ""
             }
            },
            "type": "scattergeo"
           }
          ],
          "scattergl": [
           {
            "marker": {
             "colorbar": {
              "outlinewidth": 0,
              "ticks": ""
             }
            },
            "type": "scattergl"
           }
          ],
          "scattermapbox": [
           {
            "marker": {
             "colorbar": {
              "outlinewidth": 0,
              "ticks": ""
             }
            },
            "type": "scattermapbox"
           }
          ],
          "scatterpolar": [
           {
            "marker": {
             "colorbar": {
              "outlinewidth": 0,
              "ticks": ""
             }
            },
            "type": "scatterpolar"
           }
          ],
          "scatterpolargl": [
           {
            "marker": {
             "colorbar": {
              "outlinewidth": 0,
              "ticks": ""
             }
            },
            "type": "scatterpolargl"
           }
          ],
          "scatterternary": [
           {
            "marker": {
             "colorbar": {
              "outlinewidth": 0,
              "ticks": ""
             }
            },
            "type": "scatterternary"
           }
          ],
          "surface": [
           {
            "colorbar": {
             "outlinewidth": 0,
             "ticks": ""
            },
            "colorscale": [
             [
              0,
              "#0d0887"
             ],
             [
              0.1111111111111111,
              "#46039f"
             ],
             [
              0.2222222222222222,
              "#7201a8"
             ],
             [
              0.3333333333333333,
              "#9c179e"
             ],
             [
              0.4444444444444444,
              "#bd3786"
             ],
             [
              0.5555555555555556,
              "#d8576b"
             ],
             [
              0.6666666666666666,
              "#ed7953"
             ],
             [
              0.7777777777777778,
              "#fb9f3a"
             ],
             [
              0.8888888888888888,
              "#fdca26"
             ],
             [
              1,
              "#f0f921"
             ]
            ],
            "type": "surface"
           }
          ],
          "table": [
           {
            "cells": {
             "fill": {
              "color": "#EBF0F8"
             },
             "line": {
              "color": "white"
             }
            },
            "header": {
             "fill": {
              "color": "#C8D4E3"
             },
             "line": {
              "color": "white"
             }
            },
            "type": "table"
           }
          ]
         },
         "layout": {
          "annotationdefaults": {
           "arrowcolor": "#2a3f5f",
           "arrowhead": 0,
           "arrowwidth": 1
          },
          "autotypenumbers": "strict",
          "coloraxis": {
           "colorbar": {
            "outlinewidth": 0,
            "ticks": ""
           }
          },
          "colorscale": {
           "diverging": [
            [
             0,
             "#8e0152"
            ],
            [
             0.1,
             "#c51b7d"
            ],
            [
             0.2,
             "#de77ae"
            ],
            [
             0.3,
             "#f1b6da"
            ],
            [
             0.4,
             "#fde0ef"
            ],
            [
             0.5,
             "#f7f7f7"
            ],
            [
             0.6,
             "#e6f5d0"
            ],
            [
             0.7,
             "#b8e186"
            ],
            [
             0.8,
             "#7fbc41"
            ],
            [
             0.9,
             "#4d9221"
            ],
            [
             1,
             "#276419"
            ]
           ],
           "sequential": [
            [
             0,
             "#0d0887"
            ],
            [
             0.1111111111111111,
             "#46039f"
            ],
            [
             0.2222222222222222,
             "#7201a8"
            ],
            [
             0.3333333333333333,
             "#9c179e"
            ],
            [
             0.4444444444444444,
             "#bd3786"
            ],
            [
             0.5555555555555556,
             "#d8576b"
            ],
            [
             0.6666666666666666,
             "#ed7953"
            ],
            [
             0.7777777777777778,
             "#fb9f3a"
            ],
            [
             0.8888888888888888,
             "#fdca26"
            ],
            [
             1,
             "#f0f921"
            ]
           ],
           "sequentialminus": [
            [
             0,
             "#0d0887"
            ],
            [
             0.1111111111111111,
             "#46039f"
            ],
            [
             0.2222222222222222,
             "#7201a8"
            ],
            [
             0.3333333333333333,
             "#9c179e"
            ],
            [
             0.4444444444444444,
             "#bd3786"
            ],
            [
             0.5555555555555556,
             "#d8576b"
            ],
            [
             0.6666666666666666,
             "#ed7953"
            ],
            [
             0.7777777777777778,
             "#fb9f3a"
            ],
            [
             0.8888888888888888,
             "#fdca26"
            ],
            [
             1,
             "#f0f921"
            ]
           ]
          },
          "colorway": [
           "#636efa",
           "#EF553B",
           "#00cc96",
           "#ab63fa",
           "#FFA15A",
           "#19d3f3",
           "#FF6692",
           "#B6E880",
           "#FF97FF",
           "#FECB52"
          ],
          "font": {
           "color": "#2a3f5f"
          },
          "geo": {
           "bgcolor": "white",
           "lakecolor": "white",
           "landcolor": "white",
           "showlakes": true,
           "showland": true,
           "subunitcolor": "#C8D4E3"
          },
          "hoverlabel": {
           "align": "left"
          },
          "hovermode": "closest",
          "mapbox": {
           "style": "light"
          },
          "paper_bgcolor": "white",
          "plot_bgcolor": "white",
          "polar": {
           "angularaxis": {
            "gridcolor": "#EBF0F8",
            "linecolor": "#EBF0F8",
            "ticks": ""
           },
           "bgcolor": "white",
           "radialaxis": {
            "gridcolor": "#EBF0F8",
            "linecolor": "#EBF0F8",
            "ticks": ""
           }
          },
          "scene": {
           "xaxis": {
            "backgroundcolor": "white",
            "gridcolor": "#DFE8F3",
            "gridwidth": 2,
            "linecolor": "#EBF0F8",
            "showbackground": true,
            "ticks": "",
            "zerolinecolor": "#EBF0F8"
           },
           "yaxis": {
            "backgroundcolor": "white",
            "gridcolor": "#DFE8F3",
            "gridwidth": 2,
            "linecolor": "#EBF0F8",
            "showbackground": true,
            "ticks": "",
            "zerolinecolor": "#EBF0F8"
           },
           "zaxis": {
            "backgroundcolor": "white",
            "gridcolor": "#DFE8F3",
            "gridwidth": 2,
            "linecolor": "#EBF0F8",
            "showbackground": true,
            "ticks": "",
            "zerolinecolor": "#EBF0F8"
           }
          },
          "shapedefaults": {
           "line": {
            "color": "#2a3f5f"
           }
          },
          "ternary": {
           "aaxis": {
            "gridcolor": "#DFE8F3",
            "linecolor": "#A2B1C6",
            "ticks": ""
           },
           "baxis": {
            "gridcolor": "#DFE8F3",
            "linecolor": "#A2B1C6",
            "ticks": ""
           },
           "bgcolor": "white",
           "caxis": {
            "gridcolor": "#DFE8F3",
            "linecolor": "#A2B1C6",
            "ticks": ""
           }
          },
          "title": {
           "x": 0.05
          },
          "xaxis": {
           "automargin": true,
           "gridcolor": "#EBF0F8",
           "linecolor": "#EBF0F8",
           "ticks": "",
           "title": {
            "standoff": 15
           },
           "zerolinecolor": "#EBF0F8",
           "zerolinewidth": 2
          },
          "yaxis": {
           "automargin": true,
           "gridcolor": "#EBF0F8",
           "linecolor": "#EBF0F8",
           "ticks": "",
           "title": {
            "standoff": 15
           },
           "zerolinecolor": "#EBF0F8",
           "zerolinewidth": 2
          }
         }
        },
        "title": {
         "text": "<b>Weight of Evidence for Credit_Mix",
         "x": 0.5,
         "xanchor": "center",
         "yanchor": "top"
        },
        "xaxis": {
         "title": {
          "text": "Credit_Mix"
         }
        },
        "yaxis": {
         "title": {
          "text": "WoE"
         }
        }
       }
      }
     },
     "metadata": {},
     "output_type": "display_data"
    }
   ],
   "source": [
    "fig = plot_woe(\n",
    "    df=transformed_df_binned, feature=\"Credit_Mix\", target_var=target, cat_ref=\"Good\"\n",
    ")\n",
    "fig.show()"
   ]
  },
  {
   "cell_type": "code",
   "execution_count": 23,
   "metadata": {},
   "outputs": [
    {
     "data": {
      "application/vnd.plotly.v1+json": {
       "config": {
        "plotlyServerURL": "https://plot.ly"
       },
       "data": [
        {
         "hoverinfo": "text",
         "hovertext": [
          "<b>Category: Bad<br>JS: 0.27",
          "<b>Category: Good<br>JS: 0.24",
          "<b>Category: NAN<br>JS: 0.00",
          "<b>Category: Standard<br>JS: 0.17"
         ],
         "marker": {
          "color": "#F7DC6F"
         },
         "text": [
          "<b>JS: 0.27",
          "<b>JS: 0.24",
          "<b>JS: 0.00",
          "<b>JS: 0.17"
         ],
         "type": "bar",
         "x": [
          "Bad",
          "Good",
          "NAN",
          "Standard"
         ],
         "y": [
          0.2722843737117825,
          0.23707086659174315,
          0.0012897659260110463,
          0.16506131017479517
         ]
        }
       ],
       "layout": {
        "template": {
         "data": {
          "bar": [
           {
            "error_x": {
             "color": "#2a3f5f"
            },
            "error_y": {
             "color": "#2a3f5f"
            },
            "marker": {
             "line": {
              "color": "white",
              "width": 0.5
             },
             "pattern": {
              "fillmode": "overlay",
              "size": 10,
              "solidity": 0.2
             }
            },
            "type": "bar"
           }
          ],
          "barpolar": [
           {
            "marker": {
             "line": {
              "color": "white",
              "width": 0.5
             },
             "pattern": {
              "fillmode": "overlay",
              "size": 10,
              "solidity": 0.2
             }
            },
            "type": "barpolar"
           }
          ],
          "carpet": [
           {
            "aaxis": {
             "endlinecolor": "#2a3f5f",
             "gridcolor": "#C8D4E3",
             "linecolor": "#C8D4E3",
             "minorgridcolor": "#C8D4E3",
             "startlinecolor": "#2a3f5f"
            },
            "baxis": {
             "endlinecolor": "#2a3f5f",
             "gridcolor": "#C8D4E3",
             "linecolor": "#C8D4E3",
             "minorgridcolor": "#C8D4E3",
             "startlinecolor": "#2a3f5f"
            },
            "type": "carpet"
           }
          ],
          "choropleth": [
           {
            "colorbar": {
             "outlinewidth": 0,
             "ticks": ""
            },
            "type": "choropleth"
           }
          ],
          "contour": [
           {
            "colorbar": {
             "outlinewidth": 0,
             "ticks": ""
            },
            "colorscale": [
             [
              0,
              "#0d0887"
             ],
             [
              0.1111111111111111,
              "#46039f"
             ],
             [
              0.2222222222222222,
              "#7201a8"
             ],
             [
              0.3333333333333333,
              "#9c179e"
             ],
             [
              0.4444444444444444,
              "#bd3786"
             ],
             [
              0.5555555555555556,
              "#d8576b"
             ],
             [
              0.6666666666666666,
              "#ed7953"
             ],
             [
              0.7777777777777778,
              "#fb9f3a"
             ],
             [
              0.8888888888888888,
              "#fdca26"
             ],
             [
              1,
              "#f0f921"
             ]
            ],
            "type": "contour"
           }
          ],
          "contourcarpet": [
           {
            "colorbar": {
             "outlinewidth": 0,
             "ticks": ""
            },
            "type": "contourcarpet"
           }
          ],
          "heatmap": [
           {
            "colorbar": {
             "outlinewidth": 0,
             "ticks": ""
            },
            "colorscale": [
             [
              0,
              "#0d0887"
             ],
             [
              0.1111111111111111,
              "#46039f"
             ],
             [
              0.2222222222222222,
              "#7201a8"
             ],
             [
              0.3333333333333333,
              "#9c179e"
             ],
             [
              0.4444444444444444,
              "#bd3786"
             ],
             [
              0.5555555555555556,
              "#d8576b"
             ],
             [
              0.6666666666666666,
              "#ed7953"
             ],
             [
              0.7777777777777778,
              "#fb9f3a"
             ],
             [
              0.8888888888888888,
              "#fdca26"
             ],
             [
              1,
              "#f0f921"
             ]
            ],
            "type": "heatmap"
           }
          ],
          "heatmapgl": [
           {
            "colorbar": {
             "outlinewidth": 0,
             "ticks": ""
            },
            "colorscale": [
             [
              0,
              "#0d0887"
             ],
             [
              0.1111111111111111,
              "#46039f"
             ],
             [
              0.2222222222222222,
              "#7201a8"
             ],
             [
              0.3333333333333333,
              "#9c179e"
             ],
             [
              0.4444444444444444,
              "#bd3786"
             ],
             [
              0.5555555555555556,
              "#d8576b"
             ],
             [
              0.6666666666666666,
              "#ed7953"
             ],
             [
              0.7777777777777778,
              "#fb9f3a"
             ],
             [
              0.8888888888888888,
              "#fdca26"
             ],
             [
              1,
              "#f0f921"
             ]
            ],
            "type": "heatmapgl"
           }
          ],
          "histogram": [
           {
            "marker": {
             "pattern": {
              "fillmode": "overlay",
              "size": 10,
              "solidity": 0.2
             }
            },
            "type": "histogram"
           }
          ],
          "histogram2d": [
           {
            "colorbar": {
             "outlinewidth": 0,
             "ticks": ""
            },
            "colorscale": [
             [
              0,
              "#0d0887"
             ],
             [
              0.1111111111111111,
              "#46039f"
             ],
             [
              0.2222222222222222,
              "#7201a8"
             ],
             [
              0.3333333333333333,
              "#9c179e"
             ],
             [
              0.4444444444444444,
              "#bd3786"
             ],
             [
              0.5555555555555556,
              "#d8576b"
             ],
             [
              0.6666666666666666,
              "#ed7953"
             ],
             [
              0.7777777777777778,
              "#fb9f3a"
             ],
             [
              0.8888888888888888,
              "#fdca26"
             ],
             [
              1,
              "#f0f921"
             ]
            ],
            "type": "histogram2d"
           }
          ],
          "histogram2dcontour": [
           {
            "colorbar": {
             "outlinewidth": 0,
             "ticks": ""
            },
            "colorscale": [
             [
              0,
              "#0d0887"
             ],
             [
              0.1111111111111111,
              "#46039f"
             ],
             [
              0.2222222222222222,
              "#7201a8"
             ],
             [
              0.3333333333333333,
              "#9c179e"
             ],
             [
              0.4444444444444444,
              "#bd3786"
             ],
             [
              0.5555555555555556,
              "#d8576b"
             ],
             [
              0.6666666666666666,
              "#ed7953"
             ],
             [
              0.7777777777777778,
              "#fb9f3a"
             ],
             [
              0.8888888888888888,
              "#fdca26"
             ],
             [
              1,
              "#f0f921"
             ]
            ],
            "type": "histogram2dcontour"
           }
          ],
          "mesh3d": [
           {
            "colorbar": {
             "outlinewidth": 0,
             "ticks": ""
            },
            "type": "mesh3d"
           }
          ],
          "parcoords": [
           {
            "line": {
             "colorbar": {
              "outlinewidth": 0,
              "ticks": ""
             }
            },
            "type": "parcoords"
           }
          ],
          "pie": [
           {
            "automargin": true,
            "type": "pie"
           }
          ],
          "scatter": [
           {
            "fillpattern": {
             "fillmode": "overlay",
             "size": 10,
             "solidity": 0.2
            },
            "type": "scatter"
           }
          ],
          "scatter3d": [
           {
            "line": {
             "colorbar": {
              "outlinewidth": 0,
              "ticks": ""
             }
            },
            "marker": {
             "colorbar": {
              "outlinewidth": 0,
              "ticks": ""
             }
            },
            "type": "scatter3d"
           }
          ],
          "scattercarpet": [
           {
            "marker": {
             "colorbar": {
              "outlinewidth": 0,
              "ticks": ""
             }
            },
            "type": "scattercarpet"
           }
          ],
          "scattergeo": [
           {
            "marker": {
             "colorbar": {
              "outlinewidth": 0,
              "ticks": ""
             }
            },
            "type": "scattergeo"
           }
          ],
          "scattergl": [
           {
            "marker": {
             "colorbar": {
              "outlinewidth": 0,
              "ticks": ""
             }
            },
            "type": "scattergl"
           }
          ],
          "scattermapbox": [
           {
            "marker": {
             "colorbar": {
              "outlinewidth": 0,
              "ticks": ""
             }
            },
            "type": "scattermapbox"
           }
          ],
          "scatterpolar": [
           {
            "marker": {
             "colorbar": {
              "outlinewidth": 0,
              "ticks": ""
             }
            },
            "type": "scatterpolar"
           }
          ],
          "scatterpolargl": [
           {
            "marker": {
             "colorbar": {
              "outlinewidth": 0,
              "ticks": ""
             }
            },
            "type": "scatterpolargl"
           }
          ],
          "scatterternary": [
           {
            "marker": {
             "colorbar": {
              "outlinewidth": 0,
              "ticks": ""
             }
            },
            "type": "scatterternary"
           }
          ],
          "surface": [
           {
            "colorbar": {
             "outlinewidth": 0,
             "ticks": ""
            },
            "colorscale": [
             [
              0,
              "#0d0887"
             ],
             [
              0.1111111111111111,
              "#46039f"
             ],
             [
              0.2222222222222222,
              "#7201a8"
             ],
             [
              0.3333333333333333,
              "#9c179e"
             ],
             [
              0.4444444444444444,
              "#bd3786"
             ],
             [
              0.5555555555555556,
              "#d8576b"
             ],
             [
              0.6666666666666666,
              "#ed7953"
             ],
             [
              0.7777777777777778,
              "#fb9f3a"
             ],
             [
              0.8888888888888888,
              "#fdca26"
             ],
             [
              1,
              "#f0f921"
             ]
            ],
            "type": "surface"
           }
          ],
          "table": [
           {
            "cells": {
             "fill": {
              "color": "#EBF0F8"
             },
             "line": {
              "color": "white"
             }
            },
            "header": {
             "fill": {
              "color": "#C8D4E3"
             },
             "line": {
              "color": "white"
             }
            },
            "type": "table"
           }
          ]
         },
         "layout": {
          "annotationdefaults": {
           "arrowcolor": "#2a3f5f",
           "arrowhead": 0,
           "arrowwidth": 1
          },
          "autotypenumbers": "strict",
          "coloraxis": {
           "colorbar": {
            "outlinewidth": 0,
            "ticks": ""
           }
          },
          "colorscale": {
           "diverging": [
            [
             0,
             "#8e0152"
            ],
            [
             0.1,
             "#c51b7d"
            ],
            [
             0.2,
             "#de77ae"
            ],
            [
             0.3,
             "#f1b6da"
            ],
            [
             0.4,
             "#fde0ef"
            ],
            [
             0.5,
             "#f7f7f7"
            ],
            [
             0.6,
             "#e6f5d0"
            ],
            [
             0.7,
             "#b8e186"
            ],
            [
             0.8,
             "#7fbc41"
            ],
            [
             0.9,
             "#4d9221"
            ],
            [
             1,
             "#276419"
            ]
           ],
           "sequential": [
            [
             0,
             "#0d0887"
            ],
            [
             0.1111111111111111,
             "#46039f"
            ],
            [
             0.2222222222222222,
             "#7201a8"
            ],
            [
             0.3333333333333333,
             "#9c179e"
            ],
            [
             0.4444444444444444,
             "#bd3786"
            ],
            [
             0.5555555555555556,
             "#d8576b"
            ],
            [
             0.6666666666666666,
             "#ed7953"
            ],
            [
             0.7777777777777778,
             "#fb9f3a"
            ],
            [
             0.8888888888888888,
             "#fdca26"
            ],
            [
             1,
             "#f0f921"
            ]
           ],
           "sequentialminus": [
            [
             0,
             "#0d0887"
            ],
            [
             0.1111111111111111,
             "#46039f"
            ],
            [
             0.2222222222222222,
             "#7201a8"
            ],
            [
             0.3333333333333333,
             "#9c179e"
            ],
            [
             0.4444444444444444,
             "#bd3786"
            ],
            [
             0.5555555555555556,
             "#d8576b"
            ],
            [
             0.6666666666666666,
             "#ed7953"
            ],
            [
             0.7777777777777778,
             "#fb9f3a"
            ],
            [
             0.8888888888888888,
             "#fdca26"
            ],
            [
             1,
             "#f0f921"
            ]
           ]
          },
          "colorway": [
           "#636efa",
           "#EF553B",
           "#00cc96",
           "#ab63fa",
           "#FFA15A",
           "#19d3f3",
           "#FF6692",
           "#B6E880",
           "#FF97FF",
           "#FECB52"
          ],
          "font": {
           "color": "#2a3f5f"
          },
          "geo": {
           "bgcolor": "white",
           "lakecolor": "white",
           "landcolor": "white",
           "showlakes": true,
           "showland": true,
           "subunitcolor": "#C8D4E3"
          },
          "hoverlabel": {
           "align": "left"
          },
          "hovermode": "closest",
          "mapbox": {
           "style": "light"
          },
          "paper_bgcolor": "white",
          "plot_bgcolor": "white",
          "polar": {
           "angularaxis": {
            "gridcolor": "#EBF0F8",
            "linecolor": "#EBF0F8",
            "ticks": ""
           },
           "bgcolor": "white",
           "radialaxis": {
            "gridcolor": "#EBF0F8",
            "linecolor": "#EBF0F8",
            "ticks": ""
           }
          },
          "scene": {
           "xaxis": {
            "backgroundcolor": "white",
            "gridcolor": "#DFE8F3",
            "gridwidth": 2,
            "linecolor": "#EBF0F8",
            "showbackground": true,
            "ticks": "",
            "zerolinecolor": "#EBF0F8"
           },
           "yaxis": {
            "backgroundcolor": "white",
            "gridcolor": "#DFE8F3",
            "gridwidth": 2,
            "linecolor": "#EBF0F8",
            "showbackground": true,
            "ticks": "",
            "zerolinecolor": "#EBF0F8"
           },
           "zaxis": {
            "backgroundcolor": "white",
            "gridcolor": "#DFE8F3",
            "gridwidth": 2,
            "linecolor": "#EBF0F8",
            "showbackground": true,
            "ticks": "",
            "zerolinecolor": "#EBF0F8"
           }
          },
          "shapedefaults": {
           "line": {
            "color": "#2a3f5f"
           }
          },
          "ternary": {
           "aaxis": {
            "gridcolor": "#DFE8F3",
            "linecolor": "#A2B1C6",
            "ticks": ""
           },
           "baxis": {
            "gridcolor": "#DFE8F3",
            "linecolor": "#A2B1C6",
            "ticks": ""
           },
           "bgcolor": "white",
           "caxis": {
            "gridcolor": "#DFE8F3",
            "linecolor": "#A2B1C6",
            "ticks": ""
           }
          },
          "title": {
           "x": 0.05
          },
          "xaxis": {
           "automargin": true,
           "gridcolor": "#EBF0F8",
           "linecolor": "#EBF0F8",
           "ticks": "",
           "title": {
            "standoff": 15
           },
           "zerolinecolor": "#EBF0F8",
           "zerolinewidth": 2
          },
          "yaxis": {
           "automargin": true,
           "gridcolor": "#EBF0F8",
           "linecolor": "#EBF0F8",
           "ticks": "",
           "title": {
            "standoff": 15
           },
           "zerolinecolor": "#EBF0F8",
           "zerolinewidth": 2
          }
         }
        },
        "title": {
         "text": "<b>Jensen-Shannon Divergence for Credit_Mix",
         "x": 0.5,
         "xanchor": "center",
         "yanchor": "top"
        },
        "xaxis": {
         "title": {
          "text": "Credit_Mix"
         }
        },
        "yaxis": {
         "title": {
          "text": "JS Distance"
         }
        }
       }
      }
     },
     "metadata": {},
     "output_type": "display_data"
    }
   ],
   "source": [
    "fig = plot_js(\n",
    "    df=transformed_df_binned,feature=\"Credit_Mix\",target_var= target\n",
    "    )\n",
    "fig.show()"
   ]
  },
  {
   "cell_type": "markdown",
   "metadata": {},
   "source": [
    "# 5. Bivariate Analysis\n",
    "\n",
    "The objective of our bivariate analysis is to assess the relationships between different features using Cramér's V correlation matrix, visualize these relationships, and group variables based on their correlations through hierarchical clustering on Cramér's V correlation matrix."
   ]
  },
  {
   "cell_type": "markdown",
   "metadata": {},
   "source": [
    "#### 5.1 Cramer'v correlation matrix "
   ]
  },
  {
   "cell_type": "code",
   "execution_count": 24,
   "metadata": {},
   "outputs": [],
   "source": [
    "corr_matrix = calculate_cramers_v_matrix(df=transformed_df_binned, sampling=False)"
   ]
  },
  {
   "cell_type": "code",
   "execution_count": 25,
   "metadata": {},
   "outputs": [
    {
     "data": {
      "application/vnd.plotly.v1+json": {
       "config": {
        "plotlyServerURL": "https://plot.ly"
       },
       "data": [
        {
         "colorscale": [
          [
           0,
           "rgb(176, 242, 188)"
          ],
          [
           0.16666666666666666,
           "rgb(137, 232, 172)"
          ],
          [
           0.3333333333333333,
           "rgb(103, 219, 165)"
          ],
          [
           0.5,
           "rgb(76, 200, 163)"
          ],
          [
           0.6666666666666666,
           "rgb(56, 178, 163)"
          ],
          [
           0.8333333333333334,
           "rgb(44, 152, 160)"
          ],
          [
           1,
           "rgb(37, 125, 152)"
          ]
         ],
         "hoverongaps": false,
         "type": "heatmap",
         "x": [
          "Month",
          "Age",
          "Occupation",
          "Annual_Income",
          "Monthly_Inhand_Salary",
          "Num_Bank_Accounts",
          "Num_Credit_Card",
          "Interest_Rate",
          "Num_of_Loan",
          "Delay_from_due_date",
          "Num_of_Delayed_Payment",
          "Changed_Credit_Limit",
          "Num_Credit_Inquiries",
          "Credit_Mix",
          "Outstanding_Debt",
          "Credit_Utilization_Ratio",
          "Payment_of_Min_Amount",
          "Total_EMI_per_month",
          "Amount_invested_monthly",
          "Payment_Behaviour",
          "Monthly_Balance",
          "Credit_Score",
          "Credit-Builder Loan",
          "Personal Loan",
          "Debt Consolidation Loan",
          "Student Loan",
          "Payday Loan",
          "Mortgage Loan",
          "Auto Loan",
          "Home Equity Loan",
          "Credit_History_in_Year"
         ],
         "y": [
          "Month",
          "Age",
          "Occupation",
          "Annual_Income",
          "Monthly_Inhand_Salary",
          "Num_Bank_Accounts",
          "Num_Credit_Card",
          "Interest_Rate",
          "Num_of_Loan",
          "Delay_from_due_date",
          "Num_of_Delayed_Payment",
          "Changed_Credit_Limit",
          "Num_Credit_Inquiries",
          "Credit_Mix",
          "Outstanding_Debt",
          "Credit_Utilization_Ratio",
          "Payment_of_Min_Amount",
          "Total_EMI_per_month",
          "Amount_invested_monthly",
          "Payment_Behaviour",
          "Monthly_Balance",
          "Credit_Score",
          "Credit-Builder Loan",
          "Personal Loan",
          "Debt Consolidation Loan",
          "Student Loan",
          "Payday Loan",
          "Mortgage Loan",
          "Auto Loan",
          "Home Equity Loan",
          "Credit_History_in_Year"
         ],
         "z": [
          [
           1,
           0,
           0,
           0,
           0,
           0,
           0,
           0,
           0,
           0,
           0,
           0,
           0.06,
           0,
           0,
           0,
           0,
           0.03,
           0,
           0,
           0,
           0.03,
           0,
           0,
           0,
           0,
           0,
           0,
           0,
           0,
           0.01
          ],
          [
           0,
           1,
           0.02,
           0.09,
           0.07,
           0.11,
           0.1,
           0.14,
           0.14,
           0.12,
           0.11,
           0.1,
           0.17,
           0.14,
           0.15,
           0.01,
           0.16,
           0.06,
           0.02,
           0.02,
           0.08,
           0.1,
           0.07,
           0.08,
           0.08,
           0.09,
           0.07,
           0.07,
           0.07,
           0.08,
           0.16
          ],
          [
           0,
           0.02,
           1,
           0.02,
           0.02,
           0.03,
           0.02,
           0.02,
           0.02,
           0.03,
           0.02,
           0.02,
           0.02,
           0.02,
           0.02,
           0,
           0.02,
           0.03,
           0.01,
           0,
           0.02,
           0.03,
           0.02,
           0.02,
           0.03,
           0.02,
           0.02,
           0.05,
           0.02,
           0.03,
           0.02
          ],
          [
           0,
           0.09,
           0.02,
           1,
           0.68,
           0.2,
           0.15,
           0.21,
           0.21,
           0.17,
           0.15,
           0.1,
           0.17,
           0.22,
           0.25,
           0.06,
           0.24,
           0.11,
           0.21,
           0.17,
           0.38,
           0.19,
           0.15,
           0.13,
           0.13,
           0.13,
           0.14,
           0.13,
           0.13,
           0.13,
           0.2
          ],
          [
           0,
           0.07,
           0.02,
           0.68,
           1,
           0.17,
           0.12,
           0.18,
           0.17,
           0.15,
           0.13,
           0.09,
           0.14,
           0.19,
           0.21,
           0.06,
           0.21,
           0.1,
           0.2,
           0.16,
           0.34,
           0.16,
           0.13,
           0.11,
           0.12,
           0.1,
           0.12,
           0.1,
           0.11,
           0.11,
           0.17
          ],
          [
           0,
           0.11,
           0.03,
           0.2,
           0.17,
           1,
           0.28,
           0.33,
           0.3,
           0.36,
           0.33,
           0.17,
           0.32,
           0.39,
           0.35,
           0.03,
           0.36,
           0.12,
           0.06,
           0.06,
           0.18,
           0.29,
           0.2,
           0.19,
           0.19,
           0.18,
           0.2,
           0.21,
           0.19,
           0.19,
           0.29
          ],
          [
           0,
           0.1,
           0.02,
           0.15,
           0.12,
           0.28,
           1,
           0.3,
           0.27,
           0.26,
           0.22,
           0.12,
           0.25,
           0.32,
           0.34,
           0.02,
           0.27,
           0.11,
           0.05,
           0.04,
           0.13,
           0.29,
           0.18,
           0.17,
           0.16,
           0.17,
           0.18,
           0.18,
           0.17,
           0.17,
           0.26
          ],
          [
           0,
           0.14,
           0.02,
           0.21,
           0.18,
           0.33,
           0.3,
           1,
           0.33,
           0.34,
           0.31,
           0.19,
           0.36,
           0.38,
           0.41,
           0.03,
           0.39,
           0.15,
           0.06,
           0.06,
           0.2,
           0.34,
           0.22,
           0.21,
           0.21,
           0.21,
           0.21,
           0.22,
           0.22,
           0.22,
           0.32
          ],
          [
           0,
           0.14,
           0.02,
           0.21,
           0.17,
           0.3,
           0.27,
           0.33,
           1,
           0.31,
           0.29,
           0.21,
           0.36,
           0.36,
           0.4,
           0.04,
           0.37,
           0.46,
           0.06,
           0.06,
           0.27,
           0.27,
           0.38,
           0.36,
           0.36,
           0.36,
           0.37,
           0.37,
           0.36,
           0.37,
           0.37
          ],
          [
           0,
           0.12,
           0.03,
           0.17,
           0.15,
           0.36,
           0.26,
           0.34,
           0.31,
           1,
           0.31,
           0.15,
           0.29,
           0.43,
           0.37,
           0.03,
           0.37,
           0.13,
           0.06,
           0.05,
           0.16,
           0.35,
           0.2,
           0.21,
           0.2,
           0.2,
           0.2,
           0.21,
           0.2,
           0.2,
           0.3
          ],
          [
           0,
           0.11,
           0.02,
           0.15,
           0.13,
           0.33,
           0.22,
           0.31,
           0.29,
           0.31,
           1,
           0.16,
           0.23,
           0.45,
           0.31,
           0.02,
           0.39,
           0.11,
           0.06,
           0.04,
           0.14,
           0.29,
           0.2,
           0.18,
           0.16,
           0.18,
           0.18,
           0.19,
           0.19,
           0.19,
           0.27
          ],
          [
           0,
           0.1,
           0.02,
           0.1,
           0.09,
           0.17,
           0.12,
           0.19,
           0.21,
           0.15,
           0.16,
           1,
           0.2,
           0.24,
           0.22,
           0.02,
           0.35,
           0.1,
           0.03,
           0.03,
           0.1,
           0.16,
           0.14,
           0.14,
           0.13,
           0.14,
           0.13,
           0.13,
           0.13,
           0.14,
           0.22
          ],
          [
           0.06,
           0.17,
           0.02,
           0.17,
           0.14,
           0.32,
           0.25,
           0.36,
           0.36,
           0.29,
           0.23,
           0.2,
           1,
           0.37,
           0.4,
           0.03,
           0.44,
           0.17,
           0.06,
           0.05,
           0.16,
           0.32,
           0.23,
           0.22,
           0.22,
           0.23,
           0.23,
           0.23,
           0.23,
           0.23,
           0.36
          ],
          [
           0,
           0.14,
           0.02,
           0.22,
           0.19,
           0.39,
           0.32,
           0.38,
           0.36,
           0.43,
           0.45,
           0.24,
           0.37,
           1,
           0.41,
           0.03,
           0.49,
           0.15,
           0.07,
           0.06,
           0.21,
           0.4,
           0.24,
           0.23,
           0.22,
           0.22,
           0.23,
           0.24,
           0.23,
           0.23,
           0.34
          ],
          [
           0,
           0.15,
           0.02,
           0.25,
           0.21,
           0.35,
           0.34,
           0.41,
           0.4,
           0.37,
           0.31,
           0.22,
           0.4,
           0.41,
           1,
           0.04,
           0.38,
           0.17,
           0.07,
           0.07,
           0.23,
           0.37,
           0.26,
           0.26,
           0.25,
           0.25,
           0.26,
           0.26,
           0.26,
           0.25,
           0.39
          ],
          [
           0,
           0.01,
           0,
           0.06,
           0.06,
           0.03,
           0.02,
           0.03,
           0.04,
           0.03,
           0.02,
           0.02,
           0.03,
           0.03,
           0.04,
           1,
           0.03,
           0.02,
           0.02,
           0.06,
           0.1,
           0.02,
           0.03,
           0.03,
           0.02,
           0.03,
           0.02,
           0.03,
           0.02,
           0.02,
           0.03
          ],
          [
           0,
           0.16,
           0.02,
           0.24,
           0.21,
           0.36,
           0.27,
           0.39,
           0.37,
           0.37,
           0.39,
           0.35,
           0.44,
           0.49,
           0.38,
           0.03,
           1,
           0.14,
           0.08,
           0.07,
           0.23,
           0.31,
           0.2,
           0.19,
           0.19,
           0.18,
           0.2,
           0.19,
           0.19,
           0.2,
           0.4
          ],
          [
           0.03,
           0.06,
           0.03,
           0.11,
           0.1,
           0.12,
           0.11,
           0.15,
           0.46,
           0.13,
           0.11,
           0.1,
           0.17,
           0.15,
           0.17,
           0.02,
           0.14,
           1,
           0.05,
           0.04,
           0.17,
           0.11,
           0.24,
           0.24,
           0.24,
           0.24,
           0.24,
           0.24,
           0.23,
           0.24,
           0.17
          ],
          [
           0,
           0.02,
           0.01,
           0.21,
           0.2,
           0.06,
           0.05,
           0.06,
           0.06,
           0.06,
           0.06,
           0.03,
           0.06,
           0.07,
           0.07,
           0.02,
           0.08,
           0.05,
           1,
           0.13,
           0.17,
           0.07,
           0.05,
           0.04,
           0.04,
           0.04,
           0.04,
           0.04,
           0.04,
           0.03,
           0.06
          ],
          [
           0,
           0.02,
           0,
           0.17,
           0.16,
           0.06,
           0.04,
           0.06,
           0.06,
           0.05,
           0.04,
           0.03,
           0.05,
           0.06,
           0.07,
           0.06,
           0.07,
           0.04,
           0.13,
           1,
           0.27,
           0.08,
           0.04,
           0.04,
           0.04,
           0.03,
           0.04,
           0.04,
           0.03,
           0.04,
           0.06
          ],
          [
           0,
           0.08,
           0.02,
           0.38,
           0.34,
           0.18,
           0.13,
           0.2,
           0.27,
           0.16,
           0.14,
           0.1,
           0.16,
           0.21,
           0.23,
           0.1,
           0.23,
           0.17,
           0.17,
           0.27,
           1,
           0.16,
           0.21,
           0.19,
           0.19,
           0.18,
           0.19,
           0.19,
           0.19,
           0.19,
           0.21
          ],
          [
           0.03,
           0.1,
           0.03,
           0.19,
           0.16,
           0.29,
           0.29,
           0.34,
           0.27,
           0.35,
           0.29,
           0.16,
           0.32,
           0.4,
           0.37,
           0.02,
           0.31,
           0.11,
           0.07,
           0.08,
           0.16,
           1,
           0.14,
           0.14,
           0.14,
           0.14,
           0.14,
           0.14,
           0.15,
           0.14,
           0.28
          ],
          [
           0,
           0.07,
           0.02,
           0.15,
           0.13,
           0.2,
           0.18,
           0.22,
           0.38,
           0.2,
           0.2,
           0.14,
           0.23,
           0.24,
           0.26,
           0.03,
           0.2,
           0.24,
           0.05,
           0.04,
           0.21,
           0.14,
           1,
           0.08,
           0.07,
           0.07,
           0.07,
           0.08,
           0.09,
           0.1,
           0.25
          ],
          [
           0,
           0.08,
           0.02,
           0.13,
           0.11,
           0.19,
           0.17,
           0.21,
           0.36,
           0.21,
           0.18,
           0.14,
           0.22,
           0.23,
           0.26,
           0.03,
           0.19,
           0.24,
           0.04,
           0.04,
           0.19,
           0.14,
           0.08,
           1,
           0.08,
           0.08,
           0.07,
           0.09,
           0.08,
           0.09,
           0.24
          ],
          [
           0,
           0.08,
           0.03,
           0.13,
           0.12,
           0.19,
           0.16,
           0.21,
           0.36,
           0.2,
           0.16,
           0.13,
           0.22,
           0.22,
           0.25,
           0.02,
           0.19,
           0.24,
           0.04,
           0.04,
           0.19,
           0.14,
           0.07,
           0.08,
           1,
           0.05,
           0.08,
           0.07,
           0.08,
           0.08,
           0.23
          ],
          [
           0,
           0.09,
           0.02,
           0.13,
           0.1,
           0.18,
           0.17,
           0.21,
           0.36,
           0.2,
           0.18,
           0.14,
           0.23,
           0.22,
           0.25,
           0.03,
           0.18,
           0.24,
           0.04,
           0.03,
           0.18,
           0.14,
           0.07,
           0.08,
           0.05,
           1,
           0.07,
           0.07,
           0.07,
           0.07,
           0.23
          ],
          [
           0,
           0.07,
           0.02,
           0.14,
           0.12,
           0.2,
           0.18,
           0.21,
           0.37,
           0.2,
           0.18,
           0.13,
           0.23,
           0.23,
           0.26,
           0.02,
           0.2,
           0.24,
           0.04,
           0.04,
           0.19,
           0.14,
           0.07,
           0.07,
           0.08,
           0.07,
           1,
           0.07,
           0.09,
           0.08,
           0.24
          ],
          [
           0,
           0.07,
           0.05,
           0.13,
           0.1,
           0.21,
           0.18,
           0.22,
           0.37,
           0.21,
           0.19,
           0.13,
           0.23,
           0.24,
           0.26,
           0.03,
           0.19,
           0.24,
           0.04,
           0.04,
           0.19,
           0.14,
           0.08,
           0.09,
           0.07,
           0.07,
           0.07,
           1,
           0.07,
           0.08,
           0.23
          ],
          [
           0,
           0.07,
           0.02,
           0.13,
           0.11,
           0.19,
           0.17,
           0.22,
           0.36,
           0.2,
           0.19,
           0.13,
           0.23,
           0.23,
           0.26,
           0.02,
           0.19,
           0.23,
           0.04,
           0.03,
           0.19,
           0.15,
           0.09,
           0.08,
           0.08,
           0.07,
           0.09,
           0.07,
           1,
           0.07,
           0.24
          ],
          [
           0,
           0.08,
           0.03,
           0.13,
           0.11,
           0.19,
           0.17,
           0.22,
           0.37,
           0.2,
           0.19,
           0.14,
           0.23,
           0.23,
           0.25,
           0.02,
           0.2,
           0.24,
           0.03,
           0.04,
           0.19,
           0.14,
           0.1,
           0.09,
           0.08,
           0.07,
           0.08,
           0.08,
           0.07,
           1,
           0.22
          ],
          [
           0.01,
           0.16,
           0.02,
           0.2,
           0.17,
           0.29,
           0.26,
           0.32,
           0.37,
           0.3,
           0.27,
           0.22,
           0.36,
           0.34,
           0.39,
           0.03,
           0.4,
           0.17,
           0.06,
           0.06,
           0.21,
           0.28,
           0.25,
           0.24,
           0.23,
           0.23,
           0.24,
           0.23,
           0.24,
           0.22,
           1
          ]
         ],
         "zmax": 1,
         "zmin": -1
        }
       ],
       "layout": {
        "height": 700,
        "margin": {
         "b": 10,
         "l": 10,
         "r": 10,
         "t": 30
        },
        "template": {
         "data": {
          "bar": [
           {
            "error_x": {
             "color": "#2a3f5f"
            },
            "error_y": {
             "color": "#2a3f5f"
            },
            "marker": {
             "line": {
              "color": "#E5ECF6",
              "width": 0.5
             },
             "pattern": {
              "fillmode": "overlay",
              "size": 10,
              "solidity": 0.2
             }
            },
            "type": "bar"
           }
          ],
          "barpolar": [
           {
            "marker": {
             "line": {
              "color": "#E5ECF6",
              "width": 0.5
             },
             "pattern": {
              "fillmode": "overlay",
              "size": 10,
              "solidity": 0.2
             }
            },
            "type": "barpolar"
           }
          ],
          "carpet": [
           {
            "aaxis": {
             "endlinecolor": "#2a3f5f",
             "gridcolor": "white",
             "linecolor": "white",
             "minorgridcolor": "white",
             "startlinecolor": "#2a3f5f"
            },
            "baxis": {
             "endlinecolor": "#2a3f5f",
             "gridcolor": "white",
             "linecolor": "white",
             "minorgridcolor": "white",
             "startlinecolor": "#2a3f5f"
            },
            "type": "carpet"
           }
          ],
          "choropleth": [
           {
            "colorbar": {
             "outlinewidth": 0,
             "ticks": ""
            },
            "type": "choropleth"
           }
          ],
          "contour": [
           {
            "colorbar": {
             "outlinewidth": 0,
             "ticks": ""
            },
            "colorscale": [
             [
              0,
              "#0d0887"
             ],
             [
              0.1111111111111111,
              "#46039f"
             ],
             [
              0.2222222222222222,
              "#7201a8"
             ],
             [
              0.3333333333333333,
              "#9c179e"
             ],
             [
              0.4444444444444444,
              "#bd3786"
             ],
             [
              0.5555555555555556,
              "#d8576b"
             ],
             [
              0.6666666666666666,
              "#ed7953"
             ],
             [
              0.7777777777777778,
              "#fb9f3a"
             ],
             [
              0.8888888888888888,
              "#fdca26"
             ],
             [
              1,
              "#f0f921"
             ]
            ],
            "type": "contour"
           }
          ],
          "contourcarpet": [
           {
            "colorbar": {
             "outlinewidth": 0,
             "ticks": ""
            },
            "type": "contourcarpet"
           }
          ],
          "heatmap": [
           {
            "colorbar": {
             "outlinewidth": 0,
             "ticks": ""
            },
            "colorscale": [
             [
              0,
              "#0d0887"
             ],
             [
              0.1111111111111111,
              "#46039f"
             ],
             [
              0.2222222222222222,
              "#7201a8"
             ],
             [
              0.3333333333333333,
              "#9c179e"
             ],
             [
              0.4444444444444444,
              "#bd3786"
             ],
             [
              0.5555555555555556,
              "#d8576b"
             ],
             [
              0.6666666666666666,
              "#ed7953"
             ],
             [
              0.7777777777777778,
              "#fb9f3a"
             ],
             [
              0.8888888888888888,
              "#fdca26"
             ],
             [
              1,
              "#f0f921"
             ]
            ],
            "type": "heatmap"
           }
          ],
          "heatmapgl": [
           {
            "colorbar": {
             "outlinewidth": 0,
             "ticks": ""
            },
            "colorscale": [
             [
              0,
              "#0d0887"
             ],
             [
              0.1111111111111111,
              "#46039f"
             ],
             [
              0.2222222222222222,
              "#7201a8"
             ],
             [
              0.3333333333333333,
              "#9c179e"
             ],
             [
              0.4444444444444444,
              "#bd3786"
             ],
             [
              0.5555555555555556,
              "#d8576b"
             ],
             [
              0.6666666666666666,
              "#ed7953"
             ],
             [
              0.7777777777777778,
              "#fb9f3a"
             ],
             [
              0.8888888888888888,
              "#fdca26"
             ],
             [
              1,
              "#f0f921"
             ]
            ],
            "type": "heatmapgl"
           }
          ],
          "histogram": [
           {
            "marker": {
             "pattern": {
              "fillmode": "overlay",
              "size": 10,
              "solidity": 0.2
             }
            },
            "type": "histogram"
           }
          ],
          "histogram2d": [
           {
            "colorbar": {
             "outlinewidth": 0,
             "ticks": ""
            },
            "colorscale": [
             [
              0,
              "#0d0887"
             ],
             [
              0.1111111111111111,
              "#46039f"
             ],
             [
              0.2222222222222222,
              "#7201a8"
             ],
             [
              0.3333333333333333,
              "#9c179e"
             ],
             [
              0.4444444444444444,
              "#bd3786"
             ],
             [
              0.5555555555555556,
              "#d8576b"
             ],
             [
              0.6666666666666666,
              "#ed7953"
             ],
             [
              0.7777777777777778,
              "#fb9f3a"
             ],
             [
              0.8888888888888888,
              "#fdca26"
             ],
             [
              1,
              "#f0f921"
             ]
            ],
            "type": "histogram2d"
           }
          ],
          "histogram2dcontour": [
           {
            "colorbar": {
             "outlinewidth": 0,
             "ticks": ""
            },
            "colorscale": [
             [
              0,
              "#0d0887"
             ],
             [
              0.1111111111111111,
              "#46039f"
             ],
             [
              0.2222222222222222,
              "#7201a8"
             ],
             [
              0.3333333333333333,
              "#9c179e"
             ],
             [
              0.4444444444444444,
              "#bd3786"
             ],
             [
              0.5555555555555556,
              "#d8576b"
             ],
             [
              0.6666666666666666,
              "#ed7953"
             ],
             [
              0.7777777777777778,
              "#fb9f3a"
             ],
             [
              0.8888888888888888,
              "#fdca26"
             ],
             [
              1,
              "#f0f921"
             ]
            ],
            "type": "histogram2dcontour"
           }
          ],
          "mesh3d": [
           {
            "colorbar": {
             "outlinewidth": 0,
             "ticks": ""
            },
            "type": "mesh3d"
           }
          ],
          "parcoords": [
           {
            "line": {
             "colorbar": {
              "outlinewidth": 0,
              "ticks": ""
             }
            },
            "type": "parcoords"
           }
          ],
          "pie": [
           {
            "automargin": true,
            "type": "pie"
           }
          ],
          "scatter": [
           {
            "fillpattern": {
             "fillmode": "overlay",
             "size": 10,
             "solidity": 0.2
            },
            "type": "scatter"
           }
          ],
          "scatter3d": [
           {
            "line": {
             "colorbar": {
              "outlinewidth": 0,
              "ticks": ""
             }
            },
            "marker": {
             "colorbar": {
              "outlinewidth": 0,
              "ticks": ""
             }
            },
            "type": "scatter3d"
           }
          ],
          "scattercarpet": [
           {
            "marker": {
             "colorbar": {
              "outlinewidth": 0,
              "ticks": ""
             }
            },
            "type": "scattercarpet"
           }
          ],
          "scattergeo": [
           {
            "marker": {
             "colorbar": {
              "outlinewidth": 0,
              "ticks": ""
             }
            },
            "type": "scattergeo"
           }
          ],
          "scattergl": [
           {
            "marker": {
             "colorbar": {
              "outlinewidth": 0,
              "ticks": ""
             }
            },
            "type": "scattergl"
           }
          ],
          "scattermapbox": [
           {
            "marker": {
             "colorbar": {
              "outlinewidth": 0,
              "ticks": ""
             }
            },
            "type": "scattermapbox"
           }
          ],
          "scatterpolar": [
           {
            "marker": {
             "colorbar": {
              "outlinewidth": 0,
              "ticks": ""
             }
            },
            "type": "scatterpolar"
           }
          ],
          "scatterpolargl": [
           {
            "marker": {
             "colorbar": {
              "outlinewidth": 0,
              "ticks": ""
             }
            },
            "type": "scatterpolargl"
           }
          ],
          "scatterternary": [
           {
            "marker": {
             "colorbar": {
              "outlinewidth": 0,
              "ticks": ""
             }
            },
            "type": "scatterternary"
           }
          ],
          "surface": [
           {
            "colorbar": {
             "outlinewidth": 0,
             "ticks": ""
            },
            "colorscale": [
             [
              0,
              "#0d0887"
             ],
             [
              0.1111111111111111,
              "#46039f"
             ],
             [
              0.2222222222222222,
              "#7201a8"
             ],
             [
              0.3333333333333333,
              "#9c179e"
             ],
             [
              0.4444444444444444,
              "#bd3786"
             ],
             [
              0.5555555555555556,
              "#d8576b"
             ],
             [
              0.6666666666666666,
              "#ed7953"
             ],
             [
              0.7777777777777778,
              "#fb9f3a"
             ],
             [
              0.8888888888888888,
              "#fdca26"
             ],
             [
              1,
              "#f0f921"
             ]
            ],
            "type": "surface"
           }
          ],
          "table": [
           {
            "cells": {
             "fill": {
              "color": "#EBF0F8"
             },
             "line": {
              "color": "white"
             }
            },
            "header": {
             "fill": {
              "color": "#C8D4E3"
             },
             "line": {
              "color": "white"
             }
            },
            "type": "table"
           }
          ]
         },
         "layout": {
          "annotationdefaults": {
           "arrowcolor": "#2a3f5f",
           "arrowhead": 0,
           "arrowwidth": 1
          },
          "autotypenumbers": "strict",
          "coloraxis": {
           "colorbar": {
            "outlinewidth": 0,
            "ticks": ""
           }
          },
          "colorscale": {
           "diverging": [
            [
             0,
             "#8e0152"
            ],
            [
             0.1,
             "#c51b7d"
            ],
            [
             0.2,
             "#de77ae"
            ],
            [
             0.3,
             "#f1b6da"
            ],
            [
             0.4,
             "#fde0ef"
            ],
            [
             0.5,
             "#f7f7f7"
            ],
            [
             0.6,
             "#e6f5d0"
            ],
            [
             0.7,
             "#b8e186"
            ],
            [
             0.8,
             "#7fbc41"
            ],
            [
             0.9,
             "#4d9221"
            ],
            [
             1,
             "#276419"
            ]
           ],
           "sequential": [
            [
             0,
             "#0d0887"
            ],
            [
             0.1111111111111111,
             "#46039f"
            ],
            [
             0.2222222222222222,
             "#7201a8"
            ],
            [
             0.3333333333333333,
             "#9c179e"
            ],
            [
             0.4444444444444444,
             "#bd3786"
            ],
            [
             0.5555555555555556,
             "#d8576b"
            ],
            [
             0.6666666666666666,
             "#ed7953"
            ],
            [
             0.7777777777777778,
             "#fb9f3a"
            ],
            [
             0.8888888888888888,
             "#fdca26"
            ],
            [
             1,
             "#f0f921"
            ]
           ],
           "sequentialminus": [
            [
             0,
             "#0d0887"
            ],
            [
             0.1111111111111111,
             "#46039f"
            ],
            [
             0.2222222222222222,
             "#7201a8"
            ],
            [
             0.3333333333333333,
             "#9c179e"
            ],
            [
             0.4444444444444444,
             "#bd3786"
            ],
            [
             0.5555555555555556,
             "#d8576b"
            ],
            [
             0.6666666666666666,
             "#ed7953"
            ],
            [
             0.7777777777777778,
             "#fb9f3a"
            ],
            [
             0.8888888888888888,
             "#fdca26"
            ],
            [
             1,
             "#f0f921"
            ]
           ]
          },
          "colorway": [
           "#636efa",
           "#EF553B",
           "#00cc96",
           "#ab63fa",
           "#FFA15A",
           "#19d3f3",
           "#FF6692",
           "#B6E880",
           "#FF97FF",
           "#FECB52"
          ],
          "font": {
           "color": "#2a3f5f"
          },
          "geo": {
           "bgcolor": "white",
           "lakecolor": "white",
           "landcolor": "#E5ECF6",
           "showlakes": true,
           "showland": true,
           "subunitcolor": "white"
          },
          "hoverlabel": {
           "align": "left"
          },
          "hovermode": "closest",
          "mapbox": {
           "style": "light"
          },
          "paper_bgcolor": "white",
          "plot_bgcolor": "#E5ECF6",
          "polar": {
           "angularaxis": {
            "gridcolor": "white",
            "linecolor": "white",
            "ticks": ""
           },
           "bgcolor": "#E5ECF6",
           "radialaxis": {
            "gridcolor": "white",
            "linecolor": "white",
            "ticks": ""
           }
          },
          "scene": {
           "xaxis": {
            "backgroundcolor": "#E5ECF6",
            "gridcolor": "white",
            "gridwidth": 2,
            "linecolor": "white",
            "showbackground": true,
            "ticks": "",
            "zerolinecolor": "white"
           },
           "yaxis": {
            "backgroundcolor": "#E5ECF6",
            "gridcolor": "white",
            "gridwidth": 2,
            "linecolor": "white",
            "showbackground": true,
            "ticks": "",
            "zerolinecolor": "white"
           },
           "zaxis": {
            "backgroundcolor": "#E5ECF6",
            "gridcolor": "white",
            "gridwidth": 2,
            "linecolor": "white",
            "showbackground": true,
            "ticks": "",
            "zerolinecolor": "white"
           }
          },
          "shapedefaults": {
           "line": {
            "color": "#2a3f5f"
           }
          },
          "ternary": {
           "aaxis": {
            "gridcolor": "white",
            "linecolor": "white",
            "ticks": ""
           },
           "baxis": {
            "gridcolor": "white",
            "linecolor": "white",
            "ticks": ""
           },
           "bgcolor": "#E5ECF6",
           "caxis": {
            "gridcolor": "white",
            "linecolor": "white",
            "ticks": ""
           }
          },
          "title": {
           "x": 0.05
          },
          "xaxis": {
           "automargin": true,
           "gridcolor": "white",
           "linecolor": "white",
           "ticks": "",
           "title": {
            "standoff": 15
           },
           "zerolinecolor": "white",
           "zerolinewidth": 2
          },
          "yaxis": {
           "automargin": true,
           "gridcolor": "white",
           "linecolor": "white",
           "ticks": "",
           "title": {
            "standoff": 15
           },
           "zerolinecolor": "white",
           "zerolinewidth": 2
          }
         }
        },
        "title": {
         "text": "<b>Correlation Heatmap",
         "x": 0.5,
         "xanchor": "center",
         "yanchor": "top"
        },
        "width": 1200,
        "xaxis": {
         "showgrid": false,
         "side": "bottom"
        },
        "yaxis": {
         "autorange": "reversed",
         "showgrid": false
        }
       }
      }
     },
     "metadata": {},
     "output_type": "display_data"
    }
   ],
   "source": [
    "plot_corr_matrix(corr_matrix)"
   ]
  },
  {
   "cell_type": "markdown",
   "metadata": {},
   "source": [
    "#### 5.2 hierarchical clustering of correlation matrix"
   ]
  },
  {
   "cell_type": "markdown",
   "metadata": {},
   "source": [
    "Now, We will perform feature clustering by applying hierarchical clustering to the correlation matrix using Ward's method. This method minimizes the increase in total within-cluster variance at each step, leading to the formation of more equally sized and cohesive clusters. The choice of threshold in this method is crucial as it influences the final granularity of clustering, dictating how closely the features are grouped together."
   ]
  },
  {
   "cell_type": "code",
   "execution_count": 26,
   "metadata": {},
   "outputs": [
    {
     "data": {
      "image/png": "[encoded data removed]",
      "text/plain": [
       "<Figure size 1200x500 with 1 Axes>"
      ]
     },
     "metadata": {},
     "output_type": "display_data"
    }
   ],
   "source": [
    "plt.figure(figsize=(12, 5))\n",
    "dissimilarity = 1 - abs(corr_matrix)\n",
    "Z = linkage(dissimilarity, 'ward') \n",
    "dendrogram(Z, labels=corr_matrix.columns, orientation='top', leaf_rotation=90)\n",
    "plt.ylabel('Ward Linkage Distance')\n",
    "plt.title('Hierarchical Clustering Dendrogram (Ward Linkage)')\n",
    "plt.show()"
   ]
  },
  {
   "cell_type": "markdown",
   "metadata": {},
   "source": [
    "Based on the dendrogram, we can choose an appropriate clustering distance threshold."
   ]
  },
  {
   "cell_type": "code",
   "execution_count": 27,
   "metadata": {},
   "outputs": [
    {
     "data": {
      "application/vnd.plotly.v1+json": {
       "config": {
        "plotlyServerURL": "https://plot.ly"
       },
       "data": [
        {
         "colorscale": [
          [
           0,
           "rgb(176, 242, 188)"
          ],
          [
           0.16666666666666666,
           "rgb(137, 232, 172)"
          ],
          [
           0.3333333333333333,
           "rgb(103, 219, 165)"
          ],
          [
           0.5,
           "rgb(76, 200, 163)"
          ],
          [
           0.6666666666666666,
           "rgb(56, 178, 163)"
          ],
          [
           0.8333333333333334,
           "rgb(44, 152, 160)"
          ],
          [
           1,
           "rgb(37, 125, 152)"
          ]
         ],
         "hoverongaps": false,
         "type": "heatmap",
         "x": [
          "Month",
          "Age",
          "Occupation",
          "Credit_Utilization_Ratio",
          "Amount_invested_monthly",
          "Payment_Behaviour",
          "Num_Bank_Accounts",
          "Num_Credit_Card",
          "Interest_Rate",
          "Delay_from_due_date",
          "Num_of_Delayed_Payment",
          "Num_Credit_Inquiries",
          "Credit_Mix",
          "Outstanding_Debt",
          "Payment_of_Min_Amount",
          "Credit_Score",
          "Credit_History_in_Year",
          "Annual_Income",
          "Monthly_Inhand_Salary",
          "Monthly_Balance",
          "Num_of_Loan",
          "Changed_Credit_Limit",
          "Total_EMI_per_month",
          "Credit-Builder Loan",
          "Personal Loan",
          "Debt Consolidation Loan",
          "Student Loan",
          "Payday Loan",
          "Mortgage Loan",
          "Auto Loan",
          "Home Equity Loan"
         ],
         "y": [
          "Month",
          "Age",
          "Occupation",
          "Credit_Utilization_Ratio",
          "Amount_invested_monthly",
          "Payment_Behaviour",
          "Num_Bank_Accounts",
          "Num_Credit_Card",
          "Interest_Rate",
          "Delay_from_due_date",
          "Num_of_Delayed_Payment",
          "Num_Credit_Inquiries",
          "Credit_Mix",
          "Outstanding_Debt",
          "Payment_of_Min_Amount",
          "Credit_Score",
          "Credit_History_in_Year",
          "Annual_Income",
          "Monthly_Inhand_Salary",
          "Monthly_Balance",
          "Num_of_Loan",
          "Changed_Credit_Limit",
          "Total_EMI_per_month",
          "Credit-Builder Loan",
          "Personal Loan",
          "Debt Consolidation Loan",
          "Student Loan",
          "Payday Loan",
          "Mortgage Loan",
          "Auto Loan",
          "Home Equity Loan"
         ],
         "z": [
          [
           1,
           0,
           0,
           0,
           0,
           0,
           0,
           0,
           0,
           0,
           0,
           0.06,
           0,
           0,
           0,
           0.03,
           0.01,
           0,
           0,
           0,
           0,
           0,
           0.03,
           0,
           0,
           0,
           0,
           0,
           0,
           0,
           0
          ],
          [
           0,
           1,
           0.02,
           0.01,
           0.02,
           0.02,
           0.11,
           0.1,
           0.14,
           0.12,
           0.11,
           0.17,
           0.14,
           0.15,
           0.16,
           0.1,
           0.16,
           0.09,
           0.07,
           0.08,
           0.14,
           0.1,
           0.06,
           0.07,
           0.08,
           0.08,
           0.09,
           0.07,
           0.07,
           0.07,
           0.08
          ],
          [
           0,
           0.02,
           1,
           0,
           0.01,
           0,
           0.03,
           0.02,
           0.02,
           0.03,
           0.02,
           0.02,
           0.02,
           0.02,
           0.02,
           0.03,
           0.02,
           0.02,
           0.02,
           0.02,
           0.02,
           0.02,
           0.03,
           0.02,
           0.02,
           0.03,
           0.02,
           0.02,
           0.05,
           0.02,
           0.03
          ],
          [
           0,
           0.01,
           0,
           1,
           0.02,
           0.06,
           0.03,
           0.02,
           0.03,
           0.03,
           0.02,
           0.03,
           0.03,
           0.04,
           0.03,
           0.02,
           0.03,
           0.06,
           0.06,
           0.1,
           0.04,
           0.02,
           0.02,
           0.03,
           0.03,
           0.02,
           0.03,
           0.02,
           0.03,
           0.02,
           0.02
          ],
          [
           0,
           0.02,
           0.01,
           0.02,
           1,
           0.13,
           0.06,
           0.05,
           0.06,
           0.06,
           0.06,
           0.06,
           0.07,
           0.07,
           0.08,
           0.07,
           0.06,
           0.21,
           0.2,
           0.17,
           0.06,
           0.03,
           0.05,
           0.05,
           0.04,
           0.04,
           0.04,
           0.04,
           0.04,
           0.04,
           0.03
          ],
          [
           0,
           0.02,
           0,
           0.06,
           0.13,
           1,
           0.06,
           0.04,
           0.06,
           0.05,
           0.04,
           0.05,
           0.06,
           0.07,
           0.07,
           0.08,
           0.06,
           0.17,
           0.16,
           0.27,
           0.06,
           0.03,
           0.04,
           0.04,
           0.04,
           0.04,
           0.03,
           0.04,
           0.04,
           0.03,
           0.04
          ],
          [
           0,
           0.11,
           0.03,
           0.03,
           0.06,
           0.06,
           1,
           0.28,
           0.33,
           0.36,
           0.33,
           0.32,
           0.39,
           0.35,
           0.36,
           0.29,
           0.29,
           0.2,
           0.17,
           0.18,
           0.3,
           0.17,
           0.12,
           0.2,
           0.19,
           0.19,
           0.18,
           0.2,
           0.21,
           0.19,
           0.19
          ],
          [
           0,
           0.1,
           0.02,
           0.02,
           0.05,
           0.04,
           0.28,
           1,
           0.3,
           0.26,
           0.22,
           0.25,
           0.32,
           0.34,
           0.27,
           0.29,
           0.26,
           0.15,
           0.12,
           0.13,
           0.27,
           0.12,
           0.11,
           0.18,
           0.17,
           0.16,
           0.17,
           0.18,
           0.18,
           0.17,
           0.17
          ],
          [
           0,
           0.14,
           0.02,
           0.03,
           0.06,
           0.06,
           0.33,
           0.3,
           1,
           0.34,
           0.31,
           0.36,
           0.38,
           0.41,
           0.39,
           0.34,
           0.32,
           0.21,
           0.18,
           0.2,
           0.33,
           0.19,
           0.15,
           0.22,
           0.21,
           0.21,
           0.21,
           0.21,
           0.22,
           0.22,
           0.22
          ],
          [
           0,
           0.12,
           0.03,
           0.03,
           0.06,
           0.05,
           0.36,
           0.26,
           0.34,
           1,
           0.31,
           0.29,
           0.43,
           0.37,
           0.37,
           0.35,
           0.3,
           0.17,
           0.15,
           0.16,
           0.31,
           0.15,
           0.13,
           0.2,
           0.21,
           0.2,
           0.2,
           0.2,
           0.21,
           0.2,
           0.2
          ],
          [
           0,
           0.11,
           0.02,
           0.02,
           0.06,
           0.04,
           0.33,
           0.22,
           0.31,
           0.31,
           1,
           0.23,
           0.45,
           0.31,
           0.39,
           0.29,
           0.27,
           0.15,
           0.13,
           0.14,
           0.29,
           0.16,
           0.11,
           0.2,
           0.18,
           0.16,
           0.18,
           0.18,
           0.19,
           0.19,
           0.19
          ],
          [
           0.06,
           0.17,
           0.02,
           0.03,
           0.06,
           0.05,
           0.32,
           0.25,
           0.36,
           0.29,
           0.23,
           1,
           0.37,
           0.4,
           0.44,
           0.32,
           0.36,
           0.17,
           0.14,
           0.16,
           0.36,
           0.2,
           0.17,
           0.23,
           0.22,
           0.22,
           0.23,
           0.23,
           0.23,
           0.23,
           0.23
          ],
          [
           0,
           0.14,
           0.02,
           0.03,
           0.07,
           0.06,
           0.39,
           0.32,
           0.38,
           0.43,
           0.45,
           0.37,
           1,
           0.41,
           0.49,
           0.4,
           0.34,
           0.22,
           0.19,
           0.21,
           0.36,
           0.24,
           0.15,
           0.24,
           0.23,
           0.22,
           0.22,
           0.23,
           0.24,
           0.23,
           0.23
          ],
          [
           0,
           0.15,
           0.02,
           0.04,
           0.07,
           0.07,
           0.35,
           0.34,
           0.41,
           0.37,
           0.31,
           0.4,
           0.41,
           1,
           0.38,
           0.37,
           0.39,
           0.25,
           0.21,
           0.23,
           0.4,
           0.22,
           0.17,
           0.26,
           0.26,
           0.25,
           0.25,
           0.26,
           0.26,
           0.26,
           0.25
          ],
          [
           0,
           0.16,
           0.02,
           0.03,
           0.08,
           0.07,
           0.36,
           0.27,
           0.39,
           0.37,
           0.39,
           0.44,
           0.49,
           0.38,
           1,
           0.31,
           0.4,
           0.24,
           0.21,
           0.23,
           0.37,
           0.35,
           0.14,
           0.2,
           0.19,
           0.19,
           0.18,
           0.2,
           0.19,
           0.19,
           0.2
          ],
          [
           0.03,
           0.1,
           0.03,
           0.02,
           0.07,
           0.08,
           0.29,
           0.29,
           0.34,
           0.35,
           0.29,
           0.32,
           0.4,
           0.37,
           0.31,
           1,
           0.28,
           0.19,
           0.16,
           0.16,
           0.27,
           0.16,
           0.11,
           0.14,
           0.14,
           0.14,
           0.14,
           0.14,
           0.14,
           0.15,
           0.14
          ],
          [
           0.01,
           0.16,
           0.02,
           0.03,
           0.06,
           0.06,
           0.29,
           0.26,
           0.32,
           0.3,
           0.27,
           0.36,
           0.34,
           0.39,
           0.4,
           0.28,
           1,
           0.2,
           0.17,
           0.21,
           0.37,
           0.22,
           0.17,
           0.25,
           0.24,
           0.23,
           0.23,
           0.24,
           0.23,
           0.24,
           0.22
          ],
          [
           0,
           0.09,
           0.02,
           0.06,
           0.21,
           0.17,
           0.2,
           0.15,
           0.21,
           0.17,
           0.15,
           0.17,
           0.22,
           0.25,
           0.24,
           0.19,
           0.2,
           1,
           0.68,
           0.38,
           0.21,
           0.1,
           0.11,
           0.15,
           0.13,
           0.13,
           0.13,
           0.14,
           0.13,
           0.13,
           0.13
          ],
          [
           0,
           0.07,
           0.02,
           0.06,
           0.2,
           0.16,
           0.17,
           0.12,
           0.18,
           0.15,
           0.13,
           0.14,
           0.19,
           0.21,
           0.21,
           0.16,
           0.17,
           0.68,
           1,
           0.34,
           0.17,
           0.09,
           0.1,
           0.13,
           0.11,
           0.12,
           0.1,
           0.12,
           0.1,
           0.11,
           0.11
          ],
          [
           0,
           0.08,
           0.02,
           0.1,
           0.17,
           0.27,
           0.18,
           0.13,
           0.2,
           0.16,
           0.14,
           0.16,
           0.21,
           0.23,
           0.23,
           0.16,
           0.21,
           0.38,
           0.34,
           1,
           0.27,
           0.1,
           0.17,
           0.21,
           0.19,
           0.19,
           0.18,
           0.19,
           0.19,
           0.19,
           0.19
          ],
          [
           0,
           0.14,
           0.02,
           0.04,
           0.06,
           0.06,
           0.3,
           0.27,
           0.33,
           0.31,
           0.29,
           0.36,
           0.36,
           0.4,
           0.37,
           0.27,
           0.37,
           0.21,
           0.17,
           0.27,
           1,
           0.21,
           0.46,
           0.38,
           0.36,
           0.36,
           0.36,
           0.37,
           0.37,
           0.36,
           0.37
          ],
          [
           0,
           0.1,
           0.02,
           0.02,
           0.03,
           0.03,
           0.17,
           0.12,
           0.19,
           0.15,
           0.16,
           0.2,
           0.24,
           0.22,
           0.35,
           0.16,
           0.22,
           0.1,
           0.09,
           0.1,
           0.21,
           1,
           0.1,
           0.14,
           0.14,
           0.13,
           0.14,
           0.13,
           0.13,
           0.13,
           0.14
          ],
          [
           0.03,
           0.06,
           0.03,
           0.02,
           0.05,
           0.04,
           0.12,
           0.11,
           0.15,
           0.13,
           0.11,
           0.17,
           0.15,
           0.17,
           0.14,
           0.11,
           0.17,
           0.11,
           0.1,
           0.17,
           0.46,
           0.1,
           1,
           0.24,
           0.24,
           0.24,
           0.24,
           0.24,
           0.24,
           0.23,
           0.24
          ],
          [
           0,
           0.07,
           0.02,
           0.03,
           0.05,
           0.04,
           0.2,
           0.18,
           0.22,
           0.2,
           0.2,
           0.23,
           0.24,
           0.26,
           0.2,
           0.14,
           0.25,
           0.15,
           0.13,
           0.21,
           0.38,
           0.14,
           0.24,
           1,
           0.08,
           0.07,
           0.07,
           0.07,
           0.08,
           0.09,
           0.1
          ],
          [
           0,
           0.08,
           0.02,
           0.03,
           0.04,
           0.04,
           0.19,
           0.17,
           0.21,
           0.21,
           0.18,
           0.22,
           0.23,
           0.26,
           0.19,
           0.14,
           0.24,
           0.13,
           0.11,
           0.19,
           0.36,
           0.14,
           0.24,
           0.08,
           1,
           0.08,
           0.08,
           0.07,
           0.09,
           0.08,
           0.09
          ],
          [
           0,
           0.08,
           0.03,
           0.02,
           0.04,
           0.04,
           0.19,
           0.16,
           0.21,
           0.2,
           0.16,
           0.22,
           0.22,
           0.25,
           0.19,
           0.14,
           0.23,
           0.13,
           0.12,
           0.19,
           0.36,
           0.13,
           0.24,
           0.07,
           0.08,
           1,
           0.05,
           0.08,
           0.07,
           0.08,
           0.08
          ],
          [
           0,
           0.09,
           0.02,
           0.03,
           0.04,
           0.03,
           0.18,
           0.17,
           0.21,
           0.2,
           0.18,
           0.23,
           0.22,
           0.25,
           0.18,
           0.14,
           0.23,
           0.13,
           0.1,
           0.18,
           0.36,
           0.14,
           0.24,
           0.07,
           0.08,
           0.05,
           1,
           0.07,
           0.07,
           0.07,
           0.07
          ],
          [
           0,
           0.07,
           0.02,
           0.02,
           0.04,
           0.04,
           0.2,
           0.18,
           0.21,
           0.2,
           0.18,
           0.23,
           0.23,
           0.26,
           0.2,
           0.14,
           0.24,
           0.14,
           0.12,
           0.19,
           0.37,
           0.13,
           0.24,
           0.07,
           0.07,
           0.08,
           0.07,
           1,
           0.07,
           0.09,
           0.08
          ],
          [
           0,
           0.07,
           0.05,
           0.03,
           0.04,
           0.04,
           0.21,
           0.18,
           0.22,
           0.21,
           0.19,
           0.23,
           0.24,
           0.26,
           0.19,
           0.14,
           0.23,
           0.13,
           0.1,
           0.19,
           0.37,
           0.13,
           0.24,
           0.08,
           0.09,
           0.07,
           0.07,
           0.07,
           1,
           0.07,
           0.08
          ],
          [
           0,
           0.07,
           0.02,
           0.02,
           0.04,
           0.03,
           0.19,
           0.17,
           0.22,
           0.2,
           0.19,
           0.23,
           0.23,
           0.26,
           0.19,
           0.15,
           0.24,
           0.13,
           0.11,
           0.19,
           0.36,
           0.13,
           0.23,
           0.09,
           0.08,
           0.08,
           0.07,
           0.09,
           0.07,
           1,
           0.07
          ],
          [
           0,
           0.08,
           0.03,
           0.02,
           0.03,
           0.04,
           0.19,
           0.17,
           0.22,
           0.2,
           0.19,
           0.23,
           0.23,
           0.25,
           0.2,
           0.14,
           0.22,
           0.13,
           0.11,
           0.19,
           0.37,
           0.14,
           0.24,
           0.1,
           0.09,
           0.08,
           0.07,
           0.08,
           0.08,
           0.07,
           1
          ]
         ],
         "zmax": 1,
         "zmin": -1
        }
       ],
       "layout": {
        "height": 700,
        "margin": {
         "b": 10,
         "l": 10,
         "r": 10,
         "t": 30
        },
        "template": {
         "data": {
          "bar": [
           {
            "error_x": {
             "color": "#2a3f5f"
            },
            "error_y": {
             "color": "#2a3f5f"
            },
            "marker": {
             "line": {
              "color": "#E5ECF6",
              "width": 0.5
             },
             "pattern": {
              "fillmode": "overlay",
              "size": 10,
              "solidity": 0.2
             }
            },
            "type": "bar"
           }
          ],
          "barpolar": [
           {
            "marker": {
             "line": {
              "color": "#E5ECF6",
              "width": 0.5
             },
             "pattern": {
              "fillmode": "overlay",
              "size": 10,
              "solidity": 0.2
             }
            },
            "type": "barpolar"
           }
          ],
          "carpet": [
           {
            "aaxis": {
             "endlinecolor": "#2a3f5f",
             "gridcolor": "white",
             "linecolor": "white",
             "minorgridcolor": "white",
             "startlinecolor": "#2a3f5f"
            },
            "baxis": {
             "endlinecolor": "#2a3f5f",
             "gridcolor": "white",
             "linecolor": "white",
             "minorgridcolor": "white",
             "startlinecolor": "#2a3f5f"
            },
            "type": "carpet"
           }
          ],
          "choropleth": [
           {
            "colorbar": {
             "outlinewidth": 0,
             "ticks": ""
            },
            "type": "choropleth"
           }
          ],
          "contour": [
           {
            "colorbar": {
             "outlinewidth": 0,
             "ticks": ""
            },
            "colorscale": [
             [
              0,
              "#0d0887"
             ],
             [
              0.1111111111111111,
              "#46039f"
             ],
             [
              0.2222222222222222,
              "#7201a8"
             ],
             [
              0.3333333333333333,
              "#9c179e"
             ],
             [
              0.4444444444444444,
              "#bd3786"
             ],
             [
              0.5555555555555556,
              "#d8576b"
             ],
             [
              0.6666666666666666,
              "#ed7953"
             ],
             [
              0.7777777777777778,
              "#fb9f3a"
             ],
             [
              0.8888888888888888,
              "#fdca26"
             ],
             [
              1,
              "#f0f921"
             ]
            ],
            "type": "contour"
           }
          ],
          "contourcarpet": [
           {
            "colorbar": {
             "outlinewidth": 0,
             "ticks": ""
            },
            "type": "contourcarpet"
           }
          ],
          "heatmap": [
           {
            "colorbar": {
             "outlinewidth": 0,
             "ticks": ""
            },
            "colorscale": [
             [
              0,
              "#0d0887"
             ],
             [
              0.1111111111111111,
              "#46039f"
             ],
             [
              0.2222222222222222,
              "#7201a8"
             ],
             [
              0.3333333333333333,
              "#9c179e"
             ],
             [
              0.4444444444444444,
              "#bd3786"
             ],
             [
              0.5555555555555556,
              "#d8576b"
             ],
             [
              0.6666666666666666,
              "#ed7953"
             ],
             [
              0.7777777777777778,
              "#fb9f3a"
             ],
             [
              0.8888888888888888,
              "#fdca26"
             ],
             [
              1,
              "#f0f921"
             ]
            ],
            "type": "heatmap"
           }
          ],
          "heatmapgl": [
           {
            "colorbar": {
             "outlinewidth": 0,
             "ticks": ""
            },
            "colorscale": [
             [
              0,
              "#0d0887"
             ],
             [
              0.1111111111111111,
              "#46039f"
             ],
             [
              0.2222222222222222,
              "#7201a8"
             ],
             [
              0.3333333333333333,
              "#9c179e"
             ],
             [
              0.4444444444444444,
              "#bd3786"
             ],
             [
              0.5555555555555556,
              "#d8576b"
             ],
             [
              0.6666666666666666,
              "#ed7953"
             ],
             [
              0.7777777777777778,
              "#fb9f3a"
             ],
             [
              0.8888888888888888,
              "#fdca26"
             ],
             [
              1,
              "#f0f921"
             ]
            ],
            "type": "heatmapgl"
           }
          ],
          "histogram": [
           {
            "marker": {
             "pattern": {
              "fillmode": "overlay",
              "size": 10,
              "solidity": 0.2
             }
            },
            "type": "histogram"
           }
          ],
          "histogram2d": [
           {
            "colorbar": {
             "outlinewidth": 0,
             "ticks": ""
            },
            "colorscale": [
             [
              0,
              "#0d0887"
             ],
             [
              0.1111111111111111,
              "#46039f"
             ],
             [
              0.2222222222222222,
              "#7201a8"
             ],
             [
              0.3333333333333333,
              "#9c179e"
             ],
             [
              0.4444444444444444,
              "#bd3786"
             ],
             [
              0.5555555555555556,
              "#d8576b"
             ],
             [
              0.6666666666666666,
              "#ed7953"
             ],
             [
              0.7777777777777778,
              "#fb9f3a"
             ],
             [
              0.8888888888888888,
              "#fdca26"
             ],
             [
              1,
              "#f0f921"
             ]
            ],
            "type": "histogram2d"
           }
          ],
          "histogram2dcontour": [
           {
            "colorbar": {
             "outlinewidth": 0,
             "ticks": ""
            },
            "colorscale": [
             [
              0,
              "#0d0887"
             ],
             [
              0.1111111111111111,
              "#46039f"
             ],
             [
              0.2222222222222222,
              "#7201a8"
             ],
             [
              0.3333333333333333,
              "#9c179e"
             ],
             [
              0.4444444444444444,
              "#bd3786"
             ],
             [
              0.5555555555555556,
              "#d8576b"
             ],
             [
              0.6666666666666666,
              "#ed7953"
             ],
             [
              0.7777777777777778,
              "#fb9f3a"
             ],
             [
              0.8888888888888888,
              "#fdca26"
             ],
             [
              1,
              "#f0f921"
             ]
            ],
            "type": "histogram2dcontour"
           }
          ],
          "mesh3d": [
           {
            "colorbar": {
             "outlinewidth": 0,
             "ticks": ""
            },
            "type": "mesh3d"
           }
          ],
          "parcoords": [
           {
            "line": {
             "colorbar": {
              "outlinewidth": 0,
              "ticks": ""
             }
            },
            "type": "parcoords"
           }
          ],
          "pie": [
           {
            "automargin": true,
            "type": "pie"
           }
          ],
          "scatter": [
           {
            "fillpattern": {
             "fillmode": "overlay",
             "size": 10,
             "solidity": 0.2
            },
            "type": "scatter"
           }
          ],
          "scatter3d": [
           {
            "line": {
             "colorbar": {
              "outlinewidth": 0,
              "ticks": ""
             }
            },
            "marker": {
             "colorbar": {
              "outlinewidth": 0,
              "ticks": ""
             }
            },
            "type": "scatter3d"
           }
          ],
          "scattercarpet": [
           {
            "marker": {
             "colorbar": {
              "outlinewidth": 0,
              "ticks": ""
             }
            },
            "type": "scattercarpet"
           }
          ],
          "scattergeo": [
           {
            "marker": {
             "colorbar": {
              "outlinewidth": 0,
              "ticks": ""
             }
            },
            "type": "scattergeo"
           }
          ],
          "scattergl": [
           {
            "marker": {
             "colorbar": {
              "outlinewidth": 0,
              "ticks": ""
             }
            },
            "type": "scattergl"
           }
          ],
          "scattermapbox": [
           {
            "marker": {
             "colorbar": {
              "outlinewidth": 0,
              "ticks": ""
             }
            },
            "type": "scattermapbox"
           }
          ],
          "scatterpolar": [
           {
            "marker": {
             "colorbar": {
              "outlinewidth": 0,
              "ticks": ""
             }
            },
            "type": "scatterpolar"
           }
          ],
          "scatterpolargl": [
           {
            "marker": {
             "colorbar": {
              "outlinewidth": 0,
              "ticks": ""
             }
            },
            "type": "scatterpolargl"
           }
          ],
          "scatterternary": [
           {
            "marker": {
             "colorbar": {
              "outlinewidth": 0,
              "ticks": ""
             }
            },
            "type": "scatterternary"
           }
          ],
          "surface": [
           {
            "colorbar": {
             "outlinewidth": 0,
             "ticks": ""
            },
            "colorscale": [
             [
              0,
              "#0d0887"
             ],
             [
              0.1111111111111111,
              "#46039f"
             ],
             [
              0.2222222222222222,
              "#7201a8"
             ],
             [
              0.3333333333333333,
              "#9c179e"
             ],
             [
              0.4444444444444444,
              "#bd3786"
             ],
             [
              0.5555555555555556,
              "#d8576b"
             ],
             [
              0.6666666666666666,
              "#ed7953"
             ],
             [
              0.7777777777777778,
              "#fb9f3a"
             ],
             [
              0.8888888888888888,
              "#fdca26"
             ],
             [
              1,
              "#f0f921"
             ]
            ],
            "type": "surface"
           }
          ],
          "table": [
           {
            "cells": {
             "fill": {
              "color": "#EBF0F8"
             },
             "line": {
              "color": "white"
             }
            },
            "header": {
             "fill": {
              "color": "#C8D4E3"
             },
             "line": {
              "color": "white"
             }
            },
            "type": "table"
           }
          ]
         },
         "layout": {
          "annotationdefaults": {
           "arrowcolor": "#2a3f5f",
           "arrowhead": 0,
           "arrowwidth": 1
          },
          "autotypenumbers": "strict",
          "coloraxis": {
           "colorbar": {
            "outlinewidth": 0,
            "ticks": ""
           }
          },
          "colorscale": {
           "diverging": [
            [
             0,
             "#8e0152"
            ],
            [
             0.1,
             "#c51b7d"
            ],
            [
             0.2,
             "#de77ae"
            ],
            [
             0.3,
             "#f1b6da"
            ],
            [
             0.4,
             "#fde0ef"
            ],
            [
             0.5,
             "#f7f7f7"
            ],
            [
             0.6,
             "#e6f5d0"
            ],
            [
             0.7,
             "#b8e186"
            ],
            [
             0.8,
             "#7fbc41"
            ],
            [
             0.9,
             "#4d9221"
            ],
            [
             1,
             "#276419"
            ]
           ],
           "sequential": [
            [
             0,
             "#0d0887"
            ],
            [
             0.1111111111111111,
             "#46039f"
            ],
            [
             0.2222222222222222,
             "#7201a8"
            ],
            [
             0.3333333333333333,
             "#9c179e"
            ],
            [
             0.4444444444444444,
             "#bd3786"
            ],
            [
             0.5555555555555556,
             "#d8576b"
            ],
            [
             0.6666666666666666,
             "#ed7953"
            ],
            [
             0.7777777777777778,
             "#fb9f3a"
            ],
            [
             0.8888888888888888,
             "#fdca26"
            ],
            [
             1,
             "#f0f921"
            ]
           ],
           "sequentialminus": [
            [
             0,
             "#0d0887"
            ],
            [
             0.1111111111111111,
             "#46039f"
            ],
            [
             0.2222222222222222,
             "#7201a8"
            ],
            [
             0.3333333333333333,
             "#9c179e"
            ],
            [
             0.4444444444444444,
             "#bd3786"
            ],
            [
             0.5555555555555556,
             "#d8576b"
            ],
            [
             0.6666666666666666,
             "#ed7953"
            ],
            [
             0.7777777777777778,
             "#fb9f3a"
            ],
            [
             0.8888888888888888,
             "#fdca26"
            ],
            [
             1,
             "#f0f921"
            ]
           ]
          },
          "colorway": [
           "#636efa",
           "#EF553B",
           "#00cc96",
           "#ab63fa",
           "#FFA15A",
           "#19d3f3",
           "#FF6692",
           "#B6E880",
           "#FF97FF",
           "#FECB52"
          ],
          "font": {
           "color": "#2a3f5f"
          },
          "geo": {
           "bgcolor": "white",
           "lakecolor": "white",
           "landcolor": "#E5ECF6",
           "showlakes": true,
           "showland": true,
           "subunitcolor": "white"
          },
          "hoverlabel": {
           "align": "left"
          },
          "hovermode": "closest",
          "mapbox": {
           "style": "light"
          },
          "paper_bgcolor": "white",
          "plot_bgcolor": "#E5ECF6",
          "polar": {
           "angularaxis": {
            "gridcolor": "white",
            "linecolor": "white",
            "ticks": ""
           },
           "bgcolor": "#E5ECF6",
           "radialaxis": {
            "gridcolor": "white",
            "linecolor": "white",
            "ticks": ""
           }
          },
          "scene": {
           "xaxis": {
            "backgroundcolor": "#E5ECF6",
            "gridcolor": "white",
            "gridwidth": 2,
            "linecolor": "white",
            "showbackground": true,
            "ticks": "",
            "zerolinecolor": "white"
           },
           "yaxis": {
            "backgroundcolor": "#E5ECF6",
            "gridcolor": "white",
            "gridwidth": 2,
            "linecolor": "white",
            "showbackground": true,
            "ticks": "",
            "zerolinecolor": "white"
           },
           "zaxis": {
            "backgroundcolor": "#E5ECF6",
            "gridcolor": "white",
            "gridwidth": 2,
            "linecolor": "white",
            "showbackground": true,
            "ticks": "",
            "zerolinecolor": "white"
           }
          },
          "shapedefaults": {
           "line": {
            "color": "#2a3f5f"
           }
          },
          "ternary": {
           "aaxis": {
            "gridcolor": "white",
            "linecolor": "white",
            "ticks": ""
           },
           "baxis": {
            "gridcolor": "white",
            "linecolor": "white",
            "ticks": ""
           },
           "bgcolor": "#E5ECF6",
           "caxis": {
            "gridcolor": "white",
            "linecolor": "white",
            "ticks": ""
           }
          },
          "title": {
           "x": 0.05
          },
          "xaxis": {
           "automargin": true,
           "gridcolor": "white",
           "linecolor": "white",
           "ticks": "",
           "title": {
            "standoff": 15
           },
           "zerolinecolor": "white",
           "zerolinewidth": 2
          },
          "yaxis": {
           "automargin": true,
           "gridcolor": "white",
           "linecolor": "white",
           "ticks": "",
           "title": {
            "standoff": 15
           },
           "zerolinecolor": "white",
           "zerolinewidth": 2
          }
         }
        },
        "title": {
         "text": "<b>Correlation Heatmap",
         "x": 0.5,
         "xanchor": "center",
         "yanchor": "top"
        },
        "width": 1200,
        "xaxis": {
         "showgrid": false,
         "side": "bottom"
        },
        "yaxis": {
         "autorange": "reversed",
         "showgrid": false
        }
       }
      }
     },
     "metadata": {},
     "output_type": "display_data"
    }
   ],
   "source": [
    "corr_matrix_clustered = cluster_corr_matrix(corr_matrix=corr_matrix, threshold=1.7) \n",
    "plot_corr_matrix(corr_matrix_clustered)"
   ]
  },
  {
   "cell_type": "markdown",
   "metadata": {},
   "source": [
    "# 6. Modeling"
   ]
  },
  {
   "cell_type": "markdown",
   "metadata": {},
   "source": [
    "#### 6.1 Data Preparation "
   ]
  },
  {
   "cell_type": "markdown",
   "metadata": {},
   "source": [
    "Now, we are going to use the `logisticregressionpreparer` class to prepare our data for training a logistic regression model. This class will enable us to perform the following data preparation steps:\n",
    "- Perform One Hot Encoding for our categorical variables.\n",
    "- Remove one variable for each categorical variable to reduce multicollinearity.\n",
    "- Additionally, if we wish, we can define for each variable which category to remove, which will indirectly set our reference category. Otherwise, a category will be chosen randomly.\n"
   ]
  },
  {
   "cell_type": "code",
   "execution_count": 28,
   "metadata": {},
   "outputs": [],
   "source": [
    "# Dictionary for reference categories\n",
    "column_dict = {\n",
    "    \"Credit_Mix\": \"Bad\",\n",
    "    \"Delay_from_due_date\": \"[30.50, inf)\",\n",
    "    \"Num_Credit_Inquiries\": \"[8.50, inf)\",\n",
    "    \"Num_Credit_Card\": \"[7.50, inf)\",\n",
    "    \"Num_of_Delayed_Payment\": \"[20.50, inf)\",\n",
    "    \"Annual_Income\": \"(-inf, 10270.89)\",\n",
    "    \"Credit_Utilization_Ratio\": \"[24.50, inf)\",\n",
    "    \"Interest_Rate\": \"(-inf, 15.50)\",\n",
    "    \"Num_Bank_Accounts\": \"[8.50, inf)\",\n",
    "    \"Outstanding_Debt\": \"[1500.01, inf)\",\n",
    "}\n",
    "# Initializing the DataPreparerForLogisticRegression\n",
    "data_preparer = logisticregressionpreparer(\n",
    "    columns=[col for col in features], column_dict=column_dict\n",
    ")\n",
    "# Applying the data preparation steps\n",
    "prepared_df = data_preparer.fit_transform(transformed_df_binned)"
   ]
  },
  {
   "cell_type": "code",
   "execution_count": 29,
   "metadata": {},
   "outputs": [
    {
     "data": {
      "text/html": [
       "<div>\n",
       "<style scoped>\n",
       "    .dataframe tbody tr th:only-of-type {\n",
       "        vertical-align: middle;\n",
       "    }\n",
       "\n",
       "    .dataframe tbody tr th {\n",
       "        vertical-align: top;\n",
       "    }\n",
       "\n",
       "    .dataframe thead th {\n",
       "        text-align: right;\n",
       "    }\n",
       "</style>\n",
       "<table border=\"1\" class=\"dataframe\">\n",
       "  <thead>\n",
       "    <tr style=\"text-align: right;\">\n",
       "      <th></th>\n",
       "      <th>Credit_Score</th>\n",
       "      <th>Month_April (vs January)</th>\n",
       "      <th>Month_August (vs January)</th>\n",
       "      <th>Month_February (vs January)</th>\n",
       "      <th>Month_July (vs January)</th>\n",
       "      <th>Month_June (vs January)</th>\n",
       "      <th>Month_March (vs January)</th>\n",
       "      <th>Month_May (vs January)</th>\n",
       "      <th>Age_Special (vs (-inf, 49.50))</th>\n",
       "      <th>Age_[49.50, inf) (vs (-inf, 49.50))</th>\n",
       "      <th>...</th>\n",
       "      <th>Personal Loan_0 (vs 1)</th>\n",
       "      <th>Debt Consolidation Loan_1 (vs 0)</th>\n",
       "      <th>Student Loan_1 (vs 0)</th>\n",
       "      <th>Payday Loan_1 (vs 0)</th>\n",
       "      <th>Mortgage Loan_1 (vs 0)</th>\n",
       "      <th>Auto Loan_0 (vs 1)</th>\n",
       "      <th>Home Equity Loan_0 (vs 1)</th>\n",
       "      <th>Credit_History_in_Year_(-inf, 13.50) (vs [19.50, inf))</th>\n",
       "      <th>Credit_History_in_Year_Missing (vs [19.50, inf))</th>\n",
       "      <th>Credit_History_in_Year_[13.50, 19.50) (vs [19.50, inf))</th>\n",
       "    </tr>\n",
       "  </thead>\n",
       "  <tbody>\n",
       "    <tr>\n",
       "      <th>0</th>\n",
       "      <td>Good</td>\n",
       "      <td>0.0</td>\n",
       "      <td>0.0</td>\n",
       "      <td>0.0</td>\n",
       "      <td>0.0</td>\n",
       "      <td>0.0</td>\n",
       "      <td>0.0</td>\n",
       "      <td>0.0</td>\n",
       "      <td>0.0</td>\n",
       "      <td>0.0</td>\n",
       "      <td>...</td>\n",
       "      <td>0.0</td>\n",
       "      <td>0.0</td>\n",
       "      <td>0.0</td>\n",
       "      <td>0.0</td>\n",
       "      <td>0.0</td>\n",
       "      <td>0.0</td>\n",
       "      <td>0.0</td>\n",
       "      <td>0.0</td>\n",
       "      <td>0.0</td>\n",
       "      <td>0.0</td>\n",
       "    </tr>\n",
       "    <tr>\n",
       "      <th>1</th>\n",
       "      <td>Good</td>\n",
       "      <td>0.0</td>\n",
       "      <td>0.0</td>\n",
       "      <td>1.0</td>\n",
       "      <td>0.0</td>\n",
       "      <td>0.0</td>\n",
       "      <td>0.0</td>\n",
       "      <td>0.0</td>\n",
       "      <td>0.0</td>\n",
       "      <td>0.0</td>\n",
       "      <td>...</td>\n",
       "      <td>0.0</td>\n",
       "      <td>0.0</td>\n",
       "      <td>0.0</td>\n",
       "      <td>0.0</td>\n",
       "      <td>0.0</td>\n",
       "      <td>0.0</td>\n",
       "      <td>0.0</td>\n",
       "      <td>0.0</td>\n",
       "      <td>1.0</td>\n",
       "      <td>0.0</td>\n",
       "    </tr>\n",
       "    <tr>\n",
       "      <th>2</th>\n",
       "      <td>Good</td>\n",
       "      <td>0.0</td>\n",
       "      <td>0.0</td>\n",
       "      <td>0.0</td>\n",
       "      <td>0.0</td>\n",
       "      <td>0.0</td>\n",
       "      <td>1.0</td>\n",
       "      <td>0.0</td>\n",
       "      <td>1.0</td>\n",
       "      <td>0.0</td>\n",
       "      <td>...</td>\n",
       "      <td>0.0</td>\n",
       "      <td>0.0</td>\n",
       "      <td>0.0</td>\n",
       "      <td>0.0</td>\n",
       "      <td>0.0</td>\n",
       "      <td>0.0</td>\n",
       "      <td>0.0</td>\n",
       "      <td>0.0</td>\n",
       "      <td>0.0</td>\n",
       "      <td>0.0</td>\n",
       "    </tr>\n",
       "    <tr>\n",
       "      <th>3</th>\n",
       "      <td>Good</td>\n",
       "      <td>1.0</td>\n",
       "      <td>0.0</td>\n",
       "      <td>0.0</td>\n",
       "      <td>0.0</td>\n",
       "      <td>0.0</td>\n",
       "      <td>0.0</td>\n",
       "      <td>0.0</td>\n",
       "      <td>0.0</td>\n",
       "      <td>0.0</td>\n",
       "      <td>...</td>\n",
       "      <td>0.0</td>\n",
       "      <td>0.0</td>\n",
       "      <td>0.0</td>\n",
       "      <td>0.0</td>\n",
       "      <td>0.0</td>\n",
       "      <td>0.0</td>\n",
       "      <td>0.0</td>\n",
       "      <td>0.0</td>\n",
       "      <td>0.0</td>\n",
       "      <td>0.0</td>\n",
       "    </tr>\n",
       "    <tr>\n",
       "      <th>4</th>\n",
       "      <td>Good</td>\n",
       "      <td>0.0</td>\n",
       "      <td>0.0</td>\n",
       "      <td>0.0</td>\n",
       "      <td>0.0</td>\n",
       "      <td>0.0</td>\n",
       "      <td>0.0</td>\n",
       "      <td>1.0</td>\n",
       "      <td>0.0</td>\n",
       "      <td>0.0</td>\n",
       "      <td>...</td>\n",
       "      <td>0.0</td>\n",
       "      <td>0.0</td>\n",
       "      <td>0.0</td>\n",
       "      <td>0.0</td>\n",
       "      <td>0.0</td>\n",
       "      <td>0.0</td>\n",
       "      <td>0.0</td>\n",
       "      <td>0.0</td>\n",
       "      <td>0.0</td>\n",
       "      <td>0.0</td>\n",
       "    </tr>\n",
       "  </tbody>\n",
       "</table>\n",
       "<p>5 rows × 104 columns</p>\n",
       "</div>"
      ],
      "text/plain": [
       "  Credit_Score  Month_April (vs January)  Month_August (vs January)  \\\n",
       "0         Good                       0.0                        0.0   \n",
       "1         Good                       0.0                        0.0   \n",
       "2         Good                       0.0                        0.0   \n",
       "3         Good                       1.0                        0.0   \n",
       "4         Good                       0.0                        0.0   \n",
       "\n",
       "   Month_February (vs January)  Month_July (vs January)  \\\n",
       "0                          0.0                      0.0   \n",
       "1                          1.0                      0.0   \n",
       "2                          0.0                      0.0   \n",
       "3                          0.0                      0.0   \n",
       "4                          0.0                      0.0   \n",
       "\n",
       "   Month_June (vs January)  Month_March (vs January)  Month_May (vs January)  \\\n",
       "0                      0.0                       0.0                     0.0   \n",
       "1                      0.0                       0.0                     0.0   \n",
       "2                      0.0                       1.0                     0.0   \n",
       "3                      0.0                       0.0                     0.0   \n",
       "4                      0.0                       0.0                     1.0   \n",
       "\n",
       "   Age_Special (vs (-inf, 49.50))  Age_[49.50, inf) (vs (-inf, 49.50))  ...  \\\n",
       "0                             0.0                                  0.0  ...   \n",
       "1                             0.0                                  0.0  ...   \n",
       "2                             1.0                                  0.0  ...   \n",
       "3                             0.0                                  0.0  ...   \n",
       "4                             0.0                                  0.0  ...   \n",
       "\n",
       "   Personal Loan_0 (vs 1)  Debt Consolidation Loan_1 (vs 0)  \\\n",
       "0                     0.0                               0.0   \n",
       "1                     0.0                               0.0   \n",
       "2                     0.0                               0.0   \n",
       "3                     0.0                               0.0   \n",
       "4                     0.0                               0.0   \n",
       "\n",
       "   Student Loan_1 (vs 0)  Payday Loan_1 (vs 0)  Mortgage Loan_1 (vs 0)  \\\n",
       "0                    0.0                   0.0                     0.0   \n",
       "1                    0.0                   0.0                     0.0   \n",
       "2                    0.0                   0.0                     0.0   \n",
       "3                    0.0                   0.0                     0.0   \n",
       "4                    0.0                   0.0                     0.0   \n",
       "\n",
       "   Auto Loan_0 (vs 1)  Home Equity Loan_0 (vs 1)  \\\n",
       "0                 0.0                        0.0   \n",
       "1                 0.0                        0.0   \n",
       "2                 0.0                        0.0   \n",
       "3                 0.0                        0.0   \n",
       "4                 0.0                        0.0   \n",
       "\n",
       "   Credit_History_in_Year_(-inf, 13.50) (vs [19.50, inf))  \\\n",
       "0                                                0.0        \n",
       "1                                                0.0        \n",
       "2                                                0.0        \n",
       "3                                                0.0        \n",
       "4                                                0.0        \n",
       "\n",
       "   Credit_History_in_Year_Missing (vs [19.50, inf))  \\\n",
       "0                                               0.0   \n",
       "1                                               1.0   \n",
       "2                                               0.0   \n",
       "3                                               0.0   \n",
       "4                                               0.0   \n",
       "\n",
       "   Credit_History_in_Year_[13.50, 19.50) (vs [19.50, inf))  \n",
       "0                                                0.0        \n",
       "1                                                0.0        \n",
       "2                                                0.0        \n",
       "3                                                0.0        \n",
       "4                                                0.0        \n",
       "\n",
       "[5 rows x 104 columns]"
      ]
     },
     "execution_count": 29,
     "metadata": {},
     "output_type": "execute_result"
    }
   ],
   "source": [
    "prepared_df.head() "
   ]
  },
  {
   "cell_type": "markdown",
   "metadata": {},
   "source": [
    "#### 6.2 variable selection "
   ]
  },
  {
   "cell_type": "markdown",
   "metadata": {},
   "source": [
    "Given our focus on model robustness, a significant concern before training a logistic regression is the phenomenon of correlation and multicollinearity. These issues can substantially impact the interpretability of our model:\n",
    "\n",
    "- Coefficients may seem insignificant, even when a significant relationship exists between the predictor and the response.\n",
    "- Coefficients of strongly correlated predictors can vary considerably from one sample to another.\n",
    "- When terms in a model are strongly correlated, removing one of these terms will significantly impact the estimated coefficients of the others. Coefficients of strongly correlated terms might even have the incorrect sign.\n"
   ]
  },
  {
   "cell_type": "markdown",
   "metadata": {},
   "source": [
    "To address these concerns, we propose the following approach with the `select_uncorrelated_features` function:\n",
    "\n",
    "- The function assesses each variable's correlation with the target, helping to identify the most relevant predictors.\n",
    "- It then evaluates correlations among predictors, eliminating those that are strongly correlated with others (above a defined threshold).\n",
    "- This process reduces multicollinearity, ensuring that remaining variables provide unique and valuable information for the model.\n"
   ]
  },
  {
   "cell_type": "markdown",
   "metadata": {},
   "source": [
    "Another viable strategy to enhance model robustness, particularly against multicollinearity, involves prioritizing the most discriminative predictors while also rigorously assessing multicollinearity using the Variance Inflation Factor (VIF). This method can be summarized as follows:\n",
    "\n",
    "- Initially, the model focuses on selecting predictors that have the highest discriminatory power with respect to the target variable.\n",
    "- Subsequently, for the selected predictors, the VIF is calculated for each one. The VIF quantifies the extent of multicollinearity in regression analysis. It provides a measure of how much the variance of an estimated regression coefficient increases if your predictors are correlated.\n",
    "- A common threshold from the literature is employed to decide which variables to retain. Typically, a VIF value exceeding 5 or 10 (depending on the specific criteria adopted) is indicative of substantial multicollinearity, warranting the removal of the corresponding predictor from the model.\n",
    "- By employing this VIF-based approach, we ensure that the predictors included in the model are not only relevant but also minimally interdependent, thereby preserving the interpretability and stability of the model coefficients."
   ]
  },
  {
   "cell_type": "markdown",
   "metadata": {},
   "source": [
    "We can now explore the results of each method:"
   ]
  },
  {
   "cell_type": "markdown",
   "metadata": {},
   "source": [
    "<b>Cramer's V method on binned DataFrame"
   ]
  },
  {
   "cell_type": "markdown",
   "metadata": {},
   "source": [
    "Since Cramer's V supports categorical variables, we can apply variable selection using the Cramer's V metric to both datasets `prepared_df` and `transformed_df_binned`."
   ]
  },
  {
   "cell_type": "code",
   "execution_count": 30,
   "metadata": {},
   "outputs": [
    {
     "name": "stdout",
     "output_type": "stream",
     "text": [
      "Selected Variables: ['Credit_Mix', 'Interest_Rate', 'Num_Credit_Inquiries', 'Num_Bank_Accounts', 'Num_Credit_Card', 'Credit_History_in_Year', 'Num_of_Loan', 'Annual_Income', 'Changed_Credit_Limit', 'Monthly_Balance', 'Auto Loan', 'Personal Loan', 'Payday Loan', 'Mortgage Loan', 'Credit-Builder Loan', 'Student Loan', 'Debt Consolidation Loan', 'Home Equity Loan', 'Age', 'Payment_Behaviour', 'Amount_invested_monthly', 'Month', 'Occupation', 'Credit_Utilization_Ratio']\n"
     ]
    },
    {
     "data": {
      "text/html": [
       "<div>\n",
       "<style scoped>\n",
       "    .dataframe tbody tr th:only-of-type {\n",
       "        vertical-align: middle;\n",
       "    }\n",
       "\n",
       "    .dataframe tbody tr th {\n",
       "        vertical-align: top;\n",
       "    }\n",
       "\n",
       "    .dataframe thead th {\n",
       "        text-align: right;\n",
       "    }\n",
       "</style>\n",
       "<table border=\"1\" class=\"dataframe\">\n",
       "  <thead>\n",
       "    <tr style=\"text-align: right;\">\n",
       "      <th></th>\n",
       "      <th>Credit_Mix</th>\n",
       "      <th>Interest_Rate</th>\n",
       "      <th>Num_Credit_Inquiries</th>\n",
       "      <th>Num_Bank_Accounts</th>\n",
       "      <th>Num_Credit_Card</th>\n",
       "      <th>Credit_History_in_Year</th>\n",
       "      <th>Num_of_Loan</th>\n",
       "      <th>Annual_Income</th>\n",
       "      <th>Changed_Credit_Limit</th>\n",
       "      <th>Monthly_Balance</th>\n",
       "      <th>...</th>\n",
       "      <th>Credit-Builder Loan</th>\n",
       "      <th>Student Loan</th>\n",
       "      <th>Debt Consolidation Loan</th>\n",
       "      <th>Home Equity Loan</th>\n",
       "      <th>Age</th>\n",
       "      <th>Payment_Behaviour</th>\n",
       "      <th>Amount_invested_monthly</th>\n",
       "      <th>Month</th>\n",
       "      <th>Occupation</th>\n",
       "      <th>Credit_Utilization_Ratio</th>\n",
       "    </tr>\n",
       "  </thead>\n",
       "  <tbody>\n",
       "    <tr>\n",
       "      <th>0</th>\n",
       "      <td>NAN</td>\n",
       "      <td>(-inf, 15.50)</td>\n",
       "      <td>(-inf, 4.50)</td>\n",
       "      <td>(-inf, 5.50)</td>\n",
       "      <td>[3.50, 4.50)</td>\n",
       "      <td>[19.50, inf)</td>\n",
       "      <td>[1.50, 4.50)</td>\n",
       "      <td>[10270.89, 20994.00)</td>\n",
       "      <td>[10.32, 11.97)</td>\n",
       "      <td>[270.76, 326.15)</td>\n",
       "      <td>...</td>\n",
       "      <td>1</td>\n",
       "      <td>0</td>\n",
       "      <td>0</td>\n",
       "      <td>1</td>\n",
       "      <td>(-inf, 49.50)</td>\n",
       "      <td>High_spent_Small_value_payments</td>\n",
       "      <td>(-inf, 383.81)</td>\n",
       "      <td>January</td>\n",
       "      <td>Scientist</td>\n",
       "      <td>[24.50, inf)</td>\n",
       "    </tr>\n",
       "    <tr>\n",
       "      <th>1</th>\n",
       "      <td>Good</td>\n",
       "      <td>(-inf, 15.50)</td>\n",
       "      <td>(-inf, 4.50)</td>\n",
       "      <td>(-inf, 5.50)</td>\n",
       "      <td>[3.50, 4.50)</td>\n",
       "      <td>Missing</td>\n",
       "      <td>[1.50, 4.50)</td>\n",
       "      <td>[10270.89, 20994.00)</td>\n",
       "      <td>[10.32, 11.97)</td>\n",
       "      <td>[270.76, 326.15)</td>\n",
       "      <td>...</td>\n",
       "      <td>1</td>\n",
       "      <td>0</td>\n",
       "      <td>0</td>\n",
       "      <td>1</td>\n",
       "      <td>(-inf, 49.50)</td>\n",
       "      <td>Low_spent_Large_value_payments</td>\n",
       "      <td>(-inf, 383.81)</td>\n",
       "      <td>February</td>\n",
       "      <td>Scientist</td>\n",
       "      <td>[24.50, inf)</td>\n",
       "    </tr>\n",
       "    <tr>\n",
       "      <th>2</th>\n",
       "      <td>Good</td>\n",
       "      <td>(-inf, 15.50)</td>\n",
       "      <td>(-inf, 4.50)</td>\n",
       "      <td>(-inf, 5.50)</td>\n",
       "      <td>[3.50, 4.50)</td>\n",
       "      <td>[19.50, inf)</td>\n",
       "      <td>[1.50, 4.50)</td>\n",
       "      <td>[10270.89, 20994.00)</td>\n",
       "      <td>Missing</td>\n",
       "      <td>[326.15, 564.57)</td>\n",
       "      <td>...</td>\n",
       "      <td>1</td>\n",
       "      <td>0</td>\n",
       "      <td>0</td>\n",
       "      <td>1</td>\n",
       "      <td>Special</td>\n",
       "      <td>Low_spent_Medium_value_payments</td>\n",
       "      <td>(-inf, 383.81)</td>\n",
       "      <td>March</td>\n",
       "      <td>Scientist</td>\n",
       "      <td>[24.50, inf)</td>\n",
       "    </tr>\n",
       "    <tr>\n",
       "      <th>3</th>\n",
       "      <td>Good</td>\n",
       "      <td>(-inf, 15.50)</td>\n",
       "      <td>(-inf, 4.50)</td>\n",
       "      <td>(-inf, 5.50)</td>\n",
       "      <td>[3.50, 4.50)</td>\n",
       "      <td>[19.50, inf)</td>\n",
       "      <td>[1.50, 4.50)</td>\n",
       "      <td>[10270.89, 20994.00)</td>\n",
       "      <td>(-inf, 10.32)</td>\n",
       "      <td>(-inf, 270.76)</td>\n",
       "      <td>...</td>\n",
       "      <td>1</td>\n",
       "      <td>0</td>\n",
       "      <td>0</td>\n",
       "      <td>1</td>\n",
       "      <td>(-inf, 49.50)</td>\n",
       "      <td>Low_spent_Small_value_payments</td>\n",
       "      <td>(-inf, 383.81)</td>\n",
       "      <td>April</td>\n",
       "      <td>Scientist</td>\n",
       "      <td>[24.50, inf)</td>\n",
       "    </tr>\n",
       "    <tr>\n",
       "      <th>4</th>\n",
       "      <td>Good</td>\n",
       "      <td>(-inf, 15.50)</td>\n",
       "      <td>(-inf, 4.50)</td>\n",
       "      <td>(-inf, 5.50)</td>\n",
       "      <td>[3.50, 4.50)</td>\n",
       "      <td>[19.50, inf)</td>\n",
       "      <td>[1.50, 4.50)</td>\n",
       "      <td>[10270.89, 20994.00)</td>\n",
       "      <td>[10.32, 11.97)</td>\n",
       "      <td>[326.15, 564.57)</td>\n",
       "      <td>...</td>\n",
       "      <td>1</td>\n",
       "      <td>0</td>\n",
       "      <td>0</td>\n",
       "      <td>1</td>\n",
       "      <td>(-inf, 49.50)</td>\n",
       "      <td>High_spent_Medium_value_payments</td>\n",
       "      <td>(-inf, 383.81)</td>\n",
       "      <td>May</td>\n",
       "      <td>Scientist</td>\n",
       "      <td>[24.50, inf)</td>\n",
       "    </tr>\n",
       "  </tbody>\n",
       "</table>\n",
       "<p>5 rows × 24 columns</p>\n",
       "</div>"
      ],
      "text/plain": [
       "  Credit_Mix  Interest_Rate Num_Credit_Inquiries Num_Bank_Accounts  \\\n",
       "0        NAN  (-inf, 15.50)         (-inf, 4.50)      (-inf, 5.50)   \n",
       "1       Good  (-inf, 15.50)         (-inf, 4.50)      (-inf, 5.50)   \n",
       "2       Good  (-inf, 15.50)         (-inf, 4.50)      (-inf, 5.50)   \n",
       "3       Good  (-inf, 15.50)         (-inf, 4.50)      (-inf, 5.50)   \n",
       "4       Good  (-inf, 15.50)         (-inf, 4.50)      (-inf, 5.50)   \n",
       "\n",
       "  Num_Credit_Card Credit_History_in_Year   Num_of_Loan         Annual_Income  \\\n",
       "0    [3.50, 4.50)           [19.50, inf)  [1.50, 4.50)  [10270.89, 20994.00)   \n",
       "1    [3.50, 4.50)                Missing  [1.50, 4.50)  [10270.89, 20994.00)   \n",
       "2    [3.50, 4.50)           [19.50, inf)  [1.50, 4.50)  [10270.89, 20994.00)   \n",
       "3    [3.50, 4.50)           [19.50, inf)  [1.50, 4.50)  [10270.89, 20994.00)   \n",
       "4    [3.50, 4.50)           [19.50, inf)  [1.50, 4.50)  [10270.89, 20994.00)   \n",
       "\n",
       "  Changed_Credit_Limit   Monthly_Balance  ...  Credit-Builder Loan  \\\n",
       "0       [10.32, 11.97)  [270.76, 326.15)  ...                    1   \n",
       "1       [10.32, 11.97)  [270.76, 326.15)  ...                    1   \n",
       "2              Missing  [326.15, 564.57)  ...                    1   \n",
       "3        (-inf, 10.32)    (-inf, 270.76)  ...                    1   \n",
       "4       [10.32, 11.97)  [326.15, 564.57)  ...                    1   \n",
       "\n",
       "   Student Loan  Debt Consolidation Loan  Home Equity Loan            Age  \\\n",
       "0             0                        0                 1  (-inf, 49.50)   \n",
       "1             0                        0                 1  (-inf, 49.50)   \n",
       "2             0                        0                 1        Special   \n",
       "3             0                        0                 1  (-inf, 49.50)   \n",
       "4             0                        0                 1  (-inf, 49.50)   \n",
       "\n",
       "                  Payment_Behaviour  Amount_invested_monthly     Month  \\\n",
       "0   High_spent_Small_value_payments           (-inf, 383.81)   January   \n",
       "1    Low_spent_Large_value_payments           (-inf, 383.81)  February   \n",
       "2   Low_spent_Medium_value_payments           (-inf, 383.81)     March   \n",
       "3    Low_spent_Small_value_payments           (-inf, 383.81)     April   \n",
       "4  High_spent_Medium_value_payments           (-inf, 383.81)       May   \n",
       "\n",
       "  Occupation Credit_Utilization_Ratio  \n",
       "0  Scientist             [24.50, inf)  \n",
       "1  Scientist             [24.50, inf)  \n",
       "2  Scientist             [24.50, inf)  \n",
       "3  Scientist             [24.50, inf)  \n",
       "4  Scientist             [24.50, inf)  \n",
       "\n",
       "[5 rows x 24 columns]"
      ]
     },
     "execution_count": 30,
     "metadata": {},
     "output_type": "execute_result"
    }
   ],
   "source": [
    "# Initializing variableselector class\n",
    "selector = variableselector(\n",
    "    target=\"Credit_Score\", corr_threshold=0.4, metric=\"cramers_v\", use_vif=False\n",
    ")\n",
    "\n",
    "# Fitting variableselector to data\n",
    "selector.fit(transformed_df_binned)\n",
    "\n",
    "# Selected variables\n",
    "print(\"Selected Variables:\", selector.selected_variables)\n",
    "\n",
    "# Filtering data to selected variables\n",
    "selected_features_df = selector.transform(transformed_df_binned)\n",
    "\n",
    "\n",
    "selected_features_df.head()\n",
    "\n"
   ]
  },
  {
   "cell_type": "markdown",
   "metadata": {},
   "source": [
    "Now we can open the JSON file to understand the flow of the algorithm. It contains key-value pairs where the key is the selected variable, and the value is a list of variables removed due to their strong correlation with the key variable."
   ]
  },
  {
   "cell_type": "code",
   "execution_count": 31,
   "metadata": {},
   "outputs": [
    {
     "name": "stdout",
     "output_type": "stream",
     "text": [
      "{\n",
      "   \"Credit_Mix\": [\n",
      "      \"Outstanding_Debt\",\n",
      "      \"Delay_from_due_date\",\n",
      "      \"Payment_of_Min_Amount\",\n",
      "      \"Num_of_Delayed_Payment\"\n",
      "   ],\n",
      "   \"Interest_Rate\": [],\n",
      "   \"Num_Credit_Inquiries\": [],\n",
      "   \"Num_Bank_Accounts\": [],\n",
      "   \"Num_Credit_Card\": [],\n",
      "   \"Credit_History_in_Year\": [],\n",
      "   \"Num_of_Loan\": [\n",
      "      \"Total_EMI_per_month\"\n",
      "   ],\n",
      "   \"Annual_Income\": [\n",
      "      \"Monthly_Inhand_Salary\"\n",
      "   ],\n",
      "   \"Changed_Credit_Limit\": [],\n",
      "   \"Monthly_Balance\": [],\n",
      "   \"Auto Loan\": [],\n",
      "   \"Personal Loan\": [],\n",
      "   \"Payday Loan\": [],\n",
      "   \"Mortgage Loan\": [],\n",
      "   \"Credit-Builder Loan\": [],\n",
      "   \"Student Loan\": [],\n",
      "   \"Debt Consolidation Loan\": [],\n",
      "   \"Home Equity Loan\": [],\n",
      "   \"Age\": [],\n",
      "   \"Payment_Behaviour\": [],\n",
      "   \"Amount_invested_monthly\": [],\n",
      "   \"Month\": [],\n",
      "   \"Occupation\": [],\n",
      "   \"Credit_Utilization_Ratio\": []\n",
      "}\n"
     ]
    }
   ],
   "source": [
    "with open(\"eliminated_variables_info.json\", 'r') as file:\n",
    "    data = json.load(file)\n",
    "print(json.dumps(data, indent=3))"
   ]
  },
  {
   "cell_type": "markdown",
   "metadata": {},
   "source": [
    "For example, we can see that the variable 'Monthly_Inhand_Salary' has been removed due to its strong correlation with the variable: 'Monthly_Inhand_Salary'."
   ]
  },
  {
   "cell_type": "markdown",
   "metadata": {},
   "source": [
    "<b> OVR target ransformation "
   ]
  },
  {
   "cell_type": "markdown",
   "metadata": {},
   "source": [
    "In order for the other two methods to make sense, we will apply a one vs rest transformation to our target."
   ]
  },
  {
   "cell_type": "code",
   "execution_count": 32,
   "metadata": {},
   "outputs": [],
   "source": [
    "prepared_df['ovr_target'] = prepared_df['Credit_Score'].apply(lambda x: 1 if x == 'Good' else 0)"
   ]
  },
  {
   "cell_type": "markdown",
   "metadata": {},
   "source": [
    "<b>Cramer's V method on One hot encoded DataFrame"
   ]
  },
  {
   "cell_type": "code",
   "execution_count": 33,
   "metadata": {},
   "outputs": [
    {
     "name": "stdout",
     "output_type": "stream",
     "text": [
      "Selected Variables: ['Credit_Mix_Good (vs Bad)', 'Outstanding_Debt_(-inf, 1248.06) (vs [1500.01, inf))', 'Delay_from_due_date_(-inf, 4.50) (vs [30.50, inf))', 'Num_Credit_Card_(-inf, 3.50) (vs [7.50, inf))', 'Delay_from_due_date_[4.50, 15.50) (vs [30.50, inf))', 'Interest_Rate_[15.50, 24.50) (vs (-inf, 15.50))', 'Changed_Credit_Limit_(-inf, 10.32) (vs [10.32, 11.97))', 'Num_of_Delayed_Payment_[14.50, 20.50) (vs [20.50, inf))', 'Num_of_Loan_(-inf, 1.50) (vs [1.50, 4.50))', 'Num_Credit_Inquiries_[5.50, 8.50) (vs [8.50, inf))', 'Age_[49.50, inf) (vs (-inf, 49.50))', 'Annual_Income_[113015.18, inf) (vs (-inf, 10270.89))', 'Monthly_Balance_(-inf, 270.76) (vs [270.76, 326.15))', 'Personal Loan_0 (vs 1)', 'Auto Loan_0 (vs 1)', 'Debt Consolidation Loan_1 (vs 0)', 'Payday Loan_1 (vs 0)', 'Credit-Builder Loan_0 (vs 1)', 'Home Equity Loan_0 (vs 1)', 'Annual_Income_[10270.89, 20994.00) (vs (-inf, 10270.89))', 'Mortgage Loan_1 (vs 0)', 'Outstanding_Debt_Special (vs [1500.01, inf))', 'Student Loan_1 (vs 0)', 'Monthly_Inhand_Salary_Special (vs [1684.87, 6822.59))', 'Delay_from_due_date_Special (vs [30.50, inf))', 'Amount_invested_monthly_Special (vs (-inf, 383.81))', 'Monthly_Inhand_Salary_(-inf, 889.56) (vs [1684.87, 6822.59))', 'Payment_Behaviour_Low_spent_Small_value_payments (vs High_spent_Small_value_payments)', 'Annual_Income_[83709.80, 113015.18) (vs (-inf, 10270.89))', 'Num_Credit_Card_[3.50, 4.50) (vs [7.50, inf))', 'Monthly_Balance_[564.57, inf) (vs [270.76, 326.15))', 'Total_EMI_per_month_Special (vs [11.94, inf))', 'Payment_Behaviour_High_spent_Large_value_payments (vs High_spent_Small_value_payments)', 'Num_of_Delayed_Payment_[12.50, 14.50) (vs [20.50, inf))', 'Changed_Credit_Limit_Special (vs [10.32, 11.97))', 'Payment_Behaviour_High_spent_Medium_value_payments (vs High_spent_Small_value_payments)', 'Amount_invested_monthly_[383.81, inf) (vs (-inf, 383.81))', 'Occupation_Writer (vs Scientist)', 'Credit_History_in_Year_[13.50, 19.50) (vs [19.50, inf))', 'Month_March (vs January)', 'Credit_Utilization_Ratio_(-inf, 24.50) (vs [24.50, inf))', 'Month_February (vs January)', 'Month_August (vs January)', 'Month_July (vs January)', 'Month_June (vs January)', 'Occupation_Mechanic (vs Scientist)', 'Month_April (vs January)', 'Occupation_Journalist (vs Scientist)', 'Num_of_Loan_Special (vs [1.50, 4.50))', 'Payment_of_Min_Amount_NM (vs No)', 'Monthly_Balance_Missing (vs [270.76, 326.15))', 'Month_May (vs January)', 'Interest_Rate_Special (vs (-inf, 15.50))', 'Occupation_Musician (vs Scientist)', 'Monthly_Inhand_Salary_Missing (vs [1684.87, 6822.59))', 'Age_Special (vs (-inf, 49.50))', 'Occupation_Media_Manager (vs Scientist)', 'Occupation_Engineer (vs Scientist)', 'Num_Credit_Inquiries_[4.50, 5.50) (vs [8.50, inf))', 'Occupation_Teacher (vs Scientist)', 'Occupation_Manager (vs Scientist)', 'Occupation_Doctor (vs Scientist)', 'Credit_History_in_Year_Missing (vs [19.50, inf))', 'Num_of_Delayed_Payment_Missing (vs [20.50, inf))', 'Num_Credit_Inquiries_Missing (vs [8.50, inf))', 'Num_Credit_Inquiries_Special (vs [8.50, inf))', 'Credit_Mix_NAN (vs Bad)', 'Num_Credit_Card_Special (vs [7.50, inf))', 'Occupation_Accountant (vs Scientist)', 'Occupation_Architect (vs Scientist)', 'Occupation_Developer (vs Scientist)', 'Occupation_NAN (vs Scientist)', 'Amount_invested_monthly_Missing (vs (-inf, 383.81))', 'Occupation_Entrepreneur (vs Scientist)', 'Num_Bank_Accounts_Special (vs [8.50, inf))', 'Credit_Utilization_Ratio_Special (vs [24.50, inf))', 'Occupation_Lawyer (vs Scientist)', 'Payment_Behaviour_Low_spent_Medium_value_payments (vs High_spent_Small_value_payments)', 'Payment_Behaviour_Low_spent_Large_value_payments (vs High_spent_Small_value_payments)', 'Payment_Behaviour_!@9#%8 (vs High_spent_Small_value_payments)', 'Num_of_Delayed_Payment_Special (vs [20.50, inf))', 'Changed_Credit_Limit_Missing (vs [10.32, 11.97))']\n"
     ]
    },
    {
     "data": {
      "text/html": [
       "<div>\n",
       "<style scoped>\n",
       "    .dataframe tbody tr th:only-of-type {\n",
       "        vertical-align: middle;\n",
       "    }\n",
       "\n",
       "    .dataframe tbody tr th {\n",
       "        vertical-align: top;\n",
       "    }\n",
       "\n",
       "    .dataframe thead th {\n",
       "        text-align: right;\n",
       "    }\n",
       "</style>\n",
       "<table border=\"1\" class=\"dataframe\">\n",
       "  <thead>\n",
       "    <tr style=\"text-align: right;\">\n",
       "      <th></th>\n",
       "      <th>Credit_Mix_Good (vs Bad)</th>\n",
       "      <th>Outstanding_Debt_(-inf, 1248.06) (vs [1500.01, inf))</th>\n",
       "      <th>Delay_from_due_date_(-inf, 4.50) (vs [30.50, inf))</th>\n",
       "      <th>Num_Credit_Card_(-inf, 3.50) (vs [7.50, inf))</th>\n",
       "      <th>Delay_from_due_date_[4.50, 15.50) (vs [30.50, inf))</th>\n",
       "      <th>Interest_Rate_[15.50, 24.50) (vs (-inf, 15.50))</th>\n",
       "      <th>Changed_Credit_Limit_(-inf, 10.32) (vs [10.32, 11.97))</th>\n",
       "      <th>Num_of_Delayed_Payment_[14.50, 20.50) (vs [20.50, inf))</th>\n",
       "      <th>Num_of_Loan_(-inf, 1.50) (vs [1.50, 4.50))</th>\n",
       "      <th>Num_Credit_Inquiries_[5.50, 8.50) (vs [8.50, inf))</th>\n",
       "      <th>...</th>\n",
       "      <th>Amount_invested_monthly_Missing (vs (-inf, 383.81))</th>\n",
       "      <th>Occupation_Entrepreneur (vs Scientist)</th>\n",
       "      <th>Num_Bank_Accounts_Special (vs [8.50, inf))</th>\n",
       "      <th>Credit_Utilization_Ratio_Special (vs [24.50, inf))</th>\n",
       "      <th>Occupation_Lawyer (vs Scientist)</th>\n",
       "      <th>Payment_Behaviour_Low_spent_Medium_value_payments (vs High_spent_Small_value_payments)</th>\n",
       "      <th>Payment_Behaviour_Low_spent_Large_value_payments (vs High_spent_Small_value_payments)</th>\n",
       "      <th>Payment_Behaviour_!@9#%8 (vs High_spent_Small_value_payments)</th>\n",
       "      <th>Num_of_Delayed_Payment_Special (vs [20.50, inf))</th>\n",
       "      <th>Changed_Credit_Limit_Missing (vs [10.32, 11.97))</th>\n",
       "    </tr>\n",
       "  </thead>\n",
       "  <tbody>\n",
       "    <tr>\n",
       "      <th>0</th>\n",
       "      <td>0.0</td>\n",
       "      <td>1.0</td>\n",
       "      <td>1.0</td>\n",
       "      <td>0.0</td>\n",
       "      <td>0.0</td>\n",
       "      <td>0.0</td>\n",
       "      <td>0.0</td>\n",
       "      <td>0.0</td>\n",
       "      <td>0.0</td>\n",
       "      <td>0.0</td>\n",
       "      <td>...</td>\n",
       "      <td>0.0</td>\n",
       "      <td>0.0</td>\n",
       "      <td>0.0</td>\n",
       "      <td>0.0</td>\n",
       "      <td>0.0</td>\n",
       "      <td>0.0</td>\n",
       "      <td>0.0</td>\n",
       "      <td>0.0</td>\n",
       "      <td>0.0</td>\n",
       "      <td>0.0</td>\n",
       "    </tr>\n",
       "    <tr>\n",
       "      <th>1</th>\n",
       "      <td>1.0</td>\n",
       "      <td>1.0</td>\n",
       "      <td>1.0</td>\n",
       "      <td>0.0</td>\n",
       "      <td>0.0</td>\n",
       "      <td>0.0</td>\n",
       "      <td>0.0</td>\n",
       "      <td>0.0</td>\n",
       "      <td>0.0</td>\n",
       "      <td>0.0</td>\n",
       "      <td>...</td>\n",
       "      <td>0.0</td>\n",
       "      <td>0.0</td>\n",
       "      <td>0.0</td>\n",
       "      <td>0.0</td>\n",
       "      <td>0.0</td>\n",
       "      <td>0.0</td>\n",
       "      <td>1.0</td>\n",
       "      <td>0.0</td>\n",
       "      <td>0.0</td>\n",
       "      <td>0.0</td>\n",
       "    </tr>\n",
       "    <tr>\n",
       "      <th>2</th>\n",
       "      <td>1.0</td>\n",
       "      <td>1.0</td>\n",
       "      <td>1.0</td>\n",
       "      <td>0.0</td>\n",
       "      <td>0.0</td>\n",
       "      <td>0.0</td>\n",
       "      <td>0.0</td>\n",
       "      <td>0.0</td>\n",
       "      <td>0.0</td>\n",
       "      <td>0.0</td>\n",
       "      <td>...</td>\n",
       "      <td>0.0</td>\n",
       "      <td>0.0</td>\n",
       "      <td>0.0</td>\n",
       "      <td>0.0</td>\n",
       "      <td>0.0</td>\n",
       "      <td>1.0</td>\n",
       "      <td>0.0</td>\n",
       "      <td>0.0</td>\n",
       "      <td>0.0</td>\n",
       "      <td>1.0</td>\n",
       "    </tr>\n",
       "    <tr>\n",
       "      <th>3</th>\n",
       "      <td>1.0</td>\n",
       "      <td>1.0</td>\n",
       "      <td>0.0</td>\n",
       "      <td>0.0</td>\n",
       "      <td>1.0</td>\n",
       "      <td>0.0</td>\n",
       "      <td>1.0</td>\n",
       "      <td>0.0</td>\n",
       "      <td>0.0</td>\n",
       "      <td>0.0</td>\n",
       "      <td>...</td>\n",
       "      <td>0.0</td>\n",
       "      <td>0.0</td>\n",
       "      <td>0.0</td>\n",
       "      <td>0.0</td>\n",
       "      <td>0.0</td>\n",
       "      <td>0.0</td>\n",
       "      <td>0.0</td>\n",
       "      <td>0.0</td>\n",
       "      <td>0.0</td>\n",
       "      <td>0.0</td>\n",
       "    </tr>\n",
       "    <tr>\n",
       "      <th>4</th>\n",
       "      <td>1.0</td>\n",
       "      <td>1.0</td>\n",
       "      <td>0.0</td>\n",
       "      <td>0.0</td>\n",
       "      <td>1.0</td>\n",
       "      <td>0.0</td>\n",
       "      <td>0.0</td>\n",
       "      <td>0.0</td>\n",
       "      <td>0.0</td>\n",
       "      <td>0.0</td>\n",
       "      <td>...</td>\n",
       "      <td>0.0</td>\n",
       "      <td>0.0</td>\n",
       "      <td>0.0</td>\n",
       "      <td>0.0</td>\n",
       "      <td>0.0</td>\n",
       "      <td>0.0</td>\n",
       "      <td>0.0</td>\n",
       "      <td>0.0</td>\n",
       "      <td>0.0</td>\n",
       "      <td>0.0</td>\n",
       "    </tr>\n",
       "  </tbody>\n",
       "</table>\n",
       "<p>5 rows × 82 columns</p>\n",
       "</div>"
      ],
      "text/plain": [
       "   Credit_Mix_Good (vs Bad)  \\\n",
       "0                       0.0   \n",
       "1                       1.0   \n",
       "2                       1.0   \n",
       "3                       1.0   \n",
       "4                       1.0   \n",
       "\n",
       "   Outstanding_Debt_(-inf, 1248.06) (vs [1500.01, inf))  \\\n",
       "0                                                1.0      \n",
       "1                                                1.0      \n",
       "2                                                1.0      \n",
       "3                                                1.0      \n",
       "4                                                1.0      \n",
       "\n",
       "   Delay_from_due_date_(-inf, 4.50) (vs [30.50, inf))  \\\n",
       "0                                                1.0    \n",
       "1                                                1.0    \n",
       "2                                                1.0    \n",
       "3                                                0.0    \n",
       "4                                                0.0    \n",
       "\n",
       "   Num_Credit_Card_(-inf, 3.50) (vs [7.50, inf))  \\\n",
       "0                                            0.0   \n",
       "1                                            0.0   \n",
       "2                                            0.0   \n",
       "3                                            0.0   \n",
       "4                                            0.0   \n",
       "\n",
       "   Delay_from_due_date_[4.50, 15.50) (vs [30.50, inf))  \\\n",
       "0                                                0.0     \n",
       "1                                                0.0     \n",
       "2                                                0.0     \n",
       "3                                                1.0     \n",
       "4                                                1.0     \n",
       "\n",
       "   Interest_Rate_[15.50, 24.50) (vs (-inf, 15.50))  \\\n",
       "0                                              0.0   \n",
       "1                                              0.0   \n",
       "2                                              0.0   \n",
       "3                                              0.0   \n",
       "4                                              0.0   \n",
       "\n",
       "   Changed_Credit_Limit_(-inf, 10.32) (vs [10.32, 11.97))  \\\n",
       "0                                                0.0        \n",
       "1                                                0.0        \n",
       "2                                                0.0        \n",
       "3                                                1.0        \n",
       "4                                                0.0        \n",
       "\n",
       "   Num_of_Delayed_Payment_[14.50, 20.50) (vs [20.50, inf))  \\\n",
       "0                                                0.0         \n",
       "1                                                0.0         \n",
       "2                                                0.0         \n",
       "3                                                0.0         \n",
       "4                                                0.0         \n",
       "\n",
       "   Num_of_Loan_(-inf, 1.50) (vs [1.50, 4.50))  \\\n",
       "0                                         0.0   \n",
       "1                                         0.0   \n",
       "2                                         0.0   \n",
       "3                                         0.0   \n",
       "4                                         0.0   \n",
       "\n",
       "   Num_Credit_Inquiries_[5.50, 8.50) (vs [8.50, inf))  ...  \\\n",
       "0                                                0.0   ...   \n",
       "1                                                0.0   ...   \n",
       "2                                                0.0   ...   \n",
       "3                                                0.0   ...   \n",
       "4                                                0.0   ...   \n",
       "\n",
       "   Amount_invested_monthly_Missing (vs (-inf, 383.81))  \\\n",
       "0                                                0.0     \n",
       "1                                                0.0     \n",
       "2                                                0.0     \n",
       "3                                                0.0     \n",
       "4                                                0.0     \n",
       "\n",
       "   Occupation_Entrepreneur (vs Scientist)  \\\n",
       "0                                     0.0   \n",
       "1                                     0.0   \n",
       "2                                     0.0   \n",
       "3                                     0.0   \n",
       "4                                     0.0   \n",
       "\n",
       "   Num_Bank_Accounts_Special (vs [8.50, inf))  \\\n",
       "0                                         0.0   \n",
       "1                                         0.0   \n",
       "2                                         0.0   \n",
       "3                                         0.0   \n",
       "4                                         0.0   \n",
       "\n",
       "   Credit_Utilization_Ratio_Special (vs [24.50, inf))  \\\n",
       "0                                                0.0    \n",
       "1                                                0.0    \n",
       "2                                                0.0    \n",
       "3                                                0.0    \n",
       "4                                                0.0    \n",
       "\n",
       "   Occupation_Lawyer (vs Scientist)  \\\n",
       "0                               0.0   \n",
       "1                               0.0   \n",
       "2                               0.0   \n",
       "3                               0.0   \n",
       "4                               0.0   \n",
       "\n",
       "   Payment_Behaviour_Low_spent_Medium_value_payments (vs High_spent_Small_value_payments)  \\\n",
       "0                                                0.0                                        \n",
       "1                                                0.0                                        \n",
       "2                                                1.0                                        \n",
       "3                                                0.0                                        \n",
       "4                                                0.0                                        \n",
       "\n",
       "   Payment_Behaviour_Low_spent_Large_value_payments (vs High_spent_Small_value_payments)  \\\n",
       "0                                                0.0                                       \n",
       "1                                                1.0                                       \n",
       "2                                                0.0                                       \n",
       "3                                                0.0                                       \n",
       "4                                                0.0                                       \n",
       "\n",
       "   Payment_Behaviour_!@9#%8 (vs High_spent_Small_value_payments)  \\\n",
       "0                                                0.0               \n",
       "1                                                0.0               \n",
       "2                                                0.0               \n",
       "3                                                0.0               \n",
       "4                                                0.0               \n",
       "\n",
       "   Num_of_Delayed_Payment_Special (vs [20.50, inf))  \\\n",
       "0                                               0.0   \n",
       "1                                               0.0   \n",
       "2                                               0.0   \n",
       "3                                               0.0   \n",
       "4                                               0.0   \n",
       "\n",
       "   Changed_Credit_Limit_Missing (vs [10.32, 11.97))  \n",
       "0                                               0.0  \n",
       "1                                               0.0  \n",
       "2                                               1.0  \n",
       "3                                               0.0  \n",
       "4                                               0.0  \n",
       "\n",
       "[5 rows x 82 columns]"
      ]
     },
     "execution_count": 33,
     "metadata": {},
     "output_type": "execute_result"
    }
   ],
   "source": [
    "# Initializing variableselector class\n",
    "selector_cramer = variableselector(\n",
    "    target=\"ovr_target\", corr_threshold=0.35, metric=\"cramers_v\", use_vif=False\n",
    ")\n",
    "\n",
    "# Fitting variableselector to data\n",
    "selector_cramer.fit(prepared_df.drop(columns=[\"Credit_Score\"]))\n",
    "\n",
    "# Selected variables\n",
    "print(\"Selected Variables:\", selector_cramer.selected_variables)\n",
    "\n",
    "# Filtering data to selected variables\n",
    "selected_features_df = selector_cramer.transform(\n",
    "    prepared_df.drop(columns=[\"Credit_Score\"])\n",
    ")\n",
    "\n",
    "\n",
    "selected_features_df.head()"
   ]
  },
  {
   "cell_type": "code",
   "execution_count": 34,
   "metadata": {},
   "outputs": [
    {
     "name": "stdout",
     "output_type": "stream",
     "text": [
      "{\n",
      "   \"Credit_Mix_Good (vs Bad)\": [\n",
      "      \"Payment_of_Min_Amount_Yes (vs No)\",\n",
      "      \"Num_Bank_Accounts_(-inf, 5.50) (vs [8.50, inf))\",\n",
      "      \"Num_of_Delayed_Payment_(-inf, 7.50) (vs [20.50, inf))\",\n",
      "      \"Num_Credit_Inquiries_(-inf, 4.50) (vs [8.50, inf))\",\n",
      "      \"Num_of_Loan_[4.50, inf) (vs [1.50, 4.50))\",\n",
      "      \"Credit_Mix_Standard (vs Bad)\",\n",
      "      \"Num_Bank_Accounts_[5.50, 8.50) (vs [8.50, inf))\",\n",
      "      \"Changed_Credit_Limit_[11.97, inf) (vs [10.32, 11.97))\"\n",
      "   ],\n",
      "   \"Outstanding_Debt_(-inf, 1248.06) (vs [1500.01, inf))\": [\n",
      "      \"Credit_History_in_Year_(-inf, 13.50) (vs [19.50, inf))\",\n",
      "      \"Interest_Rate_[24.50, inf) (vs (-inf, 15.50))\",\n",
      "      \"Outstanding_Debt_[1248.06, 1500.01) (vs [1500.01, inf))\"\n",
      "   ],\n",
      "   \"Delay_from_due_date_(-inf, 4.50) (vs [30.50, inf))\": [],\n",
      "   \"Num_Credit_Card_(-inf, 3.50) (vs [7.50, inf))\": [\n",
      "      \"Num_Credit_Card_[4.50, 7.50) (vs [7.50, inf))\"\n",
      "   ],\n",
      "   \"Delay_from_due_date_[4.50, 15.50) (vs [30.50, inf))\": [\n",
      "      \"Delay_from_due_date_[15.50, 30.50) (vs [30.50, inf))\"\n",
      "   ],\n",
      "   \"Interest_Rate_[15.50, 24.50) (vs (-inf, 15.50))\": [],\n",
      "   \"Changed_Credit_Limit_(-inf, 10.32) (vs [10.32, 11.97))\": [],\n",
      "   \"Num_of_Delayed_Payment_[14.50, 20.50) (vs [20.50, inf))\": [\n",
      "      \"Num_of_Delayed_Payment_[7.50, 12.50) (vs [20.50, inf))\"\n",
      "   ],\n",
      "   \"Num_of_Loan_(-inf, 1.50) (vs [1.50, 4.50))\": [\n",
      "      \"Total_EMI_per_month_(-inf, 11.94) (vs [11.94, inf))\"\n",
      "   ],\n",
      "   \"Num_Credit_Inquiries_[5.50, 8.50) (vs [8.50, inf))\": [],\n",
      "   \"Age_[49.50, inf) (vs (-inf, 49.50))\": [],\n",
      "   \"Annual_Income_[113015.18, inf) (vs (-inf, 10270.89))\": [\n",
      "      \"Monthly_Inhand_Salary_[6822.59, inf) (vs [1684.87, 6822.59))\",\n",
      "      \"Monthly_Balance_Special (vs [270.76, 326.15))\"\n",
      "   ],\n",
      "   \"Monthly_Balance_(-inf, 270.76) (vs [270.76, 326.15))\": [\n",
      "      \"Monthly_Balance_[326.15, 564.57) (vs [270.76, 326.15))\"\n",
      "   ],\n",
      "   \"Personal Loan_0 (vs 1)\": [],\n",
      "   \"Auto Loan_0 (vs 1)\": [],\n",
      "   \"Debt Consolidation Loan_1 (vs 0)\": [],\n",
      "   \"Payday Loan_1 (vs 0)\": [],\n",
      "   \"Credit-Builder Loan_0 (vs 1)\": [],\n",
      "   \"Home Equity Loan_0 (vs 1)\": [],\n",
      "   \"Annual_Income_[10270.89, 20994.00) (vs (-inf, 10270.89))\": [\n",
      "      \"Monthly_Inhand_Salary_[889.56, 1684.87) (vs [1684.87, 6822.59))\",\n",
      "      \"Annual_Income_[20994.00, 83709.80) (vs (-inf, 10270.89))\"\n",
      "   ],\n",
      "   \"Mortgage Loan_1 (vs 0)\": [],\n",
      "   \"Outstanding_Debt_Special (vs [1500.01, inf))\": [],\n",
      "   \"Student Loan_1 (vs 0)\": [],\n",
      "   \"Monthly_Inhand_Salary_Special (vs [1684.87, 6822.59))\": [\n",
      "      \"Annual_Income_Special (vs (-inf, 10270.89))\"\n",
      "   ],\n",
      "   \"Delay_from_due_date_Special (vs [30.50, inf))\": [],\n",
      "   \"Amount_invested_monthly_Special (vs (-inf, 383.81))\": [],\n",
      "   \"Monthly_Inhand_Salary_(-inf, 889.56) (vs [1684.87, 6822.59))\": [],\n",
      "   \"Payment_Behaviour_Low_spent_Small_value_payments (vs High_spent_Small_value_payments)\": [],\n",
      "   \"Annual_Income_[83709.80, 113015.18) (vs (-inf, 10270.89))\": [],\n",
      "   \"Num_Credit_Card_[3.50, 4.50) (vs [7.50, inf))\": [],\n",
      "   \"Monthly_Balance_[564.57, inf) (vs [270.76, 326.15))\": [],\n",
      "   \"Total_EMI_per_month_Special (vs [11.94, inf))\": [],\n",
      "   \"Payment_Behaviour_High_spent_Large_value_payments (vs High_spent_Small_value_payments)\": [],\n",
      "   \"Num_of_Delayed_Payment_[12.50, 14.50) (vs [20.50, inf))\": [],\n",
      "   \"Changed_Credit_Limit_Special (vs [10.32, 11.97))\": [],\n",
      "   \"Payment_Behaviour_High_spent_Medium_value_payments (vs High_spent_Small_value_payments)\": [],\n",
      "   \"Amount_invested_monthly_[383.81, inf) (vs (-inf, 383.81))\": [],\n",
      "   \"Occupation_Writer (vs Scientist)\": [],\n",
      "   \"Credit_History_in_Year_[13.50, 19.50) (vs [19.50, inf))\": [],\n",
      "   \"Month_March (vs January)\": [],\n",
      "   \"Credit_Utilization_Ratio_(-inf, 24.50) (vs [24.50, inf))\": [],\n",
      "   \"Month_February (vs January)\": [],\n",
      "   \"Month_August (vs January)\": [],\n",
      "   \"Month_July (vs January)\": [],\n",
      "   \"Month_June (vs January)\": [],\n",
      "   \"Occupation_Mechanic (vs Scientist)\": [],\n",
      "   \"Month_April (vs January)\": [],\n",
      "   \"Occupation_Journalist (vs Scientist)\": [],\n",
      "   \"Num_of_Loan_Special (vs [1.50, 4.50))\": [],\n",
      "   \"Payment_of_Min_Amount_NM (vs No)\": [],\n",
      "   \"Monthly_Balance_Missing (vs [270.76, 326.15))\": [],\n",
      "   \"Month_May (vs January)\": [],\n",
      "   \"Interest_Rate_Special (vs (-inf, 15.50))\": [],\n",
      "   \"Occupation_Musician (vs Scientist)\": [],\n",
      "   \"Monthly_Inhand_Salary_Missing (vs [1684.87, 6822.59))\": [],\n",
      "   \"Age_Special (vs (-inf, 49.50))\": [],\n",
      "   \"Occupation_Media_Manager (vs Scientist)\": [],\n",
      "   \"Occupation_Engineer (vs Scientist)\": [],\n",
      "   \"Num_Credit_Inquiries_[4.50, 5.50) (vs [8.50, inf))\": [],\n",
      "   \"Occupation_Teacher (vs Scientist)\": [],\n",
      "   \"Occupation_Manager (vs Scientist)\": [],\n",
      "   \"Occupation_Doctor (vs Scientist)\": [],\n",
      "   \"Credit_History_in_Year_Missing (vs [19.50, inf))\": [],\n",
      "   \"Num_of_Delayed_Payment_Missing (vs [20.50, inf))\": [],\n",
      "   \"Num_Credit_Inquiries_Missing (vs [8.50, inf))\": [],\n",
      "   \"Num_Credit_Inquiries_Special (vs [8.50, inf))\": [],\n",
      "   \"Credit_Mix_NAN (vs Bad)\": [],\n",
      "   \"Num_Credit_Card_Special (vs [7.50, inf))\": [],\n",
      "   \"Occupation_Accountant (vs Scientist)\": [],\n",
      "   \"Occupation_Architect (vs Scientist)\": [],\n",
      "   \"Occupation_Developer (vs Scientist)\": [],\n",
      "   \"Occupation_NAN (vs Scientist)\": [],\n",
      "   \"Amount_invested_monthly_Missing (vs (-inf, 383.81))\": [],\n",
      "   \"Occupation_Entrepreneur (vs Scientist)\": [],\n",
      "   \"Num_Bank_Accounts_Special (vs [8.50, inf))\": [],\n",
      "   \"Credit_Utilization_Ratio_Special (vs [24.50, inf))\": [],\n",
      "   \"Occupation_Lawyer (vs Scientist)\": [],\n",
      "   \"Payment_Behaviour_Low_spent_Medium_value_payments (vs High_spent_Small_value_payments)\": [],\n",
      "   \"Payment_Behaviour_Low_spent_Large_value_payments (vs High_spent_Small_value_payments)\": [],\n",
      "   \"Payment_Behaviour_!@9#%8 (vs High_spent_Small_value_payments)\": [],\n",
      "   \"Num_of_Delayed_Payment_Special (vs [20.50, inf))\": [],\n",
      "   \"Changed_Credit_Limit_Missing (vs [10.32, 11.97))\": []\n",
      "}\n"
     ]
    }
   ],
   "source": [
    "with open(\"eliminated_variables_info.json\", 'r') as file:\n",
    "    data = json.load(file)\n",
    "print(json.dumps(data, indent=3))"
   ]
  },
  {
   "cell_type": "markdown",
   "metadata": {},
   "source": [
    "<b>Pearson correlation method"
   ]
  },
  {
   "cell_type": "code",
   "execution_count": 35,
   "metadata": {},
   "outputs": [
    {
     "name": "stdout",
     "output_type": "stream",
     "text": [
      "Selected Variables: ['Credit_Mix_Good (vs Bad)', 'Payment_of_Min_Amount_Yes (vs No)', 'Credit_Mix_Standard (vs Bad)', 'Num_Credit_Card_(-inf, 3.50) (vs [7.50, inf))', 'Delay_from_due_date_[4.50, 15.50) (vs [30.50, inf))', 'Delay_from_due_date_[15.50, 30.50) (vs [30.50, inf))', 'Num_of_Delayed_Payment_[14.50, 20.50) (vs [20.50, inf))', 'Num_of_Loan_(-inf, 1.50) (vs [1.50, 4.50))', 'Num_Credit_Inquiries_[5.50, 8.50) (vs [8.50, inf))', 'Age_[49.50, inf) (vs (-inf, 49.50))', 'Annual_Income_[113015.18, inf) (vs (-inf, 10270.89))', 'Monthly_Balance_(-inf, 270.76) (vs [270.76, 326.15))', 'Personal Loan_0 (vs 1)', 'Auto Loan_0 (vs 1)', 'Debt Consolidation Loan_1 (vs 0)', 'Payday Loan_1 (vs 0)', 'Credit-Builder Loan_0 (vs 1)', 'Num_Credit_Card_[4.50, 7.50) (vs [7.50, inf))', 'Home Equity Loan_0 (vs 1)', 'Annual_Income_[10270.89, 20994.00) (vs (-inf, 10270.89))', 'Mortgage Loan_1 (vs 0)', 'Outstanding_Debt_Special (vs [1500.01, inf))', 'Student Loan_1 (vs 0)', 'Monthly_Inhand_Salary_Special (vs [1684.87, 6822.59))', 'Delay_from_due_date_Special (vs [30.50, inf))', 'Amount_invested_monthly_Special (vs (-inf, 383.81))', 'Monthly_Inhand_Salary_(-inf, 889.56) (vs [1684.87, 6822.59))', 'Annual_Income_[83709.80, 113015.18) (vs (-inf, 10270.89))', 'Num_Credit_Card_[3.50, 4.50) (vs [7.50, inf))', 'Monthly_Balance_[564.57, inf) (vs [270.76, 326.15))', 'Num_of_Delayed_Payment_[7.50, 12.50) (vs [20.50, inf))', 'Monthly_Balance_[326.15, 564.57) (vs [270.76, 326.15))', 'Total_EMI_per_month_Special (vs [11.94, inf))', 'Payment_Behaviour_High_spent_Large_value_payments (vs High_spent_Small_value_payments)', 'Num_of_Delayed_Payment_[12.50, 14.50) (vs [20.50, inf))', 'Changed_Credit_Limit_Special (vs [10.32, 11.97))', 'Payment_Behaviour_High_spent_Medium_value_payments (vs High_spent_Small_value_payments)', 'Amount_invested_monthly_[383.81, inf) (vs (-inf, 383.81))', 'Occupation_Writer (vs Scientist)', 'Credit_History_in_Year_[13.50, 19.50) (vs [19.50, inf))', 'Month_March (vs January)', 'Credit_Utilization_Ratio_(-inf, 24.50) (vs [24.50, inf))', 'Month_February (vs January)', 'Outstanding_Debt_[1248.06, 1500.01) (vs [1500.01, inf))', 'Month_August (vs January)', 'Month_July (vs January)', 'Month_June (vs January)', 'Occupation_Mechanic (vs Scientist)', 'Month_April (vs January)', 'Occupation_Journalist (vs Scientist)', 'Num_of_Loan_Special (vs [1.50, 4.50))', 'Payment_of_Min_Amount_NM (vs No)', 'Monthly_Balance_Missing (vs [270.76, 326.15))', 'Month_May (vs January)', 'Interest_Rate_Special (vs (-inf, 15.50))', 'Occupation_Musician (vs Scientist)', 'Monthly_Inhand_Salary_Missing (vs [1684.87, 6822.59))', 'Age_Special (vs (-inf, 49.50))', 'Occupation_Media_Manager (vs Scientist)', 'Occupation_Engineer (vs Scientist)', 'Num_Credit_Inquiries_[4.50, 5.50) (vs [8.50, inf))', 'Occupation_Teacher (vs Scientist)', 'Occupation_Manager (vs Scientist)', 'Amount_invested_monthly_Missing (vs (-inf, 383.81))', 'Payment_Behaviour_!@9#%8 (vs High_spent_Small_value_payments)', 'Occupation_Developer (vs Scientist)', 'Occupation_Entrepreneur (vs Scientist)', 'Payment_Behaviour_Low_spent_Large_value_payments (vs High_spent_Small_value_payments)', 'Changed_Credit_Limit_Missing (vs [10.32, 11.97))', 'Num_Credit_Inquiries_Missing (vs [8.50, inf))', 'Occupation_NAN (vs Scientist)', 'Num_Bank_Accounts_Special (vs [8.50, inf))', 'Credit_Mix_NAN (vs Bad)', 'Credit_Utilization_Ratio_Special (vs [24.50, inf))', 'Occupation_Architect (vs Scientist)', 'Occupation_Accountant (vs Scientist)', 'Occupation_Lawyer (vs Scientist)', 'Num_Credit_Card_Special (vs [7.50, inf))', 'Num_Credit_Inquiries_Special (vs [8.50, inf))', 'Payment_Behaviour_Low_spent_Medium_value_payments (vs High_spent_Small_value_payments)', 'Num_of_Delayed_Payment_Special (vs [20.50, inf))', 'Credit_History_in_Year_Missing (vs [19.50, inf))', 'Occupation_Doctor (vs Scientist)', 'Num_of_Delayed_Payment_Missing (vs [20.50, inf))']\n"
     ]
    },
    {
     "data": {
      "text/html": [
       "<div>\n",
       "<style scoped>\n",
       "    .dataframe tbody tr th:only-of-type {\n",
       "        vertical-align: middle;\n",
       "    }\n",
       "\n",
       "    .dataframe tbody tr th {\n",
       "        vertical-align: top;\n",
       "    }\n",
       "\n",
       "    .dataframe thead th {\n",
       "        text-align: right;\n",
       "    }\n",
       "</style>\n",
       "<table border=\"1\" class=\"dataframe\">\n",
       "  <thead>\n",
       "    <tr style=\"text-align: right;\">\n",
       "      <th></th>\n",
       "      <th>Credit_Mix_Good (vs Bad)</th>\n",
       "      <th>Payment_of_Min_Amount_Yes (vs No)</th>\n",
       "      <th>Credit_Mix_Standard (vs Bad)</th>\n",
       "      <th>Num_Credit_Card_(-inf, 3.50) (vs [7.50, inf))</th>\n",
       "      <th>Delay_from_due_date_[4.50, 15.50) (vs [30.50, inf))</th>\n",
       "      <th>Delay_from_due_date_[15.50, 30.50) (vs [30.50, inf))</th>\n",
       "      <th>Num_of_Delayed_Payment_[14.50, 20.50) (vs [20.50, inf))</th>\n",
       "      <th>Num_of_Loan_(-inf, 1.50) (vs [1.50, 4.50))</th>\n",
       "      <th>Num_Credit_Inquiries_[5.50, 8.50) (vs [8.50, inf))</th>\n",
       "      <th>Age_[49.50, inf) (vs (-inf, 49.50))</th>\n",
       "      <th>...</th>\n",
       "      <th>Occupation_Architect (vs Scientist)</th>\n",
       "      <th>Occupation_Accountant (vs Scientist)</th>\n",
       "      <th>Occupation_Lawyer (vs Scientist)</th>\n",
       "      <th>Num_Credit_Card_Special (vs [7.50, inf))</th>\n",
       "      <th>Num_Credit_Inquiries_Special (vs [8.50, inf))</th>\n",
       "      <th>Payment_Behaviour_Low_spent_Medium_value_payments (vs High_spent_Small_value_payments)</th>\n",
       "      <th>Num_of_Delayed_Payment_Special (vs [20.50, inf))</th>\n",
       "      <th>Credit_History_in_Year_Missing (vs [19.50, inf))</th>\n",
       "      <th>Occupation_Doctor (vs Scientist)</th>\n",
       "      <th>Num_of_Delayed_Payment_Missing (vs [20.50, inf))</th>\n",
       "    </tr>\n",
       "  </thead>\n",
       "  <tbody>\n",
       "    <tr>\n",
       "      <th>0</th>\n",
       "      <td>0.0</td>\n",
       "      <td>0.0</td>\n",
       "      <td>0.0</td>\n",
       "      <td>0.0</td>\n",
       "      <td>0.0</td>\n",
       "      <td>0.0</td>\n",
       "      <td>0.0</td>\n",
       "      <td>0.0</td>\n",
       "      <td>0.0</td>\n",
       "      <td>0.0</td>\n",
       "      <td>...</td>\n",
       "      <td>0.0</td>\n",
       "      <td>0.0</td>\n",
       "      <td>0.0</td>\n",
       "      <td>0.0</td>\n",
       "      <td>0.0</td>\n",
       "      <td>0.0</td>\n",
       "      <td>0.0</td>\n",
       "      <td>0.0</td>\n",
       "      <td>0.0</td>\n",
       "      <td>0.0</td>\n",
       "    </tr>\n",
       "    <tr>\n",
       "      <th>1</th>\n",
       "      <td>1.0</td>\n",
       "      <td>0.0</td>\n",
       "      <td>0.0</td>\n",
       "      <td>0.0</td>\n",
       "      <td>0.0</td>\n",
       "      <td>0.0</td>\n",
       "      <td>0.0</td>\n",
       "      <td>0.0</td>\n",
       "      <td>0.0</td>\n",
       "      <td>0.0</td>\n",
       "      <td>...</td>\n",
       "      <td>0.0</td>\n",
       "      <td>0.0</td>\n",
       "      <td>0.0</td>\n",
       "      <td>0.0</td>\n",
       "      <td>0.0</td>\n",
       "      <td>0.0</td>\n",
       "      <td>0.0</td>\n",
       "      <td>1.0</td>\n",
       "      <td>0.0</td>\n",
       "      <td>1.0</td>\n",
       "    </tr>\n",
       "    <tr>\n",
       "      <th>2</th>\n",
       "      <td>1.0</td>\n",
       "      <td>0.0</td>\n",
       "      <td>0.0</td>\n",
       "      <td>0.0</td>\n",
       "      <td>0.0</td>\n",
       "      <td>0.0</td>\n",
       "      <td>0.0</td>\n",
       "      <td>0.0</td>\n",
       "      <td>0.0</td>\n",
       "      <td>0.0</td>\n",
       "      <td>...</td>\n",
       "      <td>0.0</td>\n",
       "      <td>0.0</td>\n",
       "      <td>0.0</td>\n",
       "      <td>0.0</td>\n",
       "      <td>0.0</td>\n",
       "      <td>1.0</td>\n",
       "      <td>0.0</td>\n",
       "      <td>0.0</td>\n",
       "      <td>0.0</td>\n",
       "      <td>0.0</td>\n",
       "    </tr>\n",
       "    <tr>\n",
       "      <th>3</th>\n",
       "      <td>1.0</td>\n",
       "      <td>0.0</td>\n",
       "      <td>0.0</td>\n",
       "      <td>0.0</td>\n",
       "      <td>1.0</td>\n",
       "      <td>0.0</td>\n",
       "      <td>0.0</td>\n",
       "      <td>0.0</td>\n",
       "      <td>0.0</td>\n",
       "      <td>0.0</td>\n",
       "      <td>...</td>\n",
       "      <td>0.0</td>\n",
       "      <td>0.0</td>\n",
       "      <td>0.0</td>\n",
       "      <td>0.0</td>\n",
       "      <td>0.0</td>\n",
       "      <td>0.0</td>\n",
       "      <td>0.0</td>\n",
       "      <td>0.0</td>\n",
       "      <td>0.0</td>\n",
       "      <td>0.0</td>\n",
       "    </tr>\n",
       "    <tr>\n",
       "      <th>4</th>\n",
       "      <td>1.0</td>\n",
       "      <td>0.0</td>\n",
       "      <td>0.0</td>\n",
       "      <td>0.0</td>\n",
       "      <td>1.0</td>\n",
       "      <td>0.0</td>\n",
       "      <td>0.0</td>\n",
       "      <td>0.0</td>\n",
       "      <td>0.0</td>\n",
       "      <td>0.0</td>\n",
       "      <td>...</td>\n",
       "      <td>0.0</td>\n",
       "      <td>0.0</td>\n",
       "      <td>0.0</td>\n",
       "      <td>0.0</td>\n",
       "      <td>0.0</td>\n",
       "      <td>0.0</td>\n",
       "      <td>0.0</td>\n",
       "      <td>0.0</td>\n",
       "      <td>0.0</td>\n",
       "      <td>1.0</td>\n",
       "    </tr>\n",
       "  </tbody>\n",
       "</table>\n",
       "<p>5 rows × 84 columns</p>\n",
       "</div>"
      ],
      "text/plain": [
       "   Credit_Mix_Good (vs Bad)  Payment_of_Min_Amount_Yes (vs No)  \\\n",
       "0                       0.0                                0.0   \n",
       "1                       1.0                                0.0   \n",
       "2                       1.0                                0.0   \n",
       "3                       1.0                                0.0   \n",
       "4                       1.0                                0.0   \n",
       "\n",
       "   Credit_Mix_Standard (vs Bad)  \\\n",
       "0                           0.0   \n",
       "1                           0.0   \n",
       "2                           0.0   \n",
       "3                           0.0   \n",
       "4                           0.0   \n",
       "\n",
       "   Num_Credit_Card_(-inf, 3.50) (vs [7.50, inf))  \\\n",
       "0                                            0.0   \n",
       "1                                            0.0   \n",
       "2                                            0.0   \n",
       "3                                            0.0   \n",
       "4                                            0.0   \n",
       "\n",
       "   Delay_from_due_date_[4.50, 15.50) (vs [30.50, inf))  \\\n",
       "0                                                0.0     \n",
       "1                                                0.0     \n",
       "2                                                0.0     \n",
       "3                                                1.0     \n",
       "4                                                1.0     \n",
       "\n",
       "   Delay_from_due_date_[15.50, 30.50) (vs [30.50, inf))  \\\n",
       "0                                                0.0      \n",
       "1                                                0.0      \n",
       "2                                                0.0      \n",
       "3                                                0.0      \n",
       "4                                                0.0      \n",
       "\n",
       "   Num_of_Delayed_Payment_[14.50, 20.50) (vs [20.50, inf))  \\\n",
       "0                                                0.0         \n",
       "1                                                0.0         \n",
       "2                                                0.0         \n",
       "3                                                0.0         \n",
       "4                                                0.0         \n",
       "\n",
       "   Num_of_Loan_(-inf, 1.50) (vs [1.50, 4.50))  \\\n",
       "0                                         0.0   \n",
       "1                                         0.0   \n",
       "2                                         0.0   \n",
       "3                                         0.0   \n",
       "4                                         0.0   \n",
       "\n",
       "   Num_Credit_Inquiries_[5.50, 8.50) (vs [8.50, inf))  \\\n",
       "0                                                0.0    \n",
       "1                                                0.0    \n",
       "2                                                0.0    \n",
       "3                                                0.0    \n",
       "4                                                0.0    \n",
       "\n",
       "   Age_[49.50, inf) (vs (-inf, 49.50))  ...  \\\n",
       "0                                  0.0  ...   \n",
       "1                                  0.0  ...   \n",
       "2                                  0.0  ...   \n",
       "3                                  0.0  ...   \n",
       "4                                  0.0  ...   \n",
       "\n",
       "   Occupation_Architect (vs Scientist)  Occupation_Accountant (vs Scientist)  \\\n",
       "0                                  0.0                                   0.0   \n",
       "1                                  0.0                                   0.0   \n",
       "2                                  0.0                                   0.0   \n",
       "3                                  0.0                                   0.0   \n",
       "4                                  0.0                                   0.0   \n",
       "\n",
       "   Occupation_Lawyer (vs Scientist)  Num_Credit_Card_Special (vs [7.50, inf))  \\\n",
       "0                               0.0                                       0.0   \n",
       "1                               0.0                                       0.0   \n",
       "2                               0.0                                       0.0   \n",
       "3                               0.0                                       0.0   \n",
       "4                               0.0                                       0.0   \n",
       "\n",
       "   Num_Credit_Inquiries_Special (vs [8.50, inf))  \\\n",
       "0                                            0.0   \n",
       "1                                            0.0   \n",
       "2                                            0.0   \n",
       "3                                            0.0   \n",
       "4                                            0.0   \n",
       "\n",
       "   Payment_Behaviour_Low_spent_Medium_value_payments (vs High_spent_Small_value_payments)  \\\n",
       "0                                                0.0                                        \n",
       "1                                                0.0                                        \n",
       "2                                                1.0                                        \n",
       "3                                                0.0                                        \n",
       "4                                                0.0                                        \n",
       "\n",
       "   Num_of_Delayed_Payment_Special (vs [20.50, inf))  \\\n",
       "0                                               0.0   \n",
       "1                                               0.0   \n",
       "2                                               0.0   \n",
       "3                                               0.0   \n",
       "4                                               0.0   \n",
       "\n",
       "   Credit_History_in_Year_Missing (vs [19.50, inf))  \\\n",
       "0                                               0.0   \n",
       "1                                               1.0   \n",
       "2                                               0.0   \n",
       "3                                               0.0   \n",
       "4                                               0.0   \n",
       "\n",
       "   Occupation_Doctor (vs Scientist)  \\\n",
       "0                               0.0   \n",
       "1                               0.0   \n",
       "2                               0.0   \n",
       "3                               0.0   \n",
       "4                               0.0   \n",
       "\n",
       "   Num_of_Delayed_Payment_Missing (vs [20.50, inf))  \n",
       "0                                               0.0  \n",
       "1                                               1.0  \n",
       "2                                               0.0  \n",
       "3                                               0.0  \n",
       "4                                               1.0  \n",
       "\n",
       "[5 rows x 84 columns]"
      ]
     },
     "execution_count": 35,
     "metadata": {},
     "output_type": "execute_result"
    }
   ],
   "source": [
    "# Initializing variableselector class\n",
    "selector_pearson = variableselector(\n",
    "    target=\"ovr_target\", corr_threshold=0.3, metric=\"pearson\", use_vif=False\n",
    ")\n",
    "\n",
    "# Fitting variableselector to data\n",
    "selector_pearson.fit(prepared_df.drop(columns=[\"Credit_Score\"]))\n",
    "\n",
    "# Selected variables\n",
    "print(\"Selected Variables:\", selector_pearson.selected_variables)\n",
    "\n",
    "# Filtering data to selected variables\n",
    "selected_features_df = selector_pearson.transform(prepared_df.drop(columns=[\"Credit_Score\"]))\n",
    "\n",
    "\n",
    "selected_features_df.head()\n"
   ]
  },
  {
   "cell_type": "code",
   "execution_count": 36,
   "metadata": {},
   "outputs": [
    {
     "name": "stdout",
     "output_type": "stream",
     "text": [
      "{\n",
      "   \"Credit_Mix_Good (vs Bad)\": [\n",
      "      \"Num_Bank_Accounts_(-inf, 5.50) (vs [8.50, inf))\",\n",
      "      \"Num_of_Delayed_Payment_(-inf, 7.50) (vs [20.50, inf))\",\n",
      "      \"Num_Credit_Inquiries_(-inf, 4.50) (vs [8.50, inf))\",\n",
      "      \"Outstanding_Debt_(-inf, 1248.06) (vs [1500.01, inf))\",\n",
      "      \"Delay_from_due_date_(-inf, 4.50) (vs [30.50, inf))\",\n",
      "      \"Changed_Credit_Limit_(-inf, 10.32) (vs [10.32, 11.97))\"\n",
      "   ],\n",
      "   \"Payment_of_Min_Amount_Yes (vs No)\": [\n",
      "      \"Num_of_Loan_[4.50, inf) (vs [1.50, 4.50))\",\n",
      "      \"Credit_History_in_Year_(-inf, 13.50) (vs [19.50, inf))\",\n",
      "      \"Num_Bank_Accounts_[5.50, 8.50) (vs [8.50, inf))\",\n",
      "      \"Changed_Credit_Limit_[11.97, inf) (vs [10.32, 11.97))\",\n",
      "      \"Interest_Rate_[15.50, 24.50) (vs (-inf, 15.50))\",\n",
      "      \"Interest_Rate_[24.50, inf) (vs (-inf, 15.50))\"\n",
      "   ],\n",
      "   \"Credit_Mix_Standard (vs Bad)\": [],\n",
      "   \"Num_Credit_Card_(-inf, 3.50) (vs [7.50, inf))\": [],\n",
      "   \"Delay_from_due_date_[4.50, 15.50) (vs [30.50, inf))\": [],\n",
      "   \"Delay_from_due_date_[15.50, 30.50) (vs [30.50, inf))\": [],\n",
      "   \"Num_of_Delayed_Payment_[14.50, 20.50) (vs [20.50, inf))\": [],\n",
      "   \"Num_of_Loan_(-inf, 1.50) (vs [1.50, 4.50))\": [\n",
      "      \"Total_EMI_per_month_(-inf, 11.94) (vs [11.94, inf))\"\n",
      "   ],\n",
      "   \"Num_Credit_Inquiries_[5.50, 8.50) (vs [8.50, inf))\": [],\n",
      "   \"Age_[49.50, inf) (vs (-inf, 49.50))\": [],\n",
      "   \"Annual_Income_[113015.18, inf) (vs (-inf, 10270.89))\": [\n",
      "      \"Monthly_Inhand_Salary_[6822.59, inf) (vs [1684.87, 6822.59))\",\n",
      "      \"Monthly_Balance_Special (vs [270.76, 326.15))\"\n",
      "   ],\n",
      "   \"Monthly_Balance_(-inf, 270.76) (vs [270.76, 326.15))\": [\n",
      "      \"Payment_Behaviour_Low_spent_Small_value_payments (vs High_spent_Small_value_payments)\"\n",
      "   ],\n",
      "   \"Personal Loan_0 (vs 1)\": [],\n",
      "   \"Auto Loan_0 (vs 1)\": [],\n",
      "   \"Debt Consolidation Loan_1 (vs 0)\": [],\n",
      "   \"Payday Loan_1 (vs 0)\": [],\n",
      "   \"Credit-Builder Loan_0 (vs 1)\": [],\n",
      "   \"Num_Credit_Card_[4.50, 7.50) (vs [7.50, inf))\": [],\n",
      "   \"Home Equity Loan_0 (vs 1)\": [],\n",
      "   \"Annual_Income_[10270.89, 20994.00) (vs (-inf, 10270.89))\": [\n",
      "      \"Monthly_Inhand_Salary_[889.56, 1684.87) (vs [1684.87, 6822.59))\"\n",
      "   ],\n",
      "   \"Mortgage Loan_1 (vs 0)\": [],\n",
      "   \"Outstanding_Debt_Special (vs [1500.01, inf))\": [],\n",
      "   \"Student Loan_1 (vs 0)\": [],\n",
      "   \"Monthly_Inhand_Salary_Special (vs [1684.87, 6822.59))\": [\n",
      "      \"Annual_Income_Special (vs (-inf, 10270.89))\"\n",
      "   ],\n",
      "   \"Delay_from_due_date_Special (vs [30.50, inf))\": [],\n",
      "   \"Amount_invested_monthly_Special (vs (-inf, 383.81))\": [],\n",
      "   \"Monthly_Inhand_Salary_(-inf, 889.56) (vs [1684.87, 6822.59))\": [],\n",
      "   \"Annual_Income_[83709.80, 113015.18) (vs (-inf, 10270.89))\": [],\n",
      "   \"Num_Credit_Card_[3.50, 4.50) (vs [7.50, inf))\": [],\n",
      "   \"Monthly_Balance_[564.57, inf) (vs [270.76, 326.15))\": [],\n",
      "   \"Num_of_Delayed_Payment_[7.50, 12.50) (vs [20.50, inf))\": [],\n",
      "   \"Monthly_Balance_[326.15, 564.57) (vs [270.76, 326.15))\": [\n",
      "      \"Annual_Income_[20994.00, 83709.80) (vs (-inf, 10270.89))\"\n",
      "   ],\n",
      "   \"Total_EMI_per_month_Special (vs [11.94, inf))\": [],\n",
      "   \"Payment_Behaviour_High_spent_Large_value_payments (vs High_spent_Small_value_payments)\": [],\n",
      "   \"Num_of_Delayed_Payment_[12.50, 14.50) (vs [20.50, inf))\": [],\n",
      "   \"Changed_Credit_Limit_Special (vs [10.32, 11.97))\": [],\n",
      "   \"Payment_Behaviour_High_spent_Medium_value_payments (vs High_spent_Small_value_payments)\": [],\n",
      "   \"Amount_invested_monthly_[383.81, inf) (vs (-inf, 383.81))\": [],\n",
      "   \"Occupation_Writer (vs Scientist)\": [],\n",
      "   \"Credit_History_in_Year_[13.50, 19.50) (vs [19.50, inf))\": [],\n",
      "   \"Month_March (vs January)\": [],\n",
      "   \"Credit_Utilization_Ratio_(-inf, 24.50) (vs [24.50, inf))\": [],\n",
      "   \"Month_February (vs January)\": [],\n",
      "   \"Outstanding_Debt_[1248.06, 1500.01) (vs [1500.01, inf))\": [],\n",
      "   \"Month_August (vs January)\": [],\n",
      "   \"Month_July (vs January)\": [],\n",
      "   \"Month_June (vs January)\": [],\n",
      "   \"Occupation_Mechanic (vs Scientist)\": [],\n",
      "   \"Month_April (vs January)\": [],\n",
      "   \"Occupation_Journalist (vs Scientist)\": [],\n",
      "   \"Num_of_Loan_Special (vs [1.50, 4.50))\": [],\n",
      "   \"Payment_of_Min_Amount_NM (vs No)\": [],\n",
      "   \"Monthly_Balance_Missing (vs [270.76, 326.15))\": [],\n",
      "   \"Month_May (vs January)\": [],\n",
      "   \"Interest_Rate_Special (vs (-inf, 15.50))\": [],\n",
      "   \"Occupation_Musician (vs Scientist)\": [],\n",
      "   \"Monthly_Inhand_Salary_Missing (vs [1684.87, 6822.59))\": [],\n",
      "   \"Age_Special (vs (-inf, 49.50))\": [],\n",
      "   \"Occupation_Media_Manager (vs Scientist)\": [],\n",
      "   \"Occupation_Engineer (vs Scientist)\": [],\n",
      "   \"Num_Credit_Inquiries_[4.50, 5.50) (vs [8.50, inf))\": [],\n",
      "   \"Occupation_Teacher (vs Scientist)\": [],\n",
      "   \"Occupation_Manager (vs Scientist)\": [],\n",
      "   \"Amount_invested_monthly_Missing (vs (-inf, 383.81))\": [],\n",
      "   \"Payment_Behaviour_!@9#%8 (vs High_spent_Small_value_payments)\": [],\n",
      "   \"Occupation_Developer (vs Scientist)\": [],\n",
      "   \"Occupation_Entrepreneur (vs Scientist)\": [],\n",
      "   \"Payment_Behaviour_Low_spent_Large_value_payments (vs High_spent_Small_value_payments)\": [],\n",
      "   \"Changed_Credit_Limit_Missing (vs [10.32, 11.97))\": [],\n",
      "   \"Num_Credit_Inquiries_Missing (vs [8.50, inf))\": [],\n",
      "   \"Occupation_NAN (vs Scientist)\": [],\n",
      "   \"Num_Bank_Accounts_Special (vs [8.50, inf))\": [],\n",
      "   \"Credit_Mix_NAN (vs Bad)\": [],\n",
      "   \"Credit_Utilization_Ratio_Special (vs [24.50, inf))\": [],\n",
      "   \"Occupation_Architect (vs Scientist)\": [],\n",
      "   \"Occupation_Accountant (vs Scientist)\": [],\n",
      "   \"Occupation_Lawyer (vs Scientist)\": [],\n",
      "   \"Num_Credit_Card_Special (vs [7.50, inf))\": [],\n",
      "   \"Num_Credit_Inquiries_Special (vs [8.50, inf))\": [],\n",
      "   \"Payment_Behaviour_Low_spent_Medium_value_payments (vs High_spent_Small_value_payments)\": [],\n",
      "   \"Num_of_Delayed_Payment_Special (vs [20.50, inf))\": [],\n",
      "   \"Credit_History_in_Year_Missing (vs [19.50, inf))\": [],\n",
      "   \"Occupation_Doctor (vs Scientist)\": [],\n",
      "   \"Num_of_Delayed_Payment_Missing (vs [20.50, inf))\": []\n",
      "}\n"
     ]
    }
   ],
   "source": [
    "with open(\"eliminated_variables_info.json\", 'r') as file:\n",
    "    data = json.load(file)\n",
    "print(json.dumps(data, indent=3))"
   ]
  },
  {
   "cell_type": "markdown",
   "metadata": {},
   "source": [
    "<b> VIF method"
   ]
  },
  {
   "cell_type": "code",
   "execution_count": 37,
   "metadata": {},
   "outputs": [
    {
     "name": "stdout",
     "output_type": "stream",
     "text": [
      "Selected Variables: ['Credit_Mix_Good (vs Bad)', 'Payment_of_Min_Amount_Yes (vs No)', 'Num_Bank_Accounts_(-inf, 5.50) (vs [8.50, inf))', 'Num_of_Delayed_Payment_(-inf, 7.50) (vs [20.50, inf))', 'Num_Credit_Inquiries_(-inf, 4.50) (vs [8.50, inf))', 'Num_of_Loan_[4.50, inf) (vs [1.50, 4.50))', 'Outstanding_Debt_(-inf, 1248.06) (vs [1500.01, inf))', 'Credit_History_in_Year_(-inf, 13.50) (vs [19.50, inf))', 'Delay_from_due_date_(-inf, 4.50) (vs [30.50, inf))', 'Credit_Mix_Standard (vs Bad)', 'Num_Credit_Card_(-inf, 3.50) (vs [7.50, inf))', 'Changed_Credit_Limit_[11.97, inf) (vs [10.32, 11.97))', 'Delay_from_due_date_[4.50, 15.50) (vs [30.50, inf))', 'Interest_Rate_[15.50, 24.50) (vs (-inf, 15.50))', 'Interest_Rate_[24.50, inf) (vs (-inf, 15.50))', 'Num_of_Delayed_Payment_[14.50, 20.50) (vs [20.50, inf))', 'Num_of_Loan_(-inf, 1.50) (vs [1.50, 4.50))', 'Num_Credit_Inquiries_[5.50, 8.50) (vs [8.50, inf))', 'Age_[49.50, inf) (vs (-inf, 49.50))', 'Annual_Income_[113015.18, inf) (vs (-inf, 10270.89))', 'Monthly_Inhand_Salary_[6822.59, inf) (vs [1684.87, 6822.59))', 'Monthly_Balance_(-inf, 270.76) (vs [270.76, 326.15))', 'Personal Loan_0 (vs 1)', 'Auto Loan_0 (vs 1)', 'Debt Consolidation Loan_1 (vs 0)', 'Monthly_Balance_Special (vs [270.76, 326.15))', 'Payday Loan_1 (vs 0)', 'Credit-Builder Loan_0 (vs 1)', 'Num_Credit_Card_[4.50, 7.50) (vs [7.50, inf))', 'Home Equity Loan_0 (vs 1)', 'Annual_Income_[10270.89, 20994.00) (vs (-inf, 10270.89))', 'Mortgage Loan_1 (vs 0)', 'Outstanding_Debt_Special (vs [1500.01, inf))', 'Student Loan_1 (vs 0)', 'Monthly_Inhand_Salary_Special (vs [1684.87, 6822.59))', 'Total_EMI_per_month_(-inf, 11.94) (vs [11.94, inf))', 'Delay_from_due_date_Special (vs [30.50, inf))', 'Amount_invested_monthly_Special (vs (-inf, 383.81))', 'Monthly_Inhand_Salary_(-inf, 889.56) (vs [1684.87, 6822.59))', 'Payment_Behaviour_Low_spent_Small_value_payments (vs High_spent_Small_value_payments)', 'Annual_Income_Special (vs (-inf, 10270.89))', 'Monthly_Balance_[564.57, inf) (vs [270.76, 326.15))', 'Num_of_Delayed_Payment_[7.50, 12.50) (vs [20.50, inf))', 'Total_EMI_per_month_Special (vs [11.94, inf))', 'Payment_Behaviour_High_spent_Large_value_payments (vs High_spent_Small_value_payments)', 'Num_of_Delayed_Payment_[12.50, 14.50) (vs [20.50, inf))', 'Changed_Credit_Limit_Special (vs [10.32, 11.97))', 'Payment_Behaviour_High_spent_Medium_value_payments (vs High_spent_Small_value_payments)', 'Amount_invested_monthly_[383.81, inf) (vs (-inf, 383.81))', 'Occupation_Writer (vs Scientist)', 'Credit_History_in_Year_[13.50, 19.50) (vs [19.50, inf))', 'Month_March (vs January)', 'Credit_Utilization_Ratio_(-inf, 24.50) (vs [24.50, inf))', 'Month_February (vs January)', 'Month_August (vs January)', 'Month_July (vs January)', 'Month_June (vs January)', 'Occupation_Mechanic (vs Scientist)', 'Month_April (vs January)', 'Occupation_Journalist (vs Scientist)', 'Num_of_Loan_Special (vs [1.50, 4.50))', 'Payment_of_Min_Amount_NM (vs No)', 'Monthly_Balance_Missing (vs [270.76, 326.15))', 'Month_May (vs January)', 'Interest_Rate_Special (vs (-inf, 15.50))', 'Occupation_Musician (vs Scientist)', 'Monthly_Inhand_Salary_Missing (vs [1684.87, 6822.59))', 'Age_Special (vs (-inf, 49.50))', 'Occupation_Media_Manager (vs Scientist)', 'Occupation_Engineer (vs Scientist)', 'Num_Credit_Inquiries_[4.50, 5.50) (vs [8.50, inf))', 'Occupation_Teacher (vs Scientist)', 'Occupation_Manager (vs Scientist)', 'Occupation_Doctor (vs Scientist)', 'Credit_History_in_Year_Missing (vs [19.50, inf))', 'Num_of_Delayed_Payment_Missing (vs [20.50, inf))', 'Num_Credit_Inquiries_Missing (vs [8.50, inf))', 'Num_Credit_Inquiries_Special (vs [8.50, inf))', 'Num_Credit_Card_Special (vs [7.50, inf))', 'Occupation_Accountant (vs Scientist)', 'Occupation_Architect (vs Scientist)', 'Occupation_Developer (vs Scientist)', 'Occupation_NAN (vs Scientist)', 'Amount_invested_monthly_Missing (vs (-inf, 383.81))', 'Occupation_Entrepreneur (vs Scientist)', 'Num_Bank_Accounts_Special (vs [8.50, inf))', 'Credit_Utilization_Ratio_Special (vs [24.50, inf))', 'Occupation_Lawyer (vs Scientist)', 'Payment_Behaviour_Low_spent_Medium_value_payments (vs High_spent_Small_value_payments)', 'Payment_Behaviour_Low_spent_Large_value_payments (vs High_spent_Small_value_payments)', 'Payment_Behaviour_!@9#%8 (vs High_spent_Small_value_payments)', 'Num_of_Delayed_Payment_Special (vs [20.50, inf))', 'Changed_Credit_Limit_Missing (vs [10.32, 11.97))']\n"
     ]
    },
    {
     "data": {
      "text/html": [
       "<div>\n",
       "<style scoped>\n",
       "    .dataframe tbody tr th:only-of-type {\n",
       "        vertical-align: middle;\n",
       "    }\n",
       "\n",
       "    .dataframe tbody tr th {\n",
       "        vertical-align: top;\n",
       "    }\n",
       "\n",
       "    .dataframe thead th {\n",
       "        text-align: right;\n",
       "    }\n",
       "</style>\n",
       "<table border=\"1\" class=\"dataframe\">\n",
       "  <thead>\n",
       "    <tr style=\"text-align: right;\">\n",
       "      <th></th>\n",
       "      <th>Credit_Mix_Good (vs Bad)</th>\n",
       "      <th>Payment_of_Min_Amount_Yes (vs No)</th>\n",
       "      <th>Num_Bank_Accounts_(-inf, 5.50) (vs [8.50, inf))</th>\n",
       "      <th>Num_of_Delayed_Payment_(-inf, 7.50) (vs [20.50, inf))</th>\n",
       "      <th>Num_Credit_Inquiries_(-inf, 4.50) (vs [8.50, inf))</th>\n",
       "      <th>Num_of_Loan_[4.50, inf) (vs [1.50, 4.50))</th>\n",
       "      <th>Outstanding_Debt_(-inf, 1248.06) (vs [1500.01, inf))</th>\n",
       "      <th>Credit_History_in_Year_(-inf, 13.50) (vs [19.50, inf))</th>\n",
       "      <th>Delay_from_due_date_(-inf, 4.50) (vs [30.50, inf))</th>\n",
       "      <th>Credit_Mix_Standard (vs Bad)</th>\n",
       "      <th>...</th>\n",
       "      <th>Amount_invested_monthly_Missing (vs (-inf, 383.81))</th>\n",
       "      <th>Occupation_Entrepreneur (vs Scientist)</th>\n",
       "      <th>Num_Bank_Accounts_Special (vs [8.50, inf))</th>\n",
       "      <th>Credit_Utilization_Ratio_Special (vs [24.50, inf))</th>\n",
       "      <th>Occupation_Lawyer (vs Scientist)</th>\n",
       "      <th>Payment_Behaviour_Low_spent_Medium_value_payments (vs High_spent_Small_value_payments)</th>\n",
       "      <th>Payment_Behaviour_Low_spent_Large_value_payments (vs High_spent_Small_value_payments)</th>\n",
       "      <th>Payment_Behaviour_!@9#%8 (vs High_spent_Small_value_payments)</th>\n",
       "      <th>Num_of_Delayed_Payment_Special (vs [20.50, inf))</th>\n",
       "      <th>Changed_Credit_Limit_Missing (vs [10.32, 11.97))</th>\n",
       "    </tr>\n",
       "  </thead>\n",
       "  <tbody>\n",
       "    <tr>\n",
       "      <th>0</th>\n",
       "      <td>0.0</td>\n",
       "      <td>0.0</td>\n",
       "      <td>1.0</td>\n",
       "      <td>1.0</td>\n",
       "      <td>1.0</td>\n",
       "      <td>0.0</td>\n",
       "      <td>1.0</td>\n",
       "      <td>0.0</td>\n",
       "      <td>1.0</td>\n",
       "      <td>0.0</td>\n",
       "      <td>...</td>\n",
       "      <td>0.0</td>\n",
       "      <td>0.0</td>\n",
       "      <td>0.0</td>\n",
       "      <td>0.0</td>\n",
       "      <td>0.0</td>\n",
       "      <td>0.0</td>\n",
       "      <td>0.0</td>\n",
       "      <td>0.0</td>\n",
       "      <td>0.0</td>\n",
       "      <td>0.0</td>\n",
       "    </tr>\n",
       "    <tr>\n",
       "      <th>1</th>\n",
       "      <td>1.0</td>\n",
       "      <td>0.0</td>\n",
       "      <td>1.0</td>\n",
       "      <td>0.0</td>\n",
       "      <td>1.0</td>\n",
       "      <td>0.0</td>\n",
       "      <td>1.0</td>\n",
       "      <td>0.0</td>\n",
       "      <td>1.0</td>\n",
       "      <td>0.0</td>\n",
       "      <td>...</td>\n",
       "      <td>0.0</td>\n",
       "      <td>0.0</td>\n",
       "      <td>0.0</td>\n",
       "      <td>0.0</td>\n",
       "      <td>0.0</td>\n",
       "      <td>0.0</td>\n",
       "      <td>1.0</td>\n",
       "      <td>0.0</td>\n",
       "      <td>0.0</td>\n",
       "      <td>0.0</td>\n",
       "    </tr>\n",
       "    <tr>\n",
       "      <th>2</th>\n",
       "      <td>1.0</td>\n",
       "      <td>0.0</td>\n",
       "      <td>1.0</td>\n",
       "      <td>1.0</td>\n",
       "      <td>1.0</td>\n",
       "      <td>0.0</td>\n",
       "      <td>1.0</td>\n",
       "      <td>0.0</td>\n",
       "      <td>1.0</td>\n",
       "      <td>0.0</td>\n",
       "      <td>...</td>\n",
       "      <td>0.0</td>\n",
       "      <td>0.0</td>\n",
       "      <td>0.0</td>\n",
       "      <td>0.0</td>\n",
       "      <td>0.0</td>\n",
       "      <td>1.0</td>\n",
       "      <td>0.0</td>\n",
       "      <td>0.0</td>\n",
       "      <td>0.0</td>\n",
       "      <td>1.0</td>\n",
       "    </tr>\n",
       "    <tr>\n",
       "      <th>3</th>\n",
       "      <td>1.0</td>\n",
       "      <td>0.0</td>\n",
       "      <td>1.0</td>\n",
       "      <td>1.0</td>\n",
       "      <td>1.0</td>\n",
       "      <td>0.0</td>\n",
       "      <td>1.0</td>\n",
       "      <td>0.0</td>\n",
       "      <td>0.0</td>\n",
       "      <td>0.0</td>\n",
       "      <td>...</td>\n",
       "      <td>0.0</td>\n",
       "      <td>0.0</td>\n",
       "      <td>0.0</td>\n",
       "      <td>0.0</td>\n",
       "      <td>0.0</td>\n",
       "      <td>0.0</td>\n",
       "      <td>0.0</td>\n",
       "      <td>0.0</td>\n",
       "      <td>0.0</td>\n",
       "      <td>0.0</td>\n",
       "    </tr>\n",
       "    <tr>\n",
       "      <th>4</th>\n",
       "      <td>1.0</td>\n",
       "      <td>0.0</td>\n",
       "      <td>1.0</td>\n",
       "      <td>0.0</td>\n",
       "      <td>1.0</td>\n",
       "      <td>0.0</td>\n",
       "      <td>1.0</td>\n",
       "      <td>0.0</td>\n",
       "      <td>0.0</td>\n",
       "      <td>0.0</td>\n",
       "      <td>...</td>\n",
       "      <td>0.0</td>\n",
       "      <td>0.0</td>\n",
       "      <td>0.0</td>\n",
       "      <td>0.0</td>\n",
       "      <td>0.0</td>\n",
       "      <td>0.0</td>\n",
       "      <td>0.0</td>\n",
       "      <td>0.0</td>\n",
       "      <td>0.0</td>\n",
       "      <td>0.0</td>\n",
       "    </tr>\n",
       "  </tbody>\n",
       "</table>\n",
       "<p>5 rows × 93 columns</p>\n",
       "</div>"
      ],
      "text/plain": [
       "   Credit_Mix_Good (vs Bad)  Payment_of_Min_Amount_Yes (vs No)  \\\n",
       "0                       0.0                                0.0   \n",
       "1                       1.0                                0.0   \n",
       "2                       1.0                                0.0   \n",
       "3                       1.0                                0.0   \n",
       "4                       1.0                                0.0   \n",
       "\n",
       "   Num_Bank_Accounts_(-inf, 5.50) (vs [8.50, inf))  \\\n",
       "0                                              1.0   \n",
       "1                                              1.0   \n",
       "2                                              1.0   \n",
       "3                                              1.0   \n",
       "4                                              1.0   \n",
       "\n",
       "   Num_of_Delayed_Payment_(-inf, 7.50) (vs [20.50, inf))  \\\n",
       "0                                                1.0       \n",
       "1                                                0.0       \n",
       "2                                                1.0       \n",
       "3                                                1.0       \n",
       "4                                                0.0       \n",
       "\n",
       "   Num_Credit_Inquiries_(-inf, 4.50) (vs [8.50, inf))  \\\n",
       "0                                                1.0    \n",
       "1                                                1.0    \n",
       "2                                                1.0    \n",
       "3                                                1.0    \n",
       "4                                                1.0    \n",
       "\n",
       "   Num_of_Loan_[4.50, inf) (vs [1.50, 4.50))  \\\n",
       "0                                        0.0   \n",
       "1                                        0.0   \n",
       "2                                        0.0   \n",
       "3                                        0.0   \n",
       "4                                        0.0   \n",
       "\n",
       "   Outstanding_Debt_(-inf, 1248.06) (vs [1500.01, inf))  \\\n",
       "0                                                1.0      \n",
       "1                                                1.0      \n",
       "2                                                1.0      \n",
       "3                                                1.0      \n",
       "4                                                1.0      \n",
       "\n",
       "   Credit_History_in_Year_(-inf, 13.50) (vs [19.50, inf))  \\\n",
       "0                                                0.0        \n",
       "1                                                0.0        \n",
       "2                                                0.0        \n",
       "3                                                0.0        \n",
       "4                                                0.0        \n",
       "\n",
       "   Delay_from_due_date_(-inf, 4.50) (vs [30.50, inf))  \\\n",
       "0                                                1.0    \n",
       "1                                                1.0    \n",
       "2                                                1.0    \n",
       "3                                                0.0    \n",
       "4                                                0.0    \n",
       "\n",
       "   Credit_Mix_Standard (vs Bad)  ...  \\\n",
       "0                           0.0  ...   \n",
       "1                           0.0  ...   \n",
       "2                           0.0  ...   \n",
       "3                           0.0  ...   \n",
       "4                           0.0  ...   \n",
       "\n",
       "   Amount_invested_monthly_Missing (vs (-inf, 383.81))  \\\n",
       "0                                                0.0     \n",
       "1                                                0.0     \n",
       "2                                                0.0     \n",
       "3                                                0.0     \n",
       "4                                                0.0     \n",
       "\n",
       "   Occupation_Entrepreneur (vs Scientist)  \\\n",
       "0                                     0.0   \n",
       "1                                     0.0   \n",
       "2                                     0.0   \n",
       "3                                     0.0   \n",
       "4                                     0.0   \n",
       "\n",
       "   Num_Bank_Accounts_Special (vs [8.50, inf))  \\\n",
       "0                                         0.0   \n",
       "1                                         0.0   \n",
       "2                                         0.0   \n",
       "3                                         0.0   \n",
       "4                                         0.0   \n",
       "\n",
       "   Credit_Utilization_Ratio_Special (vs [24.50, inf))  \\\n",
       "0                                                0.0    \n",
       "1                                                0.0    \n",
       "2                                                0.0    \n",
       "3                                                0.0    \n",
       "4                                                0.0    \n",
       "\n",
       "   Occupation_Lawyer (vs Scientist)  \\\n",
       "0                               0.0   \n",
       "1                               0.0   \n",
       "2                               0.0   \n",
       "3                               0.0   \n",
       "4                               0.0   \n",
       "\n",
       "   Payment_Behaviour_Low_spent_Medium_value_payments (vs High_spent_Small_value_payments)  \\\n",
       "0                                                0.0                                        \n",
       "1                                                0.0                                        \n",
       "2                                                1.0                                        \n",
       "3                                                0.0                                        \n",
       "4                                                0.0                                        \n",
       "\n",
       "   Payment_Behaviour_Low_spent_Large_value_payments (vs High_spent_Small_value_payments)  \\\n",
       "0                                                0.0                                       \n",
       "1                                                1.0                                       \n",
       "2                                                0.0                                       \n",
       "3                                                0.0                                       \n",
       "4                                                0.0                                       \n",
       "\n",
       "   Payment_Behaviour_!@9#%8 (vs High_spent_Small_value_payments)  \\\n",
       "0                                                0.0               \n",
       "1                                                0.0               \n",
       "2                                                0.0               \n",
       "3                                                0.0               \n",
       "4                                                0.0               \n",
       "\n",
       "   Num_of_Delayed_Payment_Special (vs [20.50, inf))  \\\n",
       "0                                               0.0   \n",
       "1                                               0.0   \n",
       "2                                               0.0   \n",
       "3                                               0.0   \n",
       "4                                               0.0   \n",
       "\n",
       "   Changed_Credit_Limit_Missing (vs [10.32, 11.97))  \n",
       "0                                               0.0  \n",
       "1                                               0.0  \n",
       "2                                               1.0  \n",
       "3                                               0.0  \n",
       "4                                               0.0  \n",
       "\n",
       "[5 rows x 93 columns]"
      ]
     },
     "execution_count": 37,
     "metadata": {},
     "output_type": "execute_result"
    }
   ],
   "source": [
    "# Initializing variableselector class\n",
    "selector_vif = variableselector(target=\"ovr_target\", use_vif=True, vif_threshold=2)\n",
    "\n",
    "# Fitting variableselector to data\n",
    "selector_vif.fit(prepared_df.drop(columns=[\"Credit_Score\"]))\n",
    "\n",
    "# Selected variables\n",
    "print(\"Selected Variables:\", selector_vif.selected_variables)\n",
    "\n",
    "# Filtering data to selected variables\n",
    "selected_features_df = selector_vif.transform(prepared_df.drop(columns=[\"Credit_Score\"]))\n",
    "\n",
    "\n",
    "selected_features_df.head()"
   ]
  },
  {
   "cell_type": "code",
   "execution_count": 36,
   "metadata": {},
   "outputs": [
    {
     "name": "stdout",
     "output_type": "stream",
     "text": [
      "{\n",
      "   \"Credit_Mix_Bad (vs NAN)\": 2.180980244396947,\n",
      "   \"Changed_Credit_Limit_(-inf, 10.32) (vs [10.32, 11.97))\": 2.4015283122674314,\n",
      "   \"Interest_Rate_[24.50, inf) (vs (-inf, 15.50))\": 2.0160539317107142,\n",
      "   \"Delay_from_due_date_[30.50, inf) (vs (-inf, 4.50))\": 2.3329507546678174,\n",
      "   \"Num_Credit_Card_[4.50, 7.50) (vs [3.50, 4.50))\": 2.1101726035925683,\n",
      "   \"Monthly_Inhand_Salary_(-inf, 889.56) (vs [1684.87, 6822.59))\": 2.1686661292272507,\n",
      "   \"Annual_Income_[83709.80, 113015.18) (vs [10270.89, 20994.00))\": 2.932616523636938,\n",
      "   \"Monthly_Balance_[326.15, 564.57) (vs [270.76, 326.15))\": 2.0480614655164513,\n",
      "   \"Annual_Income_[20994.00, 83709.80) (vs [10270.89, 20994.00))\": 2.799111800908975\n",
      "}\n"
     ]
    }
   ],
   "source": [
    "with open(\"eliminated_variables_info.json\", 'r') as file:\n",
    "    data = json.load(file)\n",
    "print(json.dumps(data, indent=3))"
   ]
  },
  {
   "cell_type": "markdown",
   "metadata": {},
   "source": [
    "We can also combine two methods; for example, we can combine the Cramér's V indicator with VIF (Variance Inflation Factor)."
   ]
  },
  {
   "cell_type": "markdown",
   "metadata": {},
   "source": [
    "#### 6.3 Logistic Regression model "
   ]
  },
  {
   "cell_type": "markdown",
   "metadata": {},
   "source": [
    "<b> Splitting the Training and Test Sets"
   ]
  },
  {
   "cell_type": "code",
   "execution_count": 38,
   "metadata": {},
   "outputs": [],
   "source": [
    "X_train, X_test, y_train, y_test = train_test_split(\n",
    "    prepared_df[selector_pearson.selected_variables], \n",
    "    prepared_df['ovr_target'], \n",
    "    test_size=0.1, \n",
    "    random_state=42, \n",
    "    stratify=prepared_df['ovr_target']\n",
    ")"
   ]
  },
  {
   "cell_type": "markdown",
   "metadata": {},
   "source": [
    "<b> Fitting the model "
   ]
  },
  {
   "cell_type": "code",
   "execution_count": 39,
   "metadata": {},
   "outputs": [
    {
     "data": {
      "text/html": [
       "<style>#sk-container-id-1 {\n",
       "  /* Definition of color scheme common for light and dark mode */\n",
       "  --sklearn-color-text: black;\n",
       "  --sklearn-color-line: gray;\n",
       "  /* Definition of color scheme for unfitted estimators */\n",
       "  --sklearn-color-unfitted-level-0: #fff5e6;\n",
       "  --sklearn-color-unfitted-level-1: #f6e4d2;\n",
       "  --sklearn-color-unfitted-level-2: #ffe0b3;\n",
       "  --sklearn-color-unfitted-level-3: chocolate;\n",
       "  /* Definition of color scheme for fitted estimators */\n",
       "  --sklearn-color-fitted-level-0: #f0f8ff;\n",
       "  --sklearn-color-fitted-level-1: #d4ebff;\n",
       "  --sklearn-color-fitted-level-2: #b3dbfd;\n",
       "  --sklearn-color-fitted-level-3: cornflowerblue;\n",
       "\n",
       "  /* Specific color for light theme */\n",
       "  --sklearn-color-text-on-default-background: var(--sg-text-color, var(--theme-code-foreground, var(--jp-content-font-color1, black)));\n",
       "  --sklearn-color-background: var(--sg-background-color, var(--theme-background, var(--jp-layout-color0, white)));\n",
       "  --sklearn-color-border-box: var(--sg-text-color, var(--theme-code-foreground, var(--jp-content-font-color1, black)));\n",
       "  --sklearn-color-icon: #696969;\n",
       "\n",
       "  @media (prefers-color-scheme: dark) {\n",
       "    /* Redefinition of color scheme for dark theme */\n",
       "    --sklearn-color-text-on-default-background: var(--sg-text-color, var(--theme-code-foreground, var(--jp-content-font-color1, white)));\n",
       "    --sklearn-color-background: var(--sg-background-color, var(--theme-background, var(--jp-layout-color0, #111)));\n",
       "    --sklearn-color-border-box: var(--sg-text-color, var(--theme-code-foreground, var(--jp-content-font-color1, white)));\n",
       "    --sklearn-color-icon: #878787;\n",
       "  }\n",
       "}\n",
       "\n",
       "#sk-container-id-1 {\n",
       "  color: var(--sklearn-color-text);\n",
       "}\n",
       "\n",
       "#sk-container-id-1 pre {\n",
       "  padding: 0;\n",
       "}\n",
       "\n",
       "#sk-container-id-1 input.sk-hidden--visually {\n",
       "  border: 0;\n",
       "  clip: rect(1px 1px 1px 1px);\n",
       "  clip: rect(1px, 1px, 1px, 1px);\n",
       "  height: 1px;\n",
       "  margin: -1px;\n",
       "  overflow: hidden;\n",
       "  padding: 0;\n",
       "  position: absolute;\n",
       "  width: 1px;\n",
       "}\n",
       "\n",
       "#sk-container-id-1 div.sk-dashed-wrapped {\n",
       "  border: 1px dashed var(--sklearn-color-line);\n",
       "  margin: 0 0.4em 0.5em 0.4em;\n",
       "  box-sizing: border-box;\n",
       "  padding-bottom: 0.4em;\n",
       "  background-color: var(--sklearn-color-background);\n",
       "}\n",
       "\n",
       "#sk-container-id-1 div.sk-container {\n",
       "  /* jupyter's `normalize.less` sets `[hidden] { display: none; }`\n",
       "     but bootstrap.min.css set `[hidden] { display: none !important; }`\n",
       "     so we also need the `!important` here to be able to override the\n",
       "     default hidden behavior on the sphinx rendered scikit-learn.org.\n",
       "     See: https://github.com/scikit-learn/scikit-learn/issues/21755 */\n",
       "  display: inline-block !important;\n",
       "  position: relative;\n",
       "}\n",
       "\n",
       "#sk-container-id-1 div.sk-text-repr-fallback {\n",
       "  display: none;\n",
       "}\n",
       "\n",
       "div.sk-parallel-item,\n",
       "div.sk-serial,\n",
       "div.sk-item {\n",
       "  /* draw centered vertical line to link estimators */\n",
       "  background-image: linear-gradient(var(--sklearn-color-text-on-default-background), var(--sklearn-color-text-on-default-background));\n",
       "  background-size: 2px 100%;\n",
       "  background-repeat: no-repeat;\n",
       "  background-position: center center;\n",
       "}\n",
       "\n",
       "/* Parallel-specific style estimator block */\n",
       "\n",
       "#sk-container-id-1 div.sk-parallel-item::after {\n",
       "  content: \"\";\n",
       "  width: 100%;\n",
       "  border-bottom: 2px solid var(--sklearn-color-text-on-default-background);\n",
       "  flex-grow: 1;\n",
       "}\n",
       "\n",
       "#sk-container-id-1 div.sk-parallel {\n",
       "  display: flex;\n",
       "  align-items: stretch;\n",
       "  justify-content: center;\n",
       "  background-color: var(--sklearn-color-background);\n",
       "  position: relative;\n",
       "}\n",
       "\n",
       "#sk-container-id-1 div.sk-parallel-item {\n",
       "  display: flex;\n",
       "  flex-direction: column;\n",
       "}\n",
       "\n",
       "#sk-container-id-1 div.sk-parallel-item:first-child::after {\n",
       "  align-self: flex-end;\n",
       "  width: 50%;\n",
       "}\n",
       "\n",
       "#sk-container-id-1 div.sk-parallel-item:last-child::after {\n",
       "  align-self: flex-start;\n",
       "  width: 50%;\n",
       "}\n",
       "\n",
       "#sk-container-id-1 div.sk-parallel-item:only-child::after {\n",
       "  width: 0;\n",
       "}\n",
       "\n",
       "/* Serial-specific style estimator block */\n",
       "\n",
       "#sk-container-id-1 div.sk-serial {\n",
       "  display: flex;\n",
       "  flex-direction: column;\n",
       "  align-items: center;\n",
       "  background-color: var(--sklearn-color-background);\n",
       "  padding-right: 1em;\n",
       "  padding-left: 1em;\n",
       "}\n",
       "\n",
       "\n",
       "/* Toggleable style: style used for estimator/Pipeline/ColumnTransformer box that is\n",
       "clickable and can be expanded/collapsed.\n",
       "- Pipeline and ColumnTransformer use this feature and define the default style\n",
       "- Estimators will overwrite some part of the style using the `sk-estimator` class\n",
       "*/\n",
       "\n",
       "/* Pipeline and ColumnTransformer style (default) */\n",
       "\n",
       "#sk-container-id-1 div.sk-toggleable {\n",
       "  /* Default theme specific background. It is overwritten whether we have a\n",
       "  specific estimator or a Pipeline/ColumnTransformer */\n",
       "  background-color: var(--sklearn-color-background);\n",
       "}\n",
       "\n",
       "/* Toggleable label */\n",
       "#sk-container-id-1 label.sk-toggleable__label {\n",
       "  cursor: pointer;\n",
       "  display: block;\n",
       "  width: 100%;\n",
       "  margin-bottom: 0;\n",
       "  padding: 0.5em;\n",
       "  box-sizing: border-box;\n",
       "  text-align: center;\n",
       "}\n",
       "\n",
       "#sk-container-id-1 label.sk-toggleable__label-arrow:before {\n",
       "  /* Arrow on the left of the label */\n",
       "  content: \"▸\";\n",
       "  float: left;\n",
       "  margin-right: 0.25em;\n",
       "  color: var(--sklearn-color-icon);\n",
       "}\n",
       "\n",
       "#sk-container-id-1 label.sk-toggleable__label-arrow:hover:before {\n",
       "  color: var(--sklearn-color-text);\n",
       "}\n",
       "\n",
       "/* Toggleable content - dropdown */\n",
       "\n",
       "#sk-container-id-1 div.sk-toggleable__content {\n",
       "  max-height: 0;\n",
       "  max-width: 0;\n",
       "  overflow: hidden;\n",
       "  text-align: left;\n",
       "  /* unfitted */\n",
       "  background-color: var(--sklearn-color-unfitted-level-0);\n",
       "}\n",
       "\n",
       "#sk-container-id-1 div.sk-toggleable__content.fitted {\n",
       "  /* fitted */\n",
       "  background-color: var(--sklearn-color-fitted-level-0);\n",
       "}\n",
       "\n",
       "#sk-container-id-1 div.sk-toggleable__content pre {\n",
       "  margin: 0.2em;\n",
       "  border-radius: 0.25em;\n",
       "  color: var(--sklearn-color-text);\n",
       "  /* unfitted */\n",
       "  background-color: var(--sklearn-color-unfitted-level-0);\n",
       "}\n",
       "\n",
       "#sk-container-id-1 div.sk-toggleable__content.fitted pre {\n",
       "  /* unfitted */\n",
       "  background-color: var(--sklearn-color-fitted-level-0);\n",
       "}\n",
       "\n",
       "#sk-container-id-1 input.sk-toggleable__control:checked~div.sk-toggleable__content {\n",
       "  /* Expand drop-down */\n",
       "  max-height: 200px;\n",
       "  max-width: 100%;\n",
       "  overflow: auto;\n",
       "}\n",
       "\n",
       "#sk-container-id-1 input.sk-toggleable__control:checked~label.sk-toggleable__label-arrow:before {\n",
       "  content: \"▾\";\n",
       "}\n",
       "\n",
       "/* Pipeline/ColumnTransformer-specific style */\n",
       "\n",
       "#sk-container-id-1 div.sk-label input.sk-toggleable__control:checked~label.sk-toggleable__label {\n",
       "  color: var(--sklearn-color-text);\n",
       "  background-color: var(--sklearn-color-unfitted-level-2);\n",
       "}\n",
       "\n",
       "#sk-container-id-1 div.sk-label.fitted input.sk-toggleable__control:checked~label.sk-toggleable__label {\n",
       "  background-color: var(--sklearn-color-fitted-level-2);\n",
       "}\n",
       "\n",
       "/* Estimator-specific style */\n",
       "\n",
       "/* Colorize estimator box */\n",
       "#sk-container-id-1 div.sk-estimator input.sk-toggleable__control:checked~label.sk-toggleable__label {\n",
       "  /* unfitted */\n",
       "  background-color: var(--sklearn-color-unfitted-level-2);\n",
       "}\n",
       "\n",
       "#sk-container-id-1 div.sk-estimator.fitted input.sk-toggleable__control:checked~label.sk-toggleable__label {\n",
       "  /* fitted */\n",
       "  background-color: var(--sklearn-color-fitted-level-2);\n",
       "}\n",
       "\n",
       "#sk-container-id-1 div.sk-label label.sk-toggleable__label,\n",
       "#sk-container-id-1 div.sk-label label {\n",
       "  /* The background is the default theme color */\n",
       "  color: var(--sklearn-color-text-on-default-background);\n",
       "}\n",
       "\n",
       "/* On hover, darken the color of the background */\n",
       "#sk-container-id-1 div.sk-label:hover label.sk-toggleable__label {\n",
       "  color: var(--sklearn-color-text);\n",
       "  background-color: var(--sklearn-color-unfitted-level-2);\n",
       "}\n",
       "\n",
       "/* Label box, darken color on hover, fitted */\n",
       "#sk-container-id-1 div.sk-label.fitted:hover label.sk-toggleable__label.fitted {\n",
       "  color: var(--sklearn-color-text);\n",
       "  background-color: var(--sklearn-color-fitted-level-2);\n",
       "}\n",
       "\n",
       "/* Estimator label */\n",
       "\n",
       "#sk-container-id-1 div.sk-label label {\n",
       "  font-family: monospace;\n",
       "  font-weight: bold;\n",
       "  display: inline-block;\n",
       "  line-height: 1.2em;\n",
       "}\n",
       "\n",
       "#sk-container-id-1 div.sk-label-container {\n",
       "  text-align: center;\n",
       "}\n",
       "\n",
       "/* Estimator-specific */\n",
       "#sk-container-id-1 div.sk-estimator {\n",
       "  font-family: monospace;\n",
       "  border: 1px dotted var(--sklearn-color-border-box);\n",
       "  border-radius: 0.25em;\n",
       "  box-sizing: border-box;\n",
       "  margin-bottom: 0.5em;\n",
       "  /* unfitted */\n",
       "  background-color: var(--sklearn-color-unfitted-level-0);\n",
       "}\n",
       "\n",
       "#sk-container-id-1 div.sk-estimator.fitted {\n",
       "  /* fitted */\n",
       "  background-color: var(--sklearn-color-fitted-level-0);\n",
       "}\n",
       "\n",
       "/* on hover */\n",
       "#sk-container-id-1 div.sk-estimator:hover {\n",
       "  /* unfitted */\n",
       "  background-color: var(--sklearn-color-unfitted-level-2);\n",
       "}\n",
       "\n",
       "#sk-container-id-1 div.sk-estimator.fitted:hover {\n",
       "  /* fitted */\n",
       "  background-color: var(--sklearn-color-fitted-level-2);\n",
       "}\n",
       "\n",
       "/* Specification for estimator info (e.g. \"i\" and \"?\") */\n",
       "\n",
       "/* Common style for \"i\" and \"?\" */\n",
       "\n",
       ".sk-estimator-doc-link,\n",
       "a:link.sk-estimator-doc-link,\n",
       "a:visited.sk-estimator-doc-link {\n",
       "  float: right;\n",
       "  font-size: smaller;\n",
       "  line-height: 1em;\n",
       "  font-family: monospace;\n",
       "  background-color: var(--sklearn-color-background);\n",
       "  border-radius: 1em;\n",
       "  height: 1em;\n",
       "  width: 1em;\n",
       "  text-decoration: none !important;\n",
       "  margin-left: 1ex;\n",
       "  /* unfitted */\n",
       "  border: var(--sklearn-color-unfitted-level-1) 1pt solid;\n",
       "  color: var(--sklearn-color-unfitted-level-1);\n",
       "}\n",
       "\n",
       ".sk-estimator-doc-link.fitted,\n",
       "a:link.sk-estimator-doc-link.fitted,\n",
       "a:visited.sk-estimator-doc-link.fitted {\n",
       "  /* fitted */\n",
       "  border: var(--sklearn-color-fitted-level-1) 1pt solid;\n",
       "  color: var(--sklearn-color-fitted-level-1);\n",
       "}\n",
       "\n",
       "/* On hover */\n",
       "div.sk-estimator:hover .sk-estimator-doc-link:hover,\n",
       ".sk-estimator-doc-link:hover,\n",
       "div.sk-label-container:hover .sk-estimator-doc-link:hover,\n",
       ".sk-estimator-doc-link:hover {\n",
       "  /* unfitted */\n",
       "  background-color: var(--sklearn-color-unfitted-level-3);\n",
       "  color: var(--sklearn-color-background);\n",
       "  text-decoration: none;\n",
       "}\n",
       "\n",
       "div.sk-estimator.fitted:hover .sk-estimator-doc-link.fitted:hover,\n",
       ".sk-estimator-doc-link.fitted:hover,\n",
       "div.sk-label-container:hover .sk-estimator-doc-link.fitted:hover,\n",
       ".sk-estimator-doc-link.fitted:hover {\n",
       "  /* fitted */\n",
       "  background-color: var(--sklearn-color-fitted-level-3);\n",
       "  color: var(--sklearn-color-background);\n",
       "  text-decoration: none;\n",
       "}\n",
       "\n",
       "/* Span, style for the box shown on hovering the info icon */\n",
       ".sk-estimator-doc-link span {\n",
       "  display: none;\n",
       "  z-index: 9999;\n",
       "  position: relative;\n",
       "  font-weight: normal;\n",
       "  right: .2ex;\n",
       "  padding: .5ex;\n",
       "  margin: .5ex;\n",
       "  width: min-content;\n",
       "  min-width: 20ex;\n",
       "  max-width: 50ex;\n",
       "  color: var(--sklearn-color-text);\n",
       "  box-shadow: 2pt 2pt 4pt #999;\n",
       "  /* unfitted */\n",
       "  background: var(--sklearn-color-unfitted-level-0);\n",
       "  border: .5pt solid var(--sklearn-color-unfitted-level-3);\n",
       "}\n",
       "\n",
       ".sk-estimator-doc-link.fitted span {\n",
       "  /* fitted */\n",
       "  background: var(--sklearn-color-fitted-level-0);\n",
       "  border: var(--sklearn-color-fitted-level-3);\n",
       "}\n",
       "\n",
       ".sk-estimator-doc-link:hover span {\n",
       "  display: block;\n",
       "}\n",
       "\n",
       "/* \"?\"-specific style due to the `<a>` HTML tag */\n",
       "\n",
       "#sk-container-id-1 a.estimator_doc_link {\n",
       "  float: right;\n",
       "  font-size: 1rem;\n",
       "  line-height: 1em;\n",
       "  font-family: monospace;\n",
       "  background-color: var(--sklearn-color-background);\n",
       "  border-radius: 1rem;\n",
       "  height: 1rem;\n",
       "  width: 1rem;\n",
       "  text-decoration: none;\n",
       "  /* unfitted */\n",
       "  color: var(--sklearn-color-unfitted-level-1);\n",
       "  border: var(--sklearn-color-unfitted-level-1) 1pt solid;\n",
       "}\n",
       "\n",
       "#sk-container-id-1 a.estimator_doc_link.fitted {\n",
       "  /* fitted */\n",
       "  border: var(--sklearn-color-fitted-level-1) 1pt solid;\n",
       "  color: var(--sklearn-color-fitted-level-1);\n",
       "}\n",
       "\n",
       "/* On hover */\n",
       "#sk-container-id-1 a.estimator_doc_link:hover {\n",
       "  /* unfitted */\n",
       "  background-color: var(--sklearn-color-unfitted-level-3);\n",
       "  color: var(--sklearn-color-background);\n",
       "  text-decoration: none;\n",
       "}\n",
       "\n",
       "#sk-container-id-1 a.estimator_doc_link.fitted:hover {\n",
       "  /* fitted */\n",
       "  background-color: var(--sklearn-color-fitted-level-3);\n",
       "}\n",
       "</style><div id=\"sk-container-id-1\" class=\"sk-top-container\"><div class=\"sk-text-repr-fallback\"><pre>LogisticRegression(random_state=42, solver=&#x27;newton-cholesky&#x27;)</pre><b>In a Jupyter environment, please rerun this cell to show the HTML representation or trust the notebook. <br />On GitHub, the HTML representation is unable to render, please try loading this page with nbviewer.org.</b></div><div class=\"sk-container\" hidden><div class=\"sk-item\"><div class=\"sk-estimator fitted sk-toggleable\"><input class=\"sk-toggleable__control sk-hidden--visually\" id=\"sk-estimator-id-1\" type=\"checkbox\" checked><label for=\"sk-estimator-id-1\" class=\"sk-toggleable__label fitted sk-toggleable__label-arrow fitted\">&nbsp;&nbsp;LogisticRegression<a class=\"sk-estimator-doc-link fitted\" rel=\"noreferrer\" target=\"_blank\" href=\"https://scikit-learn.org/1.4/modules/generated/sklearn.linear_model.LogisticRegression.html\">?<span>Documentation for LogisticRegression</span></a><span class=\"sk-estimator-doc-link fitted\">i<span>Fitted</span></span></label><div class=\"sk-toggleable__content fitted\"><pre>LogisticRegression(random_state=42, solver=&#x27;newton-cholesky&#x27;)</pre></div> </div></div></div></div>"
      ],
      "text/plain": [
       "LogisticRegression(random_state=42, solver='newton-cholesky')"
      ]
     },
     "execution_count": 39,
     "metadata": {},
     "output_type": "execute_result"
    }
   ],
   "source": [
    "logreg = LogisticRegression(solver = 'newton-cholesky',random_state=42)\n",
    "logreg.fit(X_train, y_train)"
   ]
  },
  {
   "cell_type": "markdown",
   "metadata": {},
   "source": [
    "<b> Logistic regression report "
   ]
  },
  {
   "cell_type": "code",
   "execution_count": 40,
   "metadata": {},
   "outputs": [
    {
     "data": {
      "text/html": [
       "<div>\n",
       "<style scoped>\n",
       "    .dataframe tbody tr th:only-of-type {\n",
       "        vertical-align: middle;\n",
       "    }\n",
       "\n",
       "    .dataframe tbody tr th {\n",
       "        vertical-align: top;\n",
       "    }\n",
       "\n",
       "    .dataframe thead th {\n",
       "        text-align: right;\n",
       "    }\n",
       "</style>\n",
       "<table border=\"1\" class=\"dataframe\">\n",
       "  <thead>\n",
       "    <tr style=\"text-align: right;\">\n",
       "      <th></th>\n",
       "      <th>index</th>\n",
       "      <th>variable</th>\n",
       "      <th>coef</th>\n",
       "      <th>std error</th>\n",
       "      <th>z</th>\n",
       "      <th>P&gt;|z|</th>\n",
       "      <th>[0.025</th>\n",
       "      <th>0.975]</th>\n",
       "    </tr>\n",
       "  </thead>\n",
       "  <tbody>\n",
       "    <tr>\n",
       "      <th>0</th>\n",
       "      <td>0</td>\n",
       "      <td>intercept</td>\n",
       "      <td>0.02</td>\n",
       "      <td>0.05</td>\n",
       "      <td>-78.10</td>\n",
       "      <td>0.0</td>\n",
       "      <td>0.01</td>\n",
       "      <td>0.02</td>\n",
       "    </tr>\n",
       "    <tr>\n",
       "      <th>1</th>\n",
       "      <td>1</td>\n",
       "      <td>Credit_Mix_Good (vs Bad)</td>\n",
       "      <td>8.61</td>\n",
       "      <td>0.06</td>\n",
       "      <td>35.63</td>\n",
       "      <td>0.0</td>\n",
       "      <td>7.65</td>\n",
       "      <td>9.70</td>\n",
       "    </tr>\n",
       "    <tr>\n",
       "      <th>2</th>\n",
       "      <td>4</td>\n",
       "      <td>Num_Credit_Card_(-inf, 3.50) (vs [7.50, inf))</td>\n",
       "      <td>6.32</td>\n",
       "      <td>0.08</td>\n",
       "      <td>24.48</td>\n",
       "      <td>0.0</td>\n",
       "      <td>5.46</td>\n",
       "      <td>7.33</td>\n",
       "    </tr>\n",
       "    <tr>\n",
       "      <th>3</th>\n",
       "      <td>73</td>\n",
       "      <td>Credit_Mix_NAN (vs Bad)</td>\n",
       "      <td>4.39</td>\n",
       "      <td>0.06</td>\n",
       "      <td>26.70</td>\n",
       "      <td>0.0</td>\n",
       "      <td>3.93</td>\n",
       "      <td>4.89</td>\n",
       "    </tr>\n",
       "    <tr>\n",
       "      <th>4</th>\n",
       "      <td>29</td>\n",
       "      <td>Num_Credit_Card_[3.50, 4.50) (vs [7.50, inf))</td>\n",
       "      <td>4.12</td>\n",
       "      <td>0.07</td>\n",
       "      <td>20.56</td>\n",
       "      <td>0.0</td>\n",
       "      <td>3.60</td>\n",
       "      <td>4.72</td>\n",
       "    </tr>\n",
       "    <tr>\n",
       "      <th>5</th>\n",
       "      <td>78</td>\n",
       "      <td>Num_Credit_Card_Special (vs [7.50, inf))</td>\n",
       "      <td>4.00</td>\n",
       "      <td>0.03</td>\n",
       "      <td>42.50</td>\n",
       "      <td>0.0</td>\n",
       "      <td>3.75</td>\n",
       "      <td>4.26</td>\n",
       "    </tr>\n",
       "    <tr>\n",
       "      <th>6</th>\n",
       "      <td>2</td>\n",
       "      <td>Payment_of_Min_Amount_Yes (vs No)</td>\n",
       "      <td>0.33</td>\n",
       "      <td>0.03</td>\n",
       "      <td>-40.85</td>\n",
       "      <td>0.0</td>\n",
       "      <td>0.31</td>\n",
       "      <td>0.34</td>\n",
       "    </tr>\n",
       "    <tr>\n",
       "      <th>7</th>\n",
       "      <td>18</td>\n",
       "      <td>Num_Credit_Card_[4.50, 7.50) (vs [7.50, inf))</td>\n",
       "      <td>3.01</td>\n",
       "      <td>0.10</td>\n",
       "      <td>11.27</td>\n",
       "      <td>0.0</td>\n",
       "      <td>2.48</td>\n",
       "      <td>3.65</td>\n",
       "    </tr>\n",
       "    <tr>\n",
       "      <th>8</th>\n",
       "      <td>25</td>\n",
       "      <td>Delay_from_due_date_Special (vs [30.50, inf))</td>\n",
       "      <td>0.35</td>\n",
       "      <td>0.10</td>\n",
       "      <td>-10.29</td>\n",
       "      <td>0.0</td>\n",
       "      <td>0.29</td>\n",
       "      <td>0.43</td>\n",
       "    </tr>\n",
       "    <tr>\n",
       "      <th>9</th>\n",
       "      <td>6</td>\n",
       "      <td>Delay_from_due_date_[15.50, 30.50) (vs [30.50,...</td>\n",
       "      <td>0.53</td>\n",
       "      <td>0.02</td>\n",
       "      <td>-30.42</td>\n",
       "      <td>0.0</td>\n",
       "      <td>0.51</td>\n",
       "      <td>0.55</td>\n",
       "    </tr>\n",
       "  </tbody>\n",
       "</table>\n",
       "</div>"
      ],
      "text/plain": [
       "   index                                           variable  coef  std error  \\\n",
       "0      0                                          intercept  0.02       0.05   \n",
       "1      1                           Credit_Mix_Good (vs Bad)  8.61       0.06   \n",
       "2      4      Num_Credit_Card_(-inf, 3.50) (vs [7.50, inf))  6.32       0.08   \n",
       "3     73                            Credit_Mix_NAN (vs Bad)  4.39       0.06   \n",
       "4     29      Num_Credit_Card_[3.50, 4.50) (vs [7.50, inf))  4.12       0.07   \n",
       "5     78           Num_Credit_Card_Special (vs [7.50, inf))  4.00       0.03   \n",
       "6      2                  Payment_of_Min_Amount_Yes (vs No)  0.33       0.03   \n",
       "7     18      Num_Credit_Card_[4.50, 7.50) (vs [7.50, inf))  3.01       0.10   \n",
       "8     25      Delay_from_due_date_Special (vs [30.50, inf))  0.35       0.10   \n",
       "9      6  Delay_from_due_date_[15.50, 30.50) (vs [30.50,...  0.53       0.02   \n",
       "\n",
       "       z  P>|z|  [0.025  0.975]  \n",
       "0 -78.10    0.0    0.01    0.02  \n",
       "1  35.63    0.0    7.65    9.70  \n",
       "2  24.48    0.0    5.46    7.33  \n",
       "3  26.70    0.0    3.93    4.89  \n",
       "4  20.56    0.0    3.60    4.72  \n",
       "5  42.50    0.0    3.75    4.26  \n",
       "6 -40.85    0.0    0.31    0.34  \n",
       "7  11.27    0.0    2.48    3.65  \n",
       "8 -10.29    0.0    0.29    0.43  \n",
       "9 -30.42    0.0    0.51    0.55  "
      ]
     },
     "execution_count": 40,
     "metadata": {},
     "output_type": "execute_result"
    }
   ],
   "source": [
    "logistic_regression_report  = logistic_regression_summary(model=logreg,\n",
    "                            X=X_train,\n",
    "                            columns=X_train.columns.tolist(),\n",
    "                            y=y_train,\n",
    "                            intercept=True,\n",
    "                            multi_class = False,\n",
    "                            ).reset_index()\n",
    "\n",
    "logistic_regression_report"
   ]
  },
  {
   "cell_type": "code",
   "execution_count": 51,
   "metadata": {},
   "outputs": [
    {
     "name": "stderr",
     "output_type": "stream",
     "text": [
      "Replacing outliers:  12%|█▎        | 1/8 [00:00<00:00,  7.12it/s]"
     ]
    },
    {
     "name": "stderr",
     "output_type": "stream",
     "text": [
      "Replacing outliers: 100%|██████████| 8/8 [00:01<00:00,  6.49it/s]\n",
      "Fitting OptimalBinning Models: 100%|██████████| 8/8 [00:01<00:00,  7.46it/s]\n"
     ]
    }
   ],
   "source": [
    "from sklearn.pipeline import Pipeline\n",
    "columns = [col for col in preprocessed_data.columns if preprocessed_data[col].dtypes in ['float64', 'int64'] and col != 'Credit_Score']\n",
    "\n",
    "# Création de la pipeline\n",
    "pipeline = Pipeline(steps=[\n",
    "    ('outlier_detection', outlierdetector(columns=columns, method='IQR', replacement_method='constant', replacement_value=-999.001)),\n",
    "    ('optimal_binning', multioptbinning(variables=columns, target='Credit_Score', target_dtype=\"multiclass\", outlier_value=-999.001))\n",
    "])\n",
    "\n",
    "# Application de la pipeline au DataFrame prétraité\n",
    "preprocessed_data = pipeline.fit_transform(preprocessed_data)"
   ]
  },
  {
   "cell_type": "markdown",
   "metadata": {},
   "source": [
    "# ScoreScanner\n",
    "\n",
    "**ScoreScanner** is a Python library designed to accelerate and simplify the process of understanding and quantifying the relationship between explanatory variables and the target variable in the context of predictive Machine Learning modeling.\n",
    "\n",
    "## Table of Contents\n",
    "- [Key Features](#key-features)\n",
    "- [Installation](#installation)\n",
    "- [Quick Tutorial](#quick-tutorial)\n",
    "\n",
    "## Key Features\n",
    "\n",
    "### Preprocessing\n",
    "- **Outlier Identification & Replacement**: Automatically detecting and replacing outliers.\n",
    "- **Supervised Binning of Continuous Variables**: Converting continuous variables into categorical ones using supervised binning techniques for better interpretability.\n",
    "\n",
    "### Variable Analysis\n",
    "- **Univariate Feature Importance**: Identify the most impactful features on the target variable using statistical measures.\n",
    "- **Divergent Category Identification**: Pinpoint the categories that deviate most from the target, providing deeper insights into data using Jensen-Shannon divergence.\n",
    "\n",
    "### Variable Selection\n",
    "- **Multicollinearity Elimination**: Reducing multicollinearity to ensure that model's predictors are independent, enhancing the stability and interpretability of your model.\n",
    "\n",
    "### Modelisation\n",
    "- **Logistic Regression Report**: Generate detailed logistic regression reports, offering a clear view of how each independent variable influences the target.\n",
    "\n",
    "## Installation\n",
    "\n",
    "```bash\n",
    "pip install scorescanner\n",
    "```\n",
    "## Quick Tutorial\n",
    "### Importing Librairies \n",
    "```python\n",
    "# Preprocessing credit score data\n",
    "import pandas as pd\n",
    "from tutorials.utils import preprocess_credit_score_data\n",
    "import scorescanner.data\n",
    "from scorescanner.preprocessing import (\n",
    "    LogisticRegressionPreparer,\n",
    "    MultiOptBinning,\n",
    "    OutlierDetector,\n",
    ")\n",
    "from scorescanner.feature_selection import VariableSelector\n",
    "\n",
    "from sklearn.pipeline import Pipeline\n",
    "\n",
    "# Modelisation\n",
    "from sklearn.linear_model import LogisticRegression\n",
    "from sklearn.model_selection import train_test_split\n",
    "```\n",
    "### Reading Data\n",
    "```python\n",
    "data = pd.read_csv(os.path.join(os.path.dirname(scorescanner.data.__file__), 'credit_score_train.csv'),low_memory=False) \n",
    "```\n",
    "We'll use a credit scoring dataset from [**Kaggle**](https://www.kaggle.com/datasets/parisrohan/credit-score-classification/data) for this tutorial.\n",
    "\n",
    "### Preprocessing\n",
    "```python\n",
    "preprocessed_data = preprocess_credit_score_data(data) \n",
    "```\n",
    "### Preprocessing Pipeline\n",
    "```python\n",
    "preprocessing_pipeline = [\n",
    "    ('outlier_detection', OutlierDetector(\n",
    "        columns=columns,\n",
    "        method=\"IQR\",\n",
    "        replacement_method=\"constant\",\n",
    "        replacement_value=outlier_value,\n",
    "    )),\n",
    "    ('optimal_binning', MultiOptBinning(\n",
    "        variables=columns,\n",
    "        target=target,\n",
    "        target_dtype=\"multiclass\",\n",
    "        outlier_value=outlier_value,\n",
    "    ))\n",
    "]\n",
    "\n",
    "# Create the preprocessing pipeline\n",
    "data_preprocessing_pipeline = Pipeline(steps=preprocessing_pipeline)\n",
    "\n",
    "# Fitting the pipeline on the data\n",
    "data_preprocessing_pipeline.fit(preprocessed_data)\n",
    "\n",
    "# Transforming the data using the pipeline\n",
    "transformed_df_binned = data_preprocessing_pipeline.transform(preprocessed_data)\n"
   ]
  },
  {
   "cell_type": "code",
   "execution_count": 12,
   "metadata": {},
   "outputs": [
    {
     "name": "stderr",
     "output_type": "stream",
     "text": [
      "Replacing outliers:   4%|▍         | 1/25 [00:00<00:02,  8.59it/s]"
     ]
    },
    {
     "name": "stderr",
     "output_type": "stream",
     "text": [
      "Replacing outliers: 100%|██████████| 25/25 [00:03<00:00,  7.32it/s]\n",
      "Fitting OptimalBinning Models: 100%|██████████| 25/25 [00:07<00:00,  3.43it/s]\n"
     ]
    }
   ],
   "source": [
    "### Preprocessing Pipeline\n",
    "# List of columns to process for outliers and optimal binning\n",
    "columns = [col for col in preprocessed_data.columns if preprocessed_data[col].dtypes in ['float64','int64'] and col not in 'Credit_Score']\n",
    "# A value used for replacing outliers and considered as an outlier in the optimal binning process\n",
    "outlier_value=-999.001\n",
    "# Target column\n",
    "target = 'Credit_Score'\n",
    "preprocessing_pipeline = [\n",
    "    ('outlier_detection', outlierdetector(\n",
    "        columns=columns,\n",
    "        method=\"IQR\",\n",
    "        replacement_method=\"constant\",\n",
    "        replacement_value=outlier_value,\n",
    "    )),\n",
    "    ('optimal_binning', multioptbinning(\n",
    "        variables=columns,\n",
    "        target=target,\n",
    "        target_dtype=\"multiclass\",\n",
    "        outlier_value=outlier_value,\n",
    "    ))\n",
    "]\n",
    "\n",
    "# Create the preprocessing pipeline\n",
    "data_preprocessing_pipeline = Pipeline(steps=preprocessing_pipeline)\n",
    "\n",
    "# Transforming the data using the pipeline\n",
    "transformed_df_binned = data_preprocessing_pipeline.fit_transform(preprocessed_data)\n"
   ]
  },
  {
   "cell_type": "code",
   "execution_count": 9,
   "metadata": {},
   "outputs": [],
   "source": [
    "from sklearn.pipeline import Pipeline"
   ]
  },
  {
   "cell_type": "code",
   "execution_count": 11,
   "metadata": {},
   "outputs": [
    {
     "data": {
      "text/html": [
       "<div>\n",
       "<style scoped>\n",
       "    .dataframe tbody tr th:only-of-type {\n",
       "        vertical-align: middle;\n",
       "    }\n",
       "\n",
       "    .dataframe tbody tr th {\n",
       "        vertical-align: top;\n",
       "    }\n",
       "\n",
       "    .dataframe thead th {\n",
       "        text-align: right;\n",
       "    }\n",
       "</style>\n",
       "<table border=\"1\" class=\"dataframe\">\n",
       "  <thead>\n",
       "    <tr style=\"text-align: right;\">\n",
       "      <th></th>\n",
       "      <th>Month</th>\n",
       "      <th>Age</th>\n",
       "      <th>Occupation</th>\n",
       "      <th>Annual_Income</th>\n",
       "      <th>Monthly_Inhand_Salary</th>\n",
       "      <th>Num_Bank_Accounts</th>\n",
       "      <th>Num_Credit_Card</th>\n",
       "      <th>Interest_Rate</th>\n",
       "      <th>Num_of_Loan</th>\n",
       "      <th>Delay_from_due_date</th>\n",
       "      <th>...</th>\n",
       "      <th>Credit_Score</th>\n",
       "      <th>Credit-Builder Loan</th>\n",
       "      <th>Personal Loan</th>\n",
       "      <th>Debt Consolidation Loan</th>\n",
       "      <th>Student Loan</th>\n",
       "      <th>Payday Loan</th>\n",
       "      <th>Mortgage Loan</th>\n",
       "      <th>Auto Loan</th>\n",
       "      <th>Home Equity Loan</th>\n",
       "      <th>Credit_History_in_Year</th>\n",
       "    </tr>\n",
       "  </thead>\n",
       "  <tbody>\n",
       "    <tr>\n",
       "      <th>0</th>\n",
       "      <td>January</td>\n",
       "      <td>(-inf, 49.50)</td>\n",
       "      <td>Scientist</td>\n",
       "      <td>[10270.89, 20994.00)</td>\n",
       "      <td>[1684.87, 6822.59)</td>\n",
       "      <td>(-inf, 5.50)</td>\n",
       "      <td>[3.50, 4.50)</td>\n",
       "      <td>(-inf, 15.50)</td>\n",
       "      <td>[1.50, 4.50)</td>\n",
       "      <td>(-inf, 4.50)</td>\n",
       "      <td>...</td>\n",
       "      <td>Good</td>\n",
       "      <td>1</td>\n",
       "      <td>1</td>\n",
       "      <td>0</td>\n",
       "      <td>0</td>\n",
       "      <td>0</td>\n",
       "      <td>0</td>\n",
       "      <td>1</td>\n",
       "      <td>1</td>\n",
       "      <td>[19.50, inf)</td>\n",
       "    </tr>\n",
       "    <tr>\n",
       "      <th>1</th>\n",
       "      <td>February</td>\n",
       "      <td>(-inf, 49.50)</td>\n",
       "      <td>Scientist</td>\n",
       "      <td>[10270.89, 20994.00)</td>\n",
       "      <td>Missing</td>\n",
       "      <td>(-inf, 5.50)</td>\n",
       "      <td>[3.50, 4.50)</td>\n",
       "      <td>(-inf, 15.50)</td>\n",
       "      <td>[1.50, 4.50)</td>\n",
       "      <td>(-inf, 4.50)</td>\n",
       "      <td>...</td>\n",
       "      <td>Good</td>\n",
       "      <td>1</td>\n",
       "      <td>1</td>\n",
       "      <td>0</td>\n",
       "      <td>0</td>\n",
       "      <td>0</td>\n",
       "      <td>0</td>\n",
       "      <td>1</td>\n",
       "      <td>1</td>\n",
       "      <td>Missing</td>\n",
       "    </tr>\n",
       "    <tr>\n",
       "      <th>2</th>\n",
       "      <td>March</td>\n",
       "      <td>Special</td>\n",
       "      <td>Scientist</td>\n",
       "      <td>[10270.89, 20994.00)</td>\n",
       "      <td>Missing</td>\n",
       "      <td>(-inf, 5.50)</td>\n",
       "      <td>[3.50, 4.50)</td>\n",
       "      <td>(-inf, 15.50)</td>\n",
       "      <td>[1.50, 4.50)</td>\n",
       "      <td>(-inf, 4.50)</td>\n",
       "      <td>...</td>\n",
       "      <td>Good</td>\n",
       "      <td>1</td>\n",
       "      <td>1</td>\n",
       "      <td>0</td>\n",
       "      <td>0</td>\n",
       "      <td>0</td>\n",
       "      <td>0</td>\n",
       "      <td>1</td>\n",
       "      <td>1</td>\n",
       "      <td>[19.50, inf)</td>\n",
       "    </tr>\n",
       "    <tr>\n",
       "      <th>3</th>\n",
       "      <td>April</td>\n",
       "      <td>(-inf, 49.50)</td>\n",
       "      <td>Scientist</td>\n",
       "      <td>[10270.89, 20994.00)</td>\n",
       "      <td>Missing</td>\n",
       "      <td>(-inf, 5.50)</td>\n",
       "      <td>[3.50, 4.50)</td>\n",
       "      <td>(-inf, 15.50)</td>\n",
       "      <td>[1.50, 4.50)</td>\n",
       "      <td>[4.50, 15.50)</td>\n",
       "      <td>...</td>\n",
       "      <td>Good</td>\n",
       "      <td>1</td>\n",
       "      <td>1</td>\n",
       "      <td>0</td>\n",
       "      <td>0</td>\n",
       "      <td>0</td>\n",
       "      <td>0</td>\n",
       "      <td>1</td>\n",
       "      <td>1</td>\n",
       "      <td>[19.50, inf)</td>\n",
       "    </tr>\n",
       "    <tr>\n",
       "      <th>4</th>\n",
       "      <td>May</td>\n",
       "      <td>(-inf, 49.50)</td>\n",
       "      <td>Scientist</td>\n",
       "      <td>[10270.89, 20994.00)</td>\n",
       "      <td>[1684.87, 6822.59)</td>\n",
       "      <td>(-inf, 5.50)</td>\n",
       "      <td>[3.50, 4.50)</td>\n",
       "      <td>(-inf, 15.50)</td>\n",
       "      <td>[1.50, 4.50)</td>\n",
       "      <td>[4.50, 15.50)</td>\n",
       "      <td>...</td>\n",
       "      <td>Good</td>\n",
       "      <td>1</td>\n",
       "      <td>1</td>\n",
       "      <td>0</td>\n",
       "      <td>0</td>\n",
       "      <td>0</td>\n",
       "      <td>0</td>\n",
       "      <td>1</td>\n",
       "      <td>1</td>\n",
       "      <td>[19.50, inf)</td>\n",
       "    </tr>\n",
       "    <tr>\n",
       "      <th>...</th>\n",
       "      <td>...</td>\n",
       "      <td>...</td>\n",
       "      <td>...</td>\n",
       "      <td>...</td>\n",
       "      <td>...</td>\n",
       "      <td>...</td>\n",
       "      <td>...</td>\n",
       "      <td>...</td>\n",
       "      <td>...</td>\n",
       "      <td>...</td>\n",
       "      <td>...</td>\n",
       "      <td>...</td>\n",
       "      <td>...</td>\n",
       "      <td>...</td>\n",
       "      <td>...</td>\n",
       "      <td>...</td>\n",
       "      <td>...</td>\n",
       "      <td>...</td>\n",
       "      <td>...</td>\n",
       "      <td>...</td>\n",
       "      <td>...</td>\n",
       "    </tr>\n",
       "    <tr>\n",
       "      <th>99995</th>\n",
       "      <td>April</td>\n",
       "      <td>(-inf, 49.50)</td>\n",
       "      <td>Mechanic</td>\n",
       "      <td>[20994.00, 83709.80)</td>\n",
       "      <td>[1684.87, 6822.59)</td>\n",
       "      <td>(-inf, 5.50)</td>\n",
       "      <td>[4.50, 7.50)</td>\n",
       "      <td>(-inf, 15.50)</td>\n",
       "      <td>[1.50, 4.50)</td>\n",
       "      <td>[15.50, 30.50)</td>\n",
       "      <td>...</td>\n",
       "      <td>Poor</td>\n",
       "      <td>0</td>\n",
       "      <td>0</td>\n",
       "      <td>0</td>\n",
       "      <td>1</td>\n",
       "      <td>0</td>\n",
       "      <td>0</td>\n",
       "      <td>1</td>\n",
       "      <td>0</td>\n",
       "      <td>[19.50, inf)</td>\n",
       "    </tr>\n",
       "    <tr>\n",
       "      <th>99996</th>\n",
       "      <td>May</td>\n",
       "      <td>(-inf, 49.50)</td>\n",
       "      <td>Mechanic</td>\n",
       "      <td>[20994.00, 83709.80)</td>\n",
       "      <td>[1684.87, 6822.59)</td>\n",
       "      <td>(-inf, 5.50)</td>\n",
       "      <td>[4.50, 7.50)</td>\n",
       "      <td>(-inf, 15.50)</td>\n",
       "      <td>[1.50, 4.50)</td>\n",
       "      <td>[15.50, 30.50)</td>\n",
       "      <td>...</td>\n",
       "      <td>Poor</td>\n",
       "      <td>0</td>\n",
       "      <td>0</td>\n",
       "      <td>0</td>\n",
       "      <td>1</td>\n",
       "      <td>0</td>\n",
       "      <td>0</td>\n",
       "      <td>1</td>\n",
       "      <td>0</td>\n",
       "      <td>[19.50, inf)</td>\n",
       "    </tr>\n",
       "    <tr>\n",
       "      <th>99997</th>\n",
       "      <td>June</td>\n",
       "      <td>(-inf, 49.50)</td>\n",
       "      <td>Mechanic</td>\n",
       "      <td>[20994.00, 83709.80)</td>\n",
       "      <td>[1684.87, 6822.59)</td>\n",
       "      <td>(-inf, 5.50)</td>\n",
       "      <td>[4.50, 7.50)</td>\n",
       "      <td>Special</td>\n",
       "      <td>[1.50, 4.50)</td>\n",
       "      <td>[15.50, 30.50)</td>\n",
       "      <td>...</td>\n",
       "      <td>Poor</td>\n",
       "      <td>0</td>\n",
       "      <td>0</td>\n",
       "      <td>0</td>\n",
       "      <td>1</td>\n",
       "      <td>0</td>\n",
       "      <td>0</td>\n",
       "      <td>1</td>\n",
       "      <td>0</td>\n",
       "      <td>[19.50, inf)</td>\n",
       "    </tr>\n",
       "    <tr>\n",
       "      <th>99998</th>\n",
       "      <td>July</td>\n",
       "      <td>(-inf, 49.50)</td>\n",
       "      <td>Mechanic</td>\n",
       "      <td>[20994.00, 83709.80)</td>\n",
       "      <td>[1684.87, 6822.59)</td>\n",
       "      <td>(-inf, 5.50)</td>\n",
       "      <td>[4.50, 7.50)</td>\n",
       "      <td>(-inf, 15.50)</td>\n",
       "      <td>[1.50, 4.50)</td>\n",
       "      <td>[15.50, 30.50)</td>\n",
       "      <td>...</td>\n",
       "      <td>Standard</td>\n",
       "      <td>0</td>\n",
       "      <td>0</td>\n",
       "      <td>0</td>\n",
       "      <td>1</td>\n",
       "      <td>0</td>\n",
       "      <td>0</td>\n",
       "      <td>1</td>\n",
       "      <td>0</td>\n",
       "      <td>[19.50, inf)</td>\n",
       "    </tr>\n",
       "    <tr>\n",
       "      <th>99999</th>\n",
       "      <td>August</td>\n",
       "      <td>(-inf, 49.50)</td>\n",
       "      <td>Mechanic</td>\n",
       "      <td>[20994.00, 83709.80)</td>\n",
       "      <td>[1684.87, 6822.59)</td>\n",
       "      <td>(-inf, 5.50)</td>\n",
       "      <td>[4.50, 7.50)</td>\n",
       "      <td>(-inf, 15.50)</td>\n",
       "      <td>[1.50, 4.50)</td>\n",
       "      <td>[15.50, 30.50)</td>\n",
       "      <td>...</td>\n",
       "      <td>Poor</td>\n",
       "      <td>0</td>\n",
       "      <td>0</td>\n",
       "      <td>0</td>\n",
       "      <td>1</td>\n",
       "      <td>0</td>\n",
       "      <td>0</td>\n",
       "      <td>1</td>\n",
       "      <td>0</td>\n",
       "      <td>[19.50, inf)</td>\n",
       "    </tr>\n",
       "  </tbody>\n",
       "</table>\n",
       "<p>100000 rows × 31 columns</p>\n",
       "</div>"
      ],
      "text/plain": [
       "          Month            Age Occupation         Annual_Income  \\\n",
       "0       January  (-inf, 49.50)  Scientist  [10270.89, 20994.00)   \n",
       "1      February  (-inf, 49.50)  Scientist  [10270.89, 20994.00)   \n",
       "2         March        Special  Scientist  [10270.89, 20994.00)   \n",
       "3         April  (-inf, 49.50)  Scientist  [10270.89, 20994.00)   \n",
       "4           May  (-inf, 49.50)  Scientist  [10270.89, 20994.00)   \n",
       "...         ...            ...        ...                   ...   \n",
       "99995     April  (-inf, 49.50)   Mechanic  [20994.00, 83709.80)   \n",
       "99996       May  (-inf, 49.50)   Mechanic  [20994.00, 83709.80)   \n",
       "99997      June  (-inf, 49.50)   Mechanic  [20994.00, 83709.80)   \n",
       "99998      July  (-inf, 49.50)   Mechanic  [20994.00, 83709.80)   \n",
       "99999    August  (-inf, 49.50)   Mechanic  [20994.00, 83709.80)   \n",
       "\n",
       "      Monthly_Inhand_Salary Num_Bank_Accounts Num_Credit_Card  Interest_Rate  \\\n",
       "0        [1684.87, 6822.59)      (-inf, 5.50)    [3.50, 4.50)  (-inf, 15.50)   \n",
       "1                   Missing      (-inf, 5.50)    [3.50, 4.50)  (-inf, 15.50)   \n",
       "2                   Missing      (-inf, 5.50)    [3.50, 4.50)  (-inf, 15.50)   \n",
       "3                   Missing      (-inf, 5.50)    [3.50, 4.50)  (-inf, 15.50)   \n",
       "4        [1684.87, 6822.59)      (-inf, 5.50)    [3.50, 4.50)  (-inf, 15.50)   \n",
       "...                     ...               ...             ...            ...   \n",
       "99995    [1684.87, 6822.59)      (-inf, 5.50)    [4.50, 7.50)  (-inf, 15.50)   \n",
       "99996    [1684.87, 6822.59)      (-inf, 5.50)    [4.50, 7.50)  (-inf, 15.50)   \n",
       "99997    [1684.87, 6822.59)      (-inf, 5.50)    [4.50, 7.50)        Special   \n",
       "99998    [1684.87, 6822.59)      (-inf, 5.50)    [4.50, 7.50)  (-inf, 15.50)   \n",
       "99999    [1684.87, 6822.59)      (-inf, 5.50)    [4.50, 7.50)  (-inf, 15.50)   \n",
       "\n",
       "        Num_of_Loan Delay_from_due_date  ... Credit_Score Credit-Builder Loan  \\\n",
       "0      [1.50, 4.50)        (-inf, 4.50)  ...         Good                   1   \n",
       "1      [1.50, 4.50)        (-inf, 4.50)  ...         Good                   1   \n",
       "2      [1.50, 4.50)        (-inf, 4.50)  ...         Good                   1   \n",
       "3      [1.50, 4.50)       [4.50, 15.50)  ...         Good                   1   \n",
       "4      [1.50, 4.50)       [4.50, 15.50)  ...         Good                   1   \n",
       "...             ...                 ...  ...          ...                 ...   \n",
       "99995  [1.50, 4.50)      [15.50, 30.50)  ...         Poor                   0   \n",
       "99996  [1.50, 4.50)      [15.50, 30.50)  ...         Poor                   0   \n",
       "99997  [1.50, 4.50)      [15.50, 30.50)  ...         Poor                   0   \n",
       "99998  [1.50, 4.50)      [15.50, 30.50)  ...     Standard                   0   \n",
       "99999  [1.50, 4.50)      [15.50, 30.50)  ...         Poor                   0   \n",
       "\n",
       "      Personal Loan Debt Consolidation Loan Student Loan Payday Loan  \\\n",
       "0                 1                       0            0           0   \n",
       "1                 1                       0            0           0   \n",
       "2                 1                       0            0           0   \n",
       "3                 1                       0            0           0   \n",
       "4                 1                       0            0           0   \n",
       "...             ...                     ...          ...         ...   \n",
       "99995             0                       0            1           0   \n",
       "99996             0                       0            1           0   \n",
       "99997             0                       0            1           0   \n",
       "99998             0                       0            1           0   \n",
       "99999             0                       0            1           0   \n",
       "\n",
       "      Mortgage Loan Auto Loan Home Equity Loan Credit_History_in_Year  \n",
       "0                 0         1                1           [19.50, inf)  \n",
       "1                 0         1                1                Missing  \n",
       "2                 0         1                1           [19.50, inf)  \n",
       "3                 0         1                1           [19.50, inf)  \n",
       "4                 0         1                1           [19.50, inf)  \n",
       "...             ...       ...              ...                    ...  \n",
       "99995             0         1                0           [19.50, inf)  \n",
       "99996             0         1                0           [19.50, inf)  \n",
       "99997             0         1                0           [19.50, inf)  \n",
       "99998             0         1                0           [19.50, inf)  \n",
       "99999             0         1                0           [19.50, inf)  \n",
       "\n",
       "[100000 rows x 31 columns]"
      ]
     },
     "execution_count": 11,
     "metadata": {},
     "output_type": "execute_result"
    }
   ],
   "source": [
    "transformed_df_binned"
   ]
  },
  {
   "cell_type": "markdown",
   "metadata": {},
   "source": []
  }
 ],
 "metadata": {
  "kernelspec": {
   "display_name": "score_env",
   "language": "python",
   "name": "python3"
  },
  "language_info": {
   "codemirror_mode": {
    "name": "ipython",
    "version": 3
   },
   "file_extension": ".py",
   "mimetype": "text/x-python",
   "name": "python",
   "nbconvert_exporter": "python",
   "pygments_lexer": "ipython3",
   "version": "3.9.1"
  }
 },
 "nbformat": 4,
 "nbformat_minor": 2
}
