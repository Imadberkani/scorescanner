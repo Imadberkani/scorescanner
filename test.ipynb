{
 "cells": [
  {
   "cell_type": "code",
   "execution_count": 1,
   "metadata": {},
   "outputs": [
    {
     "data": {
      "text/html": [
       "<div>\n",
       "<style scoped>\n",
       "    .dataframe tbody tr th:only-of-type {\n",
       "        vertical-align: middle;\n",
       "    }\n",
       "\n",
       "    .dataframe tbody tr th {\n",
       "        vertical-align: top;\n",
       "    }\n",
       "\n",
       "    .dataframe thead th {\n",
       "        text-align: right;\n",
       "    }\n",
       "</style>\n",
       "<table border=\"1\" class=\"dataframe\">\n",
       "  <thead>\n",
       "    <tr style=\"text-align: right;\">\n",
       "      <th></th>\n",
       "      <th>workclass</th>\n",
       "      <th>fnlwgt</th>\n",
       "      <th>education</th>\n",
       "      <th>education-num</th>\n",
       "      <th>marital-status</th>\n",
       "      <th>occupation</th>\n",
       "      <th>relationship</th>\n",
       "      <th>race</th>\n",
       "      <th>sex</th>\n",
       "      <th>capital-gain</th>\n",
       "      <th>capital-loss</th>\n",
       "      <th>hours-per-week</th>\n",
       "      <th>native-country</th>\n",
       "      <th>income</th>\n",
       "    </tr>\n",
       "  </thead>\n",
       "  <tbody>\n",
       "    <tr>\n",
       "      <th>39</th>\n",
       "      <td>State-gov</td>\n",
       "      <td>77516</td>\n",
       "      <td>Bachelors</td>\n",
       "      <td>13</td>\n",
       "      <td>Never-married</td>\n",
       "      <td>Adm-clerical</td>\n",
       "      <td>Not-in-family</td>\n",
       "      <td>White</td>\n",
       "      <td>Male</td>\n",
       "      <td>2174</td>\n",
       "      <td>0</td>\n",
       "      <td>40</td>\n",
       "      <td>United-States</td>\n",
       "      <td>&lt;=50K</td>\n",
       "    </tr>\n",
       "    <tr>\n",
       "      <th>50</th>\n",
       "      <td>Self-emp-not-inc</td>\n",
       "      <td>83311</td>\n",
       "      <td>Bachelors</td>\n",
       "      <td>13</td>\n",
       "      <td>Married-civ-spouse</td>\n",
       "      <td>Exec-managerial</td>\n",
       "      <td>Husband</td>\n",
       "      <td>White</td>\n",
       "      <td>Male</td>\n",
       "      <td>0</td>\n",
       "      <td>0</td>\n",
       "      <td>13</td>\n",
       "      <td>United-States</td>\n",
       "      <td>&lt;=50K</td>\n",
       "    </tr>\n",
       "    <tr>\n",
       "      <th>38</th>\n",
       "      <td>Private</td>\n",
       "      <td>215646</td>\n",
       "      <td>HS-grad</td>\n",
       "      <td>9</td>\n",
       "      <td>Divorced</td>\n",
       "      <td>Handlers-cleaners</td>\n",
       "      <td>Not-in-family</td>\n",
       "      <td>White</td>\n",
       "      <td>Male</td>\n",
       "      <td>0</td>\n",
       "      <td>0</td>\n",
       "      <td>40</td>\n",
       "      <td>United-States</td>\n",
       "      <td>&lt;=50K</td>\n",
       "    </tr>\n",
       "    <tr>\n",
       "      <th>53</th>\n",
       "      <td>Private</td>\n",
       "      <td>234721</td>\n",
       "      <td>11th</td>\n",
       "      <td>7</td>\n",
       "      <td>Married-civ-spouse</td>\n",
       "      <td>Handlers-cleaners</td>\n",
       "      <td>Husband</td>\n",
       "      <td>Black</td>\n",
       "      <td>Male</td>\n",
       "      <td>0</td>\n",
       "      <td>0</td>\n",
       "      <td>40</td>\n",
       "      <td>United-States</td>\n",
       "      <td>&lt;=50K</td>\n",
       "    </tr>\n",
       "    <tr>\n",
       "      <th>28</th>\n",
       "      <td>Private</td>\n",
       "      <td>338409</td>\n",
       "      <td>Bachelors</td>\n",
       "      <td>13</td>\n",
       "      <td>Married-civ-spouse</td>\n",
       "      <td>Prof-specialty</td>\n",
       "      <td>Wife</td>\n",
       "      <td>Black</td>\n",
       "      <td>Female</td>\n",
       "      <td>0</td>\n",
       "      <td>0</td>\n",
       "      <td>40</td>\n",
       "      <td>Other</td>\n",
       "      <td>&lt;=50K</td>\n",
       "    </tr>\n",
       "  </tbody>\n",
       "</table>\n",
       "</div>"
      ],
      "text/plain": [
       "            workclass  fnlwgt   education  education-num       marital-status  \\\n",
       "39          State-gov   77516   Bachelors             13        Never-married   \n",
       "50   Self-emp-not-inc   83311   Bachelors             13   Married-civ-spouse   \n",
       "38            Private  215646     HS-grad              9             Divorced   \n",
       "53            Private  234721        11th              7   Married-civ-spouse   \n",
       "28            Private  338409   Bachelors             13   Married-civ-spouse   \n",
       "\n",
       "            occupation    relationship    race      sex  capital-gain  \\\n",
       "39        Adm-clerical   Not-in-family   White     Male          2174   \n",
       "50     Exec-managerial         Husband   White     Male             0   \n",
       "38   Handlers-cleaners   Not-in-family   White     Male             0   \n",
       "53   Handlers-cleaners         Husband   Black     Male             0   \n",
       "28      Prof-specialty            Wife   Black   Female             0   \n",
       "\n",
       "    capital-loss  hours-per-week  native-country  income  \n",
       "39             0              40   United-States   <=50K  \n",
       "50             0              13   United-States   <=50K  \n",
       "38             0              40   United-States   <=50K  \n",
       "53             0              40   United-States   <=50K  \n",
       "28             0              40           Other   <=50K  "
      ]
     },
     "execution_count": 1,
     "metadata": {},
     "output_type": "execute_result"
    }
   ],
   "source": [
    "import pandas as pd\n",
    "\n",
    "url = \"https://archive.ics.uci.edu/ml/machine-learning-databases/adult/adult.data\"\n",
    "columns = [\n",
    "    \"workclass\",\n",
    "    \"fnlwgt\",\n",
    "    \"education\",\n",
    "    \"education-num\",\n",
    "    \"marital-status\",\n",
    "    \"occupation\",\n",
    "    \"relationship\",\n",
    "    \"race\",\n",
    "    \"sex\",\n",
    "    \"capital-gain\",\n",
    "    \"capital-loss\",\n",
    "    \"hours-per-week\",\n",
    "    \"native-country\",\n",
    "    \"income\",\n",
    "]\n",
    "adult_data = pd.read_csv(url, names=columns)\n",
    "adult_data[\"marital-status\"] = adult_data[\"marital-status\"].replace(\n",
    "    {\" Married-AF-spouse\": \" Married-civ-spouse\"}\n",
    ")\n",
    "adult_data[\"native-country\"] = adult_data[\"native-country\"].mask(\n",
    "    adult_data[\"native-country\"].map(\n",
    "        adult_data[\"native-country\"].value_counts(normalize=True)\n",
    "    )\n",
    "    < 0.02,\n",
    "    \"Other\",\n",
    ")\n",
    "adult_data[\"occupation\"] = adult_data[\"occupation\"].mask(\n",
    "    adult_data[\"occupation\"].map(adult_data[\"occupation\"].value_counts(normalize=True))\n",
    "    < 0.04,\n",
    "    \"Other\",\n",
    ")\n",
    "adult_data.head()\n"
   ]
  },
  {
   "cell_type": "code",
   "execution_count": 4,
   "metadata": {},
   "outputs": [],
   "source": [
    "import dataframe_image as dfi\n",
    "\n",
    "# Vous pouvez augmenter la résolution (dpi) pour une image plus grande\n",
    "dfi.export(adult_data.head(), 'adul_data.png', dpi=400,fontsize=40)\n"
   ]
  },
  {
   "cell_type": "code",
   "execution_count": 2,
   "metadata": {},
   "outputs": [],
   "source": [
    "\n",
    "#Target\n",
    "target='income'\n",
    "#Numerical features\n",
    "num_features=[col for col in columns if adult_data[col].dtypes in ['int64'] and col not in target]\n",
    "#Value to replace outliers\n",
    "outlier_value = -999.001"
   ]
  },
  {
   "cell_type": "code",
   "execution_count": 3,
   "metadata": {},
   "outputs": [
    {
     "name": "stdout",
     "output_type": "stream",
     "text": [
      "(CVXPY) Feb 19 10:25:18 PM: Encountered unexpected exception importing solver GLOP:\n",
      "RuntimeError('Unrecognized new version of ortools (9.8.3296). Expected < 9.8.0. Please open a feature request on cvxpy to enable support for this version.')\n",
      "(CVXPY) Feb 19 10:25:18 PM: Encountered unexpected exception importing solver PDLP:\n",
      "RuntimeError('Unrecognized new version of ortools (9.8.3296). Expected < 9.8.0. Please open a feature request on cvxpy to enable support for this version.')\n"
     ]
    }
   ],
   "source": [
    "from scorescanner.preprocessing import (\n",
    "    multioptbinning,\n",
    "    outlierdetector,\n",
    ")\n",
    "from sklearn.pipeline import Pipeline "
   ]
  },
  {
   "cell_type": "code",
   "execution_count": 4,
   "metadata": {},
   "outputs": [
    {
     "name": "stderr",
     "output_type": "stream",
     "text": [
      "Fitting OptimalBinning Models: 100%|██████████| 5/5 [00:00<00:00, 14.28it/s]\n"
     ]
    },
    {
     "data": {
      "text/html": [
       "<div>\n",
       "<style scoped>\n",
       "    .dataframe tbody tr th:only-of-type {\n",
       "        vertical-align: middle;\n",
       "    }\n",
       "\n",
       "    .dataframe tbody tr th {\n",
       "        vertical-align: top;\n",
       "    }\n",
       "\n",
       "    .dataframe thead th {\n",
       "        text-align: right;\n",
       "    }\n",
       "</style>\n",
       "<table border=\"1\" class=\"dataframe\">\n",
       "  <thead>\n",
       "    <tr style=\"text-align: right;\">\n",
       "      <th></th>\n",
       "      <th>workclass</th>\n",
       "      <th>fnlwgt</th>\n",
       "      <th>education</th>\n",
       "      <th>education-num</th>\n",
       "      <th>marital-status</th>\n",
       "      <th>occupation</th>\n",
       "      <th>relationship</th>\n",
       "      <th>race</th>\n",
       "      <th>sex</th>\n",
       "      <th>capital-gain</th>\n",
       "      <th>capital-loss</th>\n",
       "      <th>hours-per-week</th>\n",
       "      <th>native-country</th>\n",
       "      <th>income</th>\n",
       "    </tr>\n",
       "  </thead>\n",
       "  <tbody>\n",
       "    <tr>\n",
       "      <th>39</th>\n",
       "      <td>State-gov</td>\n",
       "      <td>(-inf, 209923.00)</td>\n",
       "      <td>Bachelors</td>\n",
       "      <td>[12.50, 13.50)</td>\n",
       "      <td>Never-married</td>\n",
       "      <td>Adm-clerical</td>\n",
       "      <td>Not-in-family</td>\n",
       "      <td>White</td>\n",
       "      <td>Male</td>\n",
       "      <td>Special</td>\n",
       "      <td>0.0</td>\n",
       "      <td>[39.50, 43.50)</td>\n",
       "      <td>United-States</td>\n",
       "      <td>&lt;=50K</td>\n",
       "    </tr>\n",
       "    <tr>\n",
       "      <th>50</th>\n",
       "      <td>Self-emp-not-inc</td>\n",
       "      <td>(-inf, 209923.00)</td>\n",
       "      <td>Bachelors</td>\n",
       "      <td>[12.50, 13.50)</td>\n",
       "      <td>Married-civ-spouse</td>\n",
       "      <td>Exec-managerial</td>\n",
       "      <td>Husband</td>\n",
       "      <td>White</td>\n",
       "      <td>Male</td>\n",
       "      <td>0.0</td>\n",
       "      <td>0.0</td>\n",
       "      <td>Special</td>\n",
       "      <td>United-States</td>\n",
       "      <td>&lt;=50K</td>\n",
       "    </tr>\n",
       "    <tr>\n",
       "      <th>38</th>\n",
       "      <td>Private</td>\n",
       "      <td>[209923.00, 242536.50)</td>\n",
       "      <td>HS-grad</td>\n",
       "      <td>[8.50, 9.50)</td>\n",
       "      <td>Divorced</td>\n",
       "      <td>Handlers-cleaners</td>\n",
       "      <td>Not-in-family</td>\n",
       "      <td>White</td>\n",
       "      <td>Male</td>\n",
       "      <td>0.0</td>\n",
       "      <td>0.0</td>\n",
       "      <td>[39.50, 43.50)</td>\n",
       "      <td>United-States</td>\n",
       "      <td>&lt;=50K</td>\n",
       "    </tr>\n",
       "    <tr>\n",
       "      <th>53</th>\n",
       "      <td>Private</td>\n",
       "      <td>[209923.00, 242536.50)</td>\n",
       "      <td>11th</td>\n",
       "      <td>(-inf, 8.50)</td>\n",
       "      <td>Married-civ-spouse</td>\n",
       "      <td>Handlers-cleaners</td>\n",
       "      <td>Husband</td>\n",
       "      <td>Black</td>\n",
       "      <td>Male</td>\n",
       "      <td>0.0</td>\n",
       "      <td>0.0</td>\n",
       "      <td>[39.50, 43.50)</td>\n",
       "      <td>United-States</td>\n",
       "      <td>&lt;=50K</td>\n",
       "    </tr>\n",
       "    <tr>\n",
       "      <th>28</th>\n",
       "      <td>Private</td>\n",
       "      <td>[318978.50, inf)</td>\n",
       "      <td>Bachelors</td>\n",
       "      <td>[12.50, 13.50)</td>\n",
       "      <td>Married-civ-spouse</td>\n",
       "      <td>Prof-specialty</td>\n",
       "      <td>Wife</td>\n",
       "      <td>Black</td>\n",
       "      <td>Female</td>\n",
       "      <td>0.0</td>\n",
       "      <td>0.0</td>\n",
       "      <td>[39.50, 43.50)</td>\n",
       "      <td>Other</td>\n",
       "      <td>&lt;=50K</td>\n",
       "    </tr>\n",
       "  </tbody>\n",
       "</table>\n",
       "</div>"
      ],
      "text/plain": [
       "            workclass                  fnlwgt   education   education-num  \\\n",
       "39          State-gov       (-inf, 209923.00)   Bachelors  [12.50, 13.50)   \n",
       "50   Self-emp-not-inc       (-inf, 209923.00)   Bachelors  [12.50, 13.50)   \n",
       "38            Private  [209923.00, 242536.50)     HS-grad    [8.50, 9.50)   \n",
       "53            Private  [209923.00, 242536.50)        11th    (-inf, 8.50)   \n",
       "28            Private        [318978.50, inf)   Bachelors  [12.50, 13.50)   \n",
       "\n",
       "         marital-status          occupation    relationship    race      sex  \\\n",
       "39        Never-married        Adm-clerical   Not-in-family   White     Male   \n",
       "50   Married-civ-spouse     Exec-managerial         Husband   White     Male   \n",
       "38             Divorced   Handlers-cleaners   Not-in-family   White     Male   \n",
       "53   Married-civ-spouse   Handlers-cleaners         Husband   Black     Male   \n",
       "28   Married-civ-spouse      Prof-specialty            Wife   Black   Female   \n",
       "\n",
       "   capital-gain capital-loss  hours-per-week  native-country  income  \n",
       "39      Special          0.0  [39.50, 43.50)   United-States   <=50K  \n",
       "50          0.0          0.0         Special   United-States   <=50K  \n",
       "38          0.0          0.0  [39.50, 43.50)   United-States   <=50K  \n",
       "53          0.0          0.0  [39.50, 43.50)   United-States   <=50K  \n",
       "28          0.0          0.0  [39.50, 43.50)           Other   <=50K  "
      ]
     },
     "execution_count": 4,
     "metadata": {},
     "output_type": "execute_result"
    }
   ],
   "source": [
    "# Defining the pipeline steps\n",
    "pipeline_steps = [\n",
    "    (\n",
    "        \"outlier_detection\",\n",
    "        outlierdetector(\n",
    "            columns=num_features,\n",
    "            method=\"IQR\",\n",
    "            replacement_method=\"constant\",\n",
    "            replacement_value=outlier_value,\n",
    "        ),\n",
    "    ),\n",
    "    (\n",
    "        \"optimal_binning\",\n",
    "        multioptbinning(\n",
    "            variables=num_features,\n",
    "            target=target,\n",
    "            target_dtype=\"binary\",\n",
    "            outlier_value=outlier_value,\n",
    "        ),\n",
    "    ),\n",
    "]\n",
    "\n",
    "# Creating the pipeline\n",
    "data_preprocessing_pipeline = Pipeline(steps=pipeline_steps)\n",
    "\n",
    "# Fitting the pipeline on the data\n",
    "data_preprocessing_pipeline.fit(adult_data)\n",
    "\n",
    "# Transforming the data \n",
    "adult_data_binned = data_preprocessing_pipeline.transform(adult_data)\n",
    "\n",
    "#Overview of binned DataFrame\n",
    "adult_data_binned.head()\n"
   ]
  },
  {
   "cell_type": "code",
   "execution_count": 5,
   "metadata": {},
   "outputs": [
    {
     "data": {
      "text/html": [
       "<style type=\"text/css\">\n",
       "#T_50adf_row0_col1 {\n",
       "  width: 10em;\n",
       "  background: linear-gradient(90deg, #5f8fd6 100.0%, transparent 100.0%);\n",
       "}\n",
       "#T_50adf_row1_col1 {\n",
       "  width: 10em;\n",
       "  background: linear-gradient(90deg, #5f8fd6 98.6%, transparent 98.6%);\n",
       "}\n",
       "#T_50adf_row2_col1 {\n",
       "  width: 10em;\n",
       "  background: linear-gradient(90deg, #5f8fd6 81.3%, transparent 81.3%);\n",
       "}\n",
       "#T_50adf_row3_col1 {\n",
       "  width: 10em;\n",
       "  background: linear-gradient(90deg, #5f8fd6 80.2%, transparent 80.2%);\n",
       "}\n",
       "#T_50adf_row4_col1 {\n",
       "  width: 10em;\n",
       "  background: linear-gradient(90deg, #5f8fd6 75.9%, transparent 75.9%);\n",
       "}\n",
       "#T_50adf_row5_col1 {\n",
       "  width: 10em;\n",
       "  background: linear-gradient(90deg, #5f8fd6 58.7%, transparent 58.7%);\n",
       "}\n",
       "#T_50adf_row6_col1 {\n",
       "  width: 10em;\n",
       "  background: linear-gradient(90deg, #5f8fd6 47.6%, transparent 47.6%);\n",
       "}\n",
       "#T_50adf_row7_col1 {\n",
       "  width: 10em;\n",
       "  background: linear-gradient(90deg, #5f8fd6 40.3%, transparent 40.3%);\n",
       "}\n",
       "#T_50adf_row8_col1 {\n",
       "  width: 10em;\n",
       "  background: linear-gradient(90deg, #5f8fd6 39.5%, transparent 39.5%);\n",
       "}\n",
       "#T_50adf_row9_col1 {\n",
       "  width: 10em;\n",
       "  background: linear-gradient(90deg, #5f8fd6 30.5%, transparent 30.5%);\n",
       "}\n",
       "#T_50adf_row10_col1 {\n",
       "  width: 10em;\n",
       "  background: linear-gradient(90deg, #5f8fd6 22.2%, transparent 22.2%);\n",
       "}\n",
       "#T_50adf_row11_col1 {\n",
       "  width: 10em;\n",
       "  background: linear-gradient(90deg, #5f8fd6 8.5%, transparent 8.5%);\n",
       "}\n",
       "#T_50adf_row12_col1 {\n",
       "  width: 10em;\n",
       "  background: linear-gradient(90deg, #5f8fd6 7.6%, transparent 7.6%);\n",
       "}\n",
       "</style>\n",
       "<table id=\"T_50adf\">\n",
       "  <thead>\n",
       "    <tr>\n",
       "      <th class=\"blank level0\" >&nbsp;</th>\n",
       "      <th id=\"T_50adf_level0_col0\" class=\"col_heading level0 col0\" >Feature</th>\n",
       "      <th id=\"T_50adf_level0_col1\" class=\"col_heading level0 col1\" >Univariate_Importance</th>\n",
       "    </tr>\n",
       "  </thead>\n",
       "  <tbody>\n",
       "    <tr>\n",
       "      <th id=\"T_50adf_level0_row0\" class=\"row_heading level0 row0\" >6</th>\n",
       "      <td id=\"T_50adf_row0_col0\" class=\"data row0 col0\" >relationship</td>\n",
       "      <td id=\"T_50adf_row0_col1\" class=\"data row0 col1\" >0.453585</td>\n",
       "    </tr>\n",
       "    <tr>\n",
       "      <th id=\"T_50adf_level0_row1\" class=\"row_heading level0 row1\" >4</th>\n",
       "      <td id=\"T_50adf_row1_col0\" class=\"data row1 col0\" >marital-status</td>\n",
       "      <td id=\"T_50adf_row1_col1\" class=\"data row1 col1\" >0.447403</td>\n",
       "    </tr>\n",
       "    <tr>\n",
       "      <th id=\"T_50adf_level0_row2\" class=\"row_heading level0 row2\" >2</th>\n",
       "      <td id=\"T_50adf_row2_col0\" class=\"data row2 col0\" >education</td>\n",
       "      <td id=\"T_50adf_row2_col1\" class=\"data row2 col1\" >0.368838</td>\n",
       "    </tr>\n",
       "    <tr>\n",
       "      <th id=\"T_50adf_level0_row3\" class=\"row_heading level0 row3\" >3</th>\n",
       "      <td id=\"T_50adf_row3_col0\" class=\"data row3 col0\" >education-num</td>\n",
       "      <td id=\"T_50adf_row3_col1\" class=\"data row3 col1\" >0.363999</td>\n",
       "    </tr>\n",
       "    <tr>\n",
       "      <th id=\"T_50adf_level0_row4\" class=\"row_heading level0 row4\" >5</th>\n",
       "      <td id=\"T_50adf_row4_col0\" class=\"data row4 col0\" >occupation</td>\n",
       "      <td id=\"T_50adf_row4_col1\" class=\"data row4 col1\" >0.344285</td>\n",
       "    </tr>\n",
       "    <tr>\n",
       "      <th id=\"T_50adf_level0_row5\" class=\"row_heading level0 row5\" >9</th>\n",
       "      <td id=\"T_50adf_row5_col0\" class=\"data row5 col0\" >capital-gain</td>\n",
       "      <td id=\"T_50adf_row5_col1\" class=\"data row5 col1\" >0.266032</td>\n",
       "    </tr>\n",
       "    <tr>\n",
       "      <th id=\"T_50adf_level0_row6\" class=\"row_heading level0 row6\" >8</th>\n",
       "      <td id=\"T_50adf_row6_col0\" class=\"data row6 col0\" >sex</td>\n",
       "      <td id=\"T_50adf_row6_col1\" class=\"data row6 col1\" >0.215904</td>\n",
       "    </tr>\n",
       "    <tr>\n",
       "      <th id=\"T_50adf_level0_row7\" class=\"row_heading level0 row7\" >11</th>\n",
       "      <td id=\"T_50adf_row7_col0\" class=\"data row7 col0\" >hours-per-week</td>\n",
       "      <td id=\"T_50adf_row7_col1\" class=\"data row7 col1\" >0.182584</td>\n",
       "    </tr>\n",
       "    <tr>\n",
       "      <th id=\"T_50adf_level0_row8\" class=\"row_heading level0 row8\" >0</th>\n",
       "      <td id=\"T_50adf_row8_col0\" class=\"data row8 col0\" >workclass</td>\n",
       "      <td id=\"T_50adf_row8_col1\" class=\"data row8 col1\" >0.179208</td>\n",
       "    </tr>\n",
       "    <tr>\n",
       "      <th id=\"T_50adf_level0_row9\" class=\"row_heading level0 row9\" >10</th>\n",
       "      <td id=\"T_50adf_row9_col0\" class=\"data row9 col0\" >capital-loss</td>\n",
       "      <td id=\"T_50adf_row9_col1\" class=\"data row9 col1\" >0.138522</td>\n",
       "    </tr>\n",
       "    <tr>\n",
       "      <th id=\"T_50adf_level0_row10\" class=\"row_heading level0 row10\" >7</th>\n",
       "      <td id=\"T_50adf_row10_col0\" class=\"data row10 col0\" >race</td>\n",
       "      <td id=\"T_50adf_row10_col1\" class=\"data row10 col1\" >0.100812</td>\n",
       "    </tr>\n",
       "    <tr>\n",
       "      <th id=\"T_50adf_level0_row11\" class=\"row_heading level0 row11\" >1</th>\n",
       "      <td id=\"T_50adf_row11_col0\" class=\"data row11 col0\" >fnlwgt</td>\n",
       "      <td id=\"T_50adf_row11_col1\" class=\"data row11 col1\" >0.038521</td>\n",
       "    </tr>\n",
       "    <tr>\n",
       "      <th id=\"T_50adf_level0_row12\" class=\"row_heading level0 row12\" >12</th>\n",
       "      <td id=\"T_50adf_row12_col0\" class=\"data row12 col0\" >native-country</td>\n",
       "      <td id=\"T_50adf_row12_col1\" class=\"data row12 col1\" >0.034353</td>\n",
       "    </tr>\n",
       "  </tbody>\n",
       "</table>\n"
      ],
      "text/plain": [
       "<pandas.io.formats.style.Styler at 0x1ae061c3100>"
      ]
     },
     "execution_count": 5,
     "metadata": {},
     "output_type": "execute_result"
    }
   ],
   "source": [
    "\n",
    "from scorescanner.utils.statistical_metrics import (\n",
    "    univariate_feature_importance,\n",
    "    univariate_category_importance,\n",
    "    calculate_cramers_v_matrix,\n",
    "    cluster_corr_matrix\n",
    ")\n",
    "\n",
    "# Target variable and features list\n",
    "target = 'income'\n",
    "features = [col for col in columns if col not in target]\n",
    "\n",
    "# Calculate univariate feature importance\n",
    "univariate_importance = univariate_feature_importance(\n",
    "    df=adult_data_binned, features=features, target_var=target, method=\"cramerv\"\n",
    ")\n",
    "\n",
    "# Display the univariate feature importance\n",
    "univariate_importance\n",
    "\n"
   ]
  },
  {
   "cell_type": "code",
   "execution_count": 31,
   "metadata": {},
   "outputs": [],
   "source": [
    "import dataframe_image as dfi\n",
    "\n",
    "# Vous pouvez augmenter la résolution (dpi) pour une image plus grande\n",
    "dfi.export(\n",
    "univariate_category_importance(\n",
    "    df=adult_data_binned, categorical_vars=features, target_var=target\n",
    ")[0:30].head(), 'category_importance.png', dpi=400,fontsize=40)"
   ]
  },
  {
   "cell_type": "code",
   "execution_count": 30,
   "metadata": {},
   "outputs": [
    {
     "data": {
      "text/html": [
       "<div>\n",
       "<style scoped>\n",
       "    .dataframe tbody tr th:only-of-type {\n",
       "        vertical-align: middle;\n",
       "    }\n",
       "\n",
       "    .dataframe tbody tr th {\n",
       "        vertical-align: top;\n",
       "    }\n",
       "\n",
       "    .dataframe thead th {\n",
       "        text-align: right;\n",
       "    }\n",
       "</style>\n",
       "<table border=\"1\" class=\"dataframe\">\n",
       "  <thead>\n",
       "    <tr style=\"text-align: right;\">\n",
       "      <th></th>\n",
       "      <th>Category</th>\n",
       "      <th>Jensen-Shannon Distance</th>\n",
       "      <th>Variable</th>\n",
       "    </tr>\n",
       "  </thead>\n",
       "  <tbody>\n",
       "    <tr>\n",
       "      <th>10</th>\n",
       "      <td>Doctorate</td>\n",
       "      <td>0.361840</td>\n",
       "      <td>education</td>\n",
       "    </tr>\n",
       "    <tr>\n",
       "      <th>14</th>\n",
       "      <td>Prof-school</td>\n",
       "      <td>0.356937</td>\n",
       "      <td>education</td>\n",
       "    </tr>\n",
       "    <tr>\n",
       "      <th>3</th>\n",
       "      <td>Never-worked</td>\n",
       "      <td>0.302861</td>\n",
       "      <td>workclass</td>\n",
       "    </tr>\n",
       "    <tr>\n",
       "      <th>13</th>\n",
       "      <td>Preschool</td>\n",
       "      <td>0.302861</td>\n",
       "      <td>education</td>\n",
       "    </tr>\n",
       "    <tr>\n",
       "      <th>8</th>\n",
       "      <td>Without-pay</td>\n",
       "      <td>0.302861</td>\n",
       "      <td>workclass</td>\n",
       "    </tr>\n",
       "  </tbody>\n",
       "</table>\n",
       "</div>"
      ],
      "text/plain": [
       "         Category  Jensen-Shannon Distance   Variable\n",
       "10      Doctorate                 0.361840  education\n",
       "14    Prof-school                 0.356937  education\n",
       "3    Never-worked                 0.302861  workclass\n",
       "13      Preschool                 0.302861  education\n",
       "8     Without-pay                 0.302861  workclass"
      ]
     },
     "execution_count": 30,
     "metadata": {},
     "output_type": "execute_result"
    }
   ],
   "source": [
    "\n",
    "univariate_category_importance(\n",
    "    df=adult_data_binned, categorical_vars=features, target_var=target\n",
    ")[0:30].head()\n"
   ]
  },
  {
   "cell_type": "code",
   "execution_count": 7,
   "metadata": {},
   "outputs": [],
   "source": [
    "from scorescanner.utils.plotting import (\n",
    "    generate_bar_plot,\n",
    "    plot_woe,\n",
    "    plot_js,\n",
    "    plot_corr_matrix\n",
    ")"
   ]
  },
  {
   "cell_type": "code",
   "execution_count": 28,
   "metadata": {},
   "outputs": [
    {
     "name": "stdout",
     "output_type": "stream",
     "text": [
      "The reference category:  <=50K\n",
      "The reference category:  <=50K\n"
     ]
    }
   ],
   "source": [
    "import plotly.io as pio\n",
    "\n",
    "# Générer la figure avec votre fonction personnalisée (assurez-vous que fig est bien une figure Plotly)\n",
    "fig = generate_bar_plot(\n",
    "    df=adult_data_binned,\n",
    "    feature=\"relationship\",\n",
    "    target_var=target,\n",
    "    cat_ref=None,\n",
    ")\n",
    "\n",
    "\n",
    "# Convertir la figure en image PNG et la sauvegarder directement sur le disque\n",
    "image_bytes = fig.to_image(format=\"png\", scale=0, width=1200, height=400)\n",
    "\n",
    "# Écrire l'image dans un fichier\n",
    "with open(\"bar_plot.png\", \"wb\") as f:\n",
    "    f.write(image_bytes)\n",
    "\n"
   ]
  },
  {
   "cell_type": "code",
   "execution_count": 32,
   "metadata": {},
   "outputs": [
    {
     "name": "stdout",
     "output_type": "stream",
     "text": [
      "The reference category:  <=50K\n",
      "The reference category:  <=50K\n"
     ]
    }
   ],
   "source": [
    "import plotly.io as pio\n",
    "\n",
    "# Supposons que `fig` est votre figure Plotly retournée par la fonction `plot_woe`\n",
    "fig = plot_woe(\n",
    "    df=adult_data_binned,\n",
    "    feature=\"relationship\",\n",
    "    target_var=target,\n",
    "    cat_ref=None\n",
    ")\n",
    "\n",
    "# Convertir la figure en image PNG et la sauvegarder directement sur le disque\n",
    "image_bytes = fig.to_image(format=\"png\", scale=0, width=1200, height=400)\n",
    "# Écrire l'image dans un fichier\n",
    "with open(\"woe.png\", \"wb\") as f:\n",
    "    f.write(image_bytes)\n"
   ]
  },
  {
   "cell_type": "code",
   "execution_count": 33,
   "metadata": {},
   "outputs": [],
   "source": [
    "import plotly.io as pio\n",
    "\n",
    "# Supposons que `fig` est votre figure Plotly retournée par la fonction `plot_woe`\n",
    "fig = plot_js(\n",
    "    df=adult_data_binned,\n",
    "    feature=\"relationship\",\n",
    "    target_var= target\n",
    "    )\n",
    "\n",
    "# Convertir la figure en image PNG et la sauvegarder directement sur le disque\n",
    "image_bytes = fig.to_image(format=\"png\", scale=0, width=1200, height=400)\n",
    "# Écrire l'image dans un fichier\n",
    "with open(\"js.png\", \"wb\") as f:\n",
    "    f.write(image_bytes)"
   ]
  },
  {
   "cell_type": "code",
   "execution_count": 34,
   "metadata": {},
   "outputs": [],
   "source": [
    "from scorescanner.preprocessing import logisticregressionpreparer"
   ]
  },
  {
   "cell_type": "code",
   "execution_count": 35,
   "metadata": {},
   "outputs": [
    {
     "data": {
      "application/vnd.plotly.v1+json": {
       "config": {
        "plotlyServerURL": "https://plot.ly"
       },
       "data": [
        {
         "colorscale": [
          [
           0,
           "rgb(176, 242, 188)"
          ],
          [
           0.16666666666666666,
           "rgb(137, 232, 172)"
          ],
          [
           0.3333333333333333,
           "rgb(103, 219, 165)"
          ],
          [
           0.5,
           "rgb(76, 200, 163)"
          ],
          [
           0.6666666666666666,
           "rgb(56, 178, 163)"
          ],
          [
           0.8333333333333334,
           "rgb(44, 152, 160)"
          ],
          [
           1,
           "rgb(37, 125, 152)"
          ]
         ],
         "hoverongaps": false,
         "type": "heatmap",
         "x": [
          "education",
          "education-num",
          "marital-status",
          "relationship",
          "sex",
          "income",
          "race",
          "native-country",
          "workclass",
          "fnlwgt",
          "occupation",
          "capital-gain",
          "capital-loss",
          "hours-per-week"
         ],
         "y": [
          "education",
          "education-num",
          "marital-status",
          "relationship",
          "sex",
          "income",
          "race",
          "native-country",
          "workclass",
          "fnlwgt",
          "occupation",
          "capital-gain",
          "capital-loss",
          "hours-per-week"
         ],
         "z": [
          [
           1,
           1,
           0.1,
           0.12,
           0.09,
           0.37,
           0.07,
           0.28,
           0.1,
           0.03,
           0.21,
           0.14,
           0.09,
           0.1
          ],
          [
           1,
           1,
           0.09,
           0.11,
           0.08,
           0.36,
           0.07,
           0.23,
           0.1,
           0.03,
           0.27,
           0.13,
           0.09,
           0.09
          ],
          [
           0.1,
           0.09,
           1,
           0.49,
           0.46,
           0.45,
           0.08,
           0.12,
           0.09,
           0.03,
           0.14,
           0.13,
           0.08,
           0.09
          ],
          [
           0.12,
           0.11,
           0.49,
           1,
           0.65,
           0.45,
           0.1,
           0.12,
           0.1,
           0.02,
           0.17,
           0.13,
           0.08,
           0.12
          ],
          [
           0.09,
           0.08,
           0.46,
           0.65,
           1,
           0.22,
           0.12,
           0,
           0.15,
           0.03,
           0.4,
           0.06,
           0.04,
           0.18
          ],
          [
           0.37,
           0.36,
           0.45,
           0.45,
           0.22,
           1,
           0.1,
           0.03,
           0.18,
           0.04,
           0.34,
           0.27,
           0.14,
           0.18
          ],
          [
           0.07,
           0.07,
           0.08,
           0.1,
           0.12,
           0.1,
           1,
           0.39,
           0.05,
           0.06,
           0.07,
           0.03,
           0.02,
           0.05
          ],
          [
           0.28,
           0.23,
           0.12,
           0.12,
           0,
           0.03,
           0.39,
           1,
           0.05,
           0.08,
           0.09,
           0.01,
           0.01,
           0.05
          ],
          [
           0.1,
           0.1,
           0.09,
           0.1,
           0.15,
           0.18,
           0.05,
           0.05,
           1,
           0.02,
           0.38,
           0.07,
           0.04,
           0.12
          ],
          [
           0.03,
           0.03,
           0.03,
           0.02,
           0.03,
           0.04,
           0.06,
           0.08,
           0.02,
           1,
           0.02,
           0.01,
           0.01,
           0.01
          ],
          [
           0.21,
           0.27,
           0.14,
           0.17,
           0.4,
           0.34,
           0.07,
           0.09,
           0.38,
           0.02,
           1,
           0.12,
           0.08,
           0.16
          ],
          [
           0.14,
           0.13,
           0.13,
           0.13,
           0.06,
           0.27,
           0.03,
           0.01,
           0.07,
           0.01,
           0.12,
           1,
           0.07,
           0.07
          ],
          [
           0.09,
           0.09,
           0.08,
           0.08,
           0.04,
           0.14,
           0.02,
           0.01,
           0.04,
           0.01,
           0.08,
           0.07,
           1,
           0.03
          ],
          [
           0.1,
           0.09,
           0.09,
           0.12,
           0.18,
           0.18,
           0.05,
           0.05,
           0.12,
           0.01,
           0.16,
           0.07,
           0.03,
           1
          ]
         ],
         "zmax": 1,
         "zmin": -1
        }
       ],
       "layout": {
        "height": 700,
        "margin": {
         "b": 10,
         "l": 10,
         "r": 10,
         "t": 30
        },
        "template": {
         "data": {
          "bar": [
           {
            "error_x": {
             "color": "#2a3f5f"
            },
            "error_y": {
             "color": "#2a3f5f"
            },
            "marker": {
             "line": {
              "color": "#E5ECF6",
              "width": 0.5
             },
             "pattern": {
              "fillmode": "overlay",
              "size": 10,
              "solidity": 0.2
             }
            },
            "type": "bar"
           }
          ],
          "barpolar": [
           {
            "marker": {
             "line": {
              "color": "#E5ECF6",
              "width": 0.5
             },
             "pattern": {
              "fillmode": "overlay",
              "size": 10,
              "solidity": 0.2
             }
            },
            "type": "barpolar"
           }
          ],
          "carpet": [
           {
            "aaxis": {
             "endlinecolor": "#2a3f5f",
             "gridcolor": "white",
             "linecolor": "white",
             "minorgridcolor": "white",
             "startlinecolor": "#2a3f5f"
            },
            "baxis": {
             "endlinecolor": "#2a3f5f",
             "gridcolor": "white",
             "linecolor": "white",
             "minorgridcolor": "white",
             "startlinecolor": "#2a3f5f"
            },
            "type": "carpet"
           }
          ],
          "choropleth": [
           {
            "colorbar": {
             "outlinewidth": 0,
             "ticks": ""
            },
            "type": "choropleth"
           }
          ],
          "contour": [
           {
            "colorbar": {
             "outlinewidth": 0,
             "ticks": ""
            },
            "colorscale": [
             [
              0,
              "#0d0887"
             ],
             [
              0.1111111111111111,
              "#46039f"
             ],
             [
              0.2222222222222222,
              "#7201a8"
             ],
             [
              0.3333333333333333,
              "#9c179e"
             ],
             [
              0.4444444444444444,
              "#bd3786"
             ],
             [
              0.5555555555555556,
              "#d8576b"
             ],
             [
              0.6666666666666666,
              "#ed7953"
             ],
             [
              0.7777777777777778,
              "#fb9f3a"
             ],
             [
              0.8888888888888888,
              "#fdca26"
             ],
             [
              1,
              "#f0f921"
             ]
            ],
            "type": "contour"
           }
          ],
          "contourcarpet": [
           {
            "colorbar": {
             "outlinewidth": 0,
             "ticks": ""
            },
            "type": "contourcarpet"
           }
          ],
          "heatmap": [
           {
            "colorbar": {
             "outlinewidth": 0,
             "ticks": ""
            },
            "colorscale": [
             [
              0,
              "#0d0887"
             ],
             [
              0.1111111111111111,
              "#46039f"
             ],
             [
              0.2222222222222222,
              "#7201a8"
             ],
             [
              0.3333333333333333,
              "#9c179e"
             ],
             [
              0.4444444444444444,
              "#bd3786"
             ],
             [
              0.5555555555555556,
              "#d8576b"
             ],
             [
              0.6666666666666666,
              "#ed7953"
             ],
             [
              0.7777777777777778,
              "#fb9f3a"
             ],
             [
              0.8888888888888888,
              "#fdca26"
             ],
             [
              1,
              "#f0f921"
             ]
            ],
            "type": "heatmap"
           }
          ],
          "heatmapgl": [
           {
            "colorbar": {
             "outlinewidth": 0,
             "ticks": ""
            },
            "colorscale": [
             [
              0,
              "#0d0887"
             ],
             [
              0.1111111111111111,
              "#46039f"
             ],
             [
              0.2222222222222222,
              "#7201a8"
             ],
             [
              0.3333333333333333,
              "#9c179e"
             ],
             [
              0.4444444444444444,
              "#bd3786"
             ],
             [
              0.5555555555555556,
              "#d8576b"
             ],
             [
              0.6666666666666666,
              "#ed7953"
             ],
             [
              0.7777777777777778,
              "#fb9f3a"
             ],
             [
              0.8888888888888888,
              "#fdca26"
             ],
             [
              1,
              "#f0f921"
             ]
            ],
            "type": "heatmapgl"
           }
          ],
          "histogram": [
           {
            "marker": {
             "pattern": {
              "fillmode": "overlay",
              "size": 10,
              "solidity": 0.2
             }
            },
            "type": "histogram"
           }
          ],
          "histogram2d": [
           {
            "colorbar": {
             "outlinewidth": 0,
             "ticks": ""
            },
            "colorscale": [
             [
              0,
              "#0d0887"
             ],
             [
              0.1111111111111111,
              "#46039f"
             ],
             [
              0.2222222222222222,
              "#7201a8"
             ],
             [
              0.3333333333333333,
              "#9c179e"
             ],
             [
              0.4444444444444444,
              "#bd3786"
             ],
             [
              0.5555555555555556,
              "#d8576b"
             ],
             [
              0.6666666666666666,
              "#ed7953"
             ],
             [
              0.7777777777777778,
              "#fb9f3a"
             ],
             [
              0.8888888888888888,
              "#fdca26"
             ],
             [
              1,
              "#f0f921"
             ]
            ],
            "type": "histogram2d"
           }
          ],
          "histogram2dcontour": [
           {
            "colorbar": {
             "outlinewidth": 0,
             "ticks": ""
            },
            "colorscale": [
             [
              0,
              "#0d0887"
             ],
             [
              0.1111111111111111,
              "#46039f"
             ],
             [
              0.2222222222222222,
              "#7201a8"
             ],
             [
              0.3333333333333333,
              "#9c179e"
             ],
             [
              0.4444444444444444,
              "#bd3786"
             ],
             [
              0.5555555555555556,
              "#d8576b"
             ],
             [
              0.6666666666666666,
              "#ed7953"
             ],
             [
              0.7777777777777778,
              "#fb9f3a"
             ],
             [
              0.8888888888888888,
              "#fdca26"
             ],
             [
              1,
              "#f0f921"
             ]
            ],
            "type": "histogram2dcontour"
           }
          ],
          "mesh3d": [
           {
            "colorbar": {
             "outlinewidth": 0,
             "ticks": ""
            },
            "type": "mesh3d"
           }
          ],
          "parcoords": [
           {
            "line": {
             "colorbar": {
              "outlinewidth": 0,
              "ticks": ""
             }
            },
            "type": "parcoords"
           }
          ],
          "pie": [
           {
            "automargin": true,
            "type": "pie"
           }
          ],
          "scatter": [
           {
            "fillpattern": {
             "fillmode": "overlay",
             "size": 10,
             "solidity": 0.2
            },
            "type": "scatter"
           }
          ],
          "scatter3d": [
           {
            "line": {
             "colorbar": {
              "outlinewidth": 0,
              "ticks": ""
             }
            },
            "marker": {
             "colorbar": {
              "outlinewidth": 0,
              "ticks": ""
             }
            },
            "type": "scatter3d"
           }
          ],
          "scattercarpet": [
           {
            "marker": {
             "colorbar": {
              "outlinewidth": 0,
              "ticks": ""
             }
            },
            "type": "scattercarpet"
           }
          ],
          "scattergeo": [
           {
            "marker": {
             "colorbar": {
              "outlinewidth": 0,
              "ticks": ""
             }
            },
            "type": "scattergeo"
           }
          ],
          "scattergl": [
           {
            "marker": {
             "colorbar": {
              "outlinewidth": 0,
              "ticks": ""
             }
            },
            "type": "scattergl"
           }
          ],
          "scattermapbox": [
           {
            "marker": {
             "colorbar": {
              "outlinewidth": 0,
              "ticks": ""
             }
            },
            "type": "scattermapbox"
           }
          ],
          "scatterpolar": [
           {
            "marker": {
             "colorbar": {
              "outlinewidth": 0,
              "ticks": ""
             }
            },
            "type": "scatterpolar"
           }
          ],
          "scatterpolargl": [
           {
            "marker": {
             "colorbar": {
              "outlinewidth": 0,
              "ticks": ""
             }
            },
            "type": "scatterpolargl"
           }
          ],
          "scatterternary": [
           {
            "marker": {
             "colorbar": {
              "outlinewidth": 0,
              "ticks": ""
             }
            },
            "type": "scatterternary"
           }
          ],
          "surface": [
           {
            "colorbar": {
             "outlinewidth": 0,
             "ticks": ""
            },
            "colorscale": [
             [
              0,
              "#0d0887"
             ],
             [
              0.1111111111111111,
              "#46039f"
             ],
             [
              0.2222222222222222,
              "#7201a8"
             ],
             [
              0.3333333333333333,
              "#9c179e"
             ],
             [
              0.4444444444444444,
              "#bd3786"
             ],
             [
              0.5555555555555556,
              "#d8576b"
             ],
             [
              0.6666666666666666,
              "#ed7953"
             ],
             [
              0.7777777777777778,
              "#fb9f3a"
             ],
             [
              0.8888888888888888,
              "#fdca26"
             ],
             [
              1,
              "#f0f921"
             ]
            ],
            "type": "surface"
           }
          ],
          "table": [
           {
            "cells": {
             "fill": {
              "color": "#EBF0F8"
             },
             "line": {
              "color": "white"
             }
            },
            "header": {
             "fill": {
              "color": "#C8D4E3"
             },
             "line": {
              "color": "white"
             }
            },
            "type": "table"
           }
          ]
         },
         "layout": {
          "annotationdefaults": {
           "arrowcolor": "#2a3f5f",
           "arrowhead": 0,
           "arrowwidth": 1
          },
          "autotypenumbers": "strict",
          "coloraxis": {
           "colorbar": {
            "outlinewidth": 0,
            "ticks": ""
           }
          },
          "colorscale": {
           "diverging": [
            [
             0,
             "#8e0152"
            ],
            [
             0.1,
             "#c51b7d"
            ],
            [
             0.2,
             "#de77ae"
            ],
            [
             0.3,
             "#f1b6da"
            ],
            [
             0.4,
             "#fde0ef"
            ],
            [
             0.5,
             "#f7f7f7"
            ],
            [
             0.6,
             "#e6f5d0"
            ],
            [
             0.7,
             "#b8e186"
            ],
            [
             0.8,
             "#7fbc41"
            ],
            [
             0.9,
             "#4d9221"
            ],
            [
             1,
             "#276419"
            ]
           ],
           "sequential": [
            [
             0,
             "#0d0887"
            ],
            [
             0.1111111111111111,
             "#46039f"
            ],
            [
             0.2222222222222222,
             "#7201a8"
            ],
            [
             0.3333333333333333,
             "#9c179e"
            ],
            [
             0.4444444444444444,
             "#bd3786"
            ],
            [
             0.5555555555555556,
             "#d8576b"
            ],
            [
             0.6666666666666666,
             "#ed7953"
            ],
            [
             0.7777777777777778,
             "#fb9f3a"
            ],
            [
             0.8888888888888888,
             "#fdca26"
            ],
            [
             1,
             "#f0f921"
            ]
           ],
           "sequentialminus": [
            [
             0,
             "#0d0887"
            ],
            [
             0.1111111111111111,
             "#46039f"
            ],
            [
             0.2222222222222222,
             "#7201a8"
            ],
            [
             0.3333333333333333,
             "#9c179e"
            ],
            [
             0.4444444444444444,
             "#bd3786"
            ],
            [
             0.5555555555555556,
             "#d8576b"
            ],
            [
             0.6666666666666666,
             "#ed7953"
            ],
            [
             0.7777777777777778,
             "#fb9f3a"
            ],
            [
             0.8888888888888888,
             "#fdca26"
            ],
            [
             1,
             "#f0f921"
            ]
           ]
          },
          "colorway": [
           "#636efa",
           "#EF553B",
           "#00cc96",
           "#ab63fa",
           "#FFA15A",
           "#19d3f3",
           "#FF6692",
           "#B6E880",
           "#FF97FF",
           "#FECB52"
          ],
          "font": {
           "color": "#2a3f5f"
          },
          "geo": {
           "bgcolor": "white",
           "lakecolor": "white",
           "landcolor": "#E5ECF6",
           "showlakes": true,
           "showland": true,
           "subunitcolor": "white"
          },
          "hoverlabel": {
           "align": "left"
          },
          "hovermode": "closest",
          "mapbox": {
           "style": "light"
          },
          "paper_bgcolor": "white",
          "plot_bgcolor": "#E5ECF6",
          "polar": {
           "angularaxis": {
            "gridcolor": "white",
            "linecolor": "white",
            "ticks": ""
           },
           "bgcolor": "#E5ECF6",
           "radialaxis": {
            "gridcolor": "white",
            "linecolor": "white",
            "ticks": ""
           }
          },
          "scene": {
           "xaxis": {
            "backgroundcolor": "#E5ECF6",
            "gridcolor": "white",
            "gridwidth": 2,
            "linecolor": "white",
            "showbackground": true,
            "ticks": "",
            "zerolinecolor": "white"
           },
           "yaxis": {
            "backgroundcolor": "#E5ECF6",
            "gridcolor": "white",
            "gridwidth": 2,
            "linecolor": "white",
            "showbackground": true,
            "ticks": "",
            "zerolinecolor": "white"
           },
           "zaxis": {
            "backgroundcolor": "#E5ECF6",
            "gridcolor": "white",
            "gridwidth": 2,
            "linecolor": "white",
            "showbackground": true,
            "ticks": "",
            "zerolinecolor": "white"
           }
          },
          "shapedefaults": {
           "line": {
            "color": "#2a3f5f"
           }
          },
          "ternary": {
           "aaxis": {
            "gridcolor": "white",
            "linecolor": "white",
            "ticks": ""
           },
           "baxis": {
            "gridcolor": "white",
            "linecolor": "white",
            "ticks": ""
           },
           "bgcolor": "#E5ECF6",
           "caxis": {
            "gridcolor": "white",
            "linecolor": "white",
            "ticks": ""
           }
          },
          "title": {
           "x": 0.05
          },
          "xaxis": {
           "automargin": true,
           "gridcolor": "white",
           "linecolor": "white",
           "ticks": "",
           "title": {
            "standoff": 15
           },
           "zerolinecolor": "white",
           "zerolinewidth": 2
          },
          "yaxis": {
           "automargin": true,
           "gridcolor": "white",
           "linecolor": "white",
           "ticks": "",
           "title": {
            "standoff": 15
           },
           "zerolinecolor": "white",
           "zerolinewidth": 2
          }
         }
        },
        "title": {
         "text": "<b>Correlation Heatmap",
         "x": 0.5,
         "xanchor": "center",
         "yanchor": "top"
        },
        "width": 1200,
        "xaxis": {
         "showgrid": false,
         "side": "bottom"
        },
        "yaxis": {
         "autorange": "reversed",
         "showgrid": false
        }
       }
      }
     },
     "metadata": {},
     "output_type": "display_data"
    }
   ],
   "source": [
    "\n",
    "corr_matrix = calculate_cramers_v_matrix(df=adult_data_binned, sampling=False)\n",
    "corr_matrix_clustered = cluster_corr_matrix(corr_matrix=corr_matrix, threshold=1.7) \n",
    "plot_corr_matrix(corr_matrix_clustered)\n"
   ]
  },
  {
   "cell_type": "code",
   "execution_count": 93,
   "metadata": {},
   "outputs": [
    {
     "data": {
      "text/html": [
       "<div>\n",
       "<style scoped>\n",
       "    .dataframe tbody tr th:only-of-type {\n",
       "        vertical-align: middle;\n",
       "    }\n",
       "\n",
       "    .dataframe tbody tr th {\n",
       "        vertical-align: top;\n",
       "    }\n",
       "\n",
       "    .dataframe thead th {\n",
       "        text-align: right;\n",
       "    }\n",
       "</style>\n",
       "<table border=\"1\" class=\"dataframe\">\n",
       "  <thead>\n",
       "    <tr style=\"text-align: right;\">\n",
       "      <th></th>\n",
       "      <th>native-country_Other (vs  United-States)</th>\n",
       "      <th>hours-per-week_(-inf, 39.50) (vs [39.50, 43.50))</th>\n",
       "      <th>hours-per-week_Special (vs [39.50, 43.50))</th>\n",
       "      <th>hours-per-week_[43.50, 49.50) (vs [39.50, 43.50))</th>\n",
       "      <th>hours-per-week_[49.50, inf) (vs [39.50, 43.50))</th>\n",
       "      <th>capital-loss_Special (vs 0.0)</th>\n",
       "      <th>capital-gain_Special (vs 0.0)</th>\n",
       "      <th>sex_ Female (vs  Male)</th>\n",
       "      <th>race_ Amer-Indian-Eskimo (vs  White)</th>\n",
       "      <th>race_ Asian-Pac-Islander (vs  White)</th>\n",
       "      <th>...</th>\n",
       "      <th>fnlwgt_[318978.50, inf) (vs (-inf, 209923.00))</th>\n",
       "      <th>workclass_ ? (vs  State-gov)</th>\n",
       "      <th>workclass_ Federal-gov (vs  State-gov)</th>\n",
       "      <th>workclass_ Local-gov (vs  State-gov)</th>\n",
       "      <th>workclass_ Never-worked (vs  State-gov)</th>\n",
       "      <th>workclass_ Private (vs  State-gov)</th>\n",
       "      <th>workclass_ Self-emp-inc (vs  State-gov)</th>\n",
       "      <th>workclass_ Self-emp-not-inc (vs  State-gov)</th>\n",
       "      <th>workclass_ Without-pay (vs  State-gov)</th>\n",
       "      <th>income</th>\n",
       "    </tr>\n",
       "  </thead>\n",
       "  <tbody>\n",
       "    <tr>\n",
       "      <th>39</th>\n",
       "      <td>0.0</td>\n",
       "      <td>0.0</td>\n",
       "      <td>0.0</td>\n",
       "      <td>0.0</td>\n",
       "      <td>0.0</td>\n",
       "      <td>0.0</td>\n",
       "      <td>1.0</td>\n",
       "      <td>0.0</td>\n",
       "      <td>0.0</td>\n",
       "      <td>0.0</td>\n",
       "      <td>...</td>\n",
       "      <td>0.0</td>\n",
       "      <td>0.0</td>\n",
       "      <td>0.0</td>\n",
       "      <td>0.0</td>\n",
       "      <td>0.0</td>\n",
       "      <td>0.0</td>\n",
       "      <td>0.0</td>\n",
       "      <td>0.0</td>\n",
       "      <td>0.0</td>\n",
       "      <td>&lt;=50K</td>\n",
       "    </tr>\n",
       "    <tr>\n",
       "      <th>50</th>\n",
       "      <td>0.0</td>\n",
       "      <td>0.0</td>\n",
       "      <td>1.0</td>\n",
       "      <td>0.0</td>\n",
       "      <td>0.0</td>\n",
       "      <td>0.0</td>\n",
       "      <td>0.0</td>\n",
       "      <td>0.0</td>\n",
       "      <td>0.0</td>\n",
       "      <td>0.0</td>\n",
       "      <td>...</td>\n",
       "      <td>0.0</td>\n",
       "      <td>0.0</td>\n",
       "      <td>0.0</td>\n",
       "      <td>0.0</td>\n",
       "      <td>0.0</td>\n",
       "      <td>0.0</td>\n",
       "      <td>0.0</td>\n",
       "      <td>1.0</td>\n",
       "      <td>0.0</td>\n",
       "      <td>&lt;=50K</td>\n",
       "    </tr>\n",
       "    <tr>\n",
       "      <th>38</th>\n",
       "      <td>0.0</td>\n",
       "      <td>0.0</td>\n",
       "      <td>0.0</td>\n",
       "      <td>0.0</td>\n",
       "      <td>0.0</td>\n",
       "      <td>0.0</td>\n",
       "      <td>0.0</td>\n",
       "      <td>0.0</td>\n",
       "      <td>0.0</td>\n",
       "      <td>0.0</td>\n",
       "      <td>...</td>\n",
       "      <td>0.0</td>\n",
       "      <td>0.0</td>\n",
       "      <td>0.0</td>\n",
       "      <td>0.0</td>\n",
       "      <td>0.0</td>\n",
       "      <td>1.0</td>\n",
       "      <td>0.0</td>\n",
       "      <td>0.0</td>\n",
       "      <td>0.0</td>\n",
       "      <td>&lt;=50K</td>\n",
       "    </tr>\n",
       "    <tr>\n",
       "      <th>53</th>\n",
       "      <td>0.0</td>\n",
       "      <td>0.0</td>\n",
       "      <td>0.0</td>\n",
       "      <td>0.0</td>\n",
       "      <td>0.0</td>\n",
       "      <td>0.0</td>\n",
       "      <td>0.0</td>\n",
       "      <td>0.0</td>\n",
       "      <td>0.0</td>\n",
       "      <td>0.0</td>\n",
       "      <td>...</td>\n",
       "      <td>0.0</td>\n",
       "      <td>0.0</td>\n",
       "      <td>0.0</td>\n",
       "      <td>0.0</td>\n",
       "      <td>0.0</td>\n",
       "      <td>1.0</td>\n",
       "      <td>0.0</td>\n",
       "      <td>0.0</td>\n",
       "      <td>0.0</td>\n",
       "      <td>&lt;=50K</td>\n",
       "    </tr>\n",
       "    <tr>\n",
       "      <th>28</th>\n",
       "      <td>1.0</td>\n",
       "      <td>0.0</td>\n",
       "      <td>0.0</td>\n",
       "      <td>0.0</td>\n",
       "      <td>0.0</td>\n",
       "      <td>0.0</td>\n",
       "      <td>0.0</td>\n",
       "      <td>1.0</td>\n",
       "      <td>0.0</td>\n",
       "      <td>0.0</td>\n",
       "      <td>...</td>\n",
       "      <td>1.0</td>\n",
       "      <td>0.0</td>\n",
       "      <td>0.0</td>\n",
       "      <td>0.0</td>\n",
       "      <td>0.0</td>\n",
       "      <td>1.0</td>\n",
       "      <td>0.0</td>\n",
       "      <td>0.0</td>\n",
       "      <td>0.0</td>\n",
       "      <td>&lt;=50K</td>\n",
       "    </tr>\n",
       "  </tbody>\n",
       "</table>\n",
       "<p>5 rows × 67 columns</p>\n",
       "</div>"
      ],
      "text/plain": [
       "    native-country_Other (vs  United-States)  \\\n",
       "39                                       0.0   \n",
       "50                                       0.0   \n",
       "38                                       0.0   \n",
       "53                                       0.0   \n",
       "28                                       1.0   \n",
       "\n",
       "    hours-per-week_(-inf, 39.50) (vs [39.50, 43.50))  \\\n",
       "39                                               0.0   \n",
       "50                                               0.0   \n",
       "38                                               0.0   \n",
       "53                                               0.0   \n",
       "28                                               0.0   \n",
       "\n",
       "    hours-per-week_Special (vs [39.50, 43.50))  \\\n",
       "39                                         0.0   \n",
       "50                                         1.0   \n",
       "38                                         0.0   \n",
       "53                                         0.0   \n",
       "28                                         0.0   \n",
       "\n",
       "    hours-per-week_[43.50, 49.50) (vs [39.50, 43.50))  \\\n",
       "39                                                0.0   \n",
       "50                                                0.0   \n",
       "38                                                0.0   \n",
       "53                                                0.0   \n",
       "28                                                0.0   \n",
       "\n",
       "    hours-per-week_[49.50, inf) (vs [39.50, 43.50))  \\\n",
       "39                                              0.0   \n",
       "50                                              0.0   \n",
       "38                                              0.0   \n",
       "53                                              0.0   \n",
       "28                                              0.0   \n",
       "\n",
       "    capital-loss_Special (vs 0.0)  capital-gain_Special (vs 0.0)  \\\n",
       "39                            0.0                            1.0   \n",
       "50                            0.0                            0.0   \n",
       "38                            0.0                            0.0   \n",
       "53                            0.0                            0.0   \n",
       "28                            0.0                            0.0   \n",
       "\n",
       "    sex_ Female (vs  Male)  race_ Amer-Indian-Eskimo (vs  White)  \\\n",
       "39                     0.0                                   0.0   \n",
       "50                     0.0                                   0.0   \n",
       "38                     0.0                                   0.0   \n",
       "53                     0.0                                   0.0   \n",
       "28                     1.0                                   0.0   \n",
       "\n",
       "    race_ Asian-Pac-Islander (vs  White)  ...  \\\n",
       "39                                   0.0  ...   \n",
       "50                                   0.0  ...   \n",
       "38                                   0.0  ...   \n",
       "53                                   0.0  ...   \n",
       "28                                   0.0  ...   \n",
       "\n",
       "    fnlwgt_[318978.50, inf) (vs (-inf, 209923.00))  \\\n",
       "39                                             0.0   \n",
       "50                                             0.0   \n",
       "38                                             0.0   \n",
       "53                                             0.0   \n",
       "28                                             1.0   \n",
       "\n",
       "    workclass_ ? (vs  State-gov)  workclass_ Federal-gov (vs  State-gov)  \\\n",
       "39                           0.0                                     0.0   \n",
       "50                           0.0                                     0.0   \n",
       "38                           0.0                                     0.0   \n",
       "53                           0.0                                     0.0   \n",
       "28                           0.0                                     0.0   \n",
       "\n",
       "    workclass_ Local-gov (vs  State-gov)  \\\n",
       "39                                   0.0   \n",
       "50                                   0.0   \n",
       "38                                   0.0   \n",
       "53                                   0.0   \n",
       "28                                   0.0   \n",
       "\n",
       "    workclass_ Never-worked (vs  State-gov)  \\\n",
       "39                                      0.0   \n",
       "50                                      0.0   \n",
       "38                                      0.0   \n",
       "53                                      0.0   \n",
       "28                                      0.0   \n",
       "\n",
       "    workclass_ Private (vs  State-gov)  \\\n",
       "39                                 0.0   \n",
       "50                                 0.0   \n",
       "38                                 1.0   \n",
       "53                                 1.0   \n",
       "28                                 1.0   \n",
       "\n",
       "    workclass_ Self-emp-inc (vs  State-gov)  \\\n",
       "39                                      0.0   \n",
       "50                                      0.0   \n",
       "38                                      0.0   \n",
       "53                                      0.0   \n",
       "28                                      0.0   \n",
       "\n",
       "    workclass_ Self-emp-not-inc (vs  State-gov)  \\\n",
       "39                                          0.0   \n",
       "50                                          1.0   \n",
       "38                                          0.0   \n",
       "53                                          0.0   \n",
       "28                                          0.0   \n",
       "\n",
       "    workclass_ Without-pay (vs  State-gov)  income  \n",
       "39                                     0.0   <=50K  \n",
       "50                                     0.0   <=50K  \n",
       "38                                     0.0   <=50K  \n",
       "53                                     0.0   <=50K  \n",
       "28                                     0.0   <=50K  \n",
       "\n",
       "[5 rows x 67 columns]"
      ]
     },
     "execution_count": 93,
     "metadata": {},
     "output_type": "execute_result"
    }
   ],
   "source": [
    "# Converting features to string\n",
    "adult_data_binned[features] = adult_data_binned[features].astype(str)\n",
    "# Dictionary for reference categories\n",
    "column_dict = {\n",
    "    \"education-num\": \"(-inf, 8.50)\",\n",
    "    \"capital-gain\": \"0.0\",\n",
    "    \"education\": \" HS-grad\",\n",
    "    \n",
    "  \n",
    "    \n",
    "}\n",
    "# Initializing the DataPreparerForLogisticRegression\n",
    "data_preparer = logisticregressionpreparer(\n",
    "    columns=[col for col in features], column_dict=column_dict\n",
    ")\n",
    "# Applying the data preparation steps\n",
    "prepared_df = data_preparer.fit_transform(adult_data_binned)\n",
    "#Overview of prepared DataFrame\n",
    "prepared_df.head()"
   ]
  },
  {
   "cell_type": "code",
   "execution_count": 94,
   "metadata": {},
   "outputs": [],
   "source": [
    "import dataframe_image as dfi\n",
    "\n",
    "# Vous pouvez augmenter la résolution (dpi) pour une image plus grande\n",
    "dfi.export(\n",
    "prepared_df.head(), 'prepared_df.png', dpi=400,fontsize=40,max_cols=7)"
   ]
  },
  {
   "cell_type": "code",
   "execution_count": 95,
   "metadata": {},
   "outputs": [],
   "source": [
    "from scorescanner.feature_selection import variableselector "
   ]
  },
  {
   "cell_type": "code",
   "execution_count": 124,
   "metadata": {},
   "outputs": [
    {
     "name": "stdout",
     "output_type": "stream",
     "text": [
      "Selected Variables: ['marital-status_ Married-civ-spouse (vs  Never-married)', 'education-num_[13.50, inf) (vs (-inf, 8.50))', 'capital-gain_Special (vs 0.0)', 'relationship_ Own-child (vs  Not-in-family)', 'sex_ Female (vs  Male)', 'occupation_ Exec-managerial (vs  Adm-clerical)', 'education-num_[12.50, 13.50) (vs (-inf, 8.50))', 'occupation_ Other-service (vs  Adm-clerical)', 'hours-per-week_[49.50, inf) (vs [39.50, 43.50))', 'workclass_ Self-emp-inc (vs  State-gov)', 'capital-loss_Special (vs 0.0)', 'education-num_[8.50, 9.50) (vs (-inf, 8.50))', 'race_ Black (vs  White)', 'occupation_ Handlers-cleaners (vs  Adm-clerical)', 'education-num_Special (vs (-inf, 8.50))', 'education_ 11th (vs  HS-grad)', 'relationship_ Other-relative (vs  Not-in-family)', 'hours-per-week_[43.50, 49.50) (vs [39.50, 43.50))', 'occupation_ ? (vs  Adm-clerical)', 'workclass_ Private (vs  State-gov)', 'marital-status_ Separated (vs  Never-married)', 'education_ 10th (vs  HS-grad)', 'occupation_ Machine-op-inspct (vs  Adm-clerical)', 'marital-status_ Widowed (vs  Never-married)', 'education-num_[9.50, 10.50) (vs (-inf, 8.50))', 'workclass_ Federal-gov (vs  State-gov)', 'education_ 9th (vs  HS-grad)', 'hours-per-week_Special (vs [39.50, 43.50))', 'hours-per-week_(-inf, 39.50) (vs [39.50, 43.50))', 'education_ 12th (vs  HS-grad)', 'marital-status_ Married-spouse-absent (vs  Never-married)', 'workclass_ Local-gov (vs  State-gov)', 'race_ Other (vs  White)', 'workclass_ Self-emp-not-inc (vs  State-gov)', 'race_ Amer-Indian-Eskimo (vs  White)', 'fnlwgt_[242536.50, 267851.00) (vs (-inf, 209923.00))', 'occupation_ Sales (vs  Adm-clerical)', 'occupation_ Transport-moving (vs  Adm-clerical)', 'fnlwgt_[267851.00, 318978.50) (vs (-inf, 209923.00))', 'fnlwgt_[209923.00, 242536.50) (vs (-inf, 209923.00))', 'occupation_ Craft-repair (vs  Adm-clerical)', 'fnlwgt_Special (vs (-inf, 209923.00))', 'occupation_Other (vs  Adm-clerical)', 'fnlwgt_[318978.50, inf) (vs (-inf, 209923.00))', 'workclass_ Without-pay (vs  State-gov)', 'race_ Asian-Pac-Islander (vs  White)', 'education_ Assoc-voc (vs  HS-grad)', 'workclass_ Never-worked (vs  State-gov)', 'education_ Assoc-acdm (vs  HS-grad)']\n"
     ]
    },
    {
     "data": {
      "text/html": [
       "<div>\n",
       "<style scoped>\n",
       "    .dataframe tbody tr th:only-of-type {\n",
       "        vertical-align: middle;\n",
       "    }\n",
       "\n",
       "    .dataframe tbody tr th {\n",
       "        vertical-align: top;\n",
       "    }\n",
       "\n",
       "    .dataframe thead th {\n",
       "        text-align: right;\n",
       "    }\n",
       "</style>\n",
       "<table border=\"1\" class=\"dataframe\">\n",
       "  <thead>\n",
       "    <tr style=\"text-align: right;\">\n",
       "      <th></th>\n",
       "      <th>marital-status_ Married-civ-spouse (vs  Never-married)</th>\n",
       "      <th>education-num_[13.50, inf) (vs (-inf, 8.50))</th>\n",
       "      <th>capital-gain_Special (vs 0.0)</th>\n",
       "      <th>relationship_ Own-child (vs  Not-in-family)</th>\n",
       "      <th>sex_ Female (vs  Male)</th>\n",
       "      <th>occupation_ Exec-managerial (vs  Adm-clerical)</th>\n",
       "      <th>education-num_[12.50, 13.50) (vs (-inf, 8.50))</th>\n",
       "      <th>occupation_ Other-service (vs  Adm-clerical)</th>\n",
       "      <th>hours-per-week_[49.50, inf) (vs [39.50, 43.50))</th>\n",
       "      <th>workclass_ Self-emp-inc (vs  State-gov)</th>\n",
       "      <th>...</th>\n",
       "      <th>fnlwgt_[209923.00, 242536.50) (vs (-inf, 209923.00))</th>\n",
       "      <th>occupation_ Craft-repair (vs  Adm-clerical)</th>\n",
       "      <th>fnlwgt_Special (vs (-inf, 209923.00))</th>\n",
       "      <th>occupation_Other (vs  Adm-clerical)</th>\n",
       "      <th>fnlwgt_[318978.50, inf) (vs (-inf, 209923.00))</th>\n",
       "      <th>workclass_ Without-pay (vs  State-gov)</th>\n",
       "      <th>race_ Asian-Pac-Islander (vs  White)</th>\n",
       "      <th>education_ Assoc-voc (vs  HS-grad)</th>\n",
       "      <th>workclass_ Never-worked (vs  State-gov)</th>\n",
       "      <th>education_ Assoc-acdm (vs  HS-grad)</th>\n",
       "    </tr>\n",
       "  </thead>\n",
       "  <tbody>\n",
       "    <tr>\n",
       "      <th>39</th>\n",
       "      <td>0.0</td>\n",
       "      <td>0.0</td>\n",
       "      <td>1.0</td>\n",
       "      <td>0.0</td>\n",
       "      <td>0.0</td>\n",
       "      <td>0.0</td>\n",
       "      <td>1.0</td>\n",
       "      <td>0.0</td>\n",
       "      <td>0.0</td>\n",
       "      <td>0.0</td>\n",
       "      <td>...</td>\n",
       "      <td>0.0</td>\n",
       "      <td>0.0</td>\n",
       "      <td>0.0</td>\n",
       "      <td>0.0</td>\n",
       "      <td>0.0</td>\n",
       "      <td>0.0</td>\n",
       "      <td>0.0</td>\n",
       "      <td>0.0</td>\n",
       "      <td>0.0</td>\n",
       "      <td>0.0</td>\n",
       "    </tr>\n",
       "    <tr>\n",
       "      <th>50</th>\n",
       "      <td>1.0</td>\n",
       "      <td>0.0</td>\n",
       "      <td>0.0</td>\n",
       "      <td>0.0</td>\n",
       "      <td>0.0</td>\n",
       "      <td>1.0</td>\n",
       "      <td>1.0</td>\n",
       "      <td>0.0</td>\n",
       "      <td>0.0</td>\n",
       "      <td>0.0</td>\n",
       "      <td>...</td>\n",
       "      <td>0.0</td>\n",
       "      <td>0.0</td>\n",
       "      <td>0.0</td>\n",
       "      <td>0.0</td>\n",
       "      <td>0.0</td>\n",
       "      <td>0.0</td>\n",
       "      <td>0.0</td>\n",
       "      <td>0.0</td>\n",
       "      <td>0.0</td>\n",
       "      <td>0.0</td>\n",
       "    </tr>\n",
       "    <tr>\n",
       "      <th>38</th>\n",
       "      <td>0.0</td>\n",
       "      <td>0.0</td>\n",
       "      <td>0.0</td>\n",
       "      <td>0.0</td>\n",
       "      <td>0.0</td>\n",
       "      <td>0.0</td>\n",
       "      <td>0.0</td>\n",
       "      <td>0.0</td>\n",
       "      <td>0.0</td>\n",
       "      <td>0.0</td>\n",
       "      <td>...</td>\n",
       "      <td>1.0</td>\n",
       "      <td>0.0</td>\n",
       "      <td>0.0</td>\n",
       "      <td>0.0</td>\n",
       "      <td>0.0</td>\n",
       "      <td>0.0</td>\n",
       "      <td>0.0</td>\n",
       "      <td>0.0</td>\n",
       "      <td>0.0</td>\n",
       "      <td>0.0</td>\n",
       "    </tr>\n",
       "    <tr>\n",
       "      <th>53</th>\n",
       "      <td>1.0</td>\n",
       "      <td>0.0</td>\n",
       "      <td>0.0</td>\n",
       "      <td>0.0</td>\n",
       "      <td>0.0</td>\n",
       "      <td>0.0</td>\n",
       "      <td>0.0</td>\n",
       "      <td>0.0</td>\n",
       "      <td>0.0</td>\n",
       "      <td>0.0</td>\n",
       "      <td>...</td>\n",
       "      <td>1.0</td>\n",
       "      <td>0.0</td>\n",
       "      <td>0.0</td>\n",
       "      <td>0.0</td>\n",
       "      <td>0.0</td>\n",
       "      <td>0.0</td>\n",
       "      <td>0.0</td>\n",
       "      <td>0.0</td>\n",
       "      <td>0.0</td>\n",
       "      <td>0.0</td>\n",
       "    </tr>\n",
       "    <tr>\n",
       "      <th>28</th>\n",
       "      <td>1.0</td>\n",
       "      <td>0.0</td>\n",
       "      <td>0.0</td>\n",
       "      <td>0.0</td>\n",
       "      <td>1.0</td>\n",
       "      <td>0.0</td>\n",
       "      <td>1.0</td>\n",
       "      <td>0.0</td>\n",
       "      <td>0.0</td>\n",
       "      <td>0.0</td>\n",
       "      <td>...</td>\n",
       "      <td>0.0</td>\n",
       "      <td>0.0</td>\n",
       "      <td>0.0</td>\n",
       "      <td>0.0</td>\n",
       "      <td>1.0</td>\n",
       "      <td>0.0</td>\n",
       "      <td>0.0</td>\n",
       "      <td>0.0</td>\n",
       "      <td>0.0</td>\n",
       "      <td>0.0</td>\n",
       "    </tr>\n",
       "  </tbody>\n",
       "</table>\n",
       "<p>5 rows × 49 columns</p>\n",
       "</div>"
      ],
      "text/plain": [
       "    marital-status_ Married-civ-spouse (vs  Never-married)  \\\n",
       "39                                                0.0        \n",
       "50                                                1.0        \n",
       "38                                                0.0        \n",
       "53                                                1.0        \n",
       "28                                                1.0        \n",
       "\n",
       "    education-num_[13.50, inf) (vs (-inf, 8.50))  \\\n",
       "39                                           0.0   \n",
       "50                                           0.0   \n",
       "38                                           0.0   \n",
       "53                                           0.0   \n",
       "28                                           0.0   \n",
       "\n",
       "    capital-gain_Special (vs 0.0)  \\\n",
       "39                            1.0   \n",
       "50                            0.0   \n",
       "38                            0.0   \n",
       "53                            0.0   \n",
       "28                            0.0   \n",
       "\n",
       "    relationship_ Own-child (vs  Not-in-family)  sex_ Female (vs  Male)  \\\n",
       "39                                          0.0                     0.0   \n",
       "50                                          0.0                     0.0   \n",
       "38                                          0.0                     0.0   \n",
       "53                                          0.0                     0.0   \n",
       "28                                          0.0                     1.0   \n",
       "\n",
       "    occupation_ Exec-managerial (vs  Adm-clerical)  \\\n",
       "39                                             0.0   \n",
       "50                                             1.0   \n",
       "38                                             0.0   \n",
       "53                                             0.0   \n",
       "28                                             0.0   \n",
       "\n",
       "    education-num_[12.50, 13.50) (vs (-inf, 8.50))  \\\n",
       "39                                             1.0   \n",
       "50                                             1.0   \n",
       "38                                             0.0   \n",
       "53                                             0.0   \n",
       "28                                             1.0   \n",
       "\n",
       "    occupation_ Other-service (vs  Adm-clerical)  \\\n",
       "39                                           0.0   \n",
       "50                                           0.0   \n",
       "38                                           0.0   \n",
       "53                                           0.0   \n",
       "28                                           0.0   \n",
       "\n",
       "    hours-per-week_[49.50, inf) (vs [39.50, 43.50))  \\\n",
       "39                                              0.0   \n",
       "50                                              0.0   \n",
       "38                                              0.0   \n",
       "53                                              0.0   \n",
       "28                                              0.0   \n",
       "\n",
       "    workclass_ Self-emp-inc (vs  State-gov)  ...  \\\n",
       "39                                      0.0  ...   \n",
       "50                                      0.0  ...   \n",
       "38                                      0.0  ...   \n",
       "53                                      0.0  ...   \n",
       "28                                      0.0  ...   \n",
       "\n",
       "    fnlwgt_[209923.00, 242536.50) (vs (-inf, 209923.00))  \\\n",
       "39                                                0.0      \n",
       "50                                                0.0      \n",
       "38                                                1.0      \n",
       "53                                                1.0      \n",
       "28                                                0.0      \n",
       "\n",
       "    occupation_ Craft-repair (vs  Adm-clerical)  \\\n",
       "39                                          0.0   \n",
       "50                                          0.0   \n",
       "38                                          0.0   \n",
       "53                                          0.0   \n",
       "28                                          0.0   \n",
       "\n",
       "    fnlwgt_Special (vs (-inf, 209923.00))  \\\n",
       "39                                    0.0   \n",
       "50                                    0.0   \n",
       "38                                    0.0   \n",
       "53                                    0.0   \n",
       "28                                    0.0   \n",
       "\n",
       "    occupation_Other (vs  Adm-clerical)  \\\n",
       "39                                  0.0   \n",
       "50                                  0.0   \n",
       "38                                  0.0   \n",
       "53                                  0.0   \n",
       "28                                  0.0   \n",
       "\n",
       "    fnlwgt_[318978.50, inf) (vs (-inf, 209923.00))  \\\n",
       "39                                             0.0   \n",
       "50                                             0.0   \n",
       "38                                             0.0   \n",
       "53                                             0.0   \n",
       "28                                             1.0   \n",
       "\n",
       "    workclass_ Without-pay (vs  State-gov)  \\\n",
       "39                                     0.0   \n",
       "50                                     0.0   \n",
       "38                                     0.0   \n",
       "53                                     0.0   \n",
       "28                                     0.0   \n",
       "\n",
       "    race_ Asian-Pac-Islander (vs  White)  education_ Assoc-voc (vs  HS-grad)  \\\n",
       "39                                   0.0                                 0.0   \n",
       "50                                   0.0                                 0.0   \n",
       "38                                   0.0                                 0.0   \n",
       "53                                   0.0                                 0.0   \n",
       "28                                   0.0                                 0.0   \n",
       "\n",
       "    workclass_ Never-worked (vs  State-gov)  \\\n",
       "39                                      0.0   \n",
       "50                                      0.0   \n",
       "38                                      0.0   \n",
       "53                                      0.0   \n",
       "28                                      0.0   \n",
       "\n",
       "    education_ Assoc-acdm (vs  HS-grad)  \n",
       "39                                  0.0  \n",
       "50                                  0.0  \n",
       "38                                  0.0  \n",
       "53                                  0.0  \n",
       "28                                  0.0  \n",
       "\n",
       "[5 rows x 49 columns]"
      ]
     },
     "execution_count": 124,
     "metadata": {},
     "output_type": "execute_result"
    }
   ],
   "source": [
    "# Initializing variableselector class\n",
    "selector_pearson = variableselector(\n",
    "    target=\"income\", corr_threshold=0.2, metric=\"pearson\", use_vif=False\n",
    ")\n",
    "\n",
    "# Fitting variableselector to data\n",
    "selector_pearson.fit(prepared_df)\n",
    "\n",
    "# Selected variables\n",
    "print(\"Selected Variables:\", selector_pearson.selected_variables)\n",
    "\n",
    "# Filtering data to selected variables\n",
    "selected_features_df = selector_pearson.transform(prepared_df)\n",
    "\n",
    "selected_features_df.head()"
   ]
  },
  {
   "cell_type": "code",
   "execution_count": 125,
   "metadata": {},
   "outputs": [
    {
     "name": "stdout",
     "output_type": "stream",
     "text": [
      "{\n",
      "   \"marital-status_ Married-civ-spouse (vs  Never-married)\": [\n",
      "      \"relationship_ Husband (vs  Not-in-family)\"\n",
      "   ],\n",
      "   \"education-num_[13.50, inf) (vs (-inf, 8.50))\": [\n",
      "      \"occupation_ Prof-specialty (vs  Adm-clerical)\",\n",
      "      \"education_ Masters (vs  HS-grad)\",\n",
      "      \"education_ Prof-school (vs  HS-grad)\",\n",
      "      \"education_ Doctorate (vs  HS-grad)\"\n",
      "   ],\n",
      "   \"capital-gain_Special (vs 0.0)\": [],\n",
      "   \"relationship_ Own-child (vs  Not-in-family)\": [],\n",
      "   \"sex_ Female (vs  Male)\": [\n",
      "      \"relationship_ Unmarried (vs  Not-in-family)\",\n",
      "      \"marital-status_ Divorced (vs  Never-married)\",\n",
      "      \"relationship_ Wife (vs  Not-in-family)\"\n",
      "   ],\n",
      "   \"occupation_ Exec-managerial (vs  Adm-clerical)\": [],\n",
      "   \"education-num_[12.50, 13.50) (vs (-inf, 8.50))\": [\n",
      "      \"education_ Bachelors (vs  HS-grad)\"\n",
      "   ],\n",
      "   \"occupation_ Other-service (vs  Adm-clerical)\": [],\n",
      "   \"hours-per-week_[49.50, inf) (vs [39.50, 43.50))\": [],\n",
      "   \"workclass_ Self-emp-inc (vs  State-gov)\": [],\n",
      "   \"capital-loss_Special (vs 0.0)\": [],\n",
      "   \"education-num_[8.50, 9.50) (vs (-inf, 8.50))\": [],\n",
      "   \"race_ Black (vs  White)\": [],\n",
      "   \"occupation_ Handlers-cleaners (vs  Adm-clerical)\": [],\n",
      "   \"education-num_Special (vs (-inf, 8.50))\": [\n",
      "      \"education_ 7th-8th (vs  HS-grad)\",\n",
      "      \"education_ 5th-6th (vs  HS-grad)\",\n",
      "      \"education_ 1st-4th (vs  HS-grad)\",\n",
      "      \"native-country_Other (vs  United-States)\",\n",
      "      \"education_ Preschool (vs  HS-grad)\"\n",
      "   ],\n",
      "   \"education_ 11th (vs  HS-grad)\": [],\n",
      "   \"relationship_ Other-relative (vs  Not-in-family)\": [],\n",
      "   \"hours-per-week_[43.50, 49.50) (vs [39.50, 43.50))\": [],\n",
      "   \"occupation_ ? (vs  Adm-clerical)\": [\n",
      "      \"workclass_ ? (vs  State-gov)\"\n",
      "   ],\n",
      "   \"workclass_ Private (vs  State-gov)\": [],\n",
      "   \"marital-status_ Separated (vs  Never-married)\": [],\n",
      "   \"education_ 10th (vs  HS-grad)\": [],\n",
      "   \"occupation_ Machine-op-inspct (vs  Adm-clerical)\": [],\n",
      "   \"marital-status_ Widowed (vs  Never-married)\": [],\n",
      "   \"education-num_[9.50, 10.50) (vs (-inf, 8.50))\": [\n",
      "      \"education_ Some-college (vs  HS-grad)\"\n",
      "   ],\n",
      "   \"workclass_ Federal-gov (vs  State-gov)\": [],\n",
      "   \"education_ 9th (vs  HS-grad)\": [],\n",
      "   \"hours-per-week_Special (vs [39.50, 43.50))\": [],\n",
      "   \"hours-per-week_(-inf, 39.50) (vs [39.50, 43.50))\": [],\n",
      "   \"education_ 12th (vs  HS-grad)\": [],\n",
      "   \"marital-status_ Married-spouse-absent (vs  Never-married)\": [],\n",
      "   \"workclass_ Local-gov (vs  State-gov)\": [],\n",
      "   \"race_ Other (vs  White)\": [],\n",
      "   \"workclass_ Self-emp-not-inc (vs  State-gov)\": [],\n",
      "   \"race_ Amer-Indian-Eskimo (vs  White)\": [],\n",
      "   \"fnlwgt_[242536.50, 267851.00) (vs (-inf, 209923.00))\": [],\n",
      "   \"occupation_ Sales (vs  Adm-clerical)\": [],\n",
      "   \"occupation_ Transport-moving (vs  Adm-clerical)\": [],\n",
      "   \"fnlwgt_[267851.00, 318978.50) (vs (-inf, 209923.00))\": [],\n",
      "   \"fnlwgt_[209923.00, 242536.50) (vs (-inf, 209923.00))\": [],\n",
      "   \"occupation_ Craft-repair (vs  Adm-clerical)\": [],\n",
      "   \"fnlwgt_Special (vs (-inf, 209923.00))\": [],\n",
      "   \"occupation_Other (vs  Adm-clerical)\": [],\n",
      "   \"fnlwgt_[318978.50, inf) (vs (-inf, 209923.00))\": [],\n",
      "   \"workclass_ Without-pay (vs  State-gov)\": [],\n",
      "   \"race_ Asian-Pac-Islander (vs  White)\": [],\n",
      "   \"education_ Assoc-voc (vs  HS-grad)\": [\n",
      "      \"education-num_[10.50, 12.50) (vs (-inf, 8.50))\"\n",
      "   ],\n",
      "   \"workclass_ Never-worked (vs  State-gov)\": [],\n",
      "   \"education_ Assoc-acdm (vs  HS-grad)\": []\n",
      "}\n"
     ]
    }
   ],
   "source": [
    "import json\n",
    "with open(\"eliminated_variables_info.json\", 'r') as file:\n",
    "    data = json.load(file)\n",
    "print(json.dumps(data, indent=3))"
   ]
  },
  {
   "cell_type": "code",
   "execution_count": 126,
   "metadata": {},
   "outputs": [],
   "source": [
    "import json\n",
    "from PIL import Image, ImageDraw, ImageFont\n",
    "\n",
    "# Charger le JSON depuis un fichier\n",
    "with open(\"eliminated_variables_info.json\", 'r') as file:\n",
    "    data = json.load(file)\n",
    "\n",
    "# Convertir le JSON en une chaîne de caractères formatée\n",
    "json_text = json.dumps(data, indent=2)\n",
    "\n",
    "# Créer une image de base avec un fond blanc\n",
    "img = Image.new('RGB', (800, 600), color = (255, 255, 255))\n",
    "\n",
    "# Initialiser l'objet ImageDraw pour dessiner sur l'image\n",
    "d = ImageDraw.Draw(img)\n",
    "\n",
    "# Définir la police et la taille du texte (ajuster le chemin vers une police .ttf si nécessaire)\n",
    "try:\n",
    "    font = ImageFont.truetype(\"arial.ttf\", 15)\n",
    "except IOError:\n",
    "    font = ImageFont.load_default()\n",
    "\n",
    "# Dessiner le texte sur l'image (ajuster la position et la largeur du texte selon les besoins)\n",
    "d.text((10,10), json_text, fill=(0,0,0), font=font)\n",
    "\n",
    "# Sauvegarder l'image\n",
    "img.save('json_file.png')\n"
   ]
  },
  {
   "cell_type": "code",
   "execution_count": 127,
   "metadata": {},
   "outputs": [],
   "source": [
    "from sklearn.model_selection import train_test_split\n",
    "\n",
    "X_train, X_test, y_train, y_test = train_test_split(\n",
    "    prepared_df[selector_pearson.selected_variables],\n",
    "    prepared_df[\"income\"],\n",
    "    test_size=0.1,\n",
    "    random_state=42,\n",
    "    stratify=prepared_df[\"income\"],\n",
    ")"
   ]
  },
  {
   "cell_type": "code",
   "execution_count": 128,
   "metadata": {},
   "outputs": [
    {
     "data": {
      "text/html": [
       "<style>#sk-container-id-12 {\n",
       "  /* Definition of color scheme common for light and dark mode */\n",
       "  --sklearn-color-text: black;\n",
       "  --sklearn-color-line: gray;\n",
       "  /* Definition of color scheme for unfitted estimators */\n",
       "  --sklearn-color-unfitted-level-0: #fff5e6;\n",
       "  --sklearn-color-unfitted-level-1: #f6e4d2;\n",
       "  --sklearn-color-unfitted-level-2: #ffe0b3;\n",
       "  --sklearn-color-unfitted-level-3: chocolate;\n",
       "  /* Definition of color scheme for fitted estimators */\n",
       "  --sklearn-color-fitted-level-0: #f0f8ff;\n",
       "  --sklearn-color-fitted-level-1: #d4ebff;\n",
       "  --sklearn-color-fitted-level-2: #b3dbfd;\n",
       "  --sklearn-color-fitted-level-3: cornflowerblue;\n",
       "\n",
       "  /* Specific color for light theme */\n",
       "  --sklearn-color-text-on-default-background: var(--sg-text-color, var(--theme-code-foreground, var(--jp-content-font-color1, black)));\n",
       "  --sklearn-color-background: var(--sg-background-color, var(--theme-background, var(--jp-layout-color0, white)));\n",
       "  --sklearn-color-border-box: var(--sg-text-color, var(--theme-code-foreground, var(--jp-content-font-color1, black)));\n",
       "  --sklearn-color-icon: #696969;\n",
       "\n",
       "  @media (prefers-color-scheme: dark) {\n",
       "    /* Redefinition of color scheme for dark theme */\n",
       "    --sklearn-color-text-on-default-background: var(--sg-text-color, var(--theme-code-foreground, var(--jp-content-font-color1, white)));\n",
       "    --sklearn-color-background: var(--sg-background-color, var(--theme-background, var(--jp-layout-color0, #111)));\n",
       "    --sklearn-color-border-box: var(--sg-text-color, var(--theme-code-foreground, var(--jp-content-font-color1, white)));\n",
       "    --sklearn-color-icon: #878787;\n",
       "  }\n",
       "}\n",
       "\n",
       "#sk-container-id-12 {\n",
       "  color: var(--sklearn-color-text);\n",
       "}\n",
       "\n",
       "#sk-container-id-12 pre {\n",
       "  padding: 0;\n",
       "}\n",
       "\n",
       "#sk-container-id-12 input.sk-hidden--visually {\n",
       "  border: 0;\n",
       "  clip: rect(1px 1px 1px 1px);\n",
       "  clip: rect(1px, 1px, 1px, 1px);\n",
       "  height: 1px;\n",
       "  margin: -1px;\n",
       "  overflow: hidden;\n",
       "  padding: 0;\n",
       "  position: absolute;\n",
       "  width: 1px;\n",
       "}\n",
       "\n",
       "#sk-container-id-12 div.sk-dashed-wrapped {\n",
       "  border: 1px dashed var(--sklearn-color-line);\n",
       "  margin: 0 0.4em 0.5em 0.4em;\n",
       "  box-sizing: border-box;\n",
       "  padding-bottom: 0.4em;\n",
       "  background-color: var(--sklearn-color-background);\n",
       "}\n",
       "\n",
       "#sk-container-id-12 div.sk-container {\n",
       "  /* jupyter's `normalize.less` sets `[hidden] { display: none; }`\n",
       "     but bootstrap.min.css set `[hidden] { display: none !important; }`\n",
       "     so we also need the `!important` here to be able to override the\n",
       "     default hidden behavior on the sphinx rendered scikit-learn.org.\n",
       "     See: https://github.com/scikit-learn/scikit-learn/issues/21755 */\n",
       "  display: inline-block !important;\n",
       "  position: relative;\n",
       "}\n",
       "\n",
       "#sk-container-id-12 div.sk-text-repr-fallback {\n",
       "  display: none;\n",
       "}\n",
       "\n",
       "div.sk-parallel-item,\n",
       "div.sk-serial,\n",
       "div.sk-item {\n",
       "  /* draw centered vertical line to link estimators */\n",
       "  background-image: linear-gradient(var(--sklearn-color-text-on-default-background), var(--sklearn-color-text-on-default-background));\n",
       "  background-size: 2px 100%;\n",
       "  background-repeat: no-repeat;\n",
       "  background-position: center center;\n",
       "}\n",
       "\n",
       "/* Parallel-specific style estimator block */\n",
       "\n",
       "#sk-container-id-12 div.sk-parallel-item::after {\n",
       "  content: \"\";\n",
       "  width: 100%;\n",
       "  border-bottom: 2px solid var(--sklearn-color-text-on-default-background);\n",
       "  flex-grow: 1;\n",
       "}\n",
       "\n",
       "#sk-container-id-12 div.sk-parallel {\n",
       "  display: flex;\n",
       "  align-items: stretch;\n",
       "  justify-content: center;\n",
       "  background-color: var(--sklearn-color-background);\n",
       "  position: relative;\n",
       "}\n",
       "\n",
       "#sk-container-id-12 div.sk-parallel-item {\n",
       "  display: flex;\n",
       "  flex-direction: column;\n",
       "}\n",
       "\n",
       "#sk-container-id-12 div.sk-parallel-item:first-child::after {\n",
       "  align-self: flex-end;\n",
       "  width: 50%;\n",
       "}\n",
       "\n",
       "#sk-container-id-12 div.sk-parallel-item:last-child::after {\n",
       "  align-self: flex-start;\n",
       "  width: 50%;\n",
       "}\n",
       "\n",
       "#sk-container-id-12 div.sk-parallel-item:only-child::after {\n",
       "  width: 0;\n",
       "}\n",
       "\n",
       "/* Serial-specific style estimator block */\n",
       "\n",
       "#sk-container-id-12 div.sk-serial {\n",
       "  display: flex;\n",
       "  flex-direction: column;\n",
       "  align-items: center;\n",
       "  background-color: var(--sklearn-color-background);\n",
       "  padding-right: 1em;\n",
       "  padding-left: 1em;\n",
       "}\n",
       "\n",
       "\n",
       "/* Toggleable style: style used for estimator/Pipeline/ColumnTransformer box that is\n",
       "clickable and can be expanded/collapsed.\n",
       "- Pipeline and ColumnTransformer use this feature and define the default style\n",
       "- Estimators will overwrite some part of the style using the `sk-estimator` class\n",
       "*/\n",
       "\n",
       "/* Pipeline and ColumnTransformer style (default) */\n",
       "\n",
       "#sk-container-id-12 div.sk-toggleable {\n",
       "  /* Default theme specific background. It is overwritten whether we have a\n",
       "  specific estimator or a Pipeline/ColumnTransformer */\n",
       "  background-color: var(--sklearn-color-background);\n",
       "}\n",
       "\n",
       "/* Toggleable label */\n",
       "#sk-container-id-12 label.sk-toggleable__label {\n",
       "  cursor: pointer;\n",
       "  display: block;\n",
       "  width: 100%;\n",
       "  margin-bottom: 0;\n",
       "  padding: 0.5em;\n",
       "  box-sizing: border-box;\n",
       "  text-align: center;\n",
       "}\n",
       "\n",
       "#sk-container-id-12 label.sk-toggleable__label-arrow:before {\n",
       "  /* Arrow on the left of the label */\n",
       "  content: \"▸\";\n",
       "  float: left;\n",
       "  margin-right: 0.25em;\n",
       "  color: var(--sklearn-color-icon);\n",
       "}\n",
       "\n",
       "#sk-container-id-12 label.sk-toggleable__label-arrow:hover:before {\n",
       "  color: var(--sklearn-color-text);\n",
       "}\n",
       "\n",
       "/* Toggleable content - dropdown */\n",
       "\n",
       "#sk-container-id-12 div.sk-toggleable__content {\n",
       "  max-height: 0;\n",
       "  max-width: 0;\n",
       "  overflow: hidden;\n",
       "  text-align: left;\n",
       "  /* unfitted */\n",
       "  background-color: var(--sklearn-color-unfitted-level-0);\n",
       "}\n",
       "\n",
       "#sk-container-id-12 div.sk-toggleable__content.fitted {\n",
       "  /* fitted */\n",
       "  background-color: var(--sklearn-color-fitted-level-0);\n",
       "}\n",
       "\n",
       "#sk-container-id-12 div.sk-toggleable__content pre {\n",
       "  margin: 0.2em;\n",
       "  border-radius: 0.25em;\n",
       "  color: var(--sklearn-color-text);\n",
       "  /* unfitted */\n",
       "  background-color: var(--sklearn-color-unfitted-level-0);\n",
       "}\n",
       "\n",
       "#sk-container-id-12 div.sk-toggleable__content.fitted pre {\n",
       "  /* unfitted */\n",
       "  background-color: var(--sklearn-color-fitted-level-0);\n",
       "}\n",
       "\n",
       "#sk-container-id-12 input.sk-toggleable__control:checked~div.sk-toggleable__content {\n",
       "  /* Expand drop-down */\n",
       "  max-height: 200px;\n",
       "  max-width: 100%;\n",
       "  overflow: auto;\n",
       "}\n",
       "\n",
       "#sk-container-id-12 input.sk-toggleable__control:checked~label.sk-toggleable__label-arrow:before {\n",
       "  content: \"▾\";\n",
       "}\n",
       "\n",
       "/* Pipeline/ColumnTransformer-specific style */\n",
       "\n",
       "#sk-container-id-12 div.sk-label input.sk-toggleable__control:checked~label.sk-toggleable__label {\n",
       "  color: var(--sklearn-color-text);\n",
       "  background-color: var(--sklearn-color-unfitted-level-2);\n",
       "}\n",
       "\n",
       "#sk-container-id-12 div.sk-label.fitted input.sk-toggleable__control:checked~label.sk-toggleable__label {\n",
       "  background-color: var(--sklearn-color-fitted-level-2);\n",
       "}\n",
       "\n",
       "/* Estimator-specific style */\n",
       "\n",
       "/* Colorize estimator box */\n",
       "#sk-container-id-12 div.sk-estimator input.sk-toggleable__control:checked~label.sk-toggleable__label {\n",
       "  /* unfitted */\n",
       "  background-color: var(--sklearn-color-unfitted-level-2);\n",
       "}\n",
       "\n",
       "#sk-container-id-12 div.sk-estimator.fitted input.sk-toggleable__control:checked~label.sk-toggleable__label {\n",
       "  /* fitted */\n",
       "  background-color: var(--sklearn-color-fitted-level-2);\n",
       "}\n",
       "\n",
       "#sk-container-id-12 div.sk-label label.sk-toggleable__label,\n",
       "#sk-container-id-12 div.sk-label label {\n",
       "  /* The background is the default theme color */\n",
       "  color: var(--sklearn-color-text-on-default-background);\n",
       "}\n",
       "\n",
       "/* On hover, darken the color of the background */\n",
       "#sk-container-id-12 div.sk-label:hover label.sk-toggleable__label {\n",
       "  color: var(--sklearn-color-text);\n",
       "  background-color: var(--sklearn-color-unfitted-level-2);\n",
       "}\n",
       "\n",
       "/* Label box, darken color on hover, fitted */\n",
       "#sk-container-id-12 div.sk-label.fitted:hover label.sk-toggleable__label.fitted {\n",
       "  color: var(--sklearn-color-text);\n",
       "  background-color: var(--sklearn-color-fitted-level-2);\n",
       "}\n",
       "\n",
       "/* Estimator label */\n",
       "\n",
       "#sk-container-id-12 div.sk-label label {\n",
       "  font-family: monospace;\n",
       "  font-weight: bold;\n",
       "  display: inline-block;\n",
       "  line-height: 1.2em;\n",
       "}\n",
       "\n",
       "#sk-container-id-12 div.sk-label-container {\n",
       "  text-align: center;\n",
       "}\n",
       "\n",
       "/* Estimator-specific */\n",
       "#sk-container-id-12 div.sk-estimator {\n",
       "  font-family: monospace;\n",
       "  border: 1px dotted var(--sklearn-color-border-box);\n",
       "  border-radius: 0.25em;\n",
       "  box-sizing: border-box;\n",
       "  margin-bottom: 0.5em;\n",
       "  /* unfitted */\n",
       "  background-color: var(--sklearn-color-unfitted-level-0);\n",
       "}\n",
       "\n",
       "#sk-container-id-12 div.sk-estimator.fitted {\n",
       "  /* fitted */\n",
       "  background-color: var(--sklearn-color-fitted-level-0);\n",
       "}\n",
       "\n",
       "/* on hover */\n",
       "#sk-container-id-12 div.sk-estimator:hover {\n",
       "  /* unfitted */\n",
       "  background-color: var(--sklearn-color-unfitted-level-2);\n",
       "}\n",
       "\n",
       "#sk-container-id-12 div.sk-estimator.fitted:hover {\n",
       "  /* fitted */\n",
       "  background-color: var(--sklearn-color-fitted-level-2);\n",
       "}\n",
       "\n",
       "/* Specification for estimator info (e.g. \"i\" and \"?\") */\n",
       "\n",
       "/* Common style for \"i\" and \"?\" */\n",
       "\n",
       ".sk-estimator-doc-link,\n",
       "a:link.sk-estimator-doc-link,\n",
       "a:visited.sk-estimator-doc-link {\n",
       "  float: right;\n",
       "  font-size: smaller;\n",
       "  line-height: 1em;\n",
       "  font-family: monospace;\n",
       "  background-color: var(--sklearn-color-background);\n",
       "  border-radius: 1em;\n",
       "  height: 1em;\n",
       "  width: 1em;\n",
       "  text-decoration: none !important;\n",
       "  margin-left: 1ex;\n",
       "  /* unfitted */\n",
       "  border: var(--sklearn-color-unfitted-level-1) 1pt solid;\n",
       "  color: var(--sklearn-color-unfitted-level-1);\n",
       "}\n",
       "\n",
       ".sk-estimator-doc-link.fitted,\n",
       "a:link.sk-estimator-doc-link.fitted,\n",
       "a:visited.sk-estimator-doc-link.fitted {\n",
       "  /* fitted */\n",
       "  border: var(--sklearn-color-fitted-level-1) 1pt solid;\n",
       "  color: var(--sklearn-color-fitted-level-1);\n",
       "}\n",
       "\n",
       "/* On hover */\n",
       "div.sk-estimator:hover .sk-estimator-doc-link:hover,\n",
       ".sk-estimator-doc-link:hover,\n",
       "div.sk-label-container:hover .sk-estimator-doc-link:hover,\n",
       ".sk-estimator-doc-link:hover {\n",
       "  /* unfitted */\n",
       "  background-color: var(--sklearn-color-unfitted-level-3);\n",
       "  color: var(--sklearn-color-background);\n",
       "  text-decoration: none;\n",
       "}\n",
       "\n",
       "div.sk-estimator.fitted:hover .sk-estimator-doc-link.fitted:hover,\n",
       ".sk-estimator-doc-link.fitted:hover,\n",
       "div.sk-label-container:hover .sk-estimator-doc-link.fitted:hover,\n",
       ".sk-estimator-doc-link.fitted:hover {\n",
       "  /* fitted */\n",
       "  background-color: var(--sklearn-color-fitted-level-3);\n",
       "  color: var(--sklearn-color-background);\n",
       "  text-decoration: none;\n",
       "}\n",
       "\n",
       "/* Span, style for the box shown on hovering the info icon */\n",
       ".sk-estimator-doc-link span {\n",
       "  display: none;\n",
       "  z-index: 9999;\n",
       "  position: relative;\n",
       "  font-weight: normal;\n",
       "  right: .2ex;\n",
       "  padding: .5ex;\n",
       "  margin: .5ex;\n",
       "  width: min-content;\n",
       "  min-width: 20ex;\n",
       "  max-width: 50ex;\n",
       "  color: var(--sklearn-color-text);\n",
       "  box-shadow: 2pt 2pt 4pt #999;\n",
       "  /* unfitted */\n",
       "  background: var(--sklearn-color-unfitted-level-0);\n",
       "  border: .5pt solid var(--sklearn-color-unfitted-level-3);\n",
       "}\n",
       "\n",
       ".sk-estimator-doc-link.fitted span {\n",
       "  /* fitted */\n",
       "  background: var(--sklearn-color-fitted-level-0);\n",
       "  border: var(--sklearn-color-fitted-level-3);\n",
       "}\n",
       "\n",
       ".sk-estimator-doc-link:hover span {\n",
       "  display: block;\n",
       "}\n",
       "\n",
       "/* \"?\"-specific style due to the `<a>` HTML tag */\n",
       "\n",
       "#sk-container-id-12 a.estimator_doc_link {\n",
       "  float: right;\n",
       "  font-size: 1rem;\n",
       "  line-height: 1em;\n",
       "  font-family: monospace;\n",
       "  background-color: var(--sklearn-color-background);\n",
       "  border-radius: 1rem;\n",
       "  height: 1rem;\n",
       "  width: 1rem;\n",
       "  text-decoration: none;\n",
       "  /* unfitted */\n",
       "  color: var(--sklearn-color-unfitted-level-1);\n",
       "  border: var(--sklearn-color-unfitted-level-1) 1pt solid;\n",
       "}\n",
       "\n",
       "#sk-container-id-12 a.estimator_doc_link.fitted {\n",
       "  /* fitted */\n",
       "  border: var(--sklearn-color-fitted-level-1) 1pt solid;\n",
       "  color: var(--sklearn-color-fitted-level-1);\n",
       "}\n",
       "\n",
       "/* On hover */\n",
       "#sk-container-id-12 a.estimator_doc_link:hover {\n",
       "  /* unfitted */\n",
       "  background-color: var(--sklearn-color-unfitted-level-3);\n",
       "  color: var(--sklearn-color-background);\n",
       "  text-decoration: none;\n",
       "}\n",
       "\n",
       "#sk-container-id-12 a.estimator_doc_link.fitted:hover {\n",
       "  /* fitted */\n",
       "  background-color: var(--sklearn-color-fitted-level-3);\n",
       "}\n",
       "</style><div id=\"sk-container-id-12\" class=\"sk-top-container\"><div class=\"sk-text-repr-fallback\"><pre>LogisticRegression(random_state=42, solver=&#x27;newton-cholesky&#x27;)</pre><b>In a Jupyter environment, please rerun this cell to show the HTML representation or trust the notebook. <br />On GitHub, the HTML representation is unable to render, please try loading this page with nbviewer.org.</b></div><div class=\"sk-container\" hidden><div class=\"sk-item\"><div class=\"sk-estimator fitted sk-toggleable\"><input class=\"sk-toggleable__control sk-hidden--visually\" id=\"sk-estimator-id-12\" type=\"checkbox\" checked><label for=\"sk-estimator-id-12\" class=\"sk-toggleable__label fitted sk-toggleable__label-arrow fitted\">&nbsp;&nbsp;LogisticRegression<a class=\"sk-estimator-doc-link fitted\" rel=\"noreferrer\" target=\"_blank\" href=\"https://scikit-learn.org/1.4/modules/generated/sklearn.linear_model.LogisticRegression.html\">?<span>Documentation for LogisticRegression</span></a><span class=\"sk-estimator-doc-link fitted\">i<span>Fitted</span></span></label><div class=\"sk-toggleable__content fitted\"><pre>LogisticRegression(random_state=42, solver=&#x27;newton-cholesky&#x27;)</pre></div> </div></div></div></div>"
      ],
      "text/plain": [
       "LogisticRegression(random_state=42, solver='newton-cholesky')"
      ]
     },
     "execution_count": 128,
     "metadata": {},
     "output_type": "execute_result"
    }
   ],
   "source": [
    "from sklearn.linear_model import LogisticRegression\n",
    "\n",
    "logreg = LogisticRegression(solver=\"newton-cholesky\", random_state=42)\n",
    "logreg.fit(X_train, y_train)"
   ]
  },
  {
   "cell_type": "code",
   "execution_count": 133,
   "metadata": {},
   "outputs": [
    {
     "name": "stderr",
     "output_type": "stream",
     "text": [
      "c:\\Users\\berka\\OneDrive\\Bureau\\scorescanner\\test_env\\lib\\site-packages\\sklearn\\base.py:493: UserWarning:\n",
      "\n",
      "X does not have valid feature names, but LogisticRegression was fitted with feature names\n",
      "\n",
      "C:\\Users\\berka\\AppData\\Local\\Temp\\ipykernel_21008\\744315221.py:3: DeprecationWarning:\n",
      "\n",
      "`product` is deprecated as of NumPy 1.25.0, and will be removed in NumPy 2.0. Please use `prod` instead.\n",
      "\n"
     ]
    },
    {
     "data": {
      "text/html": [
       "<div>\n",
       "<style scoped>\n",
       "    .dataframe tbody tr th:only-of-type {\n",
       "        vertical-align: middle;\n",
       "    }\n",
       "\n",
       "    .dataframe tbody tr th {\n",
       "        vertical-align: top;\n",
       "    }\n",
       "\n",
       "    .dataframe thead th {\n",
       "        text-align: right;\n",
       "    }\n",
       "</style>\n",
       "<table border=\"1\" class=\"dataframe\">\n",
       "  <thead>\n",
       "    <tr style=\"text-align: right;\">\n",
       "      <th></th>\n",
       "      <th>variable</th>\n",
       "      <th>coef</th>\n",
       "      <th>std error</th>\n",
       "      <th>z</th>\n",
       "      <th>P&gt;|z|</th>\n",
       "      <th>[0.025</th>\n",
       "      <th>0.975]</th>\n",
       "    </tr>\n",
       "  </thead>\n",
       "  <tbody>\n",
       "    <tr>\n",
       "      <th>0</th>\n",
       "      <td>intercept</td>\n",
       "      <td>0.04</td>\n",
       "      <td>0.17</td>\n",
       "      <td>-18.74</td>\n",
       "      <td>0.0</td>\n",
       "      <td>0.03</td>\n",
       "      <td>0.06</td>\n",
       "    </tr>\n",
       "    <tr>\n",
       "      <th>1</th>\n",
       "      <td>marital-status_ Married-civ-spouse (vs  Never-...</td>\n",
       "      <td>9.19</td>\n",
       "      <td>0.04</td>\n",
       "      <td>50.40</td>\n",
       "      <td>0.0</td>\n",
       "      <td>8.43</td>\n",
       "      <td>10.02</td>\n",
       "    </tr>\n",
       "    <tr>\n",
       "      <th>2</th>\n",
       "      <td>education-num_[13.50, inf) (vs (-inf, 8.50))</td>\n",
       "      <td>6.35</td>\n",
       "      <td>0.04</td>\n",
       "      <td>49.90</td>\n",
       "      <td>0.0</td>\n",
       "      <td>5.90</td>\n",
       "      <td>6.83</td>\n",
       "    </tr>\n",
       "    <tr>\n",
       "      <th>3</th>\n",
       "      <td>capital-gain_Special (vs 0.0)</td>\n",
       "      <td>5.43</td>\n",
       "      <td>0.04</td>\n",
       "      <td>42.69</td>\n",
       "      <td>0.0</td>\n",
       "      <td>5.02</td>\n",
       "      <td>5.87</td>\n",
       "    </tr>\n",
       "    <tr>\n",
       "      <th>4</th>\n",
       "      <td>relationship_ Own-child (vs  Not-in-family)</td>\n",
       "      <td>0.22</td>\n",
       "      <td>0.08</td>\n",
       "      <td>-18.61</td>\n",
       "      <td>0.0</td>\n",
       "      <td>0.18</td>\n",
       "      <td>0.25</td>\n",
       "    </tr>\n",
       "    <tr>\n",
       "      <th>15</th>\n",
       "      <td>education-num_Special (vs (-inf, 8.50))</td>\n",
       "      <td>0.27</td>\n",
       "      <td>0.08</td>\n",
       "      <td>-16.87</td>\n",
       "      <td>0.0</td>\n",
       "      <td>0.23</td>\n",
       "      <td>0.31</td>\n",
       "    </tr>\n",
       "    <tr>\n",
       "      <th>11</th>\n",
       "      <td>capital-loss_Special (vs 0.0)</td>\n",
       "      <td>3.13</td>\n",
       "      <td>0.03</td>\n",
       "      <td>34.67</td>\n",
       "      <td>0.0</td>\n",
       "      <td>2.93</td>\n",
       "      <td>3.34</td>\n",
       "    </tr>\n",
       "    <tr>\n",
       "      <th>7</th>\n",
       "      <td>education-num_[12.50, 13.50) (vs (-inf, 8.50))</td>\n",
       "      <td>3.09</td>\n",
       "      <td>0.03</td>\n",
       "      <td>41.42</td>\n",
       "      <td>0.0</td>\n",
       "      <td>2.93</td>\n",
       "      <td>3.26</td>\n",
       "    </tr>\n",
       "    <tr>\n",
       "      <th>27</th>\n",
       "      <td>education_ 9th (vs  HS-grad)</td>\n",
       "      <td>0.34</td>\n",
       "      <td>0.18</td>\n",
       "      <td>-6.02</td>\n",
       "      <td>0.0</td>\n",
       "      <td>0.24</td>\n",
       "      <td>0.48</td>\n",
       "    </tr>\n",
       "    <tr>\n",
       "      <th>8</th>\n",
       "      <td>occupation_ Other-service (vs  Adm-clerical)</td>\n",
       "      <td>0.34</td>\n",
       "      <td>0.06</td>\n",
       "      <td>-19.21</td>\n",
       "      <td>0.0</td>\n",
       "      <td>0.30</td>\n",
       "      <td>0.38</td>\n",
       "    </tr>\n",
       "  </tbody>\n",
       "</table>\n",
       "</div>"
      ],
      "text/plain": [
       "                                             variable  coef  std error      z  \\\n",
       "0                                           intercept  0.04       0.17 -18.74   \n",
       "1   marital-status_ Married-civ-spouse (vs  Never-...  9.19       0.04  50.40   \n",
       "2        education-num_[13.50, inf) (vs (-inf, 8.50))  6.35       0.04  49.90   \n",
       "3                       capital-gain_Special (vs 0.0)  5.43       0.04  42.69   \n",
       "4         relationship_ Own-child (vs  Not-in-family)  0.22       0.08 -18.61   \n",
       "15            education-num_Special (vs (-inf, 8.50))  0.27       0.08 -16.87   \n",
       "11                      capital-loss_Special (vs 0.0)  3.13       0.03  34.67   \n",
       "7      education-num_[12.50, 13.50) (vs (-inf, 8.50))  3.09       0.03  41.42   \n",
       "27                       education_ 9th (vs  HS-grad)  0.34       0.18  -6.02   \n",
       "8        occupation_ Other-service (vs  Adm-clerical)  0.34       0.06 -19.21   \n",
       "\n",
       "    P>|z|  [0.025  0.975]  \n",
       "0     0.0    0.03    0.06  \n",
       "1     0.0    8.43   10.02  \n",
       "2     0.0    5.90    6.83  \n",
       "3     0.0    5.02    5.87  \n",
       "4     0.0    0.18    0.25  \n",
       "15    0.0    0.23    0.31  \n",
       "11    0.0    2.93    3.34  \n",
       "7     0.0    2.93    3.26  \n",
       "27    0.0    0.24    0.48  \n",
       "8     0.0    0.30    0.38  "
      ]
     },
     "execution_count": 133,
     "metadata": {},
     "output_type": "execute_result"
    }
   ],
   "source": [
    "from scorescanner.utils.statistical_metrics import logistic_regression_summary\n",
    "\n",
    "logistic_regression_report = logistic_regression_summary(\n",
    "    model=logreg,\n",
    "    X=X_train,\n",
    "    columns=X_train.columns.tolist(),\n",
    "    y=y_train,\n",
    "    intercept=True,\n",
    "    multi_class=False,\n",
    ")\n",
    "\n",
    "logistic_regression_report[0:10]\n",
    "\n"
   ]
  },
  {
   "cell_type": "code",
   "execution_count": 134,
   "metadata": {},
   "outputs": [],
   "source": [
    "import dataframe_image as dfi\n",
    "\n",
    "# Vous pouvez augmenter la résolution (dpi) pour une image plus grande\n",
    "dfi.export(\n",
    "\n",
    "    logistic_regression_report[0:10], 'model_report.png', dpi=400,fontsize=20)"
   ]
  },
  {
   "cell_type": "code",
   "execution_count": null,
   "metadata": {},
   "outputs": [],
   "source": []
  }
 ],
 "metadata": {
  "kernelspec": {
   "display_name": "test_env",
   "language": "python",
   "name": "python3"
  },
  "language_info": {
   "codemirror_mode": {
    "name": "ipython",
    "version": 3
   },
   "file_extension": ".py",
   "mimetype": "text/x-python",
   "name": "python",
   "nbconvert_exporter": "python",
   "pygments_lexer": "ipython3",
   "version": "3.9.1"
  }
 },
 "nbformat": 4,
 "nbformat_minor": 2
}
